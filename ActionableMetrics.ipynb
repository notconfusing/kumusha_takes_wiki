{
 "metadata": {
  "name": ""
 },
 "nbformat": 3,
 "nbformat_minor": 0,
 "worksheets": [
  {
   "cells": [
    {
     "cell_type": "heading",
     "level": 1,
     "metadata": {},
     "source": [
      "Investigating Good Articles for C\u00f4te d'Ivoire and Uganda"
     ]
    },
    {
     "cell_type": "heading",
     "level": 2,
     "metadata": {},
     "source": [
      "For <a href=\"https://fr.wikipedia.org/wiki/Projet:Kumusha_Takes_Wiki\">Kumusha Takes Wiki</a> - by <a href=\"http://notconfusing.com/\">Max Klein</a>\n",
      "<br />\n",
      "10 January 2014"
     ]
    },
    {
     "cell_type": "markdown",
     "metadata": {},
     "source": [
      "Our principal question in this investigation is what makes a good articles about a country in the hope of improving articles related to C\u00f4te d'Ivoire and Uganda\n",
      "\n",
      "We will explore several aspects of both country relatedness, and facets of articles. First we look at country articles (the articles literally describing the countries) of Ivory Coast and Uganda compare them to other country articles in English, French and Swahili Wikipedias. This is done to both sanity check our method, and also to determine which subsequent articles to explore. Here we utilise the research [Tell Me More: An Actionable Quality Model for Wikipedia](http://www-users.cs.umn.edu/~morten/publications/wikisym2013-tellmemore.pdf) by _Warncke-Wang, Cosley, and Reidl_ which is meant to measure points of quality that can be more easily addressed. Secondly, move to sets of articles _about a subject_ of that nation. These articles are chosen to be most important by how often they occur in a specific Wikipedia. Next we attempt to apply the lessons from [Predicting Quality Flaws in User-generated Content: The Case of Wikipedia](http://www.uni-weimar.de/medien/webis/publications/papers/stein_2012i.pdf) by _Anderka, Stein, Lipka_ which are about finding user-specified quality flaws.\n",
      "\n",
      "This report is an _IPython Notebook_ so it contains all the code necessary to reproduce these results. Much of the the code is at the end, to maintain non-technical readability.\n"
     ]
    },
    {
     "cell_type": "heading",
     "level": 2,
     "metadata": {},
     "source": [
      "Getting the Wikidata item for every country"
     ]
    },
    {
     "cell_type": "markdown",
     "metadata": {},
     "source": [
      "We want to compare literal country articles worldwide. Since we will be analysing English, French, and Swahili Wikipedias, we find the _Wikidata Items_ related to these countries, which point to all the different Wikipedia language versions available. In an attempt to not include language bias, this list was first garnered from the Wikidata property [\"instance of\"](https://www.wikidata.org/wiki/Property:P31) with target [country](https://www.wikidata.org/wiki/Q6256) (through the [offline Wikidata parser](https://github.com/mkroetzsch/wda)  ). However this only yielded 133 items. Even thought it is Anglocentric our list is scraped from English Wikipedia [List of Countries by Popultation](https://en.wikipedia.org/wiki/List_of_countries_by_population), yielding:"
     ]
    },
    {
     "cell_type": "code",
     "collapsed": false,
     "input": [
      "country_qids = json.load(open('country_qids.json'))\n",
      "ugandaqid, cdiqid= 'Q1036', 'Q1008'\n",
      "print \"We are comparing: \", len(country_qids), 'countries\".'\n",
      "print \"Some of their Wikidata QIDs are: \", map(lambda qid: 'http://wikidata.org/wiki/'+qid, country_qids[:5])\n"
     ],
     "language": "python",
     "metadata": {},
     "outputs": [
      {
       "output_type": "stream",
       "stream": "stdout",
       "text": [
        "We are comparing:  242 countries\".\n",
        "Some of their Wikidata QIDs are:  [u'http://wikidata.org/wiki/Q16', u'http://wikidata.org/wiki/Q33788', u'http://wikidata.org/wiki/Q25230', u'http://wikidata.org/wiki/Q874', u'http://wikidata.org/wiki/Q37']\n"
       ]
      }
     ],
     "prompt_number": 5
    },
    {
     "cell_type": "heading",
     "level": 2,
     "metadata": {},
     "source": [
      "Let's inspect each metric."
     ]
    },
    {
     "cell_type": "markdown",
     "metadata": {},
     "source": [
      "We look at the 5 statistics that are mentioned in the literature as \"Actionable Metrics\", that is you, can do something about them. The metrics are:\n",
      "\n",
      "1. __Completeness__ - This counts the number of intra-wiki links, to other articles.\n",
      "1. __Informativeness__ - This is a combination of the ratio of (_readable text_ to _wikitext markup_) plus _number of images_. \n",
      "1. __Numeber of Headings__ - A count of the sections and subsections.\n",
      "1. __Article Length__ - The lenght of the _readable_ article in characters.\n",
      "1. __Reference Rate__ - The number of references per article length.\n",
      "\n",
      "In _Tell me more_ weights are used, and we use the same weights, but for expermientation they could be changed."
     ]
    },
    {
     "cell_type": "code",
     "collapsed": false,
     "input": [
      "def report_actionable_metrics(wikicode, completeness_weight=0.8, infonoise_weight=0.6, images_weight=0.3):\n",
      "    completeness = completeness_weight * num_reg_links(wikicode)\n",
      "    informativeness = (infonoise_weight * infonoise(wikicode) ) + (images_weight * num_file_links(wikicode) )\n",
      "    numheadings = len(section_headings(wikicode))\n",
      "    articlelength = readable_text_length(wikicode)\n",
      "    referencerate = article_refs(wikicode) / readable_text_length(wikicode)\n",
      "    \n",
      "    return {'completeness': completeness, 'informativeness': informativeness, 'numheadings': numheadings, 'articlelength': articlelength, 'referencerate': referencerate} "
     ],
     "language": "python",
     "metadata": {},
     "outputs": [],
     "prompt_number": 140
    },
    {
     "cell_type": "markdown",
     "metadata": {},
     "source": [
      "We will now look at each on one by one, on the set of our Wikidata QIDs to get a feel for how these metrics will be used later on.\n",
      "\n",
      "For each metric the Uganda and C\u00f4te d'Ivoire article's position amongst other countries are shown by the \"z-score\" which is a measure of how many standard deviations they are above or below the average. Additionally we display a graph of the distribution of how the Country articles score, separated by Wikipedia language. "
     ]
    },
    {
     "cell_type": "code",
     "collapsed": false,
     "input": [
      "metric_analyse_density('informativeness', 12)"
     ],
     "language": "python",
     "metadata": {},
     "outputs": [
      {
       "output_type": "stream",
       "stream": "stdout",
       "text": [
        "Uganda's informativeness\n",
        " Wikipedia Language | z-score\n",
        "en  |  0.382\n",
        "fr  |  -0.643\n",
        "sw  |  -0.273\n",
        "C\u00f4te d'Ivoire's informativeness\n",
        " Wikipedia Language | z-score\n",
        "en  |  -0.432\n",
        "fr  |  3.312\n",
        "sw  |  -0.385\n"
       ]
      },
      {
       "metadata": {},
       "output_type": "display_data",
       "png": "[encoded data removed]",
       "text": [
        "<matplotlib.figure.Figure at 0x99b6a50>"
       ]
      },
      {
       "metadata": {},
       "output_type": "pyout",
       "prompt_number": 48,
       "text": [
        "<ggplot: (10073785)>"
       ]
      }
     ],
     "prompt_number": 48
    },
    {
     "cell_type": "markdown",
     "metadata": {},
     "source": [
      "Most notable here, C\u00f4te d'Ivoire has a very high score in French Wikipedia, 3 standard deviations above average.\n",
      "\n",
      "In general these distributions are quite standard with a relatively long tail, also known as positive Skew, which we would expect from user generated content. Also English and French outpace a spikier Swahili, which fits in line with popular conceptions about the popularities of these languages."
     ]
    },
    {
     "cell_type": "code",
     "collapsed": false,
     "input": [
      "metric_analyse_density('completeness', 1500)"
     ],
     "language": "python",
     "metadata": {},
     "outputs": [
      {
       "output_type": "stream",
       "stream": "stdout",
       "text": [
        "Uganda's completeness\n",
        " Wikipedia Language | z-score\n",
        "en  |  -0.444\n",
        "fr  |  -0.176\n",
        "sw  |  1.736\n",
        "C\u00f4te d'Ivoire's completeness\n",
        " Wikipedia Language | z-score\n",
        "en  |  -0.973\n",
        "fr  |  1.768\n",
        "sw  |  -0.505\n"
       ]
      },
      {
       "metadata": {},
       "output_type": "display_data",
       "png": "[encoded data removed]",
       "text": [
        "<matplotlib.figure.Figure at 0x37dc510>"
       ]
      },
      {
       "metadata": {},
       "output_type": "pyout",
       "prompt_number": 50,
       "text": [
        "<ggplot: (9238021)>"
       ]
      }
     ],
     "prompt_number": 50
    },
    {
     "cell_type": "markdown",
     "metadata": {},
     "source": [
      "Reassuringly Uganda performs highly here in Swahili, meaning that it is quite intralinked to other articles."
     ]
    },
    {
     "cell_type": "code",
     "collapsed": false,
     "input": [
      "metric_analyse_density('numheadings', 75)"
     ],
     "language": "python",
     "metadata": {},
     "outputs": [
      {
       "output_type": "stream",
       "stream": "stdout",
       "text": [
        "Uganda's numheadings\n",
        " Wikipedia Language | z-score\n",
        "en  |  -1.696\n",
        "fr  |  0.028\n",
        "sw  |  0.023\n",
        "C\u00f4te d'Ivoire's numheadings\n",
        " Wikipedia Language | z-score\n",
        "en  |  0.660\n",
        "fr  |  -0.411\n",
        "sw  |  -0.428\n"
       ]
      },
      {
       "metadata": {},
       "output_type": "display_data",
       "png": "[encoded data removed]",
       "text": [
        "<matplotlib.figure.Figure at 0x99b65d0>"
       ]
      },
      {
       "metadata": {},
       "output_type": "pyout",
       "prompt_number": 51,
       "text": [
        "<ggplot: (10073849)>"
       ]
      }
     ],
     "prompt_number": 51
    },
    {
     "cell_type": "markdown",
     "metadata": {},
     "source": [
      "Here English appears to have almost a [bimodal distribution](https://www.wikidata.org/wiki/Q255598#sitelinks-wikipedia), for which we are accepting your explanations of why that should be so."
     ]
    },
    {
     "cell_type": "code",
     "collapsed": false,
     "input": [
      "metric_analyse_density('articlelength',200000)"
     ],
     "language": "python",
     "metadata": {},
     "outputs": [
      {
       "output_type": "stream",
       "stream": "stdout",
       "text": [
        "Uganda's articlelength\n",
        " Wikipedia Language | z-score\n",
        "en  |  0.105\n",
        "fr  |  -0.498\n",
        "sw  |  0.191\n",
        "C\u00f4te d'Ivoire's articlelength\n",
        " Wikipedia Language | z-score\n",
        "en  |  0.336\n",
        "fr  |  2.765\n",
        "sw  |  -0.244\n"
       ]
      },
      {
       "metadata": {},
       "output_type": "display_data",
       "png": "[encoded data removed]",
       "text": [
        "<matplotlib.figure.Figure at 0x62e47d0>"
       ]
      },
      {
       "metadata": {},
       "output_type": "pyout",
       "prompt_number": 108,
       "text": [
        "<ggplot: (6480949)>"
       ]
      }
     ],
     "prompt_number": 108
    },
    {
     "cell_type": "markdown",
     "metadata": {},
     "source": [
      "Again C\u00f4te d'Ivoire scores a very high 2.77 in French Wikipedia."
     ]
    },
    {
     "cell_type": "code",
     "collapsed": false,
     "input": [
      "metric_analyse_density('referencerate', 0.01)"
     ],
     "language": "python",
     "metadata": {},
     "outputs": [
      {
       "output_type": "stream",
       "stream": "stdout",
       "text": [
        "Uganda's referencerate\n",
        " Wikipedia Language | z-score\n",
        "en  |  0.015\n",
        "fr  |  -0.608\n",
        "sw  |  3.129\n",
        "C\u00f4te d'Ivoire's referencerate\n",
        " Wikipedia Language | z-score\n",
        "en  |  -1.184\n",
        "fr  |  1.663\n",
        "sw  |  -0.265\n"
       ]
      },
      {
       "metadata": {},
       "output_type": "display_data",
       "png": "[encoded data removed]",
       "text": [
        "<matplotlib.figure.Figure at 0x62b8f90>"
       ]
      },
      {
       "metadata": {},
       "output_type": "pyout",
       "prompt_number": 52,
       "text": [
        "<ggplot: (6474813)>"
       ]
      }
     ],
     "prompt_number": 52
    },
    {
     "cell_type": "markdown",
     "metadata": {},
     "source": [
      "There are theories that French referencing is more strict and tends to delete references. That is visible here as a larger gap we see between French and English than we see in other metrics. \n",
      "<hr />\n",
      "Now, we average the z-score for each metric, to give one total number about the quality of an article in a language as compared to others. This is not a standard stastical measure, but it just gives us an over all feeling. (See below).\n",
      "\n",
      "For the Uganda articles, the perfomance is below Average (but not too poor ~ -0.3) in English and French. However it is a relatively strong performer in Swahili (~.9).\n",
      "\n",
      "For the C\u00f4te d'Ivoire articles, the real stand out is French Wikipedia at times 3 standard deviations above average (averaged averages 2.02). Mean while again whe have middling (~ -0.4) in languages which are not native."
     ]
    },
    {
     "cell_type": "code",
     "collapsed": false,
     "input": [
      "print \"Uganada Mean Zscores by Language\"\n",
      "for lang, clist in uganda_zscores.iteritems():\n",
      "    print lang, reduce(lambda a, b: a+b, clist)/len(clist)\n",
      "\n",
      "print \"Cote d'Ivoire Mean Zscores by Language\"\n",
      "for lang, clist in cdi_zscores.iteritems():\n",
      "    print lang, reduce(lambda a, b: a+b, clist)/len(clist)"
     ],
     "language": "python",
     "metadata": {},
     "outputs": [
      {
       "output_type": "stream",
       "stream": "stdout",
       "text": [
        "Uganada Mean Zscores by Language\n",
        "fr -0.388241022136\n",
        "en -0.242912295257\n",
        "sw 0.895757801417\n",
        "Cote d'Ivoire Mean Zscores by Language\n",
        "fr 2.02505755204\n",
        "en -0.428211204141\n",
        "sw -0.388186253816\n"
       ]
      }
     ],
     "prompt_number": 85
    },
    {
     "cell_type": "markdown",
     "metadata": {},
     "source": [
      "These results offer credibility to this techqnique, because the Wikipedias of the native languages of those countries show the highest quality. So we can somewhat confidently apply this technique to other sets of articles so see what improvements could be made. Remember a weakness in any one of the 5 metrics is an indicator for a specific type of task that could be done on those articles. Next we will inspect other sets of articles to which we can apply this method."
     ]
    },
    {
     "cell_type": "heading",
     "level": 2,
     "metadata": {},
     "source": [
      "Highest Occuring Sections"
     ]
    },
    {
     "cell_type": "markdown",
     "metadata": {},
     "source": [
      "Now we will find the hightest occuring section names in Country Articles by language. The assumption we use here is that if a section name is highly it is an important subject in that language."
     ]
    },
    {
     "cell_type": "code",
     "collapsed": false,
     "input": [
      "top_n_sections('fr',20)"
     ],
     "language": "python",
     "metadata": {},
     "outputs": [
      {
       "html": [
        "<div style=\"max-height:1000px;max-width:1500px;overflow:auto;\">\n",
        "<table border=\"1\" class=\"dataframe\">\n",
        "  <thead>\n",
        "    <tr style=\"text-align: right;\">\n",
        "      <th></th>\n",
        "      <th>lang</th>\n",
        "      <th>secname</th>\n",
        "      <th>freq</th>\n",
        "    </tr>\n",
        "  </thead>\n",
        "  <tbody>\n",
        "    <tr>\n",
        "      <th>1941</th>\n",
        "      <td> fr</td>\n",
        "      <td>      liens externes</td>\n",
        "      <td> 0.904959</td>\n",
        "    </tr>\n",
        "    <tr>\n",
        "      <th>218 </th>\n",
        "      <td> fr</td>\n",
        "      <td>            histoire</td>\n",
        "      <td> 0.884298</td>\n",
        "    </tr>\n",
        "    <tr>\n",
        "      <th>1343</th>\n",
        "      <td> fr</td>\n",
        "      <td>          g\u00e9ographie</td>\n",
        "      <td> 0.826446</td>\n",
        "    </tr>\n",
        "    <tr>\n",
        "      <th>878 </th>\n",
        "      <td> fr</td>\n",
        "      <td> notes et r\u00e9f\u00e9rences</td>\n",
        "      <td> 0.809917</td>\n",
        "    </tr>\n",
        "    <tr>\n",
        "      <th>990 </th>\n",
        "      <td> fr</td>\n",
        "      <td>            \u00e9conomie</td>\n",
        "      <td> 0.785124</td>\n",
        "    </tr>\n",
        "    <tr>\n",
        "      <th>847 </th>\n",
        "      <td> fr</td>\n",
        "      <td>         d\u00e9mographie</td>\n",
        "      <td> 0.752066</td>\n",
        "    </tr>\n",
        "    <tr>\n",
        "      <th>1376</th>\n",
        "      <td> fr</td>\n",
        "      <td>           politique</td>\n",
        "      <td> 0.685950</td>\n",
        "    </tr>\n",
        "    <tr>\n",
        "      <th>710 </th>\n",
        "      <td> fr</td>\n",
        "      <td>          voir aussi</td>\n",
        "      <td> 0.685950</td>\n",
        "    </tr>\n",
        "    <tr>\n",
        "      <th>2074</th>\n",
        "      <td> fr</td>\n",
        "      <td>   articles connexes</td>\n",
        "      <td> 0.648760</td>\n",
        "    </tr>\n",
        "    <tr>\n",
        "      <th>1556</th>\n",
        "      <td> fr</td>\n",
        "      <td>               codes</td>\n",
        "      <td> 0.644628</td>\n",
        "    </tr>\n",
        "    <tr>\n",
        "      <th>1350</th>\n",
        "      <td> fr</td>\n",
        "      <td>             culture</td>\n",
        "      <td> 0.640496</td>\n",
        "    </tr>\n",
        "    <tr>\n",
        "      <th>1637</th>\n",
        "      <td> fr</td>\n",
        "      <td>       bibliographie</td>\n",
        "      <td> 0.491736</td>\n",
        "    </tr>\n",
        "    <tr>\n",
        "      <th>641 </th>\n",
        "      <td> fr</td>\n",
        "      <td>        subdivisions</td>\n",
        "      <td> 0.301653</td>\n",
        "    </tr>\n",
        "    <tr>\n",
        "      <th>94  </th>\n",
        "      <td> fr</td>\n",
        "      <td>              climat</td>\n",
        "      <td> 0.301653</td>\n",
        "    </tr>\n",
        "    <tr>\n",
        "      <th>1030</th>\n",
        "      <td> fr</td>\n",
        "      <td>             langues</td>\n",
        "      <td> 0.289256</td>\n",
        "    </tr>\n",
        "    <tr>\n",
        "      <th>800 </th>\n",
        "      <td> fr</td>\n",
        "      <td>               sport</td>\n",
        "      <td> 0.243802</td>\n",
        "    </tr>\n",
        "    <tr>\n",
        "      <th>602 </th>\n",
        "      <td> fr</td>\n",
        "      <td>           \u00e9ducation</td>\n",
        "      <td> 0.239669</td>\n",
        "    </tr>\n",
        "    <tr>\n",
        "      <th>1613</th>\n",
        "      <td> fr</td>\n",
        "      <td>           religions</td>\n",
        "      <td> 0.231405</td>\n",
        "    </tr>\n",
        "    <tr>\n",
        "      <th>1485</th>\n",
        "      <td> fr</td>\n",
        "      <td>            religion</td>\n",
        "      <td> 0.219008</td>\n",
        "    </tr>\n",
        "    <tr>\n",
        "      <th>1461</th>\n",
        "      <td> fr</td>\n",
        "      <td>               sant\u00e9</td>\n",
        "      <td> 0.198347</td>\n",
        "    </tr>\n",
        "  </tbody>\n",
        "</table>\n",
        "</div>"
       ],
       "metadata": {},
       "output_type": "pyout",
       "prompt_number": 113,
       "text": [
        "     lang              secname      freq\n",
        "1941   fr       liens externes  0.904959\n",
        "218    fr             histoire  0.884298\n",
        "1343   fr           g\u00e9ographie  0.826446\n",
        "878    fr  notes et r\u00e9f\u00e9rences  0.809917\n",
        "990    fr             \u00e9conomie  0.785124\n",
        "847    fr          d\u00e9mographie  0.752066\n",
        "1376   fr            politique  0.685950\n",
        "710    fr           voir aussi  0.685950\n",
        "2074   fr    articles connexes  0.648760\n",
        "1556   fr                codes  0.644628\n",
        "1350   fr              culture  0.640496\n",
        "1637   fr        bibliographie  0.491736\n",
        "641    fr         subdivisions  0.301653\n",
        "94     fr               climat  0.301653\n",
        "1030   fr              langues  0.289256\n",
        "800    fr                sport  0.243802\n",
        "602    fr            \u00e9ducation  0.239669\n",
        "1613   fr            religions  0.231405\n",
        "1485   fr             religion  0.219008\n",
        "1461   fr                sant\u00e9  0.198347"
       ]
      }
     ],
     "prompt_number": 113
    },
    {
     "cell_type": "code",
     "collapsed": false,
     "input": [
      "top_n_sections('en',20)"
     ],
     "language": "python",
     "metadata": {},
     "outputs": [
      {
       "html": [
        "<div style=\"max-height:1000px;max-width:1500px;overflow:auto;\">\n",
        "<table border=\"1\" class=\"dataframe\">\n",
        "  <thead>\n",
        "    <tr style=\"text-align: right;\">\n",
        "      <th></th>\n",
        "      <th>lang</th>\n",
        "      <th>secname</th>\n",
        "      <th>freq</th>\n",
        "    </tr>\n",
        "  </thead>\n",
        "  <tbody>\n",
        "    <tr>\n",
        "      <th>3168</th>\n",
        "      <td> en</td>\n",
        "      <td>                  history</td>\n",
        "      <td> 0.954545</td>\n",
        "    </tr>\n",
        "    <tr>\n",
        "      <th>2688</th>\n",
        "      <td> en</td>\n",
        "      <td>                  economy</td>\n",
        "      <td> 0.888430</td>\n",
        "    </tr>\n",
        "    <tr>\n",
        "      <th>3218</th>\n",
        "      <td> en</td>\n",
        "      <td>             demographics</td>\n",
        "      <td> 0.876033</td>\n",
        "    </tr>\n",
        "    <tr>\n",
        "      <th>4063</th>\n",
        "      <td> en</td>\n",
        "      <td>           external links</td>\n",
        "      <td> 0.867769</td>\n",
        "    </tr>\n",
        "    <tr>\n",
        "      <th>3937</th>\n",
        "      <td> en</td>\n",
        "      <td>                 see also</td>\n",
        "      <td> 0.842975</td>\n",
        "    </tr>\n",
        "    <tr>\n",
        "      <th>2838</th>\n",
        "      <td> en</td>\n",
        "      <td>                geography</td>\n",
        "      <td> 0.822314</td>\n",
        "    </tr>\n",
        "    <tr>\n",
        "      <th>3013</th>\n",
        "      <td> en</td>\n",
        "      <td>               references</td>\n",
        "      <td> 0.805785</td>\n",
        "    </tr>\n",
        "    <tr>\n",
        "      <th>3356</th>\n",
        "      <td> en</td>\n",
        "      <td>                  culture</td>\n",
        "      <td> 0.797521</td>\n",
        "    </tr>\n",
        "    <tr>\n",
        "      <th>3492</th>\n",
        "      <td> en</td>\n",
        "      <td>                 religion</td>\n",
        "      <td> 0.657025</td>\n",
        "    </tr>\n",
        "    <tr>\n",
        "      <th>4049</th>\n",
        "      <td> en</td>\n",
        "      <td>                education</td>\n",
        "      <td> 0.648760</td>\n",
        "    </tr>\n",
        "    <tr>\n",
        "      <th>2315</th>\n",
        "      <td> en</td>\n",
        "      <td>                  climate</td>\n",
        "      <td> 0.545455</td>\n",
        "    </tr>\n",
        "    <tr>\n",
        "      <th>2153</th>\n",
        "      <td> en</td>\n",
        "      <td>                 military</td>\n",
        "      <td> 0.462810</td>\n",
        "    </tr>\n",
        "    <tr>\n",
        "      <th>3046</th>\n",
        "      <td> en</td>\n",
        "      <td>                 politics</td>\n",
        "      <td> 0.438017</td>\n",
        "    </tr>\n",
        "    <tr>\n",
        "      <th>2514</th>\n",
        "      <td> en</td>\n",
        "      <td> administrative divisions</td>\n",
        "      <td> 0.438017</td>\n",
        "    </tr>\n",
        "    <tr>\n",
        "      <th>2652</th>\n",
        "      <td> en</td>\n",
        "      <td>                   sports</td>\n",
        "      <td> 0.396694</td>\n",
        "    </tr>\n",
        "    <tr>\n",
        "      <th>2250</th>\n",
        "      <td> en</td>\n",
        "      <td>        foreign relations</td>\n",
        "      <td> 0.384298</td>\n",
        "    </tr>\n",
        "    <tr>\n",
        "      <th>3577</th>\n",
        "      <td> en</td>\n",
        "      <td>                languages</td>\n",
        "      <td> 0.367769</td>\n",
        "    </tr>\n",
        "    <tr>\n",
        "      <th>3422</th>\n",
        "      <td> en</td>\n",
        "      <td>                  cuisine</td>\n",
        "      <td> 0.363636</td>\n",
        "    </tr>\n",
        "    <tr>\n",
        "      <th>3086</th>\n",
        "      <td> en</td>\n",
        "      <td>                   health</td>\n",
        "      <td> 0.359504</td>\n",
        "    </tr>\n",
        "    <tr>\n",
        "      <th>4013</th>\n",
        "      <td> en</td>\n",
        "      <td>          further reading</td>\n",
        "      <td> 0.342975</td>\n",
        "    </tr>\n",
        "  </tbody>\n",
        "</table>\n",
        "</div>"
       ],
       "metadata": {},
       "output_type": "pyout",
       "prompt_number": 114,
       "text": [
        "     lang                   secname      freq\n",
        "3168   en                   history  0.954545\n",
        "2688   en                   economy  0.888430\n",
        "3218   en              demographics  0.876033\n",
        "4063   en            external links  0.867769\n",
        "3937   en                  see also  0.842975\n",
        "2838   en                 geography  0.822314\n",
        "3013   en                references  0.805785\n",
        "3356   en                   culture  0.797521\n",
        "3492   en                  religion  0.657025\n",
        "4049   en                 education  0.648760\n",
        "2315   en                   climate  0.545455\n",
        "2153   en                  military  0.462810\n",
        "3046   en                  politics  0.438017\n",
        "2514   en  administrative divisions  0.438017\n",
        "2652   en                    sports  0.396694\n",
        "2250   en         foreign relations  0.384298\n",
        "3577   en                 languages  0.367769\n",
        "3422   en                   cuisine  0.363636\n",
        "3086   en                    health  0.359504\n",
        "4013   en           further reading  0.342975"
       ]
      }
     ],
     "prompt_number": 114
    },
    {
     "cell_type": "code",
     "collapsed": false,
     "input": [
      "top_n_sections('sw',7)\n"
     ],
     "language": "python",
     "metadata": {},
     "outputs": [
      {
       "html": [
        "<div style=\"max-height:1000px;max-width:1500px;overflow:auto;\">\n",
        "<table border=\"1\" class=\"dataframe\">\n",
        "  <thead>\n",
        "    <tr style=\"text-align: right;\">\n",
        "      <th></th>\n",
        "      <th>lang</th>\n",
        "      <th>secname</th>\n",
        "      <th>freq</th>\n",
        "    </tr>\n",
        "  </thead>\n",
        "  <tbody>\n",
        "    <tr>\n",
        "      <th>4122</th>\n",
        "      <td> sw</td>\n",
        "      <td> {{infobox country</td>\n",
        "      <td> 0.510730</td>\n",
        "    </tr>\n",
        "    <tr>\n",
        "      <th>4260</th>\n",
        "      <td> sw</td>\n",
        "      <td>    viungo vya nje</td>\n",
        "      <td> 0.484979</td>\n",
        "    </tr>\n",
        "    <tr>\n",
        "      <th>4371</th>\n",
        "      <td> sw</td>\n",
        "      <td>          historia</td>\n",
        "      <td> 0.412017</td>\n",
        "    </tr>\n",
        "    <tr>\n",
        "      <th>4295</th>\n",
        "      <td> sw</td>\n",
        "      <td>         jiografia</td>\n",
        "      <td> 0.334764</td>\n",
        "    </tr>\n",
        "    <tr>\n",
        "      <th>4077</th>\n",
        "      <td> sw</td>\n",
        "      <td>        tazama pia</td>\n",
        "      <td> 0.184549</td>\n",
        "    </tr>\n",
        "    <tr>\n",
        "      <th>4339</th>\n",
        "      <td> sw</td>\n",
        "      <td>            uchumi</td>\n",
        "      <td> 0.120172</td>\n",
        "    </tr>\n",
        "    <tr>\n",
        "      <th>4245</th>\n",
        "      <td> sw</td>\n",
        "      <td>            wakazi</td>\n",
        "      <td> 0.103004</td>\n",
        "    </tr>\n",
        "  </tbody>\n",
        "</table>\n",
        "</div>"
       ],
       "metadata": {},
       "output_type": "pyout",
       "prompt_number": 117,
       "text": [
        "     lang            secname      freq\n",
        "4122   sw  {{infobox country  0.510730\n",
        "4260   sw     viungo vya nje  0.484979\n",
        "4371   sw           historia  0.412017\n",
        "4295   sw          jiografia  0.334764\n",
        "4077   sw         tazama pia  0.184549\n",
        "4339   sw             uchumi  0.120172\n",
        "4245   sw             wakazi  0.103004"
       ]
      }
     ],
     "prompt_number": 117
    },
    {
     "cell_type": "markdown",
     "metadata": {},
     "source": [
      "Looking at the most frequent sections in each what patterns emerge? First let us acknowledge that some of the sections here are not conent - like \"Notes\" and \"References\". Ignoring non-content sections there is a clear Winner in all three languages - History. \n",
      "\n",
      "\n",
      "In all three languages History the one section you can most rely on being there, 88% of French 95% of English and 41% of Swahili country articles. In Swahili and French, the second most popular sections are Geography, but in English it's Economy. So this informs us on which Categories to apply our metrics on next the History, Economy, and Geography categories."
     ]
    },
    {
     "cell_type": "heading",
     "level": 2,
     "metadata": {},
     "source": [
      "Subject and Country analysis"
     ]
    },
    {
     "cell_type": "markdown",
     "metadata": {},
     "source": [
      "Given that we now have the top sections for each language, we devise a method to look at representative sections. We find a Category in each Wikipedia that represents each subject and for each major nation associated with our languages.\n",
      "We create a script to present every article in every category and all its recursive subcategories to a human judge. The full list of categories for the second part of this analysis comes from is:"
     ]
    },
    {
     "cell_type": "code",
     "collapsed": false,
     "input": [
      "categoryjson = json.load(open('ethnosets-categories-capitalized.json','r'))\n",
      "for subject, nationdict in categoryjson.iteritems():\n",
      "    print subject\n",
      "    for nation, langdict in nationdict.iteritems():\n",
      "        print \" |---\"  + nation\n",
      "        for lang in ['fr','en','sw']:\n",
      "            try:\n",
      "                print\"    |---\" + langdict[lang]\n",
      "            except:\n",
      "                pass"
     ],
     "language": "python",
     "metadata": {},
     "outputs": [
      {
       "output_type": "stream",
       "stream": "stdout",
       "text": [
        "Geography\n",
        " |---C\u00f4te d'Ivoire\n",
        "    |---Cat\u00e9gorie:G\u00e9ographie_de_la_C\u00f4te_d'Ivoire\n",
        "    |---Geography_of_Ivory_Coast\n",
        "    |---Jamii:Jiografia_ya_Cote_d'Ivoire\n",
        " |---USA\n",
        "    |---Cat\u00e9gorie:G\u00e9ographie_des_\u00c9tats-Unis\n",
        "    |---Category:Geography_of_the_United_States\n",
        "    |---Jamii:Jiografia_ya_Marekani\n",
        " |---Uganda\n",
        "    |---Cat\u00e9gorie:G\u00e9ographie_de_l'Ouganda\n",
        "    |---Category:Geography_of_Uganda\n",
        "    |---Jamii:Jiografia_ya_Uganda\n",
        " |---France\n",
        "    |---Cat\u00e9gorie:G\u00e9ographie_de_la_France\n",
        "    |---Category:Geography_of_France\n",
        "History\n",
        " |---C\u00f4te d'Ivoire\n",
        "    |---Cat\u00e9gorie:Histoire_de_la_C\u00f4te_d'Ivoire\n",
        "    |---Category:History_of_Ivory_Coast\n",
        " |---Uganda\n",
        "    |---Cat\u00e9gorie:Histoire_de_l'Ouganda\n",
        "    |---Category:History_of_Uganda\n",
        "    |---Jamii:Historia_ya_Uganda\n",
        " |---USA\n",
        "    |---Cat\u00e9gorie:Histoire_des_\u00c9tats-Unis\n",
        "    |---Category:History_of_the_United_States\n",
        "    |---Jamii:Historia_ya_Marekani\n",
        " |---France\n",
        "    |---Cat\u00e9gorie:Histoire_de_France\n",
        "    |---Category:History_of_France\n",
        "    |---Jamii:Historia_ya_Ufaransa\n",
        "Economy\n",
        " |---C\u00f4te d'Ivoire\n",
        "    |---Cat\u00e9gorie:\u00c9conomie_de_la_C\u00f4te_d'Ivoire\n",
        "    |---Category:Economy_of_Ivory_Coast\n",
        "    |---Jamii:Uchumi_wa_Cote_d'Ivoire\n",
        " |---USA\n",
        "    |---Cat\u00e9gorie:\u00c9conomie_des_\u00c9tats-Unis\n",
        "    |---Category:Economy_of_the_United_States\n",
        "    |---Jamii:Uchumi_wa_Marekani\n",
        " |---Uganda\n",
        "    |---Cat\u00e9gorie:\u00c9conomie_de_l'Ouganda\n",
        "    |---Category:Economy_of_Uganda\n",
        "    |---Jamii:Uchumi_wa_Uganda\n",
        " |---France\n",
        "    |---Cat\u00e9gorie:\u00c9conomie_de_la_France\n",
        "    |---Category:Economy_of_France\n",
        "    |---Jamii:Uchumi wa Ufaransa\n"
       ]
      }
     ],
     "prompt_number": 266
    },
    {
     "cell_type": "markdown",
     "metadata": {},
     "source": [
      "Looking at every title of every article in every subcategory of these categories, a human (your author) accepted or rejected each article. The purpose of this filtering process was to remove noise, such as: articles about economists out of Economy, or highschools out of Geography while being able to look inside many categories. In the end we accepted a total of:"
     ]
    },
    {
     "cell_type": "code",
     "collapsed": false,
     "input": [
      "ethnosets = !ls ethnosets/\n",
      "reduce(lambda a, b: a+b, map(lambda l: len(l), map(lambda f: json.load(open('ethnosets/'+f)), ethnosets)))"
     ],
     "language": "python",
     "metadata": {},
     "outputs": [
      {
       "metadata": {},
       "output_type": "pyout",
       "prompt_number": 271,
       "text": [
        "24630"
       ]
      }
     ],
     "prompt_number": 271
    },
    {
     "cell_type": "markdown",
     "metadata": {},
     "source": [
      "24630 Articles which were fetched as live data off Wikipedia. Live so that we could compare the results after any editing efforts. We used Wikimedia labs for the [data pull script](https://github.com/notconfusing/kumusha_takes_wiki/blob/master/big_data_pull_by_subject.py) if you are interested.\n",
      "\n",
      "Then for each of those articles we ask Wikidata to give us the page if possible in all our desired languages. And then on all those pages we call the Actionable Metrics as described earlier. \n",
      "\n",
      "If you are keeping track that means we have four active variables: \n",
      "\n",
      "1. the Nation, \n",
      "2. the Wikipedia language, \n",
      "3. the subject, and \n",
      "4. the metric type.\n",
      "\n",
      "\n",
      "Below is a matrix of heatmaps displaying the mean average - not the full distribution as we previously graphed - of the specified metric across all pages in a specified language, about a specified nation, on a specified topic. If you look at any individual heatmap you can see it compares a Wikipedia language and a nation. Looking down the rows of the greater Matrix we have varying metric types, and looking down the columns of the greater matrix we have the subject categories."
     ]
    },
    {
     "cell_type": "code",
     "collapsed": false,
     "input": [
      "make_heat_map()"
     ],
     "language": "python",
     "metadata": {},
     "outputs": [
      {
       "metadata": {},
       "output_type": "display_data",
       "png": "[encoded data removed]",
       "text": [
        "<matplotlib.figure.Figure at 0xb8b55d0>"
       ]
      }
     ],
     "prompt_number": 146
    },
    {
     "cell_type": "heading",
     "level": 3,
     "metadata": {},
     "source": [
      "Analysis\n"
     ]
    },
    {
     "cell_type": "markdown",
     "metadata": {},
     "source": [
      "This heatmap can act as a guide to where one could find good examples of articles. Say for istance you wanted to improve History articles of Uganda. Look at the vertical History column and within it, the vertical Uganda column. Then moving your eyes up and down you can see that while English Wikipedia has the best reference rate, French Wikipedia has a slightly higher code & images score, which would be useful depending on how you wanted to improve these articles.\n",
      "\n",
      "For Economy, we can see that the clearest horizontal band across each metric is English. This is a promising result because we knew that English unlike French or Swahili placed more of an emphasis on Economy in their country articles. However if we take a by-nation approach we see that the bluest square is always in the France column. Wouldn't we also expect that if English values Economy that USA, Economy articles would perform most strongly? One exlpanation is that ther are so many English company articles that infact the _average_ quality is brought down. Some data that would give creedence to this idea is that English articles about France's economy outperform in the _code and images_ metric. Often bot opertions will leave a lot of templated code, on many relatively obscure articles for which this could be a trace. For instance in economy articles then, I would be recommended to look at French articles of France for written quality, and English for templating ideas.\n",
      "\n",
      "Look in the History column, in each of the metric-rows there is strong horizontal band of blue in the French sub-row. This indicates that French history articles are good across most nations. Except in the bottom two metrics, Article length and references per article, English seems to outperform, particularly for Uganda and the USA. Swahili here performs better for the USA than for Uganda. In fact in the Swahili band, many datapoints do not register because there are 25 or less articles in question (see caveat below). However within the Uganda column, English and French do register, which means that there are translation opportunities to get more Swahili content. As for C\u00f4te d'Ivoire, we also find that in all but referencing French does better than English. This would suggest that for C\u00f4te d'Ivoire's history, they unfortunately have no better direct examples to follow, (but they do have French history to look up to).\n",
      "\n",
      "Moving to Geography, a notable pattern is the domination of French Wikipedia about France in - again - all but the referencing metric. We encounter some movement from Swahili Wikipedia for the first time. You can see two fainter, but still noticeable horizontal strips in C\u00f4te d'Ivoire and Uganda for all Wikipedia languages. So actually this means that Geogrpahy is the relative strong point for African countries. To improve their relative content coverage Swahili editors would be better to focus on Economy and History if they wanted to work on the more-needed areas of their Wikipedias. And within all the things they could do, we see the bluest points within code and images, which is likely from bot-created Africa place articles. The needed places to improve those articles are section count and article length which for English and French about France, and English about USA could best be a guide."
     ]
    },
    {
     "cell_type": "heading",
     "level": 4,
     "metadata": {},
     "source": [
      "Caveats"
     ]
    },
    {
     "cell_type": "markdown",
     "metadata": {},
     "source": [
      "Since we are using the mean average, sometimes if there are not a lot of pages in a language for a category, if one of the pages is particularly impressive then the average can appear high without it meaning that language is a useful information source. This occurred for instance Swahili Economy of France in Wikilinks. We moved the minimum number of contributing articles in a sub-heatmap to 25 to reduce this noise, so a white square will appear if there were less than 25 articles"
     ]
    },
    {
     "cell_type": "heading",
     "level": 3,
     "metadata": {},
     "source": [
      "Top Templates by Subject and Country"
     ]
    },
    {
     "cell_type": "markdown",
     "metadata": {},
     "source": [
      "The previous approach of looking at the top section heading, was very useful here because within a broad category of \"Economy\" or \"Geography\" there are too many sub-subjects which have different expected flavours of section headings. Instead we look at the top templates, to see if sepecific quality flaws could be identified using the techniques of [Stein's Quality Flaws](http://www.uni-weimar.de/medien/webis/publications/papers/stein_2012i.pdf). Regretably this study only disucsses English Wikipedia, so here we would need a French Wikipedian to identify the top Clean-up tags in French Wikipedia. While \"Citaiton neeed\" does appear for some categories there \"Citation n\u00e9cessaire\" doesn't crop up, so this indicates maybe a direct translation is not possible.\n",
      "\n",
      "In fact all of the most common clean-up tags make no apperance in our top 20 of each subject-nation files, except Citation needed. These subject-nation combinations have the highest incidence:\n",
      "\n",
      "    Subject-nation| Frequency of \"citation needed\" (per article)\n",
      "\n",
      "    history-usa   |  0.501708\n",
      "    economy-fra   |  0.282183\n",
      "    economy-usa   |  0.270058\n",
      "    history-fra   |  0.226929\n",
      "    history-cdi   |  0.173913\n",
      "    geography-usa |  0.154013\n",
      "    economy-cdi   |  0.128205\n",
      "\n",
      "This seemingly highlights lack of tagging with clean-up templates more than anything. It seems counter intuitive that more highly scoring subject nations would also need more citing that those which scored less is all other areas. Our sample of Wikipedia articles here is too small for or is somehow otherwise not the right application of this cleanup tag analysis.\n",
      "\n",
      "Still, looking over the data one can see that citation templates feature highly. Therefore we can investigate is the relative types of Citations used (albeit from an English perspective). First we retrive the statistics for _all occurences_ of English Wikipeda Citation templates from Wikimedia labs, and then convert them into a proportion.\n",
      "\n",
      "    MariaDB [enwiki_p]> select tl_title, count(*) from templatelinks where tl_title like 'Cite_web' or tl_title like 'Cite_news' or tl_title like 'Cite_journal' or tl_title like 'Cite_book' group by tl_title;\n",
      "    +--------------+----------+\n",
      "    | tl_title     | count(*) |\n",
      "    +--------------+----------+\n",
      "    | Cite_book    |   536258 |\n",
      "    | Cite_journal |   328129 |\n",
      "    | Cite_news    |   444447 |\n",
      "    | Cite_web     |  1560207 |\n",
      "    +--------------+----------+\n",
      "    4 rows in set (11 min 36.68 sec)\n",
      "    \n",
      "This global statistic, serves as a benchmark for all the compositions we can infer from our Top template work if we consider all the occurences of _Cite book, Cite Journal, Cite News, and Cite web_ from our subject-nation files. See below the graphical reperesentation. Immediately _Geography_ seems to be less diversely cited in for all nations. We can also see signs that _Economy_ on the whole has more news citations, and that _History_ on average utilises more book citations. However the more major fact seems to be that Web citations are almost always more than half. Notably when they are not we have 2 out of 3 being heavy news citations in History of C\u00f4te d'Ivoire and History of Uganda. \n",
      "\n",
      "All of this should be quite reassuring. A main disadvantage facing African content, previously postulated, was the lack of citable sources. That problem is exacerbated if we consider only printed historical works as useful to expanding content. However since across the board Citations are not heavily reliant on books or Journals - even in the Encyclopedia's strong suites like the Economy of the USA - citing should be less of an impediment to Kumusha Takes Wiki editors."
     ]
    },
    {
     "cell_type": "code",
     "collapsed": false,
     "input": [
      "make_cite_plot()"
     ],
     "language": "python",
     "metadata": {},
     "outputs": [
      {
       "metadata": {},
       "output_type": "display_data",
       "png": "[encoded data removed]",
       "text": [
        "<matplotlib.figure.Figure at 0xbaaf790>"
       ]
      }
     ],
     "prompt_number": 125
    },
    {
     "cell_type": "heading",
     "level": 2,
     "metadata": {},
     "source": [
      "Conclusions"
     ]
    },
    {
     "cell_type": "markdown",
     "metadata": {},
     "source": [
      "Our main task was to understand what makes a good article with respect to a Nation. Despite the question's subjectivity, there are certain things we have shown about the current state of Wikipedia, and if you consider any of them \"good\" then you can try and emulate them. Our main findings are that When it comes to a encyclopedically desrcibing a nation, all of English, French and Swahili Wikipedias most often write about the nations history. French and Swahili then consider Geography next most important, while English thinks it Economy. Then we have created a guide involving our 3 languages, 3 subjects, 4 nations, and 5 metrics. One can consult this guide to know where work needs to be done, and which areas of our Wikipedias to look for as an example. Lastly we determined that we do not have much information about where we could add more sources to the countries in question, but if English Wikipedia is a model, then Web citations are usually sufficient."
     ]
    },
    {
     "cell_type": "heading",
     "level": 3,
     "metadata": {},
     "source": [
      "Further Directons"
     ]
    },
    {
     "cell_type": "markdown",
     "metadata": {},
     "source": [
      "The way in which the swaths of artilces were chosen for the subject-nation could unsatisfactory for several reasons. Firstly the category system may not accurately represnt a Wikipedia's available items on a subject. Secondly, since the process involved a human judge, error and noise is certainly introduced. A better way of determining these subject-nation sets would be useful. Also no human investigation was done on those sets, instead we opted for an algorithmic methods. If a sound methodology for the human analysis of pages is available, that would be a good technique to compare to the algorithmic ones presented here."
     ]
    },
    {
     "cell_type": "heading",
     "level": 2,
     "metadata": {},
     "source": [
      "Start of Supporting Code"
     ]
    },
    {
     "cell_type": "code",
     "collapsed": false,
     "input": [
      "#Infonoise metric of Stvilia (2005) in concept, although the implementation may differ since we are not stopping and stemming words, because of the multiple languages we need to handle\n",
      "\n",
      "def readable_text_length(wikicode):\n",
      "    #could also use wikicode.filter_text()\n",
      "    return float(len(wikicode.strip_code()))\n",
      "\n",
      "def infonoise(wikicode):\n",
      "    wikicode.strip_code()\n",
      "    ratio = readable_text_length(wikicode) / float(len(wikicode))\n",
      "    return ratio\n",
      "\n",
      "#Helper function to mine for section headings, of course if there is a lead it doesn't quite make sense.\n",
      "\n",
      "def section_headings(wikicode):\n",
      "    sections = wikicode.get_sections()\n",
      "    sec_headings = map( lambda s: filter( lambda l: l != '=', s), map(lambda a: a.split(sep='\\n', maxsplit=1)[0], sections))\n",
      "    return sec_headings\n",
      "\n",
      "#i don't know why mwparserfromhell's .fitler_tags() isn't working at the moment. going to hack it for now\n",
      "import re\n",
      "def num_refs(wikicode):\n",
      "    text = str(wikicode)\n",
      "    reftags = re.findall('<(\\ )*?ref', text)\n",
      "    return len(reftags)\n",
      "\n",
      "def article_refs(wikicode):\n",
      "    sections = wikicode.get_sections()\n",
      "    return float(reduce( lambda a,b: a+b ,map(num_refs, sections)))\n",
      "\n",
      "#Predicate for links and files in English French and Swahili\n",
      "\n",
      "def link_a_file(linkstr):\n",
      "    fnames = [u'File:', u'Fichier:', u'Image:', u'Picha:']\n",
      "    bracknames = map(lambda a: '[[' + a, fnames)\n",
      "    return any(map(lambda b: linkstr.startswith(b), bracknames))\n",
      "\n",
      "def link_a_cat(linkstr):\n",
      "    cnames =[u'Category:', u'Cat\u00e9gorie:', u'Jamii:']\n",
      "    bracknames = map(lambda a: '[[' + a, cnames)\n",
      "    return any(map(lambda b: linkstr.startswith(b), bracknames))\n",
      "\n",
      "def num_reg_links(wikicode):\n",
      "    reg_links = filter(lambda a: not link_a_file(a) and not link_a_cat(a), wikicode.filter_wikilinks())\n",
      "    return float(len(reg_links))\n",
      "\n",
      "def num_file_links(wikicode):\n",
      "    file_links = filter(lambda a: link_a_file(a), wikicode.filter_wikilinks())\n",
      "    return float(len(file_links))"
     ],
     "language": "python",
     "metadata": {},
     "outputs": [],
     "prompt_number": 111
    },
    {
     "cell_type": "code",
     "collapsed": false,
     "input": [
      "import pywikibot\n",
      "import mwparserfromhell as pfh\n",
      "import os\n",
      "import datetime\n",
      "import pandas as pd\n",
      "import json\n",
      "from collections import defaultdict\n",
      "from ggplot import *\n",
      "import operator\n",
      "\n",
      "%pylab inline\n",
      "\n",
      "\n",
      "langs = ['en','fr','sw']\n",
      "nations = ['usa', 'fra', 'cdi', 'uga']\n",
      "\n",
      "wikipedias = {lang: pywikibot.Site(lang, 'wikipedia') for lang in langs}\n",
      "wikidata = wikipedias['fr'].data_repository()"
     ],
     "language": "python",
     "metadata": {},
     "outputs": [
      {
       "output_type": "stream",
       "stream": "stderr",
       "text": [
        "VERBOSE:pywiki:Starting 1 threads...\n"
       ]
      },
      {
       "output_type": "stream",
       "stream": "stdout",
       "text": [
        "Populating the interactive namespace from numpy and matplotlib\n"
       ]
      },
      {
       "output_type": "stream",
       "stream": "stderr",
       "text": [
        "WARNING: pylab import has clobbered these variables: ['xlim', 'mpl', 'colors', 'ylim']\n",
        "`%pylab --no-import-all` prevents importing * from pylab and numpy\n"
       ]
      }
     ],
     "prompt_number": 2
    },
    {
     "cell_type": "markdown",
     "metadata": {},
     "source": [
      "this will be our data structure dict of dicts, until we have some numbers to put into pandas"
     ]
    },
    {
     "cell_type": "code",
     "collapsed": false,
     "input": [
      "def enfrsw():\n",
      "    return {lang: None for lang in langs}\n",
      "def article_attributes():\n",
      "    return {attrib: enfrsw() for attrib in ['sitelinks', 'wikitext', 'wikicode', 'metrics']}\n",
      "\n",
      "def do_sitelinks(langs, qids, data):\n",
      "    for qid in qids:\n",
      "        page = pywikibot.ItemPage(wikidata, qid)\n",
      "        wditem = page.get()\n",
      "        for lang in langs:\n",
      "            try:\n",
      "                data[qid]['sitelinks'][lang] = wditem['sitelinks'][lang+'wiki']\n",
      "            except KeyError:\n",
      "                pass\n",
      "    return data"
     ],
     "language": "python",
     "metadata": {},
     "outputs": [],
     "prompt_number": 143
    },
    {
     "cell_type": "markdown",
     "metadata": {},
     "source": [
      "Functions to get the page texts in all our desired languages"
     ]
    },
    {
     "cell_type": "code",
     "collapsed": false,
     "input": [
      "def get_wikitext(lang, title):\n",
      "    page = pywikibot.Page(wikipedias[lang],title)\n",
      "    def get_page(page):\n",
      "        try:\n",
      "            pagetext = page.get()\n",
      "            return pagetext\n",
      "        except pywikibot.exceptions.IsRedirectPage:\n",
      "            redir = page.getRedirectTarget()\n",
      "            get_page(redir)\n",
      "        except pywikibot.exceptions.NoPage:\n",
      "            raise pywikibot.exceptions.NoPage\n",
      "            print 're raising'\n",
      "    return get_page(page)\n",
      "\n",
      "def do_wikitext(langs, data):\n",
      "    for qid, attribs in data.iteritems():\n",
      "        for lang, sl in attribs['sitelinks'].iteritems():\n",
      "            if sl:\n",
      "                try:\n",
      "                    if randint(0,100) == 99:\n",
      "                        print sl\n",
      "                    data[qid]['wikitext'][lang] = get_wikitext(lang, sl)\n",
      "                except:\n",
      "                    print 'bad sitelink', sl\n",
      "                    continue\n",
      "    return data\n",
      "\n",
      "def do_wikicode(langs, data):\n",
      "    for qid, attribs in data.iteritems():\n",
      "        for lang, pagetext in attribs['wikitext'].iteritems():\n",
      "            if pagetext:\n",
      "                data[qid]['wikicode'][lang] = pfh.parse(pagetext)\n",
      "    return data\n",
      "\n",
      "def do_metrics(data):\n",
      "    for qid, attribs in data.iteritems():\n",
      "        for lang, wikicode in attribs['wikicode'].iteritems():\n",
      "            if wikicode:\n",
      "                data[qid]['metrics'][lang] = report_actionable_metrics(wikicode)\n",
      "    return data\n",
      "\n",
      "# this will take a lot of network time since we are going to load about 300 pages, but we'll save the data off so we don't have to do it uneccesarrily\n",
      "\n",
      "def make_data(langs, qids, savename):\n",
      "    print 'getting these qids: ', qids \n",
      "    data = defaultdict(article_attributes)\n",
      "    print 'getting sitelinks'\n",
      "    data = do_sitelinks(langs, qids, data)\n",
      "    print 'getting wikitext'\n",
      "    data = do_wikitext(langs, data)\n",
      "    print 'converting to wikicode'\n",
      "    data = do_wikicode(langs, data)\n",
      "    print 'computing metrics'\n",
      "    data = do_metrics(data)\n",
      "\n",
      "        \n",
      "    hashable_data = {qid: \n",
      "                        {'wikitext': attribdict['wikitext'],\n",
      "                         'metrics': attribdict['metrics'],\n",
      "                         'sitelinks': attribdict['sitelinks']}\n",
      "                             for qid, attribdict in data.iteritems()}\n",
      "    print 'saving now'\n",
      "    #save the results\n",
      "    safefilename = savename+str(datetime.datetime.now())+'.json'\n",
      "    with open(safefilename,'w') as f3:\n",
      "        json.dump(hashable_data,f3)\n",
      "    with open(savename+'latest.json','w') as f4:\n",
      "        json.dump(hashable_data, f4)\n",
      "    return data\n",
      "\n",
      "#i don't call this unless i have time to uncomment it\n",
      "#arts = make_data(langs, country_qids, 'countrydata')\n",
      "\n",
      "#time to get into pandas, lets throw everything into a data frame \n",
      "\n",
      "df = pd.DataFrame(columns=['qid','lang','metric','val'])\n",
      "\n",
      "arts = json.load(open('countrydata-latest.json','r'))\n",
      "\n",
      "for qid, attribdict in arts.iteritems():\n",
      "    for attribname, langdict in attribdict.iteritems():\n",
      "        if attribname == 'metrics':\n",
      "            for lang, metrics in langdict.iteritems(): \n",
      "                try:\n",
      "                #someteimes there wasn't an article in that language and thus no corresponding len\n",
      "                    for metric_name, metric_val in metrics.iteritems():\n",
      "                        df = df.append({'qid': qid, 'lang':lang, 'metric':metric_name, 'val':float(metric_val)}, ignore_index=True)\n",
      "                except:\n",
      "                    pass\n",
      "df = df.convert_objects(convert_numeric=True)\n",
      "\n",
      "metric_list = ['completeness','informativeness','numheadings','articlelength','referencerate']\n",
      "\n",
      "langs_df_dict = {lang: df[df['lang'] == lang] for lang in langs}\n",
      "metric_df_dict = {metric: df[df['metric'] == metric] for metric in metric_list}\n",
      "\n",
      "#for later calculation\n",
      "uganda_zscores = defaultdict(list)\n",
      "cdi_zscores = defaultdict(list)"
     ],
     "language": "python",
     "metadata": {},
     "outputs": [],
     "prompt_number": 3
    },
    {
     "cell_type": "code",
     "collapsed": false,
     "input": [
      "def metric_analyse(ametric, binw):\n",
      "    #the histogram version\n",
      "    inf_df = metric_df_dict[ametric]\n",
      "    \n",
      "    zscore = lambda x: (x - x.mean()) / x.std()\n",
      "    \n",
      "    inf_piv = inf_df.pivot(index='qid', columns='lang', values='val')\n",
      "    \n",
      "    inf_piv_z = inf_piv.apply(zscore)\n",
      "    \n",
      "    plotinfo = ggplot(aes(x='val', colour='lang'), data=inf_df)  + geom_histogram(binwidth=binw) + labs(\"Score\", \"Frequency\") \\\n",
      "    + facet_wrap('lang')\n",
      "    \n",
      "    global uganda_zscores, cdi_zscores\n",
      "    print \"Uganda's \" + ametric+ \"\\n Wikipedia Language | z-score\" \n",
      "    ug = inf_piv_z.loc[ugandaqid]\n",
      "    for k, v in ug.iteritems():\n",
      "        uganda_zscores[k].append(v) \n",
      "        print k, ' | ',\"%.3f\" % v\n",
      "    print \"C\u00f4te d'Ivoire's \" + ametric+ \"\\n Wikipedia Language | z-score\"\n",
      "    cdi = inf_piv_z.loc[cdiqid]\n",
      "    for k, v in cdi.iteritems():\n",
      "        cdi_zscores[k].append(v)\n",
      "        print k, ' | ',\"%.3f\" % v\n",
      "    return plotinfo"
     ],
     "language": "python",
     "metadata": {},
     "outputs": [],
     "prompt_number": 152
    },
    {
     "cell_type": "code",
     "collapsed": false,
     "input": [
      "def metric_analyse_density(ametric, xlimit):\n",
      "    inf_df = metric_df_dict[ametric]\n",
      "    \n",
      "    zscore = lambda x: (x - x.mean()) / x.std()\n",
      "    \n",
      "    inf_piv = inf_df.pivot(index='qid', columns='lang', values='val')\n",
      "    \n",
      "    inf_piv_z = inf_piv.apply(zscore)\n",
      "    \n",
      "    global uganda_zscores, cdi_zscores\n",
      "    print \"Uganda's \" + ametric+ \"\\n Wikipedia Language | z-score\" \n",
      "    ug = inf_piv_z.loc[ugandaqid]\n",
      "    for k, v in ug.iteritems():\n",
      "        uganda_zscores[k].append(v) \n",
      "        print k, ' | ',\"%.3f\" % v\n",
      "    print \"C\u00f4te d'Ivoire's \" + ametric+ \"\\n Wikipedia Language | z-score\"\n",
      "    cdi = inf_piv_z.loc[cdiqid]\n",
      "    for k, v in cdi.iteritems():\n",
      "        cdi_zscores[k].append(v)\n",
      "        print k, ' | ',\"%.3f\" % v\n",
      "        \n",
      "    return ggplot(aes(x='val', colour='lang', fill=True, alpha = 0.3), data=inf_df) + geom_density() + labs(\"Score\", \"Frequency\") + \\\n",
      "    scale_x_continuous(limits=(0,xlimit)) + ggtitle(ametric + '\\n Swahili - blue, French - yellow, English - black')"
     ],
     "language": "python",
     "metadata": {},
     "outputs": [],
     "prompt_number": 7
    },
    {
     "cell_type": "code",
     "collapsed": true,
     "input": [
      "def defaultint():\n",
      "    return defaultdict(int)\n",
      "\n",
      "section_count = defaultdict(defaultint)\n",
      "sorted_secs = defaultdict(list)\n",
      "total_articles = defaultdict(int)\n",
      "\n",
      "articles = json.load(open('countrydata-latest.json','r'))\n",
      "\n",
      "for qid, attribdict in articles.iteritems():\n",
      "    for attribname, langdict in attribdict.iteritems():\n",
      "        if attribname == 'wikitext':\n",
      "            for lang, wikitext in langdict.iteritems(): \n",
      "                if wikitext:\n",
      "                    total_articles[lang] += 1\n",
      "                    wikicode = pfh.parse(wikitext)\n",
      "                    secs = section_headings(wikicode)\n",
      "                    for sec in secs:\n",
      "                        sec = sec.strip().lower()\n",
      "                        section_count[lang][sec] += 1\n",
      "                        \n",
      "section_df = pd.DataFrame(columns=['lang','secname','freq'])\n",
      "for lang, sec_dict in section_count.iteritems():\n",
      "    for secname, seccount in sec_dict.iteritems():\n",
      "        freq = seccount/float(total_articles[lang])\n",
      "        section_df = section_df.append({'lang':lang, 'secname':secname, 'freq':freq}, ignore_index=True)  \n",
      "        \n",
      "#section_df = section_df.convert_objects(convert_numeric=True)\n",
      "section_df.head()\n",
      "top_secs = section_df[section_df.freq > 0.1]\n",
      "\n",
      "sort_secs= top_secs.sort(columns='freq', ascending=False)\n",
      "\n",
      "def top_n_sections(lang,n):\n",
      "    return sort_secs[sort_secs.lang==lang].iloc[:n].convert_objects(convert_numeric=True)"
     ],
     "language": "python",
     "metadata": {},
     "outputs": [],
     "prompt_number": 112
    },
    {
     "cell_type": "code",
     "collapsed": false,
     "input": [
      "def top_sections_ethnoset(ethnoset_filename):\n",
      "    \n",
      "    def defaultint():\n",
      "        return defaultdict(int)\n",
      "\n",
      "    section_count = defaultdict(defaultint)\n",
      "    sorted_secs = defaultdict(list)\n",
      "    total_articles = defaultdict(int)\n",
      "    \n",
      "    articles = json.load(open(ethnoset_filename,'r'))\n",
      "    \n",
      "    for qid, attribdict in articles.iteritems():\n",
      "        for attribname, langdict in attribdict.iteritems():\n",
      "            if attribname == 'wikitext':\n",
      "                for lang, wikitext in langdict.iteritems(): \n",
      "                    if wikitext:\n",
      "                        total_articles[lang] += 1\n",
      "                        wikicode = pfh.parse(wikitext)\n",
      "                        secs = section_headings(wikicode)\n",
      "                        for sec in secs:\n",
      "                            sec = sec.strip()\n",
      "                            section_count[lang][sec] += 1\n",
      "                        \n",
      "    section_df = pd.DataFrame(columns=['lang','secname','freq'])\n",
      "    for lang, sec_dict in section_count.iteritems():\n",
      "        for secname, seccount in sec_dict.iteritems():\n",
      "            freq = seccount/float(total_articles[lang])\n",
      "            section_df = section_df.append({'lang':lang, 'secname':secname, 'freq':freq}, ignore_index=True)\n",
      "            \n",
      "    #section_df = section_df.convert_objects(convert_numeric=True)\n",
      "    section_df.head()\n",
      "    top_secs = section_df[section_df.freq > 0.1]\n",
      "    \n",
      "    sort_secs= top_secs.sort(columns='freq', ascending=False)\n",
      "\n",
      "    return sort_secs"
     ],
     "language": "python",
     "metadata": {},
     "outputs": [],
     "prompt_number": 9
    },
    {
     "cell_type": "code",
     "collapsed": false,
     "input": [
      "def make_heat_map():\n",
      "    \n",
      "\n",
      "    subj_list = ['economy','history','geography']\n",
      "    metric_list = ['completeness','informativeness','numheadings','articlelength','referencerate']\n",
      "    #pivtables = {metric: {subj: None for subj in subj_list} for metric in metric_list}\n",
      "    \n",
      "    fig, axes = plt.subplots(nrows = len(metric_list), ncols = len(subj_list), sharex='col', sharey='row' )\n",
      "    '''\n",
      "    for metric, subjdict in pivtables.iteritems():\n",
      "        for subj, pivtab in subjdict.iteritems():\n",
      "            natlangdf = means_df[(means_df.metric == metric) & (means_df.subj == subj)]\n",
      "            natlangpiv = pd.pivot_table(natlangdf, values='means', rows='lang', cols='nation')\n",
      "            pivtables[metric][subj] = natlangpiv\n",
      "            \n",
      "    '''\n",
      "    \n",
      "    for axarr, metric in zip(axes, metric_list):\n",
      "        for ax, subj in zip(axarr, subj_list):\n",
      "            \n",
      "            natlangdf = means_df[(means_df.metric == metric) & (means_df.subj == subj)]\n",
      "            natlangpiv = pd.pivot_table(natlangdf, values='means', rows='lang', cols='nation')\n",
      "            heatmap = ax.pcolor(natlangpiv, cmap='Blues')\n",
      "            ax.set_yticks(np.arange(0.5, len(natlangpiv.index), 1))\n",
      "            ax.set_yticklabels(natlangpiv.index)\n",
      "            ax.set_xticks(np.arange(0.5, len(natlangpiv.columns), 1))\n",
      "            ax.set_xticklabels(natlangpiv.columns)\n",
      "            cbar = plt.colorbar(mappable=heatmap, ax=ax)\n",
      "        \n",
      "    fig.suptitle('Heatmap of Actionable Metrics by Country versus Wikipedia Language, \\n by Subject Category', fontsize=18)\n",
      "    fig.set_size_inches(12,12,dpi=600)\n",
      "    #fig.tight_layout()\n",
      "    \n",
      "    subj_titles = ['Economy','History','Geography']\n",
      "    metric_titles =['Wikilinks','Code & Images to Text Ratio','Section Count','Article Length', 'References per Article Length'] \n",
      "    for i in range(len(subj_titles)):\n",
      "        axes[0][i].set_title(subj_titles[i])\n",
      "    for j in range(len(metric_titles)):\n",
      "        axes[j][0].set_ylabel(metric_titles[j])\n",
      "        \n"
     ],
     "language": "python",
     "metadata": {},
     "outputs": [],
     "prompt_number": 137
    },
    {
     "cell_type": "code",
     "collapsed": false,
     "input": [
      "means_df[(means_df.metric == 'referencerate') & (means_df.subj == 'geography')]"
     ],
     "language": "python",
     "metadata": {},
     "outputs": [
      {
       "html": [
        "<div style=\"max-height:1000px;max-width:1500px;overflow:auto;\">\n",
        "<table border=\"1\" class=\"dataframe\">\n",
        "  <thead>\n",
        "    <tr style=\"text-align: right;\">\n",
        "      <th></th>\n",
        "      <th>subj</th>\n",
        "      <th>nation</th>\n",
        "      <th>lang</th>\n",
        "      <th>metric</th>\n",
        "      <th>means</th>\n",
        "    </tr>\n",
        "  </thead>\n",
        "  <tbody>\n",
        "    <tr>\n",
        "      <th>48</th>\n",
        "      <td> geography</td>\n",
        "      <td> usa</td>\n",
        "      <td> en</td>\n",
        "      <td> referencerate</td>\n",
        "      <td> 0.003102</td>\n",
        "    </tr>\n",
        "    <tr>\n",
        "      <th>49</th>\n",
        "      <td> geography</td>\n",
        "      <td> usa</td>\n",
        "      <td> fr</td>\n",
        "      <td> referencerate</td>\n",
        "      <td> 0.001050</td>\n",
        "    </tr>\n",
        "    <tr>\n",
        "      <th>50</th>\n",
        "      <td> geography</td>\n",
        "      <td> usa</td>\n",
        "      <td> sw</td>\n",
        "      <td> referencerate</td>\n",
        "      <td> 0.000012</td>\n",
        "    </tr>\n",
        "    <tr>\n",
        "      <th>51</th>\n",
        "      <td> geography</td>\n",
        "      <td> fra</td>\n",
        "      <td> en</td>\n",
        "      <td> referencerate</td>\n",
        "      <td> 0.000573</td>\n",
        "    </tr>\n",
        "    <tr>\n",
        "      <th>52</th>\n",
        "      <td> geography</td>\n",
        "      <td> fra</td>\n",
        "      <td> fr</td>\n",
        "      <td> referencerate</td>\n",
        "      <td> 0.001929</td>\n",
        "    </tr>\n",
        "    <tr>\n",
        "      <th>53</th>\n",
        "      <td> geography</td>\n",
        "      <td> fra</td>\n",
        "      <td> sw</td>\n",
        "      <td> referencerate</td>\n",
        "      <td> 0.000000</td>\n",
        "    </tr>\n",
        "    <tr>\n",
        "      <th>54</th>\n",
        "      <td> geography</td>\n",
        "      <td> cdi</td>\n",
        "      <td> en</td>\n",
        "      <td> referencerate</td>\n",
        "      <td> 0.004123</td>\n",
        "    </tr>\n",
        "    <tr>\n",
        "      <th>55</th>\n",
        "      <td> geography</td>\n",
        "      <td> cdi</td>\n",
        "      <td> fr</td>\n",
        "      <td> referencerate</td>\n",
        "      <td> 0.002138</td>\n",
        "    </tr>\n",
        "    <tr>\n",
        "      <th>56</th>\n",
        "      <td> geography</td>\n",
        "      <td> cdi</td>\n",
        "      <td> sw</td>\n",
        "      <td> referencerate</td>\n",
        "      <td> 0.006302</td>\n",
        "    </tr>\n",
        "    <tr>\n",
        "      <th>57</th>\n",
        "      <td> geography</td>\n",
        "      <td> uga</td>\n",
        "      <td> en</td>\n",
        "      <td> referencerate</td>\n",
        "      <td> 0.001590</td>\n",
        "    </tr>\n",
        "    <tr>\n",
        "      <th>58</th>\n",
        "      <td> geography</td>\n",
        "      <td> uga</td>\n",
        "      <td> fr</td>\n",
        "      <td> referencerate</td>\n",
        "      <td> 0.000560</td>\n",
        "    </tr>\n",
        "    <tr>\n",
        "      <th>59</th>\n",
        "      <td> geography</td>\n",
        "      <td> uga</td>\n",
        "      <td> sw</td>\n",
        "      <td> referencerate</td>\n",
        "      <td> 0.000114</td>\n",
        "    </tr>\n",
        "  </tbody>\n",
        "</table>\n",
        "</div>"
       ],
       "metadata": {},
       "output_type": "pyout",
       "prompt_number": 82,
       "text": [
        "         subj nation lang         metric     means\n",
        "48  geography    usa   en  referencerate  0.003102\n",
        "49  geography    usa   fr  referencerate  0.001050\n",
        "50  geography    usa   sw  referencerate  0.000012\n",
        "51  geography    fra   en  referencerate  0.000573\n",
        "52  geography    fra   fr  referencerate  0.001929\n",
        "53  geography    fra   sw  referencerate  0.000000\n",
        "54  geography    cdi   en  referencerate  0.004123\n",
        "55  geography    cdi   fr  referencerate  0.002138\n",
        "56  geography    cdi   sw  referencerate  0.006302\n",
        "57  geography    uga   en  referencerate  0.001590\n",
        "58  geography    uga   fr  referencerate  0.000560\n",
        "59  geography    uga   sw  referencerate  0.000114"
       ]
      }
     ],
     "prompt_number": 82
    },
    {
     "cell_type": "code",
     "collapsed": false,
     "input": [
      "def load_ethnosaves():\n",
      "    ethnosaves = !ls ethnosave\n",
      "    \n",
      "    subj_df_dict = {subj: pd.DataFrame(columns=['qid','subj','nation','lang','metric','val']) for subj in ethnosaves}\n",
      "    \n",
      "    for ethnosavefile in ethnosaves:\n",
      "        nameparts = ethnosavefile.split('-')\n",
      "        subj = nameparts[0]\n",
      "        dotparts = nameparts[1].split('.')\n",
      "        nation = dotparts[0]\n",
      "        arts = json.load(open('ethnosave/'+ethnosavefile,'r'))\n",
      "        print subj, nation\n",
      "        sdf = subj_df_dict[ethnosavefile]\n",
      "        for qid, attribdict in arts.iteritems():\n",
      "            for attribname, langdict in attribdict.iteritems():\n",
      "                if attribname == 'metrics':\n",
      "                    for lang, metrics in langdict.iteritems(): \n",
      "                        try:\n",
      "                        #someteimes there wasn't an article in that language and thus no corresponding len\n",
      "                            for metric_name, metric_val in metrics.iteritems():\n",
      "                                sdf = sdf.append({'qid': qid, 'subj':subj, 'nation':nation, 'lang':lang, 'metric':metric_name, 'val':float(metric_val)}, ignore_index=True)\n",
      "                        except:\n",
      "                            pass\n",
      "        subj_df_dict[ethnosavefile] = sdf\n",
      "        lens = map(lambda d: len(d), subj_df_dict.itervalues())\n",
      "        print lens\n",
      "    return subj_df_dict\n",
      "\n",
      "subj_df_dict = load_ethnosaves()\n",
      "subj_df = pd.concat(subj_df_dict)\n",
      "assert(len(subj_df) == reduce(lambda a, b: a+b, map(lambda df: len(df), subj_df_dict.itervalues())))\n",
      "\n",
      "subj_df = subj_df.convert_objects()\n"
     ],
     "language": "python",
     "metadata": {},
     "outputs": [
      {
       "output_type": "stream",
       "stream": "stdout",
       "text": [
        "economy cdi\n",
        "[0, 0, 0, 0, 0, 0, 0, 0, 0, 0, 0, 735]"
       ]
      },
      {
       "output_type": "stream",
       "stream": "stdout",
       "text": [
        "\n",
        "economy"
       ]
      },
      {
       "output_type": "stream",
       "stream": "stdout",
       "text": [
        " fra\n",
        "[0, 0, 0, 0, 0, 0, 0, 0, 0, 0, 14690, 735]"
       ]
      },
      {
       "output_type": "stream",
       "stream": "stdout",
       "text": [
        "\n",
        "economy uga\n",
        "[0, 0, 0, 495, 0, 0, 0, 0, 0, 0, 14690, 735]"
       ]
      },
      {
       "output_type": "stream",
       "stream": "stdout",
       "text": [
        "\n",
        "economy"
       ]
      },
      {
       "output_type": "stream",
       "stream": "stdout",
       "text": [
        " usa\n",
        "[0, 0, 0, 495, 0, 0, 0, 0, 0, 18550, 14690, 735]"
       ]
      },
      {
       "output_type": "stream",
       "stream": "stdout",
       "text": [
        "\n",
        "geography"
       ]
      },
      {
       "output_type": "stream",
       "stream": "stdout",
       "text": [
        " cdi\n",
        "[12495, 0, 0, 495, 0, 0, 0, 0, 0, 18550, 14690, 735]"
       ]
      },
      {
       "output_type": "stream",
       "stream": "stdout",
       "text": [
        "\n",
        "geography"
       ]
      },
      {
       "output_type": "stream",
       "stream": "stdout",
       "text": [
        " fra\n",
        "[12495, 0, 0, 495, 0, 26550, 0, 0, 0, 18550, 14690, 735]"
       ]
      },
      {
       "output_type": "stream",
       "stream": "stdout",
       "text": [
        "\n",
        "geography"
       ]
      },
      {
       "output_type": "stream",
       "stream": "stdout",
       "text": [
        " uga\n",
        "[12495, 0, 0, 495, 0, 26550, 0, 0, 5020, 18550, 14690, 735]"
       ]
      },
      {
       "output_type": "stream",
       "stream": "stdout",
       "text": [
        "\n",
        "geography"
       ]
      },
      {
       "output_type": "stream",
       "stream": "stdout",
       "text": [
        " usa\n",
        "[12495, 0, 43992, 495, 0, 26550, 0, 0, 5020, 18550, 14690, 735]"
       ]
      },
      {
       "output_type": "stream",
       "stream": "stdout",
       "text": [
        "\n",
        "history"
       ]
      },
      {
       "output_type": "stream",
       "stream": "stdout",
       "text": [
        " cdi\n",
        "[12495, 0, 43992, 495, 0, 26550, 995, 0, 5020, 18550, 14690, 735]"
       ]
      },
      {
       "output_type": "stream",
       "stream": "stdout",
       "text": [
        "\n",
        "history"
       ]
      },
      {
       "output_type": "stream",
       "stream": "stdout",
       "text": [
        " fra\n",
        "[12495, 0, 43992, 495, 0, 26550, 995, 22325, 5020, 18550, 14690, 735]"
       ]
      },
      {
       "output_type": "stream",
       "stream": "stdout",
       "text": [
        "\n",
        "history"
       ]
      },
      {
       "output_type": "stream",
       "stream": "stdout",
       "text": [
        " uga\n",
        "[12495, 0, 43992, 495, 2165, 26550, 995, 22325, 5020, 18550, 14690, 735]"
       ]
      },
      {
       "output_type": "stream",
       "stream": "stdout",
       "text": [
        "\n",
        "history"
       ]
      },
      {
       "output_type": "stream",
       "stream": "stdout",
       "text": [
        " usa\n",
        "[12495, 11340, 43992, 495, 2165, 26550, 995, 22325, 5020, 18550, 14690, 735]"
       ]
      },
      {
       "output_type": "stream",
       "stream": "stdout",
       "text": [
        "\n"
       ]
      }
     ],
     "prompt_number": 135
    },
    {
     "cell_type": "code",
     "collapsed": false,
     "input": [
      "means_df = pd.DataFrame(columns=['subj','nation','lang','metric','means'])\n",
      "\n",
      "for subj in ['geography','history','economy']:\n",
      "    for metric in ['completeness','informativeness','numheadings','articlelength','referencerate']:\n",
      "        for nation in ['usa','fra','cdi','uga']:\n",
      "            for lang in ['en','fr','sw']:\n",
      "                spec_df = subj_df[(subj_df.subj == subj) & (subj_df.nation == nation) & (subj_df.metric == metric) & (subj_df.lang == lang)]['val']\n",
      "                mean = spec_df.mean()\n",
      "                if (not str(mean)[0] in '0123456789'):\n",
      "                    mean = 0.0\n",
      "                if len(spec_df) <= 25:\n",
      "                    print len(spec_df), subj, metric, nation, lang\n",
      "                    mean = 0.0\n",
      "                means_df = means_df.append({'subj':subj, 'nation':nation, 'lang':lang, 'metric':metric, 'means':mean}, ignore_index=True)\n",
      "                \n",
      "means_df = means_df.convert_objects(convert_numeric=True)"
     ],
     "language": "python",
     "metadata": {},
     "outputs": [
      {
       "output_type": "stream",
       "stream": "stdout",
       "text": [
        "6 geography completeness fra sw\n",
        "6"
       ]
      },
      {
       "output_type": "stream",
       "stream": "stdout",
       "text": [
        " geography informativeness fra sw\n",
        "6"
       ]
      },
      {
       "output_type": "stream",
       "stream": "stdout",
       "text": [
        " geography numheadings fra sw\n",
        "6"
       ]
      },
      {
       "output_type": "stream",
       "stream": "stdout",
       "text": [
        " geography articlelength fra sw\n",
        "6"
       ]
      },
      {
       "output_type": "stream",
       "stream": "stdout",
       "text": [
        " geography referencerate fra sw\n",
        "8"
       ]
      },
      {
       "output_type": "stream",
       "stream": "stdout",
       "text": [
        " history completeness fra sw\n",
        "0"
       ]
      },
      {
       "output_type": "stream",
       "stream": "stdout",
       "text": [
        " history completeness cdi sw\n",
        "3"
       ]
      },
      {
       "output_type": "stream",
       "stream": "stdout",
       "text": [
        " history completeness uga sw\n",
        "8"
       ]
      },
      {
       "output_type": "stream",
       "stream": "stdout",
       "text": [
        " history informativeness fra sw\n",
        "0"
       ]
      },
      {
       "output_type": "stream",
       "stream": "stdout",
       "text": [
        " history informativeness cdi sw\n",
        "3"
       ]
      },
      {
       "output_type": "stream",
       "stream": "stdout",
       "text": [
        " history informativeness uga sw\n",
        "8"
       ]
      },
      {
       "output_type": "stream",
       "stream": "stdout",
       "text": [
        " history numheadings fra sw\n",
        "0"
       ]
      },
      {
       "output_type": "stream",
       "stream": "stdout",
       "text": [
        " history numheadings cdi sw\n",
        "3"
       ]
      },
      {
       "output_type": "stream",
       "stream": "stdout",
       "text": [
        " history numheadings uga sw\n",
        "8"
       ]
      },
      {
       "output_type": "stream",
       "stream": "stdout",
       "text": [
        " history articlelength fra sw\n",
        "0"
       ]
      },
      {
       "output_type": "stream",
       "stream": "stdout",
       "text": [
        " history articlelength cdi sw\n",
        "3"
       ]
      },
      {
       "output_type": "stream",
       "stream": "stdout",
       "text": [
        " history articlelength uga sw\n",
        "8"
       ]
      },
      {
       "output_type": "stream",
       "stream": "stdout",
       "text": [
        " history referencerate fra sw\n",
        "0"
       ]
      },
      {
       "output_type": "stream",
       "stream": "stdout",
       "text": [
        " history referencerate cdi sw\n",
        "3"
       ]
      },
      {
       "output_type": "stream",
       "stream": "stdout",
       "text": [
        " history referencerate uga sw\n",
        "10"
       ]
      },
      {
       "output_type": "stream",
       "stream": "stdout",
       "text": [
        " economy completeness usa sw\n",
        "5"
       ]
      },
      {
       "output_type": "stream",
       "stream": "stdout",
       "text": [
        " economy completeness fra sw\n",
        "1"
       ]
      },
      {
       "output_type": "stream",
       "stream": "stdout",
       "text": [
        " economy completeness cdi sw\n",
        "10"
       ]
      },
      {
       "output_type": "stream",
       "stream": "stdout",
       "text": [
        " economy completeness uga fr\n",
        "11"
       ]
      },
      {
       "output_type": "stream",
       "stream": "stdout",
       "text": [
        " economy completeness uga sw\n",
        "10"
       ]
      },
      {
       "output_type": "stream",
       "stream": "stdout",
       "text": [
        " economy informativeness usa sw\n",
        "5"
       ]
      },
      {
       "output_type": "stream",
       "stream": "stdout",
       "text": [
        " economy informativeness fra sw\n",
        "1"
       ]
      },
      {
       "output_type": "stream",
       "stream": "stdout",
       "text": [
        " economy informativeness cdi sw\n",
        "10"
       ]
      },
      {
       "output_type": "stream",
       "stream": "stdout",
       "text": [
        " economy informativeness uga fr\n",
        "11"
       ]
      },
      {
       "output_type": "stream",
       "stream": "stdout",
       "text": [
        " economy informativeness uga sw\n",
        "10"
       ]
      },
      {
       "output_type": "stream",
       "stream": "stdout",
       "text": [
        " economy numheadings usa sw\n",
        "5"
       ]
      },
      {
       "output_type": "stream",
       "stream": "stdout",
       "text": [
        " economy numheadings fra sw\n",
        "1"
       ]
      },
      {
       "output_type": "stream",
       "stream": "stdout",
       "text": [
        " economy numheadings cdi sw\n",
        "10"
       ]
      },
      {
       "output_type": "stream",
       "stream": "stdout",
       "text": [
        " economy numheadings uga fr\n",
        "11"
       ]
      },
      {
       "output_type": "stream",
       "stream": "stdout",
       "text": [
        " economy numheadings uga sw\n",
        "10"
       ]
      },
      {
       "output_type": "stream",
       "stream": "stdout",
       "text": [
        " economy articlelength usa sw\n",
        "5"
       ]
      },
      {
       "output_type": "stream",
       "stream": "stdout",
       "text": [
        " economy articlelength fra sw\n",
        "1"
       ]
      },
      {
       "output_type": "stream",
       "stream": "stdout",
       "text": [
        " economy articlelength cdi sw\n",
        "10"
       ]
      },
      {
       "output_type": "stream",
       "stream": "stdout",
       "text": [
        " economy articlelength uga fr\n",
        "11"
       ]
      },
      {
       "output_type": "stream",
       "stream": "stdout",
       "text": [
        " economy articlelength uga sw\n",
        "10"
       ]
      },
      {
       "output_type": "stream",
       "stream": "stdout",
       "text": [
        " economy referencerate usa sw\n",
        "5"
       ]
      },
      {
       "output_type": "stream",
       "stream": "stdout",
       "text": [
        " economy referencerate fra sw\n",
        "1"
       ]
      },
      {
       "output_type": "stream",
       "stream": "stdout",
       "text": [
        " economy referencerate cdi sw\n",
        "10"
       ]
      },
      {
       "output_type": "stream",
       "stream": "stdout",
       "text": [
        " economy referencerate uga fr\n",
        "11"
       ]
      },
      {
       "output_type": "stream",
       "stream": "stdout",
       "text": [
        " economy referencerate uga sw\n"
       ]
      }
     ],
     "prompt_number": 145
    },
    {
     "cell_type": "code",
     "collapsed": false,
     "input": [
      "def top_sections_ethnoset(ethnoset_filename):\n",
      "    print ethnoset_filename\n",
      "    \n",
      "    def defaultint():\n",
      "        return defaultdict(int)\n",
      "\n",
      "    section_count = defaultdict(defaultint)\n",
      "    sorted_secs = defaultdict(list)\n",
      "    total_articles = defaultdict(int)\n",
      "    \n",
      "    articles = json.load(open(ethnoset_filename,'r'))\n",
      "    \n",
      "    for qid, attribdict in articles.iteritems():\n",
      "        for attribname, langdict in attribdict.iteritems():\n",
      "            if attribname == 'wikitext':\n",
      "                for lang, wikitext in langdict.iteritems(): \n",
      "                    if wikitext:\n",
      "                        total_articles[lang] += 1\n",
      "                        wikicode = pfh.parse(wikitext)\n",
      "                        secs = section_headings(wikicode)\n",
      "                        for sec in secs:\n",
      "                            sec = sec.strip()\n",
      "                            section_count[lang][sec] += 1\n",
      "                        \n",
      "    section_df = pd.DataFrame(columns=['lang','secname','freq'])\n",
      "    for lang, sec_dict in section_count.iteritems():\n",
      "        for secname, seccount in sec_dict.iteritems():\n",
      "            freq = seccount/float(total_articles[lang])\n",
      "            section_df = section_df.append({'lang':lang, 'secname':secname, 'freq':freq}, ignore_index=True)\n",
      "            \n",
      "    #section_df = section_df.convert_objects(convert_numeric=True)\n",
      "    section_df.head()\n",
      "    top_secs = section_df[section_df.freq > 0.1]\n",
      "    \n",
      "    sort_secs= top_secs.sort(columns='freq', ascending=False)\n",
      "    return sort_secs"
     ],
     "language": "python",
     "metadata": {},
     "outputs": [],
     "prompt_number": 131
    },
    {
     "cell_type": "code",
     "collapsed": false,
     "input": [
      "def top_templates_ethnoset(ethnoset_filename):\n",
      "    \n",
      "    def defaultint():\n",
      "        return defaultdict(int)\n",
      "\n",
      "    template_count = defaultdict(defaultint)\n",
      "    sorted_templates = defaultdict(list)\n",
      "    total_articles = defaultdict(int)\n",
      "    \n",
      "    articles = json.load(open(ethnoset_filename,'r'))\n",
      "    \n",
      "    for qid, attribdict in articles.iteritems():\n",
      "        for attribname, langdict in attribdict.iteritems():\n",
      "            if attribname == 'wikitext':\n",
      "                for lang, wikitext in langdict.iteritems(): \n",
      "                    if wikitext:\n",
      "                        total_articles[lang] += 1\n",
      "                        wikicode = pfh.parse(wikitext)\n",
      "                        temps = wikicode.filter_templates()\n",
      "                        for temp in temps:\n",
      "                            tempname = temp.name\n",
      "                            tempname = tempname.strip().lower()\n",
      "                            template_count[lang][tempname] += 1\n",
      "                        \n",
      "    temp_df = pd.DataFrame(columns=['lang','tempname','freq'])\n",
      "    for lang, temp_dict in template_count.iteritems():\n",
      "        for tempname, tempcount in temp_dict.iteritems():\n",
      "            freq = tempcount/float(total_articles[lang])\n",
      "            temp_df = temp_df.append({'lang':lang, 'tempname':tempname, 'freq':freq}, ignore_index=True)\n",
      "            \n",
      "    #section_df = section_df.convert_objects(convert_numeric=True)\n",
      "    top_templates = temp_df[temp_df.freq > 0.1]\n",
      "    \n",
      "    sort_temps= top_templates.sort(columns='freq', ascending=False)\n",
      "    temps_dict = dict()\n",
      "    for lang in template_count.iterkeys():\n",
      "        try:\n",
      "            temps_dict[lang] = sort_temps[sort_temps.lang==lang].iloc[:20].convert_objects(convert_numeric=True)\n",
      "        except:\n",
      "            temps_dict[lang] = sort_temps[sort_temps.lang==lang].convert_objects(convert_numeric=True)\n",
      "\n",
      "    return temps_dict"
     ],
     "language": "python",
     "metadata": {},
     "outputs": [],
     "prompt_number": 132
    },
    {
     "cell_type": "code",
     "collapsed": false,
     "input": [
      "ethnosaves = !ls ethnosave\n",
      "filenames = map(lambda name: 'ethnosave/'+name, ethnosaves)\n",
      "sort_dfs = map(top_sections_ethnoset, filenames)"
     ],
     "language": "python",
     "metadata": {},
     "outputs": [
      {
       "output_type": "stream",
       "stream": "stdout",
       "text": [
        "ethnosave/economy-cdi.jsonlatest.json\n",
        "ethnosave/economy-fra.jsonlatest.json"
       ]
      },
      {
       "output_type": "stream",
       "stream": "stdout",
       "text": [
        "\n",
        "ethnosave/economy-uga.jsonlatest.json"
       ]
      },
      {
       "output_type": "stream",
       "stream": "stdout",
       "text": [
        "\n",
        "ethnosave/economy-usa.jsonlatest.json"
       ]
      },
      {
       "output_type": "stream",
       "stream": "stdout",
       "text": [
        "\n",
        "ethnosave/geography-cdi.jsonlatest.json"
       ]
      },
      {
       "output_type": "stream",
       "stream": "stdout",
       "text": [
        "\n",
        "ethnosave/geography-fra.jsonlatest.json"
       ]
      },
      {
       "output_type": "stream",
       "stream": "stdout",
       "text": [
        "\n",
        "ethnosave/geography-uga.jsonlatest.json"
       ]
      },
      {
       "output_type": "stream",
       "stream": "stdout",
       "text": [
        "\n",
        "ethnosave/geography-usa.jsonlatest.json"
       ]
      },
      {
       "ename": "KeyboardInterrupt",
       "evalue": "",
       "output_type": "pyerr",
       "traceback": [
        "\u001b[1;31m---------------------------------------------------------------------------\u001b[0m\n\u001b[1;31mKeyboardInterrupt\u001b[0m                         Traceback (most recent call last)",
        "\u001b[1;32m<ipython-input-133-de4bd2af5640>\u001b[0m in \u001b[0;36m<module>\u001b[1;34m()\u001b[0m\n\u001b[0;32m      1\u001b[0m \u001b[0methnosaves\u001b[0m \u001b[1;33m=\u001b[0m \u001b[0mget_ipython\u001b[0m\u001b[1;33m(\u001b[0m\u001b[1;33m)\u001b[0m\u001b[1;33m.\u001b[0m\u001b[0mgetoutput\u001b[0m\u001b[1;33m(\u001b[0m\u001b[1;34mu'ls ethnosave'\u001b[0m\u001b[1;33m)\u001b[0m\u001b[1;33m\u001b[0m\u001b[0m\n\u001b[0;32m      2\u001b[0m \u001b[0mfilenames\u001b[0m \u001b[1;33m=\u001b[0m \u001b[0mmap\u001b[0m\u001b[1;33m(\u001b[0m\u001b[1;32mlambda\u001b[0m \u001b[0mname\u001b[0m\u001b[1;33m:\u001b[0m \u001b[1;34m'ethnosave/'\u001b[0m\u001b[1;33m+\u001b[0m\u001b[0mname\u001b[0m\u001b[1;33m,\u001b[0m \u001b[0methnosaves\u001b[0m\u001b[1;33m)\u001b[0m\u001b[1;33m\u001b[0m\u001b[0m\n\u001b[1;32m----> 3\u001b[1;33m \u001b[0msort_dfs\u001b[0m \u001b[1;33m=\u001b[0m \u001b[0mmap\u001b[0m\u001b[1;33m(\u001b[0m\u001b[0mtop_sections_ethnoset\u001b[0m\u001b[1;33m,\u001b[0m \u001b[0mfilenames\u001b[0m\u001b[1;33m)\u001b[0m\u001b[1;33m\u001b[0m\u001b[0m\n\u001b[0m",
        "\u001b[1;32m<ipython-input-131-425bf6eb8083>\u001b[0m in \u001b[0;36mtop_sections_ethnoset\u001b[1;34m(ethnoset_filename)\u001b[0m\n\u001b[0;32m     18\u001b[0m                         \u001b[0mtotal_articles\u001b[0m\u001b[1;33m[\u001b[0m\u001b[0mlang\u001b[0m\u001b[1;33m]\u001b[0m \u001b[1;33m+=\u001b[0m \u001b[1;36m1\u001b[0m\u001b[1;33m\u001b[0m\u001b[0m\n\u001b[0;32m     19\u001b[0m                         \u001b[0mwikicode\u001b[0m \u001b[1;33m=\u001b[0m \u001b[0mpfh\u001b[0m\u001b[1;33m.\u001b[0m\u001b[0mparse\u001b[0m\u001b[1;33m(\u001b[0m\u001b[0mwikitext\u001b[0m\u001b[1;33m)\u001b[0m\u001b[1;33m\u001b[0m\u001b[0m\n\u001b[1;32m---> 20\u001b[1;33m                         \u001b[0msecs\u001b[0m \u001b[1;33m=\u001b[0m \u001b[0msection_headings\u001b[0m\u001b[1;33m(\u001b[0m\u001b[0mwikicode\u001b[0m\u001b[1;33m)\u001b[0m\u001b[1;33m\u001b[0m\u001b[0m\n\u001b[0m\u001b[0;32m     21\u001b[0m                         \u001b[1;32mfor\u001b[0m \u001b[0msec\u001b[0m \u001b[1;32min\u001b[0m \u001b[0msecs\u001b[0m\u001b[1;33m:\u001b[0m\u001b[1;33m\u001b[0m\u001b[0m\n\u001b[0;32m     22\u001b[0m                             \u001b[0msec\u001b[0m \u001b[1;33m=\u001b[0m \u001b[0msec\u001b[0m\u001b[1;33m.\u001b[0m\u001b[0mstrip\u001b[0m\u001b[1;33m(\u001b[0m\u001b[1;33m)\u001b[0m\u001b[1;33m\u001b[0m\u001b[0m\n",
        "\u001b[1;32m<ipython-input-111-0dcd6d17fb0e>\u001b[0m in \u001b[0;36msection_headings\u001b[1;34m(wikicode)\u001b[0m\n\u001b[0;32m     13\u001b[0m \u001b[1;33m\u001b[0m\u001b[0m\n\u001b[0;32m     14\u001b[0m \u001b[1;32mdef\u001b[0m \u001b[0msection_headings\u001b[0m\u001b[1;33m(\u001b[0m\u001b[0mwikicode\u001b[0m\u001b[1;33m)\u001b[0m\u001b[1;33m:\u001b[0m\u001b[1;33m\u001b[0m\u001b[0m\n\u001b[1;32m---> 15\u001b[1;33m     \u001b[0msections\u001b[0m \u001b[1;33m=\u001b[0m \u001b[0mwikicode\u001b[0m\u001b[1;33m.\u001b[0m\u001b[0mget_sections\u001b[0m\u001b[1;33m(\u001b[0m\u001b[1;33m)\u001b[0m\u001b[1;33m\u001b[0m\u001b[0m\n\u001b[0m\u001b[0;32m     16\u001b[0m     \u001b[0msec_headings\u001b[0m \u001b[1;33m=\u001b[0m \u001b[0mmap\u001b[0m\u001b[1;33m(\u001b[0m \u001b[1;32mlambda\u001b[0m \u001b[0ms\u001b[0m\u001b[1;33m:\u001b[0m \u001b[0mfilter\u001b[0m\u001b[1;33m(\u001b[0m \u001b[1;32mlambda\u001b[0m \u001b[0ml\u001b[0m\u001b[1;33m:\u001b[0m \u001b[0ml\u001b[0m \u001b[1;33m!=\u001b[0m \u001b[1;34m'='\u001b[0m\u001b[1;33m,\u001b[0m \u001b[0ms\u001b[0m\u001b[1;33m)\u001b[0m\u001b[1;33m,\u001b[0m \u001b[0mmap\u001b[0m\u001b[1;33m(\u001b[0m\u001b[1;32mlambda\u001b[0m \u001b[0ma\u001b[0m\u001b[1;33m:\u001b[0m \u001b[0ma\u001b[0m\u001b[1;33m.\u001b[0m\u001b[0msplit\u001b[0m\u001b[1;33m(\u001b[0m\u001b[0msep\u001b[0m\u001b[1;33m=\u001b[0m\u001b[1;34m'\\n'\u001b[0m\u001b[1;33m,\u001b[0m \u001b[0mmaxsplit\u001b[0m\u001b[1;33m=\u001b[0m\u001b[1;36m1\u001b[0m\u001b[1;33m)\u001b[0m\u001b[1;33m[\u001b[0m\u001b[1;36m0\u001b[0m\u001b[1;33m]\u001b[0m\u001b[1;33m,\u001b[0m \u001b[0msections\u001b[0m\u001b[1;33m)\u001b[0m\u001b[1;33m)\u001b[0m\u001b[1;33m\u001b[0m\u001b[0m\n\u001b[0;32m     17\u001b[0m     \u001b[1;32mreturn\u001b[0m \u001b[0msec_headings\u001b[0m\u001b[1;33m\u001b[0m\u001b[0m\n",
        "\u001b[1;32m/usr/local/lib/python2.7/dist-packages/mwparserfromhell/wikicode.pyc\u001b[0m in \u001b[0;36mget_sections\u001b[1;34m(self, levels, matches, flags, include_lead, include_headings)\u001b[0m\n\u001b[0;32m    425\u001b[0m         \u001b[1;32mif\u001b[0m \u001b[0mmatches\u001b[0m\u001b[1;33m:\u001b[0m\u001b[1;33m\u001b[0m\u001b[0m\n\u001b[0;32m    426\u001b[0m             \u001b[0mmatches\u001b[0m \u001b[1;33m=\u001b[0m \u001b[1;34mr\"^(=+?)\\s*\"\u001b[0m \u001b[1;33m+\u001b[0m \u001b[0mmatches\u001b[0m \u001b[1;33m+\u001b[0m \u001b[1;34mr\"\\s*\\1$\"\u001b[0m\u001b[1;33m\u001b[0m\u001b[0m\n\u001b[1;32m--> 427\u001b[1;33m         \u001b[0mheadings\u001b[0m \u001b[1;33m=\u001b[0m \u001b[0mself\u001b[0m\u001b[1;33m.\u001b[0m\u001b[0mfilter_headings\u001b[0m\u001b[1;33m(\u001b[0m\u001b[1;33m)\u001b[0m\u001b[1;33m\u001b[0m\u001b[0m\n\u001b[0m\u001b[0;32m    428\u001b[0m         \u001b[0mfiltered\u001b[0m \u001b[1;33m=\u001b[0m \u001b[0mself\u001b[0m\u001b[1;33m.\u001b[0m\u001b[0mfilter_headings\u001b[0m\u001b[1;33m(\u001b[0m\u001b[0mmatches\u001b[0m\u001b[1;33m=\u001b[0m\u001b[0mmatches\u001b[0m\u001b[1;33m,\u001b[0m \u001b[0mflags\u001b[0m\u001b[1;33m=\u001b[0m\u001b[0mflags\u001b[0m\u001b[1;33m)\u001b[0m\u001b[1;33m\u001b[0m\u001b[0m\n\u001b[0;32m    429\u001b[0m         \u001b[1;32mif\u001b[0m \u001b[0mlevels\u001b[0m\u001b[1;33m:\u001b[0m\u001b[1;33m\u001b[0m\u001b[0m\n",
        "\u001b[1;32m/usr/local/lib/python2.7/dist-packages/mwparserfromhell/wikicode.pyc\u001b[0m in \u001b[0;36m<lambda>\u001b[1;34m(self, **kw)\u001b[0m\n\u001b[0;32m    191\u001b[0m                                       self.ifilter(forcetype=ftype, **kw))\n\u001b[0;32m    192\u001b[0m         make_filter = lambda ftype: (lambda self, **kw:\n\u001b[1;32m--> 193\u001b[1;33m                                      self.filter(forcetype=ftype, **kw))\n\u001b[0m\u001b[0;32m    194\u001b[0m         \u001b[1;32mfor\u001b[0m \u001b[0mname\u001b[0m\u001b[1;33m,\u001b[0m \u001b[0mftype\u001b[0m \u001b[1;32min\u001b[0m \u001b[1;33m(\u001b[0m\u001b[0mmeths\u001b[0m\u001b[1;33m.\u001b[0m\u001b[0mitems\u001b[0m\u001b[1;33m(\u001b[0m\u001b[1;33m)\u001b[0m \u001b[1;32mif\u001b[0m \u001b[0mpy3k\u001b[0m \u001b[1;32melse\u001b[0m \u001b[0mmeths\u001b[0m\u001b[1;33m.\u001b[0m\u001b[0miteritems\u001b[0m\u001b[1;33m(\u001b[0m\u001b[1;33m)\u001b[0m\u001b[1;33m)\u001b[0m\u001b[1;33m:\u001b[0m\u001b[1;33m\u001b[0m\u001b[0m\n\u001b[0;32m    195\u001b[0m             \u001b[0mifilter\u001b[0m \u001b[1;33m=\u001b[0m \u001b[0mmake_ifilter\u001b[0m\u001b[1;33m(\u001b[0m\u001b[0mftype\u001b[0m\u001b[1;33m)\u001b[0m\u001b[1;33m\u001b[0m\u001b[0m\n",
        "\u001b[1;32m/usr/local/lib/python2.7/dist-packages/mwparserfromhell/wikicode.pyc\u001b[0m in \u001b[0;36mfilter\u001b[1;34m(self, recursive, matches, flags, forcetype)\u001b[0m\n\u001b[0;32m    398\u001b[0m         \u001b[0mThis\u001b[0m \u001b[1;32mis\u001b[0m \u001b[0mequivalent\u001b[0m \u001b[0mto\u001b[0m \u001b[0mcalling\u001b[0m \u001b[1;33m:\u001b[0m\u001b[0mpy\u001b[0m\u001b[1;33m:\u001b[0m\u001b[0mfunc\u001b[0m\u001b[1;33m:\u001b[0m\u001b[1;33m`\u001b[0m\u001b[0mlist\u001b[0m\u001b[1;33m`\u001b[0m \u001b[0mon\u001b[0m \u001b[1;33m:\u001b[0m\u001b[0mpy\u001b[0m\u001b[1;33m:\u001b[0m\u001b[0mmeth\u001b[0m\u001b[1;33m:\u001b[0m\u001b[1;33m`\u001b[0m\u001b[0mifilter\u001b[0m\u001b[1;33m`\u001b[0m\u001b[1;33m.\u001b[0m\u001b[1;33m\u001b[0m\u001b[0m\n\u001b[0;32m    399\u001b[0m         \"\"\"\n\u001b[1;32m--> 400\u001b[1;33m         \u001b[1;32mreturn\u001b[0m \u001b[0mlist\u001b[0m\u001b[1;33m(\u001b[0m\u001b[0mself\u001b[0m\u001b[1;33m.\u001b[0m\u001b[0mifilter\u001b[0m\u001b[1;33m(\u001b[0m\u001b[0mrecursive\u001b[0m\u001b[1;33m,\u001b[0m \u001b[0mmatches\u001b[0m\u001b[1;33m,\u001b[0m \u001b[0mflags\u001b[0m\u001b[1;33m,\u001b[0m \u001b[0mforcetype\u001b[0m\u001b[1;33m)\u001b[0m\u001b[1;33m)\u001b[0m\u001b[1;33m\u001b[0m\u001b[0m\n\u001b[0m\u001b[0;32m    401\u001b[0m \u001b[1;33m\u001b[0m\u001b[0m\n\u001b[0;32m    402\u001b[0m     def get_sections(self, levels=None, matches=None, flags=FLAGS,\n",
        "\u001b[1;32m/usr/local/lib/python2.7/dist-packages/mwparserfromhell/wikicode.pyc\u001b[0m in \u001b[0;36mifilter\u001b[1;34m(self, recursive, matches, flags, forcetype)\u001b[0m\n\u001b[0;32m    387\u001b[0m         \u001b[0mtype\u001b[0m \u001b[0mare\u001b[0m \u001b[0myielded\u001b[0m\u001b[1;33m.\u001b[0m\u001b[1;33m\u001b[0m\u001b[0m\n\u001b[0;32m    388\u001b[0m         \"\"\"\n\u001b[1;32m--> 389\u001b[1;33m         \u001b[1;32mfor\u001b[0m \u001b[0mnode\u001b[0m \u001b[1;32min\u001b[0m \u001b[1;33m(\u001b[0m\u001b[0mself\u001b[0m\u001b[1;33m.\u001b[0m\u001b[0m_get_all_nodes\u001b[0m\u001b[1;33m(\u001b[0m\u001b[0mself\u001b[0m\u001b[1;33m)\u001b[0m \u001b[1;32mif\u001b[0m \u001b[0mrecursive\u001b[0m \u001b[1;32melse\u001b[0m \u001b[0mself\u001b[0m\u001b[1;33m.\u001b[0m\u001b[0mnodes\u001b[0m\u001b[1;33m)\u001b[0m\u001b[1;33m:\u001b[0m\u001b[1;33m\u001b[0m\u001b[0m\n\u001b[0m\u001b[0;32m    390\u001b[0m             \u001b[1;32mif\u001b[0m \u001b[1;32mnot\u001b[0m \u001b[0mforcetype\u001b[0m \u001b[1;32mor\u001b[0m \u001b[0misinstance\u001b[0m\u001b[1;33m(\u001b[0m\u001b[0mnode\u001b[0m\u001b[1;33m,\u001b[0m \u001b[0mforcetype\u001b[0m\u001b[1;33m)\u001b[0m\u001b[1;33m:\u001b[0m\u001b[1;33m\u001b[0m\u001b[0m\n\u001b[0;32m    391\u001b[0m                 \u001b[1;32mif\u001b[0m \u001b[1;32mnot\u001b[0m \u001b[0mmatches\u001b[0m \u001b[1;32mor\u001b[0m \u001b[0mre\u001b[0m\u001b[1;33m.\u001b[0m\u001b[0msearch\u001b[0m\u001b[1;33m(\u001b[0m\u001b[0mmatches\u001b[0m\u001b[1;33m,\u001b[0m \u001b[0mstr\u001b[0m\u001b[1;33m(\u001b[0m\u001b[0mnode\u001b[0m\u001b[1;33m)\u001b[0m\u001b[1;33m,\u001b[0m \u001b[0mflags\u001b[0m\u001b[1;33m)\u001b[0m\u001b[1;33m:\u001b[0m\u001b[1;33m\u001b[0m\u001b[0m\n",
        "\u001b[1;32m/usr/local/lib/python2.7/dist-packages/mwparserfromhell/wikicode.pyc\u001b[0m in \u001b[0;36m_get_all_nodes\u001b[1;34m(self, code)\u001b[0m\n\u001b[0;32m     68\u001b[0m         \"\"\"\n\u001b[0;32m     69\u001b[0m         \u001b[1;32mfor\u001b[0m \u001b[0mnode\u001b[0m \u001b[1;32min\u001b[0m \u001b[0mcode\u001b[0m\u001b[1;33m.\u001b[0m\u001b[0mnodes\u001b[0m\u001b[1;33m:\u001b[0m\u001b[1;33m\u001b[0m\u001b[0m\n\u001b[1;32m---> 70\u001b[1;33m             \u001b[1;32mfor\u001b[0m \u001b[0mchild\u001b[0m \u001b[1;32min\u001b[0m \u001b[0mself\u001b[0m\u001b[1;33m.\u001b[0m\u001b[0m_get_children\u001b[0m\u001b[1;33m(\u001b[0m\u001b[0mnode\u001b[0m\u001b[1;33m)\u001b[0m\u001b[1;33m:\u001b[0m\u001b[1;33m\u001b[0m\u001b[0m\n\u001b[0m\u001b[0;32m     71\u001b[0m                 \u001b[1;32myield\u001b[0m \u001b[0mchild\u001b[0m\u001b[1;33m\u001b[0m\u001b[0m\n\u001b[0;32m     72\u001b[0m \u001b[1;33m\u001b[0m\u001b[0m\n",
        "\u001b[1;32m/usr/local/lib/python2.7/dist-packages/mwparserfromhell/wikicode.pyc\u001b[0m in \u001b[0;36m_get_children\u001b[1;34m(self, node)\u001b[0m\n\u001b[0;32m     58\u001b[0m         \u001b[0mclasses\u001b[0m\u001b[1;33m,\u001b[0m \u001b[0mwhich\u001b[0m \u001b[0mby\u001b[0m \u001b[0mdefault\u001b[0m \u001b[0myields\u001b[0m \u001b[0mitself\u001b[0m \u001b[1;32mand\u001b[0m \u001b[0mnothing\u001b[0m \u001b[0mmore\u001b[0m\u001b[1;33m.\u001b[0m\u001b[1;33m\u001b[0m\u001b[0m\n\u001b[0;32m     59\u001b[0m         \"\"\"\n\u001b[1;32m---> 60\u001b[1;33m         \u001b[1;32mfor\u001b[0m \u001b[0mcontext\u001b[0m\u001b[1;33m,\u001b[0m \u001b[0mchild\u001b[0m \u001b[1;32min\u001b[0m \u001b[0mnode\u001b[0m\u001b[1;33m.\u001b[0m\u001b[0m__iternodes__\u001b[0m\u001b[1;33m(\u001b[0m\u001b[0mself\u001b[0m\u001b[1;33m.\u001b[0m\u001b[0m_get_all_nodes\u001b[0m\u001b[1;33m)\u001b[0m\u001b[1;33m:\u001b[0m\u001b[1;33m\u001b[0m\u001b[0m\n\u001b[0m\u001b[0;32m     61\u001b[0m             \u001b[1;32myield\u001b[0m \u001b[0mchild\u001b[0m\u001b[1;33m\u001b[0m\u001b[0m\n\u001b[0;32m     62\u001b[0m \u001b[1;33m\u001b[0m\u001b[0m\n",
        "\u001b[1;32m/usr/local/lib/python2.7/dist-packages/mwparserfromhell/nodes/tag.pyc\u001b[0m in \u001b[0;36m__iternodes__\u001b[1;34m(self, getter)\u001b[0m\n\u001b[0;32m     82\u001b[0m                     \u001b[1;32mfor\u001b[0m \u001b[0mchild\u001b[0m \u001b[1;32min\u001b[0m \u001b[0mgetter\u001b[0m\u001b[1;33m(\u001b[0m\u001b[0mattr\u001b[0m\u001b[1;33m.\u001b[0m\u001b[0mvalue\u001b[0m\u001b[1;33m)\u001b[0m\u001b[1;33m:\u001b[0m\u001b[1;33m\u001b[0m\u001b[0m\n\u001b[0;32m     83\u001b[0m                         \u001b[1;32myield\u001b[0m \u001b[0mattr\u001b[0m\u001b[1;33m.\u001b[0m\u001b[0mvalue\u001b[0m\u001b[1;33m,\u001b[0m \u001b[0mchild\u001b[0m\u001b[1;33m\u001b[0m\u001b[0m\n\u001b[1;32m---> 84\u001b[1;33m         \u001b[1;32mif\u001b[0m \u001b[0mself\u001b[0m\u001b[1;33m.\u001b[0m\u001b[0mcontents\u001b[0m\u001b[1;33m:\u001b[0m\u001b[1;33m\u001b[0m\u001b[0m\n\u001b[0m\u001b[0;32m     85\u001b[0m             \u001b[1;32mfor\u001b[0m \u001b[0mchild\u001b[0m \u001b[1;32min\u001b[0m \u001b[0mgetter\u001b[0m\u001b[1;33m(\u001b[0m\u001b[0mself\u001b[0m\u001b[1;33m.\u001b[0m\u001b[0mcontents\u001b[0m\u001b[1;33m)\u001b[0m\u001b[1;33m:\u001b[0m\u001b[1;33m\u001b[0m\u001b[0m\n\u001b[0;32m     86\u001b[0m                 \u001b[1;32myield\u001b[0m \u001b[0mself\u001b[0m\u001b[1;33m.\u001b[0m\u001b[0mcontents\u001b[0m\u001b[1;33m,\u001b[0m \u001b[0mchild\u001b[0m\u001b[1;33m\u001b[0m\u001b[0m\n",
        "\u001b[1;32m/usr/local/lib/python2.7/dist-packages/mwparserfromhell/string_mixin.pyc\u001b[0m in \u001b[0;36m__nonzero__\u001b[1;34m(self)\u001b[0m\n\u001b[0;32m    102\u001b[0m     \u001b[1;32melse\u001b[0m\u001b[1;33m:\u001b[0m\u001b[1;33m\u001b[0m\u001b[0m\n\u001b[0;32m    103\u001b[0m         \u001b[1;32mdef\u001b[0m \u001b[0m__nonzero__\u001b[0m\u001b[1;33m(\u001b[0m\u001b[0mself\u001b[0m\u001b[1;33m)\u001b[0m\u001b[1;33m:\u001b[0m\u001b[1;33m\u001b[0m\u001b[0m\n\u001b[1;32m--> 104\u001b[1;33m             \u001b[1;32mreturn\u001b[0m \u001b[0mbool\u001b[0m\u001b[1;33m(\u001b[0m\u001b[0mself\u001b[0m\u001b[1;33m.\u001b[0m\u001b[0m__unicode__\u001b[0m\u001b[1;33m(\u001b[0m\u001b[1;33m)\u001b[0m\u001b[1;33m)\u001b[0m\u001b[1;33m\u001b[0m\u001b[0m\n\u001b[0m\u001b[0;32m    105\u001b[0m \u001b[1;33m\u001b[0m\u001b[0m\n\u001b[0;32m    106\u001b[0m     \u001b[1;32mdef\u001b[0m \u001b[0m__len__\u001b[0m\u001b[1;33m(\u001b[0m\u001b[0mself\u001b[0m\u001b[1;33m)\u001b[0m\u001b[1;33m:\u001b[0m\u001b[1;33m\u001b[0m\u001b[0m\n",
        "\u001b[1;32m/usr/local/lib/python2.7/dist-packages/mwparserfromhell/wikicode.pyc\u001b[0m in \u001b[0;36m__unicode__\u001b[1;34m(self)\u001b[0m\n\u001b[0;32m     50\u001b[0m \u001b[1;33m\u001b[0m\u001b[0m\n\u001b[0;32m     51\u001b[0m     \u001b[1;32mdef\u001b[0m \u001b[0m__unicode__\u001b[0m\u001b[1;33m(\u001b[0m\u001b[0mself\u001b[0m\u001b[1;33m)\u001b[0m\u001b[1;33m:\u001b[0m\u001b[1;33m\u001b[0m\u001b[0m\n\u001b[1;32m---> 52\u001b[1;33m         \u001b[1;32mreturn\u001b[0m \u001b[1;34m\"\"\u001b[0m\u001b[1;33m.\u001b[0m\u001b[0mjoin\u001b[0m\u001b[1;33m(\u001b[0m\u001b[1;33m[\u001b[0m\u001b[0mstr\u001b[0m\u001b[1;33m(\u001b[0m\u001b[0mnode\u001b[0m\u001b[1;33m)\u001b[0m \u001b[1;32mfor\u001b[0m \u001b[0mnode\u001b[0m \u001b[1;32min\u001b[0m \u001b[0mself\u001b[0m\u001b[1;33m.\u001b[0m\u001b[0mnodes\u001b[0m\u001b[1;33m]\u001b[0m\u001b[1;33m)\u001b[0m\u001b[1;33m\u001b[0m\u001b[0m\n\u001b[0m\u001b[0;32m     53\u001b[0m \u001b[1;33m\u001b[0m\u001b[0m\n\u001b[0;32m     54\u001b[0m     \u001b[1;32mdef\u001b[0m \u001b[0m_get_children\u001b[0m\u001b[1;33m(\u001b[0m\u001b[0mself\u001b[0m\u001b[1;33m,\u001b[0m \u001b[0mnode\u001b[0m\u001b[1;33m)\u001b[0m\u001b[1;33m:\u001b[0m\u001b[1;33m\u001b[0m\u001b[0m\n",
        "\u001b[1;32m/usr/local/lib/python2.7/dist-packages/mwparserfromhell/nodes/template.pyc\u001b[0m in \u001b[0;36m__unicode__\u001b[1;34m(self)\u001b[0m\n\u001b[0;32m     47\u001b[0m     \u001b[1;32mdef\u001b[0m \u001b[0m__unicode__\u001b[0m\u001b[1;33m(\u001b[0m\u001b[0mself\u001b[0m\u001b[1;33m)\u001b[0m\u001b[1;33m:\u001b[0m\u001b[1;33m\u001b[0m\u001b[0m\n\u001b[0;32m     48\u001b[0m         \u001b[1;32mif\u001b[0m \u001b[0mself\u001b[0m\u001b[1;33m.\u001b[0m\u001b[0mparams\u001b[0m\u001b[1;33m:\u001b[0m\u001b[1;33m\u001b[0m\u001b[0m\n\u001b[1;32m---> 49\u001b[1;33m             \u001b[0mparams\u001b[0m \u001b[1;33m=\u001b[0m \u001b[1;34m\"|\"\u001b[0m\u001b[1;33m.\u001b[0m\u001b[0mjoin\u001b[0m\u001b[1;33m(\u001b[0m\u001b[1;33m[\u001b[0m\u001b[0mstr\u001b[0m\u001b[1;33m(\u001b[0m\u001b[0mparam\u001b[0m\u001b[1;33m)\u001b[0m \u001b[1;32mfor\u001b[0m \u001b[0mparam\u001b[0m \u001b[1;32min\u001b[0m \u001b[0mself\u001b[0m\u001b[1;33m.\u001b[0m\u001b[0mparams\u001b[0m\u001b[1;33m]\u001b[0m\u001b[1;33m)\u001b[0m\u001b[1;33m\u001b[0m\u001b[0m\n\u001b[0m\u001b[0;32m     50\u001b[0m             \u001b[1;32mreturn\u001b[0m \u001b[1;34m\"{{\"\u001b[0m \u001b[1;33m+\u001b[0m \u001b[0mstr\u001b[0m\u001b[1;33m(\u001b[0m\u001b[0mself\u001b[0m\u001b[1;33m.\u001b[0m\u001b[0mname\u001b[0m\u001b[1;33m)\u001b[0m \u001b[1;33m+\u001b[0m \u001b[1;34m\"|\"\u001b[0m \u001b[1;33m+\u001b[0m \u001b[0mparams\u001b[0m \u001b[1;33m+\u001b[0m \u001b[1;34m\"}}\"\u001b[0m\u001b[1;33m\u001b[0m\u001b[0m\n\u001b[0;32m     51\u001b[0m         \u001b[1;32melse\u001b[0m\u001b[1;33m:\u001b[0m\u001b[1;33m\u001b[0m\u001b[0m\n",
        "\u001b[1;32m/usr/local/lib/python2.7/dist-packages/mwparserfromhell/nodes/extras/parameter.pyc\u001b[0m in \u001b[0;36m__unicode__\u001b[1;34m(self)\u001b[0m\n\u001b[0;32m     46\u001b[0m     \u001b[1;32mdef\u001b[0m \u001b[0m__unicode__\u001b[0m\u001b[1;33m(\u001b[0m\u001b[0mself\u001b[0m\u001b[1;33m)\u001b[0m\u001b[1;33m:\u001b[0m\u001b[1;33m\u001b[0m\u001b[0m\n\u001b[0;32m     47\u001b[0m         \u001b[1;32mif\u001b[0m \u001b[0mself\u001b[0m\u001b[1;33m.\u001b[0m\u001b[0mshowkey\u001b[0m\u001b[1;33m:\u001b[0m\u001b[1;33m\u001b[0m\u001b[0m\n\u001b[1;32m---> 48\u001b[1;33m             \u001b[1;32mreturn\u001b[0m \u001b[0mstr\u001b[0m\u001b[1;33m(\u001b[0m\u001b[0mself\u001b[0m\u001b[1;33m.\u001b[0m\u001b[0mname\u001b[0m\u001b[1;33m)\u001b[0m \u001b[1;33m+\u001b[0m \u001b[1;34m\"=\"\u001b[0m \u001b[1;33m+\u001b[0m \u001b[0mstr\u001b[0m\u001b[1;33m(\u001b[0m\u001b[0mself\u001b[0m\u001b[1;33m.\u001b[0m\u001b[0mvalue\u001b[0m\u001b[1;33m)\u001b[0m\u001b[1;33m\u001b[0m\u001b[0m\n\u001b[0m\u001b[0;32m     49\u001b[0m         \u001b[1;32mreturn\u001b[0m \u001b[0mstr\u001b[0m\u001b[1;33m(\u001b[0m\u001b[0mself\u001b[0m\u001b[1;33m.\u001b[0m\u001b[0mvalue\u001b[0m\u001b[1;33m)\u001b[0m\u001b[1;33m\u001b[0m\u001b[0m\n\u001b[0;32m     50\u001b[0m \u001b[1;33m\u001b[0m\u001b[0m\n",
        "\u001b[1;31mKeyboardInterrupt\u001b[0m: "
       ]
      },
      {
       "output_type": "stream",
       "stream": "stdout",
       "text": [
        "\n"
       ]
      }
     ],
     "prompt_number": 133
    },
    {
     "cell_type": "code",
     "collapsed": false,
     "input": [
      "def make_cite_plot(): \n",
      "    citedf = pd.DataFrame(columns=['setname','cite','freq'])\n",
      "    for i in range(len(filenames)):\n",
      "        for lang, df in temp_dfs[i].iteritems():\n",
      "            if lang == 'en':\n",
      "                df = df[(df.tempname == 'cite web') | (df.tempname == 'cite book') | (df.tempname == 'cite news') | (df.tempname == 'cite journal')]\n",
      "                setname = filenames[i][10:-16]\n",
      "                tot = 0\n",
      "                for row in df.iterrows():\n",
      "                    cols = row[1]\n",
      "                    tot += cols['freq']\n",
      "                for row in df.iterrows():\n",
      "                    cols = row[1]\n",
      "                    citedf = citedf.append({'setname':setname, 'cite': cols['tempname'], 'freq':cols['freq']/float(tot)}, ignore_index=True)\n",
      "    \n",
      "    \n",
      "    cite_dict = {\"cite book\":536258, \"cite journal\":328129, \"cite news\":444447, \"cite web\":1560207}\n",
      "    globaltot = reduce(lambda a,b: a+b, cite_dict.itervalues())\n",
      "    globaltotfloat = float(globaltot)\n",
      "    globciteratio = map(lambda cd: (cd[0], cd[1]/globaltotfloat), cite_dict.iteritems() )\n",
      "    \n",
      "    for cite in globciteratio:\n",
      "        citetype, freq = cite[0], cite[1]\n",
      "        citedf = citedf.append({'setname':'English WP Global', 'cite': citetype, 'freq':freq}, ignore_index=True)       \n",
      "    \n",
      "    citedf = citedf.convert_objects(convert_numeric=True)\n",
      "    citepiv = citedf.pivot(index = 'setname', columns = 'cite')\n",
      "    citeplot = citepiv.plot(kind='bar', stacked=True)\n",
      "    citeplot.legend(('Citation type', 'Cite book', 'Cite journal', 'Cite news', 'Cite web'), loc=9)\n",
      "    citeplot.figure.set_size_inches(12,8)\n",
      "    citeplot.set_xlabel('subject-nation')\n",
      "    citeplot.set_title('Composition of Citation Type, by Subject-Nation')\n",
      "\n"
     ],
     "language": "python",
     "metadata": {},
     "outputs": [],
     "prompt_number": 124
    },
    {
     "cell_type": "markdown",
     "metadata": {},
     "source": [
      "This is where I look at the template occurences."
     ]
    },
    {
     "cell_type": "code",
     "collapsed": false,
     "input": [
      "ethnosaves = !ls ethnosave\n",
      "filenames = map(lambda name: 'ethnosave/'+name, ethnosaves)\n",
      "temp_dfs = map(top_templates_ethnoset, filenames)\n",
      "for i in range(len(filenames)):\n",
      "    for lang, df in temp_dfs[i].iteritems():\n",
      "        print filenames[i]\n",
      "        print df\n",
      "        #print df"
     ],
     "language": "python",
     "metadata": {},
     "outputs": [
      {
       "output_type": "stream",
       "stream": "stdout",
       "text": [
        "ethnosave/economy-cdi.jsonlatest.json\n",
        "    lang               tempname      freq\n",
        "97    fr                   date  1.037383\n",
        "251   fr                  unit\u00e9  0.962617\n",
        "91    fr                     fr  0.962617\n",
        "254   fr                portail  0.728972\n",
        "194   fr                \u00e9bauche  0.719626\n",
        "262   fr             r\u00e9f\u00e9rences  0.635514\n",
        "129   fr               lien web  0.560748\n",
        "132   fr                   harv  0.439252\n",
        "31    fr                ouvrage  0.383178\n",
        "63    fr  portail c\u00f4te d'ivoire  0.271028\n",
        "116   fr        infobox soci\u00e9t\u00e9  0.261682\n",
        "387   fr                    nau  0.177570\n",
        "271   fr                   refl  0.158879\n",
        "231   fr                drapeau  0.149533\n",
        "114   fr                      ,  0.140187\n",
        "394   fr                      e  0.121495\n",
        "88    fr                     s-  0.121495\n",
        "203   fr                  plume  0.102804\n",
        "ethnosave/economy-cdi.jsonlatest.json\n",
        "    lang                  tempname      freq\n",
        "473   en                      date  1.692308\n",
        "407   en                  cite web  1.179487\n",
        "412   en                 cite news  0.692308\n",
        "507   en                   reflist  0.666667\n",
        "460   en                   convert  0.641026\n",
        "435   en                  flagicon  0.512821\n",
        "493   en                      flag  0.282051\n",
        "432   en              cite journal  0.230769\n",
        "506   en  economy of c\u00f4te d'ivoire  0.179487\n",
        "482   en                 cite book  0.179487\n",
        "441   en                     coord  0.153846\n",
        "529   en                    portal  0.128205\n",
        "488   en           citation needed  0.128205\n",
        "457   en              africa topic  0.128205\n",
        "433   en         coted'ivoire-stub  0.128205\n",
        "522   en                   fr icon  0.102564\n",
        "495   en                start date  0.102564\n",
        "487   en                     as of  0.102564\n",
        "459   en             infobox union  0.102564\n",
        "427   en  c\u00f4ted'ivoire-struct-stub  0.102564\n",
        "ethnosave/economy-cdi.jsonlatest.json\n",
        "    lang tempname  freq\n",
        "540   sw  marejeo     1\n",
        "539   sw       en     1\n",
        "ethnosave/economy-fra.jsonlatest.json\n",
        "     lang          tempname      freq\n",
        "3933   fr             unit\u00e9  2.586137\n",
        "1442   fr          lien web  1.476555\n",
        "2897   fr           portail  0.982161\n",
        "1347   fr              date  0.976045\n",
        "769    fr        r\u00e9f\u00e9rences  0.629969\n",
        "313    fr                 ,  0.593272\n",
        "3976   fr   infobox soci\u00e9t\u00e9  0.477064\n",
        "2801   fr            num\u00e9ro  0.410296\n",
        "1187   fr           ouvrage  0.348624\n",
        "1639   fr           \u00e9bauche  0.348114\n",
        "2119   fr          citation  0.342508\n",
        "2411   fr                fr  0.301223\n",
        "1768   fr           article  0.298675\n",
        "3697   fr               1er  0.293068\n",
        "2931   fr                p.  0.254332\n",
        "3227   fr                 e  0.246687\n",
        "1834   fr            harvsp  0.244139\n",
        "3588   fr  article d\u00e9taill\u00e9  0.227829\n",
        "1436   fr                en  0.220183\n",
        "247    fr            nombre  0.208970\n",
        "ethnosave/economy-fra.jsonlatest.json\n",
        "     lang          tempname      freq\n",
        "5348   en          cite web  2.504634\n",
        "5588   en                no  1.467559\n",
        "4689   en         cite news  0.923790\n",
        "4911   en           reflist  0.700309\n",
        "4478   en           convert  0.581874\n",
        "5076   en          flagicon  0.575695\n",
        "5345   en               yes  0.492276\n",
        "4497   en   infobox company  0.443872\n",
        "4859   en         cite book  0.381050\n",
        "4914   en               bs5  0.374871\n",
        "4620   en           fr icon  0.302781\n",
        "4537   en   citation needed  0.282183\n",
        "4676   en                rh  0.243048\n",
        "4959   en               sfn  0.167868\n",
        "4630   en  commons category  0.140062\n",
        "5569   en          citation  0.131823\n",
        "4810   en  official website  0.129763\n",
        "4972   en               url  0.120494\n",
        "4693   en              main  0.118435\n",
        "5473   en          euronext  0.114315\n",
        "ethnosave/economy-fra.jsonlatest.json\n",
        "     lang            tempname  freq\n",
        "5658   sw            cite web   0.8\n",
        "5651   sw  mbegu-jio-ufaransa   0.6\n",
        "5657   sw          commonscat   0.4\n",
        "5648   sw              profit   0.4\n",
        "5647   sw  infobox settlement   0.4\n",
        "5646   sw             marejeo   0.4\n",
        "5656   sw     infobox kampuni   0.2\n",
        "5655   sw     infobox airline   0.2\n",
        "5654   sw              portal   0.2\n",
        "5653   sw                flag   0.2\n",
        "5652   sw    cac 40 companies   0.2\n",
        "5650   sw             commons   0.2\n",
        "5649   sw            euronext   0.2\n",
        "5645   sw             link fa   0.2\n",
        "5644   sw                  en   0.2\n",
        "5643   sw                  fr   0.2\n",
        "ethnosave/economy-uga.jsonlatest.json\n",
        "   lang            tempname  freq\n",
        "15   fr             portail   1.0\n",
        "1    fr                  en   0.9\n",
        "33   fr             \u00e9bauche   0.8\n",
        "23   fr             ouganda   0.6\n",
        "21   fr            lien web   0.6\n",
        "36   fr          r\u00e9f\u00e9rences   0.4\n",
        "37   fr               unit\u00e9   0.3\n",
        "29   fr      autres projets   0.3\n",
        "28   fr                date   0.3\n",
        "19   fr     formatnum:30000   0.3\n",
        "11   fr             palette   0.3\n",
        "41   fr  infobox universit\u00e9   0.2\n",
        "32   fr            officiel   0.2"
       ]
      },
      {
       "output_type": "stream",
       "stream": "stdout",
       "text": [
        "\n",
        "ethnosave/economy-uga.jsonlatest.json\n",
        "    lang               tempname      freq\n",
        "157   en                reflist  0.897436\n",
        "50    en               cite web  0.692308\n",
        "141   en                convert  0.641026\n",
        "77    en                  coord  0.538462\n",
        "81    en               flagicon  0.525641\n",
        "56    en              cite news  0.500000\n",
        "59    en                   asof  0.410256\n",
        "104   en       kampala district  0.243590\n",
        "185   en                    sfn  0.217949\n",
        "129   en                 nowrap  0.192308\n",
        "119   en        infobox company  0.179487\n",
        "111   en            uganda-stub  0.141026\n",
        "179   en  infobox power station  0.128205\n",
        "134   en              cite book  0.102564\n",
        "96    en                 profit  0.102564\n",
        "84    en     airlines of uganda  0.102564\n",
        "57    en                   main  0.102564\n",
        "ethnosave/economy-uga.jsonlatest.json\n",
        "    lang          tempname      freq\n",
        "223   sw         flag icon  0.454545\n",
        "227   sw   infobox company  0.363636\n",
        "218   sw           marejeo  0.363636\n",
        "205   sw      brewbox_beer  0.363636\n",
        "197   sw                en  0.272727\n",
        "225   sw             small  0.181818\n",
        "212   sw              main  0.181818\n",
        "210   sw                 \\  0.181818\n",
        "208   sw        kenya-stub  0.181818\n",
        "204   sw           lang-en  0.181818\n",
        "203   sw  africa-bank-stub  0.181818\n",
        "202   sw      mbegu-uchumi  0.181818\n",
        "198   sw           reflist  0.181818\n",
        "ethnosave/economy-usa.jsonlatest.json\n",
        "    lang         tempname      freq\n",
        "276   fr               en  1.390428\n",
        "529   fr            unit\u00e9  1.057935\n",
        "534   fr          portail  0.947103\n",
        "183   fr         lien web  0.808564\n",
        "190   fr             date  0.546599\n",
        "60    fr  infobox soci\u00e9t\u00e9  0.460957\n",
        "414   fr          \u00e9bauche  0.438287\n",
        "557   fr       r\u00e9f\u00e9rences  0.397985\n",
        "710   fr             lien  0.390428\n",
        "229   fr                ,  0.340050\n",
        "510   fr          article  0.284635\n",
        "501   fr          drapeau  0.229219\n",
        "798   fr             lang  0.221662\n",
        "280   fr               fr  0.206549\n",
        "38    fr            usa-d  0.186398\n",
        "800   fr                e  0.176322\n",
        "482   fr          palette  0.163728\n",
        "219   fr   voir homonymes  0.161209\n",
        "334   fr             nyse  0.158690\n",
        "458   fr   autres projets  0.138539\n",
        "ethnosave/economy-usa.jsonlatest.json\n",
        "     lang         tempname      freq\n",
        "2456   en         cite web  3.061459\n",
        "2252   en        cite news  1.676960\n",
        "1727   en          reflist  0.752649\n",
        "1422   en               no  0.523161\n",
        "884    en  infobox company  0.478656\n",
        "2780   en          convert  0.440811\n",
        "2814   en  citation needed  0.270966\n",
        "1185   en         flagicon  0.234332\n",
        "2341   en        cite book  0.227672\n",
        "2552   en        dead link  0.184681\n",
        "1311   en              yes  0.175901\n",
        "1672   en         increase  0.170754\n",
        "2748   en     cite journal  0.145625\n",
        "3005   en              url  0.121102\n",
        "1293   en           portal  0.106267\n",
        "2431   en            coord  0.104450\n",
        "1668   en           profit  0.100515\n",
        "ethnosave/economy-usa.jsonlatest.json\n",
        "     lang       tempname  freq\n",
        "3348   sw      cite news   0.5\n",
        "3343   sw       cite web   0.5\n",
        "3340   sw        reflist   0.3\n",
        "3361   sw  infobox kampu   0.2\n",
        "3358   sw      flag icon   0.2\n",
        "3355   sw        marejeo   0.2\n",
        "3345   sw        link fa   0.2\n",
        "ethnosave/geography-cdi.jsonlatest.json\n",
        "    lang                          tempname      freq\n",
        "393   fr                           \u00e9bauche  0.904724\n",
        "554   fr                        r\u00e9f\u00e9rences  0.781425\n",
        "525   fr                           portail  0.775020\n",
        "225   fr                                fr  0.741393\n",
        "446   fr                             coord  0.342674\n",
        "521   fr                             unit\u00e9  0.268215\n",
        "140   fr             portail c\u00f4te d'ivoire  0.223379\n",
        "54    fr                           ouvrage  0.218575\n",
        "320   fr  infobox commune de c\u00f4te d'ivoire  0.157726\n",
        "208   fr                                 ,  0.115292\n",
        "ethnosave/geography-cdi.jsonlatest.json\n",
        "     lang            tempname      freq\n",
        "885    en                flag  0.838455\n",
        "1324   en  infobox settlement  0.787533\n",
        "1154   en               coord  0.430202\n",
        "1080   en       coord missing  0.400351\n",
        "1321   en            cite web  0.115891"
       ]
      },
      {
       "output_type": "stream",
       "stream": "stdout",
       "text": [
        "\n",
        "ethnosave/geography-cdi.jsonlatest.json\n",
        "     lang                 tempname      freq\n",
        "1491   sw  mbegu-jio-cote d'ivoire  0.945946\n",
        "1488   sw       infobox settlement  0.189189\n",
        "1489   sw   mikoa ya cote d'ivoire  0.180180\n",
        "1496   sw                     flag  0.171171\n",
        "ethnosave/geography-fra.jsonlatest.json\n",
        "     lang  tempname      freq\n",
        "4333   fr       NaN  3.927636\n",
        "3161   fr       NaN  0.990240\n",
        "834    fr       NaN  0.696263\n",
        "1582   fr       NaN  0.689836\n",
        "1380   fr       NaN  0.539395\n",
        "1780   fr       NaN  0.501785\n",
        "751    fr       NaN  0.415377\n",
        "1826   fr         3  0.367770\n",
        "1455   fr       NaN  0.343490\n",
        "71     fr       NaN  0.336587\n",
        "3325   fr       NaN  0.315639\n",
        "4      fr       NaN  0.306832\n",
        "4225   fr       NaN  0.304689\n",
        "1478   fr       NaN  0.296120\n",
        "1908   fr       NaN  0.290407\n",
        "1294   fr       NaN  0.280409\n",
        "3208   fr       NaN  0.279933\n",
        "2715   fr       NaN  0.211378\n",
        "3544   fr       NaN  0.195906\n",
        "2973   fr       NaN  0.192097\n",
        "ethnosave/geography-fra.jsonlatest.json\n",
        "     lang                      tempname      freq\n",
        "4891   en                       convert  0.765186\n",
        "5395   en                         coord  0.708069\n",
        "5261   en                       reflist  0.447869\n",
        "5622   en                      cite web  0.242974\n",
        "4925   en        infobox french commune  0.220308\n",
        "5451   en                 infobox river  0.214869\n",
        "5043   en  pyr\u00e9n\u00e9es-orientales communes  0.204896\n",
        "5756   en   pyr\u00e9n\u00e9esorientales-geo-stub  0.203083\n",
        "5017   en                       fr icon  0.169538\n",
        "5224   en                     cite book  0.156845\n",
        "5128   en                       lang-ca  0.155032\n",
        "5465   en                        iw-ref  0.131460\n",
        "5652   en              commons category  0.128740\n",
        "5822   en                   flagathlete  0.127833\n",
        "5460   en                  infobox_lake  0.109701\n",
        "ethnosave/geography-fra.jsonlatest.json\n",
        "     lang              tempname      freq\n",
        "5886   sw    mbegu-jio-ufaransa  0.833333\n",
        "5893   sw              cite web  0.333333\n",
        "5892   sw                   clr  0.166667\n",
        "5891   sw            commonscat  0.166667\n",
        "5890   sw     picardie-geo-stub  0.166667\n",
        "5889   sw  iledefrance-geo-stub  0.166667\n",
        "5888   sw               marejeo  0.166667\n",
        "5887   sw                   mto  0.166667\n",
        "5885   sw                 coord  0.166667\n",
        "5884   sw               commons  0.166667\n",
        "5883   sw                   for  0.166667\n",
        "5882   sw    infobox settlement  0.166667\n",
        "5881   sw               convert  0.166667\n",
        "5880   sw    champagne-geo-stub  0.166667\n",
        "ethnosave/geography-uga.jsonlatest.json\n",
        "    lang                   tempname      freq\n",
        "70    fr                        smn  1.022831\n",
        "114   fr                    portail  0.977169\n",
        "194   fr                    \u00e9bauche  0.662100\n",
        "111   fr                      unit\u00e9  0.584475\n",
        "65    fr                    palette  0.557078\n",
        "120   fr        infobox subdivision  0.538813\n",
        "49    fr                         en  0.497717\n",
        "22    fr              lire en ligne  0.374429\n",
        "162   fr  infobox commune d'ouganda  0.191781\n",
        "98    fr       traduction/r\u00e9f\u00e9rence  0.173516\n",
        "137   fr                 r\u00e9f\u00e9rences  0.164384\n",
        "15    fr                          ,  0.136986\n",
        "187   fr                       date  0.123288\n",
        "175   fr                   lien web  0.109589\n",
        "50    fr           article d\u00e9taill\u00e9  0.109589\n",
        "38    fr                      coord  0.105023\n",
        "ethnosave/geography-uga.jsonlatest.json\n",
        "    lang             tempname      freq\n",
        "243   en              convert  1.863787\n",
        "322   en                coord  0.913621\n",
        "367   en              reflist  0.888704\n",
        "270   en                 flag  0.405316\n",
        "506   en   infobox settlement  0.403654\n",
        "504   en             cite web  0.327243\n",
        "325   en  districts of uganda  0.147841\n",
        "391   en                clear  0.137874\n",
        "567   en      uganda-geo-stub  0.127907\n",
        "570   en        use dmy dates  0.101329\n",
        "ethnosave/geography-uga.jsonlatest.json\n",
        "    lang                      tempname      freq\n",
        "679   sw              mbegu-jio-uganda  0.879781\n",
        "605   sw            infobox settlement  0.879781\n",
        "598   sw              wilaya za uganda  0.442623\n",
        "696   sw                          flag  0.437158\n",
        "680   sw                    commonscat  0.409836\n",
        "684   sw  mijii mikuu wilaya za uganda  0.360656"
       ]
      },
      {
       "output_type": "stream",
       "stream": "stdout",
       "text": [
        "\n",
        "ethnosave/geography-usa.jsonlatest.json\n",
        "     lang                      tempname      freq\n",
        "1667   fr                         unit\u00e9  2.392070\n",
        "607    fr                            en  2.260793\n",
        "610    fr                      lien web  1.200000\n",
        "1360   fr                          lang  1.086344\n",
        "1781   fr                       portail  0.983260\n",
        "568    fr                          date  0.616740\n",
        "688    fr                       \u00e9bauche  0.597357\n",
        "125    fr                             ,  0.555066\n",
        "1784   fr                      jumelage  0.474890\n",
        "1548   fr                    \u00e9tats-unis  0.441410\n",
        "1043   fr                voir homonymes  0.392070\n",
        "312    fr                    r\u00e9f\u00e9rences  0.328634\n",
        "1168   fr                         coord  0.317181\n",
        "500    fr                       ouvrage  0.308370\n",
        "804    fr          traduction/r\u00e9f\u00e9rence  0.269604\n",
        "1624   fr                autres projets  0.250220\n",
        "0      fr           infobox cours d'eau  0.240529\n",
        "95     fr                        nombre  0.230837\n",
        "362    fr  infobox ville des \u00e9tats-unis  0.203524\n",
        "556    fr                            s-  0.185022\n",
        "ethnosave/geography-usa.jsonlatest.json\n",
        "     lang          tempname      freq\n",
        "4087   en           convert  3.240645\n",
        "3114   en          cite web  2.267489\n",
        "3691   en             coord  0.929908\n",
        "2886   en           reflist  0.826735\n",
        "3576   en         cite book  0.483731\n",
        "3344   en         cite gnis  0.443465\n",
        "3472   en         cite news  0.370390\n",
        "4547   en              gnis  0.307348\n",
        "4584   en  infobox mountain  0.216513\n",
        "3612   en     coord missing  0.157538\n",
        "4124   en   citation needed  0.154284\n",
        "2068   en   cite peakbagger  0.142625\n",
        "1947   en            geobox  0.133541\n",
        "3829   en         dead link  0.115239\n",
        "4277   en          flagicon  0.103715\n",
        "4051   en      cite journal  0.103715\n",
        "ethnosave/geography-usa.jsonlatest.json\n",
        "     lang              tempname      freq\n",
        "4743   sw                   nts  0.972222\n",
        "4734   sw    infobox settlement  0.899306\n",
        "4733   sw         mbegu-jio-usa  0.687500\n",
        "4749   sw            commonscat  0.333333\n",
        "4742   sw  mbegu-jio-california  0.256944\n",
        "4747   sw               link fa  0.125000\n",
        "4756   sw               commons  0.100694\n",
        "ethnosave/history-cdi.jsonlatest.json\n",
        "    lang                    tempname      freq\n",
        "114   fr                        date  5.845238\n",
        "135   fr                           ,  2.535714\n",
        "20    fr                    lien web  2.011905\n",
        "451   fr                    citation  0.940476\n",
        "307   fr                     portail  0.916667\n",
        "154   fr            article d\u00e9taill\u00e9  0.678571\n",
        "45    fr                  r\u00e9f\u00e9rences  0.535714\n",
        "138   fr             foot classement  0.523810\n",
        "468   fr                           e  0.488095\n",
        "276   fr                     drapeau  0.476190\n",
        "268   fr                     palette  0.440476\n",
        "109   fr                          fr  0.428571\n",
        "302   fr                       unit\u00e9  0.392857\n",
        "224   fr                     \u00e9bauche  0.357143\n",
        "213   fr           date de naissance  0.357143\n",
        "100   fr                        goal  0.321429\n",
        "111   fr                          fc  0.309524\n",
        "165   fr  s\u00e9lection foot comp\u00e9tition  0.285714\n",
        "262   fr                    flagicon  0.273810\n",
        "417   fr                          en  0.261905\n",
        "ethnosave/history-cdi.jsonlatest.json\n",
        "    lang                   tempname      freq\n",
        "497   en                  cite news  3.391304\n",
        "485   en                   cite web  1.886957\n",
        "528   en                   flagicon  1.052174\n",
        "566   en                         bk  0.973913\n",
        "624   en                    reflist  0.886957\n",
        "518   en                    fr icon  0.530435\n",
        "608   en                       flag  0.521739\n",
        "530   en      infobox un resolution  0.443478\n",
        "596   en                  cite book  0.434783\n",
        "591   en                        fbl  0.382609\n",
        "667   en                 wikisource  0.373913\n",
        "498   en                       main  0.304348\n",
        "588   en                     nowrap  0.278261\n",
        "625   en              use dmy dates  0.252174\n",
        "640   en                       goal  0.234783\n",
        "600   en            citation needed  0.173913\n",
        "484   en  politics of c\u00f4te d'ivoire  0.173913\n",
        "626   en          ivorian elections  0.165217\n",
        "678   en                  dead link  0.156522\n",
        "650   en                     fbl-rt  0.139130\n",
        "ethnosave/history-fra.jsonlatest.json\n",
        "     lang  tempname      freq\n",
        "1492   fr       NaN  2.497608\n",
        "3604   fr       NaN  1.983732\n",
        "3259   fr       NaN  1.128868\n",
        "1311   fr       NaN  1.048804\n",
        "1477   fr       NaN  0.998405\n",
        "2028   fr       NaN  0.980861\n",
        "3213   fr       NaN  0.968421\n",
        "4124   fr       NaN  0.718341\n",
        "3076   fr       NaN  0.668262\n",
        "2249   fr       NaN  0.666348\n",
        "2358   fr       NaN  0.620734\n",
        "325    fr       NaN  0.600319\n",
        "1604   fr       NaN  0.519617\n",
        "830    fr       NaN  0.495375\n",
        "4077   fr       NaN  0.474322\n",
        "2797   fr         2  0.406380\n",
        "3999   fr       NaN  0.348006\n",
        "1591   fr       NaN  0.345455\n",
        "3118   fr         3  0.323764\n",
        "1808   fr       NaN  0.275279"
       ]
      },
      {
       "output_type": "stream",
       "stream": "stdout",
       "text": [
        "\n",
        "ethnosave/history-fra.jsonlatest.json\n",
        "     lang                                           tempname      freq\n",
        "6139   en                                          cite book  0.926626\n",
        "5461   en                                                ipa  0.867625\n",
        "6658   en                                                sfn  0.726172\n",
        "5605   en                                            reflist  0.599849\n",
        "5785   en                                           cite web  0.543873\n",
        "5161   en                                           flagicon  0.518911\n",
        "5467   en                                             nowrap  0.385023\n",
        "6485   en                                            convert  0.301815\n",
        "6424   en                                               lang  0.274584\n",
        "6166   en                                     succession box  0.274584\n",
        "4978   en                                            fr icon  0.267776\n",
        "5370   en  persondata <!-- metadata: see [[wikipedia:pers...  0.266263\n",
        "6005   en                                               flag  0.230711\n",
        "6506   en                                    citation needed  0.226929\n",
        "5538   en                                               main  0.224660\n",
        "5441   en                                  authority control  0.188351\n",
        "6397   en                                      use dmy dates  0.179274\n",
        "5890   en                                           citation  0.175492\n",
        "5815   en                                              s-ttl  0.164902\n",
        "4963   en                                            s-start  0.158094\n",
        "ethnosave/history-fra.jsonlatest.json\n",
        "     lang                      tempname   freq\n",
        "6960   sw                 mbegu-mkristo  0.125\n",
        "6959   sw       defaultsort:yohane viii  0.125\n",
        "6958   sw                    mbegu-papa  0.125\n",
        "6957   sw  defaultsort:briand, aristide  0.125\n",
        "6956   sw              mbegu-mwanasiasa  0.125\n",
        "6955   sw                       link fa  0.125\n",
        "ethnosave/history-uga.jsonlatest.json\n",
        "    lang          tempname      freq\n",
        "115   fr              date  2.400000\n",
        "137   fr                 ,  1.536364\n",
        "160   fr          lien web  1.409091\n",
        "339   fr           portail  1.000000\n",
        "156   fr                en  0.945455\n",
        "109   fr                fr  0.918182\n",
        "477   fr          citation  0.736364\n",
        "290   fr            num\u00e9ro  0.590909\n",
        "357   fr        r\u00e9f\u00e9rences  0.545455\n",
        "448   fr  article d\u00e9taill\u00e9  0.409091\n",
        "310   fr           drapeau  0.363636\n",
        "107   fr            nombre  0.345455\n",
        "499   fr                 e  0.336364\n",
        "444   fr              lien  0.327273\n",
        "496   fr              lang  0.318182\n",
        "247   fr           \u00e9bauche  0.318182\n",
        "238   fr           palette  0.300000\n",
        "102   fr              goal  0.281818\n",
        "212   fr               1er  0.272727\n",
        "52    fr            legend  0.272727\n",
        "ethnosave/history-uga.jsonlatest.json\n",
        "     lang        tempname      freq\n",
        "973    en        cite web  4.165625\n",
        "609    en            flag  4.150000\n",
        "916    en       cite news  3.584375\n",
        "858    en        flagicon  2.150000\n",
        "958    en       dead link  0.909375\n",
        "780    en         reflist  0.850000\n",
        "906    en         sortkey  0.825000\n",
        "684    en            main  0.615625\n",
        "763    en       cite book  0.609375\n",
        "778    en             dts  0.556250\n",
        "715    en  flagicon image  0.546875\n",
        "560    en          legend  0.543750\n",
        "655    en              fb  0.515625\n",
        "1083   en        citation  0.475000\n",
        "1081   en   use dmy dates  0.393750\n",
        "959    en           flagu  0.393750\n",
        "592    en             aye  0.371875\n",
        "1007   en     site active  0.368750\n",
        "1099   en             nay  0.350000\n",
        "883    en          harvnb  0.287500\n",
        "ethnosave/history-uga.jsonlatest.json\n",
        "     lang    tempname      freq\n",
        "1116   sw  commonscat  0.333333\n",
        "1115   sw        fupi  0.333333\n",
        "ethnosave/history-usa.jsonlatest.json\n",
        "     lang          tempname      freq\n",
        "590    fr            harvsp  4.372093\n",
        "444    fr                en  2.697674\n",
        "412    fr              date  2.475687\n",
        "359    fr           ouvrage  1.471459\n",
        "254    fr             unit\u00e9  1.266385\n",
        "680    fr          citation  1.236786\n",
        "926    fr           portail  0.991543\n",
        "774    fr          lien web  0.974630\n",
        "294    fr              lien  0.932347\n",
        "1216   fr               sfn  0.904863\n",
        "49     fr                p.  0.892178\n",
        "101    fr                 ,  0.786469\n",
        "1160   fr  article d\u00e9taill\u00e9  0.653277\n",
        "1032   fr              lang  0.615222\n",
        "1179   fr              isbn  0.591966\n",
        "81     fr            nombre  0.585624\n",
        "1035   fr                 e  0.528541\n",
        "233    fr        r\u00e9f\u00e9rences  0.501057\n",
        "565    fr           article  0.389006\n",
        "407    fr                s-  0.372093\n",
        "ethnosave/history-usa.jsonlatest.json\n",
        "     lang                  tempname      freq\n",
        "2619   en                  cite web  3.185080\n",
        "3069   en                 cite book  2.899203\n",
        "2988   en                 cite news  1.597380\n",
        "3821   en                       sfn  1.407175\n",
        "3567   en                   convert  0.927677\n",
        "2408   en                   reflist  0.849658\n",
        "3918   en                    harvnb  0.716970\n",
        "2766   en                  citation  0.664579\n",
        "3536   en              cite journal  0.626993\n",
        "2287   en                      main  0.625285\n",
        "3603   en           citation needed  0.503986\n",
        "1744   en                  flagicon  0.403189\n",
        "2646   en  party shading/republican  0.365034\n",
        "3837   en  party shading/democratic  0.329727\n",
        "1392   en                       aut  0.327449\n",
        "3171   en                     coord  0.290433\n",
        "3307   en                 dead link  0.240319\n",
        "3602   en                       uss  0.201025\n",
        "3116   en                     quote  0.191913\n",
        "3065   en                      defn  0.160592"
       ]
      },
      {
       "output_type": "stream",
       "stream": "stdout",
       "text": [
        "\n",
        "ethnosave/history-usa.jsonlatest.json\n",
        "     lang            tempname      freq\n",
        "4194   sw             link fa  1.641026\n",
        "4196   sw    mbegu-mwanasiasa  0.615385\n",
        "4203   sw  marais wa marekani  0.589744\n",
        "4197   sw      mbegu-historia  0.102564\n"
       ]
      }
     ],
     "prompt_number": 123
    },
    {
     "cell_type": "code",
     "collapsed": false,
     "input": [
      "inf_df = metric_df_dict['informativeness']\n",
      "\n",
      "inf_df = inf_df.drop('qid',1).drop('metric',1)\n",
      "\n",
      "    inf_piv = inf_df.pivot(index='qid', columns='lang', values='val')\n",
      "\n",
      "\n",
      "pp = ggplot(aes(x='value', colour='lang', fill=True, alpha = 0.3), data=melt) + geom_density() + labs(\"Sconnn\", \"Frequency\") + scale_colour_manual(labels=['a','b','c'],values=['#FFAAAA', '#ff5b00', '#c760ff']) + \\\n",
      "scale_x_continuous(limits=(0,20)) "
     ],
     "language": "python",
     "metadata": {},
     "outputs": [
      {
       "output_type": "stream",
       "stream": "stdout",
       "text": [
        "  lang variable     value\n",
        "0   fr      val  2.222586\n",
        "1   en      val  2.432065\n",
        "2   sw      val  1.377013\n",
        "3   fr      val  1.877215\n",
        "4   en      val  5.762674\n"
       ]
      }
     ],
     "prompt_number": 41
    }
   ],
   "metadata": {}
  }
 ]
}