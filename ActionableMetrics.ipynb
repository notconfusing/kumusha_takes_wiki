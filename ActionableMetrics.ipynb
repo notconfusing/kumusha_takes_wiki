{
 "metadata": {
  "name": ""
 },
 "nbformat": 3,
 "nbformat_minor": 0,
 "worksheets": [
  {
   "cells": [
    {
     "cell_type": "heading",
     "level": 3,
     "metadata": {},
     "source": [
      "Investigating Good Articles for C\u00f4te d'Ivoire and Uganda"
     ]
    },
    {
     "cell_type": "heading",
     "level": 2,
     "metadata": {},
     "source": [
      "For <a href=\"https://fr.wikipedia.org/wiki/Projet:Kumusha_Takes_Wiki\">Kumusha Takes Wiki</a> - by <a href=\"http://notconfusing.com/\">Max Klein</a>\n",
      "<br />\n",
      "10 January 2014"
     ]
    },
    {
     "cell_type": "markdown",
     "metadata": {},
     "source": [
      "Our principal question in this investigation is what makes a good article about a country in the hope of improving articles related to C\u00f4te d'Ivoire and Uganda\n",
      "\n",
      "We will explore several aspects of the quality of the articles and their relationship to different language Wikipedias. First we look at articles literally describing the countries of Ivory Coast and Uganda and compare them to other country articles in English, French and Swahili Wikipedias. This is done to both sanity check our method, and also to determine which subsequent articles to explore. Here we utilise the research [Tell Me More: An Actionable Quality Model for Wikipedia](http://www-users.cs.umn.edu/~morten/publications/wikisym2013-tellmemore.pdf) by _Warncke-Wang, Cosley, and Reidl_ which is meant to measure points of quality that can be more easily addressed. Secondly, we move to sets of articles _about a subject_ of that nation. These articles are chosen to be most important by how often they occur in a specific Wikipedia. Next we attempt to apply the lessons from [Predicting Quality Flaws in User-generated Content: The Case of Wikipedia](http://www.uni-weimar.de/medien/webis/publications/papers/stein_2012i.pdf) by _Anderka, Stein, Lipka_ which are about finding user-specified quality flaws.\n",
      "\n",
      "This report is an _IPython Notebook_ so it contains all the code necessary to reproduce these results. Much of the the code is at the end, to maintain non-technical readability."
     ]
    },
    {
     "cell_type": "heading",
     "level": 2,
     "metadata": {},
     "source": [
      "Getting the Wikidata item for every country"
     ]
    },
    {
     "cell_type": "markdown",
     "metadata": {},
     "source": [
      "We want to compare literal country articles worldwide. Since we will be analysing English, French, and Swahili Wikipedias, we find the _Wikidata items_ related to these countries (here denoted by their identifiers beginning with \"Q\"). Each Wikidata items points to all the different Wikipedia language versions available. In an attempt to not include language bias, this list was first queried from the Wikidata property [\"instance of\"](https://www.wikidata.org/wiki/Property:P31) with target [country](https://www.wikidata.org/wiki/Q6256) (through the [offline Wikidata parser](https://github.com/mkroetzsch/wda)  ). However this only yielded 133 items. Even though it is Anglocentric our list is scraped from English Wikipedia [List of Countries by Popultation](https://en.wikipedia.org/wiki/List_of_countries_by_population), yielding:"
     ]
    },
    {
     "cell_type": "code",
     "collapsed": false,
     "input": [
      "country_qids = json.load(open('country_qids.json'))\n",
      "ugandaqid, cdiqid= 'Q1036', 'Q1008'\n",
      "print \"We are comparing: \", len(country_qids), 'countries\".'\n",
      "print \"Some of their Wikidata QIDs are: \", map(lambda qid: 'http://wikidata.org/wiki/'+qid, country_qids[:5])\n"
     ],
     "language": "python",
     "metadata": {},
     "outputs": [
      {
       "output_type": "stream",
       "stream": "stdout",
       "text": [
        "We are comparing:  242 countries\".\n",
        "Some of their Wikidata QIDs are:  [u'http://wikidata.org/wiki/Q16', u'http://wikidata.org/wiki/Q33788', u'http://wikidata.org/wiki/Q25230', u'http://wikidata.org/wiki/Q874', u'http://wikidata.org/wiki/Q37']\n"
       ]
      }
     ],
     "prompt_number": 5
    },
    {
     "cell_type": "heading",
     "level": 2,
     "metadata": {},
     "source": [
      "Let's inspect each metric"
     ]
    },
    {
     "cell_type": "markdown",
     "metadata": {},
     "source": [
      "We look at the 5 statistics that are mentioned in the literature as \"Actionable Metrics\". The metrics are:\n",
      "\n",
      "1. __Completeness__ - This counts the number of intra-wiki links, to other articles.\n",
      "1. __Informativeness__ - This is a combination of the ratio of (_readable text_ to _wikitext markup_) plus _number of images_. \n",
      "1. __Numeber of Headings__ - A count of the sections and subsections.\n",
      "1. __Article Length__ - The lenght of the _readable_ article in characters.\n",
      "1. __Reference Rate__ - The number of references per article length.\n",
      "\n",
      "In _Tell me more_ weights are used, and we use the same weights, but for expermientation they could be changed."
     ]
    },
    {
     "cell_type": "code",
     "collapsed": false,
     "input": [
      "def report_actionable_metrics(wikicode, completeness_weight=0.8, infonoise_weight=0.6, images_weight=0.3):\n",
      "    completeness = completeness_weight * num_reg_links(wikicode)\n",
      "    informativeness = (infonoise_weight * infonoise(wikicode) ) + (images_weight * num_file_links(wikicode) )\n",
      "    numheadings = len(section_headings(wikicode))\n",
      "    articlelength = readable_text_length(wikicode)\n",
      "    referencerate = article_refs(wikicode) / readable_text_length(wikicode)\n",
      "    \n",
      "    return {'completeness': completeness, 'informativeness': informativeness, 'numheadings': numheadings, 'articlelength': articlelength, 'referencerate': referencerate} "
     ],
     "language": "python",
     "metadata": {},
     "outputs": [],
     "prompt_number": 140
    },
    {
     "cell_type": "markdown",
     "metadata": {},
     "source": [
      "We will now look at each metric one by one, on the set of our Wikidata Q-IDs to get a feel for how these metrics will be used later on.\n",
      "\n",
      "For each metric the Uganda and C\u00f4te d'Ivoire article's position amongst other countries are shown by the _z-score_ which is a measure of how many standard deviations they are above or below the average. Additionally we display a graph of the distribution of how the Country articles score, separated by Wikipedia language. "
     ]
    },
    {
     "cell_type": "code",
     "collapsed": false,
     "input": [
      "metric_analyse_density('informativeness', 12)"
     ],
     "language": "python",
     "metadata": {},
     "outputs": [
      {
       "output_type": "stream",
       "stream": "stdout",
       "text": [
        "Uganda (Q1036), C\u00f4te d'Ivoire (Q1008) informativeness z-scores.\n"
       ]
      },
      {
       "html": [
        "<div style=\"max-height:1000px;max-width:1500px;overflow:auto;\">\n",
        "<table border=\"1\" class=\"dataframe\">\n",
        "  <thead>\n",
        "    <tr style=\"text-align: right;\">\n",
        "      <th>language</th>\n",
        "      <th>en</th>\n",
        "      <th>fr</th>\n",
        "      <th>sw</th>\n",
        "    </tr>\n",
        "  </thead>\n",
        "  <tbody>\n",
        "    <tr>\n",
        "      <th>Q1036</th>\n",
        "      <td> 0.381577</td>\n",
        "      <td>-0.643210</td>\n",
        "      <td>-0.272597</td>\n",
        "    </tr>\n",
        "    <tr>\n",
        "      <th>Q1008</th>\n",
        "      <td>-0.431621</td>\n",
        "      <td> 3.311523</td>\n",
        "      <td>-0.384729</td>\n",
        "    </tr>\n",
        "  </tbody>\n",
        "</table>\n",
        "</div>"
       ],
       "metadata": {},
       "output_type": "pyout",
       "prompt_number": 499,
       "text": [
        "language        en        fr        sw\n",
        "Q1036     0.381577 -0.643210 -0.272597\n",
        "Q1008    -0.431621  3.311523 -0.384729"
       ]
      },
      {
       "metadata": {},
       "output_type": "display_data",
       "png": "[encoded data removed]",
       "text": [
        "<matplotlib.figure.Figure at 0x23099090>"
       ]
      }
     ],
     "prompt_number": 499
    },
    {
     "cell_type": "markdown",
     "metadata": {},
     "source": [
      "Most notable here, C\u00f4te d'Ivoire has a very high score in French Wikipedia - 3.31 standard deviations above average.\n",
      "\n",
      "In general these distributions are quite standard with a relatively long tail, also known as positive Skew, which we would expect from user generated content. Also English and French outpace a spikier Swahili, which fits in line with standard conceptions about the popularities of these languages."
     ]
    },
    {
     "cell_type": "code",
     "collapsed": false,
     "input": [
      "metric_analyse_density('completeness', 1500)"
     ],
     "language": "python",
     "metadata": {},
     "outputs": [
      {
       "output_type": "stream",
       "stream": "stdout",
       "text": [
        "Uganda (Q1036), C\u00f4te d'Ivoire (Q1008) completeness z-scores.\n"
       ]
      },
      {
       "html": [
        "<div style=\"max-height:1000px;max-width:1500px;overflow:auto;\">\n",
        "<table border=\"1\" class=\"dataframe\">\n",
        "  <thead>\n",
        "    <tr style=\"text-align: right;\">\n",
        "      <th>language</th>\n",
        "      <th>en</th>\n",
        "      <th>fr</th>\n",
        "      <th>sw</th>\n",
        "    </tr>\n",
        "  </thead>\n",
        "  <tbody>\n",
        "    <tr>\n",
        "      <th>Q1036</th>\n",
        "      <td>-0.443975</td>\n",
        "      <td>-0.176491</td>\n",
        "      <td> 1.736298</td>\n",
        "    </tr>\n",
        "    <tr>\n",
        "      <th>Q1008</th>\n",
        "      <td>-0.973200</td>\n",
        "      <td> 1.767785</td>\n",
        "      <td>-0.505017</td>\n",
        "    </tr>\n",
        "  </tbody>\n",
        "</table>\n",
        "</div>"
       ],
       "metadata": {},
       "output_type": "pyout",
       "prompt_number": 500,
       "text": [
        "language        en        fr        sw\n",
        "Q1036    -0.443975 -0.176491  1.736298\n",
        "Q1008    -0.973200  1.767785 -0.505017"
       ]
      },
      {
       "metadata": {},
       "output_type": "display_data",
       "png": "[encoded data removed]",
       "text": [
        "<matplotlib.figure.Figure at 0x20660050>"
       ]
      }
     ],
     "prompt_number": 500
    },
    {
     "cell_type": "markdown",
     "metadata": {},
     "source": [
      "Reassuringly Uganda performs highly here in Swahili, meaning that it is quite intralinked to other articles."
     ]
    },
    {
     "cell_type": "code",
     "collapsed": false,
     "input": [
      "metric_analyse_density('numheadings', 75)"
     ],
     "language": "python",
     "metadata": {},
     "outputs": [
      {
       "output_type": "stream",
       "stream": "stdout",
       "text": [
        "Uganda (Q1036), C\u00f4te d'Ivoire (Q1008) numheadings z-scores.\n"
       ]
      },
      {
       "html": [
        "<div style=\"max-height:1000px;max-width:1500px;overflow:auto;\">\n",
        "<table border=\"1\" class=\"dataframe\">\n",
        "  <thead>\n",
        "    <tr style=\"text-align: right;\">\n",
        "      <th>language</th>\n",
        "      <th>en</th>\n",
        "      <th>fr</th>\n",
        "      <th>sw</th>\n",
        "    </tr>\n",
        "  </thead>\n",
        "  <tbody>\n",
        "    <tr>\n",
        "      <th>Q1036</th>\n",
        "      <td>-1.695575</td>\n",
        "      <td> 0.028298</td>\n",
        "      <td> 0.023235</td>\n",
        "    </tr>\n",
        "    <tr>\n",
        "      <th>Q1008</th>\n",
        "      <td> 0.660221</td>\n",
        "      <td>-0.411489</td>\n",
        "      <td>-0.427908</td>\n",
        "    </tr>\n",
        "  </tbody>\n",
        "</table>\n",
        "</div>"
       ],
       "metadata": {},
       "output_type": "pyout",
       "prompt_number": 501,
       "text": [
        "language        en        fr        sw\n",
        "Q1036    -1.695575  0.028298  0.023235\n",
        "Q1008     0.660221 -0.411489 -0.427908"
       ]
      },
      {
       "metadata": {},
       "output_type": "display_data",
       "png": "[encoded data removed]",
       "text": [
        "<matplotlib.figure.Figure at 0x6067a10>"
       ]
      }
     ],
     "prompt_number": 501
    },
    {
     "cell_type": "markdown",
     "metadata": {},
     "source": [
      "Here English appears to have almost a [bimodal distribution](https://www.wikidata.org/wiki/Q255598#sitelinks-wikipedia), for which we are accepting your explanations of why that should be so."
     ]
    },
    {
     "cell_type": "code",
     "collapsed": false,
     "input": [
      "metric_analyse_density('articlelength',150000)"
     ],
     "language": "python",
     "metadata": {},
     "outputs": [
      {
       "output_type": "stream",
       "stream": "stdout",
       "text": [
        "Uganda (Q1036), C\u00f4te d'Ivoire (Q1008) articlelength z-scores.\n"
       ]
      },
      {
       "html": [
        "<div style=\"max-height:1000px;max-width:1500px;overflow:auto;\">\n",
        "<table border=\"1\" class=\"dataframe\">\n",
        "  <thead>\n",
        "    <tr style=\"text-align: right;\">\n",
        "      <th>language</th>\n",
        "      <th>en</th>\n",
        "      <th>fr</th>\n",
        "      <th>sw</th>\n",
        "    </tr>\n",
        "  </thead>\n",
        "  <tbody>\n",
        "    <tr>\n",
        "      <th>Q1036</th>\n",
        "      <td> 0.105196</td>\n",
        "      <td>-0.498248</td>\n",
        "      <td> 0.190613</td>\n",
        "    </tr>\n",
        "    <tr>\n",
        "      <th>Q1008</th>\n",
        "      <td> 0.335907</td>\n",
        "      <td> 2.764950</td>\n",
        "      <td>-0.244492</td>\n",
        "    </tr>\n",
        "  </tbody>\n",
        "</table>\n",
        "</div>"
       ],
       "metadata": {},
       "output_type": "pyout",
       "prompt_number": 505,
       "text": [
        "language        en        fr        sw\n",
        "Q1036     0.105196 -0.498248  0.190613\n",
        "Q1008     0.335907  2.764950 -0.244492"
       ]
      },
      {
       "metadata": {},
       "output_type": "display_data",
       "png": "[encoded data removed]",
       "text": [
        "<matplotlib.figure.Figure at 0x5fb0a50>"
       ]
      }
     ],
     "prompt_number": 505
    },
    {
     "cell_type": "markdown",
     "metadata": {},
     "source": [
      "Again C\u00f4te d'Ivoire scores a very high, 2.77, in French Wikipedia. It must be quite a long article."
     ]
    },
    {
     "cell_type": "code",
     "collapsed": false,
     "input": [
      "metric_analyse_density('referencerate', 0.01)"
     ],
     "language": "python",
     "metadata": {},
     "outputs": [
      {
       "output_type": "stream",
       "stream": "stdout",
       "text": [
        "Uganda (Q1036), C\u00f4te d'Ivoire (Q1008) referencerate z-scores.\n"
       ]
      },
      {
       "html": [
        "<div style=\"max-height:1000px;max-width:1500px;overflow:auto;\">\n",
        "<table border=\"1\" class=\"dataframe\">\n",
        "  <thead>\n",
        "    <tr style=\"text-align: right;\">\n",
        "      <th>language</th>\n",
        "      <th>en</th>\n",
        "      <th>fr</th>\n",
        "      <th>sw</th>\n",
        "    </tr>\n",
        "  </thead>\n",
        "  <tbody>\n",
        "    <tr>\n",
        "      <th>Q1036</th>\n",
        "      <td> 0.014790</td>\n",
        "      <td>-0.608334</td>\n",
        "      <td> 3.129056</td>\n",
        "    </tr>\n",
        "    <tr>\n",
        "      <th>Q1008</th>\n",
        "      <td>-1.183966</td>\n",
        "      <td> 1.663328</td>\n",
        "      <td>-0.265412</td>\n",
        "    </tr>\n",
        "  </tbody>\n",
        "</table>\n",
        "</div>"
       ],
       "metadata": {},
       "output_type": "pyout",
       "prompt_number": 503,
       "text": [
        "language        en        fr        sw\n",
        "Q1036     0.014790 -0.608334  3.129056\n",
        "Q1008    -1.183966  1.663328 -0.265412"
       ]
      },
      {
       "metadata": {},
       "output_type": "display_data",
       "png": "[encoded data removed]",
       "text": [
        "<matplotlib.figure.Figure at 0x21110a10>"
       ]
      }
     ],
     "prompt_number": 503
    },
    {
     "cell_type": "markdown",
     "metadata": {},
     "source": [
      "These results offer credibility to this techqnique because the Wikipedias of the native languages of those countries show the highest quality. For the Uganda articles performance is slightly below average in English and French but strong in Swahili. For the C\u00f4te d'Ivoire articles, the real stand out is French Wikipedia, at times 3 standard deviations above average, but again below average in other languages. So we can somewhat confidently apply this technique to other sets of articles so see what improvements could be made. Remember a weakness in any one of the 5 metrics is an indicator for a specific type of task that could be done on those articles. Next we will inspect how to determine other sets of articles to which we can apply this method."
     ]
    },
    {
     "cell_type": "heading",
     "level": 2,
     "metadata": {},
     "source": [
      "Highest Occuring Sections"
     ]
    },
    {
     "cell_type": "markdown",
     "metadata": {},
     "source": [
      "Now we will find the hightest occuring section names in Country Articles by language. The assumption we use here is that if a section name is highly occurring it is an important subject in that language."
     ]
    },
    {
     "cell_type": "code",
     "collapsed": false,
     "input": [
      "top_n_sections('fr',20)"
     ],
     "language": "python",
     "metadata": {},
     "outputs": [
      {
       "output_type": "stream",
       "stream": "stdout",
       "text": [
        "242 total articles inspected in fr.\n"
       ]
      },
      {
       "html": [
        "<table border=\"1\" class=\"dataframe\">\n",
        "  <thead>\n",
        "    <tr style=\"text-align: right;\">\n",
        "      <th>lang</th>\n",
        "      <th>secname</th>\n",
        "      <th>freq</th>\n",
        "    </tr>\n",
        "  </thead>\n",
        "  <tbody>\n",
        "    <tr>\n",
        "      <td> fr</td>\n",
        "      <td>      Liens externes</td>\n",
        "      <td> 0.904959</td>\n",
        "    </tr>\n",
        "    <tr>\n",
        "      <td> fr</td>\n",
        "      <td>            Histoire</td>\n",
        "      <td> 0.884298</td>\n",
        "    </tr>\n",
        "    <tr>\n",
        "      <td> fr</td>\n",
        "      <td>          G\u00e9ographie</td>\n",
        "      <td> 0.826446</td>\n",
        "    </tr>\n",
        "    <tr>\n",
        "      <td> fr</td>\n",
        "      <td> Notes et r\u00e9f\u00e9rences</td>\n",
        "      <td> 0.809917</td>\n",
        "    </tr>\n",
        "    <tr>\n",
        "      <td> fr</td>\n",
        "      <td>            \u00c9conomie</td>\n",
        "      <td> 0.785124</td>\n",
        "    </tr>\n",
        "    <tr>\n",
        "      <td> fr</td>\n",
        "      <td>         D\u00e9mographie</td>\n",
        "      <td> 0.752066</td>\n",
        "    </tr>\n",
        "    <tr>\n",
        "      <td> fr</td>\n",
        "      <td>           Politique</td>\n",
        "      <td> 0.685950</td>\n",
        "    </tr>\n",
        "    <tr>\n",
        "      <td> fr</td>\n",
        "      <td>          Voir aussi</td>\n",
        "      <td> 0.685950</td>\n",
        "    </tr>\n",
        "    <tr>\n",
        "      <td> fr</td>\n",
        "      <td>   Articles connexes</td>\n",
        "      <td> 0.648760</td>\n",
        "    </tr>\n",
        "    <tr>\n",
        "      <td> fr</td>\n",
        "      <td>               Codes</td>\n",
        "      <td> 0.644628</td>\n",
        "    </tr>\n",
        "    <tr>\n",
        "      <td> fr</td>\n",
        "      <td>             Culture</td>\n",
        "      <td> 0.640496</td>\n",
        "    </tr>\n",
        "    <tr>\n",
        "      <td> fr</td>\n",
        "      <td>       Bibliographie</td>\n",
        "      <td> 0.491736</td>\n",
        "    </tr>\n",
        "    <tr>\n",
        "      <td> fr</td>\n",
        "      <td>              Climat</td>\n",
        "      <td> 0.301653</td>\n",
        "    </tr>\n",
        "    <tr>\n",
        "      <td> fr</td>\n",
        "      <td>        Subdivisions</td>\n",
        "      <td> 0.301653</td>\n",
        "    </tr>\n",
        "    <tr>\n",
        "      <td> fr</td>\n",
        "      <td>             Langues</td>\n",
        "      <td> 0.289256</td>\n",
        "    </tr>\n",
        "    <tr>\n",
        "      <td> fr</td>\n",
        "      <td>               Sport</td>\n",
        "      <td> 0.243802</td>\n",
        "    </tr>\n",
        "    <tr>\n",
        "      <td> fr</td>\n",
        "      <td>           \u00c9ducation</td>\n",
        "      <td> 0.239669</td>\n",
        "    </tr>\n",
        "    <tr>\n",
        "      <td> fr</td>\n",
        "      <td>           Religions</td>\n",
        "      <td> 0.231405</td>\n",
        "    </tr>\n",
        "    <tr>\n",
        "      <td> fr</td>\n",
        "      <td>            Religion</td>\n",
        "      <td> 0.219008</td>\n",
        "    </tr>\n",
        "    <tr>\n",
        "      <td> fr</td>\n",
        "      <td>               Sant\u00e9</td>\n",
        "      <td> 0.198347</td>\n",
        "    </tr>\n",
        "  </tbody>\n",
        "</table>"
       ],
       "metadata": {},
       "output_type": "pyout",
       "prompt_number": 27,
       "text": [
        "<IPython.core.display.HTML at 0xb0077d0>"
       ]
      }
     ],
     "prompt_number": 27
    },
    {
     "cell_type": "code",
     "collapsed": false,
     "input": [
      "top_n_sections('en',20)"
     ],
     "language": "python",
     "metadata": {},
     "outputs": [
      {
       "output_type": "stream",
       "stream": "stdout",
       "text": [
        "242 total articles inspected in en.\n"
       ]
      },
      {
       "html": [
        "<table border=\"1\" class=\"dataframe\">\n",
        "  <thead>\n",
        "    <tr style=\"text-align: right;\">\n",
        "      <th>lang</th>\n",
        "      <th>secname</th>\n",
        "      <th>freq</th>\n",
        "    </tr>\n",
        "  </thead>\n",
        "  <tbody>\n",
        "    <tr>\n",
        "      <td> en</td>\n",
        "      <td>                  History</td>\n",
        "      <td> 0.954545</td>\n",
        "    </tr>\n",
        "    <tr>\n",
        "      <td> en</td>\n",
        "      <td>                  Economy</td>\n",
        "      <td> 0.888430</td>\n",
        "    </tr>\n",
        "    <tr>\n",
        "      <td> en</td>\n",
        "      <td>             Demographics</td>\n",
        "      <td> 0.876033</td>\n",
        "    </tr>\n",
        "    <tr>\n",
        "      <td> en</td>\n",
        "      <td>           External links</td>\n",
        "      <td> 0.867769</td>\n",
        "    </tr>\n",
        "    <tr>\n",
        "      <td> en</td>\n",
        "      <td>                 See also</td>\n",
        "      <td> 0.842975</td>\n",
        "    </tr>\n",
        "    <tr>\n",
        "      <td> en</td>\n",
        "      <td>                Geography</td>\n",
        "      <td> 0.822314</td>\n",
        "    </tr>\n",
        "    <tr>\n",
        "      <td> en</td>\n",
        "      <td>               References</td>\n",
        "      <td> 0.805785</td>\n",
        "    </tr>\n",
        "    <tr>\n",
        "      <td> en</td>\n",
        "      <td>                  Culture</td>\n",
        "      <td> 0.797521</td>\n",
        "    </tr>\n",
        "    <tr>\n",
        "      <td> en</td>\n",
        "      <td>                 Religion</td>\n",
        "      <td> 0.657025</td>\n",
        "    </tr>\n",
        "    <tr>\n",
        "      <td> en</td>\n",
        "      <td>                Education</td>\n",
        "      <td> 0.648760</td>\n",
        "    </tr>\n",
        "    <tr>\n",
        "      <td> en</td>\n",
        "      <td>                  Climate</td>\n",
        "      <td> 0.545455</td>\n",
        "    </tr>\n",
        "    <tr>\n",
        "      <td> en</td>\n",
        "      <td>                 Military</td>\n",
        "      <td> 0.462810</td>\n",
        "    </tr>\n",
        "    <tr>\n",
        "      <td> en</td>\n",
        "      <td> Administrative divisions</td>\n",
        "      <td> 0.438017</td>\n",
        "    </tr>\n",
        "    <tr>\n",
        "      <td> en</td>\n",
        "      <td>                 Politics</td>\n",
        "      <td> 0.438017</td>\n",
        "    </tr>\n",
        "    <tr>\n",
        "      <td> en</td>\n",
        "      <td>                   Sports</td>\n",
        "      <td> 0.396694</td>\n",
        "    </tr>\n",
        "    <tr>\n",
        "      <td> en</td>\n",
        "      <td>        Foreign relations</td>\n",
        "      <td> 0.384298</td>\n",
        "    </tr>\n",
        "    <tr>\n",
        "      <td> en</td>\n",
        "      <td>                Languages</td>\n",
        "      <td> 0.367769</td>\n",
        "    </tr>\n",
        "    <tr>\n",
        "      <td> en</td>\n",
        "      <td>                  Cuisine</td>\n",
        "      <td> 0.363636</td>\n",
        "    </tr>\n",
        "    <tr>\n",
        "      <td> en</td>\n",
        "      <td>                   Health</td>\n",
        "      <td> 0.359504</td>\n",
        "    </tr>\n",
        "    <tr>\n",
        "      <td> en</td>\n",
        "      <td>          Further reading</td>\n",
        "      <td> 0.342975</td>\n",
        "    </tr>\n",
        "  </tbody>\n",
        "</table>"
       ],
       "metadata": {},
       "output_type": "pyout",
       "prompt_number": 28,
       "text": [
        "<IPython.core.display.HTML at 0xb007490>"
       ]
      }
     ],
     "prompt_number": 28
    },
    {
     "cell_type": "code",
     "collapsed": false,
     "input": [
      "top_n_sections('sw',7)"
     ],
     "language": "python",
     "metadata": {},
     "outputs": [
      {
       "output_type": "stream",
       "stream": "stdout",
       "text": [
        "233 total articles inspected in sw.\n"
       ]
      },
      {
       "html": [
        "<table border=\"1\" class=\"dataframe\">\n",
        "  <thead>\n",
        "    <tr style=\"text-align: right;\">\n",
        "      <th>lang</th>\n",
        "      <th>secname</th>\n",
        "      <th>freq</th>\n",
        "    </tr>\n",
        "  </thead>\n",
        "  <tbody>\n",
        "    <tr>\n",
        "      <td> sw</td>\n",
        "      <td>          Historia</td>\n",
        "      <td> 0.412017</td>\n",
        "    </tr>\n",
        "    <tr>\n",
        "      <td> sw</td>\n",
        "      <td>         Jiografia</td>\n",
        "      <td> 0.334764</td>\n",
        "    </tr>\n",
        "    <tr>\n",
        "      <td> sw</td>\n",
        "      <td> {{Infobox Country</td>\n",
        "      <td> 0.334764</td>\n",
        "    </tr>\n",
        "    <tr>\n",
        "      <td> sw</td>\n",
        "      <td>    Viungo vya nje</td>\n",
        "      <td> 0.330472</td>\n",
        "    </tr>\n",
        "    <tr>\n",
        "      <td> sw</td>\n",
        "      <td>        Tazama pia</td>\n",
        "      <td> 0.184549</td>\n",
        "    </tr>\n",
        "    <tr>\n",
        "      <td> sw</td>\n",
        "      <td> {{Infobox country</td>\n",
        "      <td> 0.175966</td>\n",
        "    </tr>\n",
        "    <tr>\n",
        "      <td> sw</td>\n",
        "      <td>    Viungo vya Nje</td>\n",
        "      <td> 0.154506</td>\n",
        "    </tr>\n",
        "  </tbody>\n",
        "</table>"
       ],
       "metadata": {},
       "output_type": "pyout",
       "prompt_number": 29,
       "text": [
        "<IPython.core.display.HTML at 0xb0072d0>"
       ]
      }
     ],
     "prompt_number": 29
    },
    {
     "cell_type": "markdown",
     "metadata": {},
     "source": [
      "Looking at the most frequent sections in each what patterns emerge? First let us acknowledge that some of the sections here are not conent - like \"Notes\" and \"References\". The 'leader' section - the section before any named sections - usually startts with a code to include the Infobox Country in Swahili, which is where that cryptic result comes from. Ignoring non-content sections though there is a clear Winner in all three languages - _History_. \n",
      "\n",
      "In all three languages History is the one section you can most rely on being there, occurring in 88% of French, 95% of English and 41% of Swahili country articles. In Swahili and French, the second most popular sections are Geography, but in English it's Economy. So this informs us on which Wikipedia Categories to apply our metrics on next the: History, Economy, and Geography categories."
     ]
    },
    {
     "cell_type": "heading",
     "level": 2,
     "metadata": {},
     "source": [
      "Subject and Nation Analysis"
     ]
    },
    {
     "cell_type": "markdown",
     "metadata": {},
     "source": [
      "Given that we now have the top sections for each language, we devise a method to look at representative articles. We find a Category in each Wikipedia for each subject in our highest occurring section headings and for each major nation associated with our languages.\n",
      "We create a script to present every article in every category and all its recursive subcategories to a human judge. The full list of categories for the second part of this analysis comes from is:"
     ]
    },
    {
     "cell_type": "code",
     "collapsed": false,
     "input": [
      "categoryjson = json.load(open('ethnosets-categories-capitalized.json','r'))\n",
      "for subject, nationdict in categoryjson.iteritems():\n",
      "    print subject\n",
      "    for nation, langdict in nationdict.iteritems():\n",
      "        print \" |---\"  + nation\n",
      "        for lang in ['fr','en','sw']:\n",
      "            try:\n",
      "                print\"    |---\" + langdict[lang]\n",
      "            except:\n",
      "                pass"
     ],
     "language": "python",
     "metadata": {},
     "outputs": [
      {
       "output_type": "stream",
       "stream": "stdout",
       "text": [
        "Geography\n",
        " |---C\u00f4te d'Ivoire\n",
        "    |---Cat\u00e9gorie:G\u00e9ographie_de_la_C\u00f4te_d'Ivoire\n",
        "    |---Geography_of_Ivory_Coast\n",
        "    |---Jamii:Jiografia_ya_Cote_d'Ivoire\n",
        " |---USA\n",
        "    |---Cat\u00e9gorie:G\u00e9ographie_des_\u00c9tats-Unis\n",
        "    |---Category:Geography_of_the_United_States\n",
        "    |---Jamii:Jiografia_ya_Marekani\n",
        " |---Uganda\n",
        "    |---Cat\u00e9gorie:G\u00e9ographie_de_l'Ouganda\n",
        "    |---Category:Geography_of_Uganda\n",
        "    |---Jamii:Jiografia_ya_Uganda\n",
        " |---France\n",
        "    |---Cat\u00e9gorie:G\u00e9ographie_de_la_France\n",
        "    |---Category:Geography_of_France\n",
        "History\n",
        " |---C\u00f4te d'Ivoire\n",
        "    |---Cat\u00e9gorie:Histoire_de_la_C\u00f4te_d'Ivoire\n",
        "    |---Category:History_of_Ivory_Coast\n",
        " |---Uganda\n",
        "    |---Cat\u00e9gorie:Histoire_de_l'Ouganda\n",
        "    |---Category:History_of_Uganda\n",
        "    |---Jamii:Historia_ya_Uganda\n",
        " |---USA\n",
        "    |---Cat\u00e9gorie:Histoire_des_\u00c9tats-Unis\n",
        "    |---Category:History_of_the_United_States\n",
        "    |---Jamii:Historia_ya_Marekani\n",
        " |---France\n",
        "    |---Cat\u00e9gorie:Histoire_de_France\n",
        "    |---Category:History_of_France\n",
        "    |---Jamii:Historia_ya_Ufaransa\n",
        "Economy\n",
        " |---C\u00f4te d'Ivoire\n",
        "    |---Cat\u00e9gorie:\u00c9conomie_de_la_C\u00f4te_d'Ivoire\n",
        "    |---Category:Economy_of_Ivory_Coast\n",
        "    |---Jamii:Uchumi_wa_Cote_d'Ivoire\n",
        " |---USA\n",
        "    |---Cat\u00e9gorie:\u00c9conomie_des_\u00c9tats-Unis\n",
        "    |---Category:Economy_of_the_United_States\n",
        "    |---Jamii:Uchumi_wa_Marekani\n",
        " |---Uganda\n",
        "    |---Cat\u00e9gorie:\u00c9conomie_de_l'Ouganda\n",
        "    |---Category:Economy_of_Uganda\n",
        "    |---Jamii:Uchumi_wa_Uganda\n",
        " |---France\n",
        "    |---Cat\u00e9gorie:\u00c9conomie_de_la_France\n",
        "    |---Category:Economy_of_France\n",
        "    |---Jamii:Uchumi wa Ufaransa\n"
       ]
      }
     ],
     "prompt_number": 266
    },
    {
     "cell_type": "markdown",
     "metadata": {},
     "source": [
      "Looking at every title of every article in every subcategory of these categories, a human (your author) accepted or rejected each article. The purpose of this filtering process was to remove noise, such as articles about economists out of Econom, or highschools out of Geography, while being able to select articles from many diverse categories. In the end we accepted a total of:"
     ]
    },
    {
     "cell_type": "code",
     "collapsed": false,
     "input": [
      "ethnosets = !ls ethnosets/\n",
      "reduce(lambda a, b: a+b, map(lambda l: len(l), map(lambda f: json.load(open('ethnosets/'+f)), ethnosets)))"
     ],
     "language": "python",
     "metadata": {},
     "outputs": [
      {
       "metadata": {},
       "output_type": "pyout",
       "prompt_number": 271,
       "text": [
        "24630"
       ]
      }
     ],
     "prompt_number": 271
    },
    {
     "cell_type": "markdown",
     "metadata": {},
     "source": [
      "24630 Articles which were fetched as live data off Wikipedia. Live so that we could compare the results after any editing efforts. We used Wikimedia labs for the [data pull script](https://github.com/notconfusing/kumusha_takes_wiki/blob/master/big_data_pull_by_subject.py) if you are interested. Then for each of those articles we ask Wikidata to give us the page if possible in all our desired languages. And then on all those pages we call the Actionable Metrics as described earlier. \n",
      "\n",
      "If you are keeping track that means we have four active variables: \n",
      "\n",
      "1. the Nation, \n",
      "2. the Wikipedia language, \n",
      "3. the subject, and \n",
      "4. the metric type.\n",
      "\n",
      "\n",
      "Below is a matrix of heatmaps displaying the mean average - not the full distribution as we previously graphed - of the specified metrics versus specified subjects. In the inner dimensions we graph across all pages in a specified language versus a specified nation. That is If you look at any individual heatmap you can see it compares a Wikipedia language and a nation. Looking down the rows of the greater matrix we have varying metric types, and looking down the columns of the greater matrix we have the subject categories."
     ]
    },
    {
     "cell_type": "code",
     "collapsed": false,
     "input": [
      "make_heat_map()"
     ],
     "language": "python",
     "metadata": {},
     "outputs": [
      {
       "metadata": {},
       "output_type": "display_data",
       "png": "[encoded data removed]",
       "text": [
        "<matplotlib.figure.Figure at 0xb8b55d0>"
       ]
      }
     ],
     "prompt_number": 146
    },
    {
     "cell_type": "heading",
     "level": 3,
     "metadata": {},
     "source": [
      "Analysis\n"
     ]
    },
    {
     "cell_type": "markdown",
     "metadata": {},
     "source": [
      "This heatmap can act as a guide to where one could find good examples of articles. Say for istance you wanted to improve History articles of Uganda. First look at the vertical History column and within it, the vertical Uganda column. Then moving your eyes up and down you can see that while English Wikipedia has the best reference rate, French Wikipedia has a slightly higher code & images score, which would be differently useful depending on how you wanted to improve these articles.\n",
      "\n",
      "For Economy, we can see that the clearest horizontal band across each metric is English. This is a promising result because we knew that English unlike French or Swahili placed more of an emphasis on Economy in their country articles. However if we take a by-nation approach we see that the bluest square is almost always in the France column, not in the USA column. Yet, wouldn't we expect that if English values Economy, that Economy of the USA articles would perform most strongly? One exlpanation is that ther are so many English USA company articles that infact the _average_ quality is brought down. Some data that would give creedence to this idea is that English articles about France's economy outperform in the _code and images_ metric. Often bot opertions will leave a lot of templated code, on many relatively obscure articles for which this could be a trace. For instance in Economy articles then, it would be recommended to look at French articles of France for written quality, and English for templating ideas.\n",
      "\n",
      "Looking in the History column, in each of the metric-rows there is strong horizontal band of blue in the French sub-row. This indicates that French history articles are good across most nations. Except in the bottom two metrics, Article length and references per article, English seems to outperform, particularly for Uganda and the USA. Swahili here performs better for the USA than for Uganda. In fact in the Swahili band, many datapoints do not register because there are 25 or less articles in question (see caveat below). However within the Uganda column, English and French do register, we can interpret these as translation opportunities to get more Swahili content. As for C\u00f4te d'Ivoire, we also find that in all but referencing French does better than English. This would suggest that for C\u00f4te d'Ivoire's history, they unfortunately have no better direct examples to follow (but they do have French history to look up to).\n",
      "\n",
      "Moving to Geography, a notable pattern is the domination of French Wikipedia about France in - again - all but the referencing metric. We encounter some movement from Swahili Wikipedia for the first time. You can see two fainter, but still noticeable vertical strips in C\u00f4te d'Ivoire and Uganda for all Wikipedia languages. So actually this means that Geogrpahy is the relative strong point for these African countries. To improve their relative content coverage Swahili editors would do better to focus on Economy and History if they wanted to work on the more-needed areas of their Wikipedia. And within all the things they could do, we see the bluest points within code and images, which is likely from bot-created Africa place articles. The needed places to improve those articles are section count and article length which for English and French about France, and English about USA could best be a guide."
     ]
    },
    {
     "cell_type": "heading",
     "level": 4,
     "metadata": {},
     "source": [
      "Caveats"
     ]
    },
    {
     "cell_type": "markdown",
     "metadata": {},
     "source": [
      "Since we are using the mean average, sometimes if there are not a lot of pages in a language for a category, if one of the pages is particularly impressive then the average can appear high without it meaning that language is a useful information source. This occurred for instance Swahili Economy of France in Wikilinks. We set a threshold minimum number of contributing articles in a heatmap to 25 to reduce this noise, so a white square will appear if there were less than 25 articles. All subject-nations not meeting this threshold can be found in the code appendix. In fact these are the total counts of how many articles are being considered in each group."
     ]
    },
    {
     "cell_type": "code",
     "collapsed": false,
     "input": [
      "display_article_counts()display_article_counts()"
     ],
     "language": "python",
     "metadata": {},
     "outputs": [
      {
       "html": [
        "<table border=\"1\" class=\"dataframe\">\n",
        "  <thead>\n",
        "    <tr style=\"text-align: right;\">\n",
        "      <th>subj</th>\n",
        "      <th>nation</th>\n",
        "      <th>lang</th>\n",
        "      <th>count</th>\n",
        "    </tr>\n",
        "  </thead>\n",
        "  <tbody>\n",
        "    <tr>\n",
        "      <td> geography</td>\n",
        "      <td> usa</td>\n",
        "      <td> en</td>\n",
        "      <td> 7376</td>\n",
        "    </tr>\n",
        "    <tr>\n",
        "      <td> geography</td>\n",
        "      <td> fra</td>\n",
        "      <td> fr</td>\n",
        "      <td> 4201</td>\n",
        "    </tr>\n",
        "    <tr>\n",
        "      <td>   economy</td>\n",
        "      <td> usa</td>\n",
        "      <td> en</td>\n",
        "      <td> 3303</td>\n",
        "    </tr>\n",
        "    <tr>\n",
        "      <td>   history</td>\n",
        "      <td> fra</td>\n",
        "      <td> fr</td>\n",
        "      <td> 3135</td>\n",
        "    </tr>\n",
        "    <tr>\n",
        "      <td>   economy</td>\n",
        "      <td> fra</td>\n",
        "      <td> fr</td>\n",
        "      <td> 1962</td>\n",
        "    </tr>\n",
        "    <tr>\n",
        "      <td>   history</td>\n",
        "      <td> usa</td>\n",
        "      <td> en</td>\n",
        "      <td> 1756</td>\n",
        "    </tr>\n",
        "    <tr>\n",
        "      <td>   history</td>\n",
        "      <td> fra</td>\n",
        "      <td> en</td>\n",
        "      <td> 1322</td>\n",
        "    </tr>\n",
        "    <tr>\n",
        "      <td> geography</td>\n",
        "      <td> cdi</td>\n",
        "      <td> fr</td>\n",
        "      <td> 1249</td>\n",
        "    </tr>\n",
        "    <tr>\n",
        "      <td> geography</td>\n",
        "      <td> cdi</td>\n",
        "      <td> en</td>\n",
        "      <td> 1139</td>\n",
        "    </tr>\n",
        "    <tr>\n",
        "      <td> geography</td>\n",
        "      <td> usa</td>\n",
        "      <td> fr</td>\n",
        "      <td> 1135</td>\n",
        "    </tr>\n",
        "    <tr>\n",
        "      <td> geography</td>\n",
        "      <td> fra</td>\n",
        "      <td> en</td>\n",
        "      <td> 1103</td>\n",
        "    </tr>\n",
        "    <tr>\n",
        "      <td>   economy</td>\n",
        "      <td> fra</td>\n",
        "      <td> en</td>\n",
        "      <td>  971</td>\n",
        "    </tr>\n",
        "    <tr>\n",
        "      <td> geography</td>\n",
        "      <td> uga</td>\n",
        "      <td> en</td>\n",
        "      <td>  602</td>\n",
        "    </tr>\n",
        "    <tr>\n",
        "      <td>   history</td>\n",
        "      <td> usa</td>\n",
        "      <td> fr</td>\n",
        "      <td>  473</td>\n",
        "    </tr>\n",
        "    <tr>\n",
        "      <td>   economy</td>\n",
        "      <td> usa</td>\n",
        "      <td> fr</td>\n",
        "      <td>  397</td>\n",
        "    </tr>\n",
        "    <tr>\n",
        "      <td>   history</td>\n",
        "      <td> uga</td>\n",
        "      <td> en</td>\n",
        "      <td>  320</td>\n",
        "    </tr>\n",
        "    <tr>\n",
        "      <td> geography</td>\n",
        "      <td> usa</td>\n",
        "      <td> sw</td>\n",
        "      <td>  288</td>\n",
        "    </tr>\n",
        "    <tr>\n",
        "      <td> geography</td>\n",
        "      <td> uga</td>\n",
        "      <td> fr</td>\n",
        "      <td>  219</td>\n",
        "    </tr>\n",
        "    <tr>\n",
        "      <td> geography</td>\n",
        "      <td> uga</td>\n",
        "      <td> sw</td>\n",
        "      <td>  183</td>\n",
        "    </tr>\n",
        "    <tr>\n",
        "      <td>   history</td>\n",
        "      <td> cdi</td>\n",
        "      <td> en</td>\n",
        "      <td>  115</td>\n",
        "    </tr>\n",
        "    <tr>\n",
        "      <td> geography</td>\n",
        "      <td> cdi</td>\n",
        "      <td> sw</td>\n",
        "      <td>  111</td>\n",
        "    </tr>\n",
        "    <tr>\n",
        "      <td>   history</td>\n",
        "      <td> uga</td>\n",
        "      <td> fr</td>\n",
        "      <td>  110</td>\n",
        "    </tr>\n",
        "    <tr>\n",
        "      <td>   economy</td>\n",
        "      <td> cdi</td>\n",
        "      <td> fr</td>\n",
        "      <td>  107</td>\n",
        "    </tr>\n",
        "    <tr>\n",
        "      <td>   history</td>\n",
        "      <td> cdi</td>\n",
        "      <td> fr</td>\n",
        "      <td>   84</td>\n",
        "    </tr>\n",
        "    <tr>\n",
        "      <td>   economy</td>\n",
        "      <td> uga</td>\n",
        "      <td> en</td>\n",
        "      <td>   78</td>\n",
        "    </tr>\n",
        "    <tr>\n",
        "      <td>   history</td>\n",
        "      <td> usa</td>\n",
        "      <td> sw</td>\n",
        "      <td>   39</td>\n",
        "    </tr>\n",
        "    <tr>\n",
        "      <td>   economy</td>\n",
        "      <td> cdi</td>\n",
        "      <td> en</td>\n",
        "      <td>   39</td>\n",
        "    </tr>\n",
        "    <tr>\n",
        "      <td>   economy</td>\n",
        "      <td> uga</td>\n",
        "      <td> sw</td>\n",
        "      <td>   11</td>\n",
        "    </tr>\n",
        "    <tr>\n",
        "      <td>   economy</td>\n",
        "      <td> usa</td>\n",
        "      <td> sw</td>\n",
        "      <td>   10</td>\n",
        "    </tr>\n",
        "    <tr>\n",
        "      <td>   economy</td>\n",
        "      <td> uga</td>\n",
        "      <td> fr</td>\n",
        "      <td>   10</td>\n",
        "    </tr>\n",
        "    <tr>\n",
        "      <td>   history</td>\n",
        "      <td> fra</td>\n",
        "      <td> sw</td>\n",
        "      <td>    8</td>\n",
        "    </tr>\n",
        "    <tr>\n",
        "      <td> geography</td>\n",
        "      <td> fra</td>\n",
        "      <td> sw</td>\n",
        "      <td>    6</td>\n",
        "    </tr>\n",
        "    <tr>\n",
        "      <td>   economy</td>\n",
        "      <td> fra</td>\n",
        "      <td> sw</td>\n",
        "      <td>    5</td>\n",
        "    </tr>\n",
        "    <tr>\n",
        "      <td>   history</td>\n",
        "      <td> uga</td>\n",
        "      <td> sw</td>\n",
        "      <td>    3</td>\n",
        "    </tr>\n",
        "    <tr>\n",
        "      <td>   economy</td>\n",
        "      <td> cdi</td>\n",
        "      <td> sw</td>\n",
        "      <td>    1</td>\n",
        "    </tr>\n",
        "  </tbody>\n",
        "</table>"
       ],
       "metadata": {},
       "output_type": "pyout",
       "prompt_number": 52,
       "text": [
        "<IPython.core.display.HTML at 0x559f050>"
       ]
      }
     ],
     "prompt_number": 52
    },
    {
     "cell_type": "heading",
     "level": 3,
     "metadata": {},
     "source": [
      "Top Templates by Subject and Nation"
     ]
    },
    {
     "cell_type": "markdown",
     "metadata": {},
     "source": [
      "The previous approach of looking at the top section heading, was not very useful here because within a broad category like \"Economy\" or \"Geography\" there are too many sub-subjects which have different expected flavours of section headings. The code appendix shows the results of this experimentation. Instead we look at the top templates, to see if sepecific quality flaws could be identified using the techniques of [Stein's Quality Flaws](http://www.uni-weimar.de/medien/webis/publications/papers/stein_2012i.pdf). Regretably this study only disucsses English Wikipedia, so here we would need a French or Kiswhaili Wikipedian to identify the top Clean-up tags in French Wikipedia. While \"Citaiton neeed\" does appear for some categories neither \"Citation n\u00e9cessaire\" nor \"Ukweli\" crops up, so this indicates maybe a direct translation is not possible.\n",
      "\n",
      "In fact all of the most common clean-up tags make no apperance in our top 20 of each subject-nation files, except \"Citation needed\". These subject-nation combinations have the highest incidence of \"Citation needed\":\n",
      "\n",
      "    Subject-nation| Frequency of \"citation needed\" (per article)\n",
      "\n",
      "    history-usa   |  0.501708\n",
      "    economy-fra   |  0.282183\n",
      "    economy-usa   |  0.270058\n",
      "    history-fra   |  0.226929\n",
      "    history-cdi   |  0.173913\n",
      "    geography-usa |  0.154013\n",
      "    economy-cdi   |  0.128205\n",
      "\n",
      "This probably  highlights lack of tagging with clean-up templates more than anything. It seems counter-intuitive that the more highly scoring subject-nations would also need more citing that those which scored less is all other areas. Our sample of Wikipedia articles here is too small for, or is otherwise somehow not the right application for this cleanup tag analysis.\n",
      "\n",
      "Still, looking over the data one can see that other citation templates feature highly. Therefore we can investigate the relative types of Citations used.  We do this only in English Wikipedia for lack of understanding of French and Swahili citation philosophies.\n",
      "\n",
      "First we retrive the statistics for _all occurences_ of English Wikipeda Citation templates from Wikimedia labs, and then convert them into a proportion.\n",
      "\n",
      "    MariaDB [enwiki_p]> select tl_title, count(*) from templatelinks where tl_title like 'Cite_web' or tl_title like 'Cite_news' or tl_title like 'Cite_journal' or tl_title like 'Cite_book' group by tl_title;\n",
      "    +--------------+----------+\n",
      "    | tl_title     | count(*) |\n",
      "    +--------------+----------+\n",
      "    | Cite_book    |   536258 |\n",
      "    | Cite_journal |   328129 |\n",
      "    | Cite_news    |   444447 |\n",
      "    | Cite_web     |  1560207 |\n",
      "    +--------------+----------+\n",
      "    4 rows in set (11 min 36.68 sec)\n",
      "    \n",
      "This global statistic, serves as a benchmark for all the compositions we can infer from our Top template work if we consider all the occurences of _Cite book, Cite Journal, Cite News, and Cite web_ from our subject-nation files. See below the graphical reperesentation."
     ]
    },
    {
     "cell_type": "code",
     "collapsed": false,
     "input": [
      "make_cite_plot()"
     ],
     "language": "python",
     "metadata": {},
     "outputs": [
      {
       "metadata": {},
       "output_type": "display_data",
       "png": "[encoded data removed]",
       "text": [
        "<matplotlib.figure.Figure at 0xbaaf790>"
       ]
      }
     ],
     "prompt_number": 125
    },
    {
     "cell_type": "markdown",
     "metadata": {},
     "source": [
      "Immediately _Geography_ seems to be less diversely cited for all nations. We can also see signs that _Economy_ on the whole has more news citations, and that _History_ on average utilises more book citations. However the more major fact seems to be that Web citations are almost always more than half. Notably, when they are not, we have 2 out of 3 being heavy news citations in History of C\u00f4te d'Ivoire and History of Uganda. \n",
      "\n",
      "All of this should be quite reassuring. A main disadvantage facing African content, previously postulated, was the lack of citable sources. That problem is exacerbated if we consider only printed historical works as useful to expanding content. However since across the board citations are not heavily reliant on books or journals - even in the Encyclopedia's strong suites like the Economy of the USA - citing should be less of an impediment to Kumusha Takes Wiki editors."
     ]
    },
    {
     "cell_type": "heading",
     "level": 3,
     "metadata": {},
     "source": [
      "Coordinate Frequncies"
     ]
    },
    {
     "cell_type": "markdown",
     "metadata": {},
     "source": [
      "As a curiosity, we investigate the frequnency of occurence of the [geo-coordinate template](http://www.wikidata.org/wiki/Q6294369#sitelinks-wikipedia) in our subject-nation sets."
     ]
    },
    {
     "cell_type": "code",
     "collapsed": false,
     "input": [
      "coordinate_frequencies()"
     ],
     "language": "python",
     "metadata": {},
     "outputs": [
      {
       "html": [
        "<table border=\"1\" class=\"dataframe\">\n",
        "  <thead>\n",
        "    <tr style=\"text-align: right;\">\n",
        "      <th>subj</th>\n",
        "      <th>nation</th>\n",
        "      <th>lang</th>\n",
        "      <th>coord_count</th>\n",
        "      <th>freq</th>\n",
        "    </tr>\n",
        "  </thead>\n",
        "  <tbody>\n",
        "    <tr>\n",
        "      <td> geography</td>\n",
        "      <td> usa</td>\n",
        "      <td> en</td>\n",
        "      <td> 6859</td>\n",
        "      <td>   0.9299078</td>\n",
        "    </tr>\n",
        "    <tr>\n",
        "      <td> geography</td>\n",
        "      <td> uga</td>\n",
        "      <td> en</td>\n",
        "      <td>  550</td>\n",
        "      <td>   0.9136213</td>\n",
        "    </tr>\n",
        "    <tr>\n",
        "      <td> geography</td>\n",
        "      <td> fra</td>\n",
        "      <td> en</td>\n",
        "      <td>  781</td>\n",
        "      <td>   0.7080689</td>\n",
        "    </tr>\n",
        "    <tr>\n",
        "      <td>   economy</td>\n",
        "      <td> uga</td>\n",
        "      <td> en</td>\n",
        "      <td>   42</td>\n",
        "      <td>   0.5384615</td>\n",
        "    </tr>\n",
        "    <tr>\n",
        "      <td> geography</td>\n",
        "      <td> cdi</td>\n",
        "      <td> en</td>\n",
        "      <td>  490</td>\n",
        "      <td>   0.4302019</td>\n",
        "    </tr>\n",
        "    <tr>\n",
        "      <td> geography</td>\n",
        "      <td> cdi</td>\n",
        "      <td> fr</td>\n",
        "      <td>  428</td>\n",
        "      <td>   0.3426741</td>\n",
        "    </tr>\n",
        "    <tr>\n",
        "      <td> geography</td>\n",
        "      <td> usa</td>\n",
        "      <td> fr</td>\n",
        "      <td>  360</td>\n",
        "      <td>   0.3171806</td>\n",
        "    </tr>\n",
        "    <tr>\n",
        "      <td>   history</td>\n",
        "      <td> usa</td>\n",
        "      <td> en</td>\n",
        "      <td>  510</td>\n",
        "      <td>   0.2904328</td>\n",
        "    </tr>\n",
        "    <tr>\n",
        "      <td> geography</td>\n",
        "      <td> fra</td>\n",
        "      <td> fr</td>\n",
        "      <td>  792</td>\n",
        "      <td>   0.1885265</td>\n",
        "    </tr>\n",
        "    <tr>\n",
        "      <td> geography</td>\n",
        "      <td> fra</td>\n",
        "      <td> sw</td>\n",
        "      <td>    1</td>\n",
        "      <td>   0.1666667</td>\n",
        "    </tr>\n",
        "    <tr>\n",
        "      <td>   economy</td>\n",
        "      <td> cdi</td>\n",
        "      <td> en</td>\n",
        "      <td>    6</td>\n",
        "      <td>   0.1538462</td>\n",
        "    </tr>\n",
        "    <tr>\n",
        "      <td>   history</td>\n",
        "      <td> fra</td>\n",
        "      <td> en</td>\n",
        "      <td>  202</td>\n",
        "      <td>   0.1527988</td>\n",
        "    </tr>\n",
        "    <tr>\n",
        "      <td>   economy</td>\n",
        "      <td> usa</td>\n",
        "      <td> fr</td>\n",
        "      <td>   43</td>\n",
        "      <td>   0.1083123</td>\n",
        "    </tr>\n",
        "    <tr>\n",
        "      <td> geography</td>\n",
        "      <td> uga</td>\n",
        "      <td> fr</td>\n",
        "      <td>   23</td>\n",
        "      <td>   0.1050228</td>\n",
        "    </tr>\n",
        "    <tr>\n",
        "      <td>   economy</td>\n",
        "      <td> usa</td>\n",
        "      <td> en</td>\n",
        "      <td>  345</td>\n",
        "      <td>   0.1044505</td>\n",
        "    </tr>\n",
        "    <tr>\n",
        "      <td>   economy</td>\n",
        "      <td> fra</td>\n",
        "      <td> en</td>\n",
        "      <td>   91</td>\n",
        "      <td>  0.09371782</td>\n",
        "    </tr>\n",
        "    <tr>\n",
        "      <td>   history</td>\n",
        "      <td> usa</td>\n",
        "      <td> fr</td>\n",
        "      <td>   42</td>\n",
        "      <td>  0.08879493</td>\n",
        "    </tr>\n",
        "    <tr>\n",
        "      <td>   history</td>\n",
        "      <td> uga</td>\n",
        "      <td> en</td>\n",
        "      <td>   16</td>\n",
        "      <td>        0.05</td>\n",
        "    </tr>\n",
        "    <tr>\n",
        "      <td> geography</td>\n",
        "      <td> uga</td>\n",
        "      <td> sw</td>\n",
        "      <td>    6</td>\n",
        "      <td>  0.03278689</td>\n",
        "    </tr>\n",
        "    <tr>\n",
        "      <td>   economy</td>\n",
        "      <td> fra</td>\n",
        "      <td> fr</td>\n",
        "      <td>   62</td>\n",
        "      <td>  0.03160041</td>\n",
        "    </tr>\n",
        "    <tr>\n",
        "      <td>   history</td>\n",
        "      <td> fra</td>\n",
        "      <td> fr</td>\n",
        "      <td>   94</td>\n",
        "      <td>  0.02998405</td>\n",
        "    </tr>\n",
        "    <tr>\n",
        "      <td>   economy</td>\n",
        "      <td> cdi</td>\n",
        "      <td> fr</td>\n",
        "      <td>    2</td>\n",
        "      <td>  0.01869159</td>\n",
        "    </tr>\n",
        "    <tr>\n",
        "      <td>   history</td>\n",
        "      <td> cdi</td>\n",
        "      <td> en</td>\n",
        "      <td>    1</td>\n",
        "      <td> 0.008695652</td>\n",
        "    </tr>\n",
        "    <tr>\n",
        "      <td> geography</td>\n",
        "      <td> usa</td>\n",
        "      <td> sw</td>\n",
        "      <td>    1</td>\n",
        "      <td> 0.003472222</td>\n",
        "    </tr>\n",
        "  </tbody>\n",
        "</table>"
       ],
       "metadata": {},
       "output_type": "pyout",
       "prompt_number": 12,
       "text": [
        "<IPython.core.display.HTML at 0xa442ed0>"
       ]
      }
     ],
     "prompt_number": 12
    },
    {
     "cell_type": "markdown",
     "metadata": {},
     "source": [
      "There are some sets that show to be almost entirely tagged with the coordinate template. In English the nations with the closets cultural ties have higher frequencies of coordinate tagging, which is what those familiar with English Wikipedia would expect. But French Wikipedia does not seem to follow the same trends. The perencatage of coordinate-tagged geography of France in French (18%), seems low  compared to the Geography of USA in English (93%). This seems especially odd as both C\u00f4te d'Ivoire and USA, have higher coordinate template frequencies than France herself. Unlike English Wikipedia as the coordinate tagging is inversely proportial to cultural ties - a proxy for domain expertise. This could be related to French-wikipedia categorization techniques. Recall we are looking at all the subcategories of \"[insert subject] of [insert snation]\", so it could be that there are types of Geography articles that exist in French Wikipedia, that are not tied to a coordinate. Those would be sort of \"non-obvious\", non-coordinate articles and would more likely to be written about France in the French Wikipedia. This would be supported by the fact that that the total articles with coordinates about France is almost the same in our sets, in both English and French, but the French set is simply larger, containing more non-coordinate tagged articles."
     ]
    },
    {
     "cell_type": "heading",
     "level": 2,
     "metadata": {},
     "source": [
      "Conclusions"
     ]
    },
    {
     "cell_type": "markdown",
     "metadata": {},
     "source": [
      "Our main task was to understand what makes a good article with respect to a nation. Despite the question's subjectivity, there are facts we have shown about the current state of Wikipedia, and if you consider any of them \"useful\" then you can try to emulate them. Our main findings are that when it comes to a encyclopedically desrcibing a nation, all of English, French and Swahili Wikipedias most often write about the nation's history. French and Swahili then consider Geography next most important, while English thinks it Economy. We have created a graphical guide involving our 3 languages, 3 subjects, 4 nations, and 5 metrics. One can consult this guide to know where work needs to be done, and which areas of our Wikipedias to look for as an example. Lastly we determined that we do not have much information about where users have left requests for improvement to the countries in question, but if English Wikipedia is a model, then Web citations are usually sufficient."
     ]
    },
    {
     "cell_type": "heading",
     "level": 3,
     "metadata": {},
     "source": [
      "Further Directons"
     ]
    },
    {
     "cell_type": "markdown",
     "metadata": {},
     "source": [
      "The way in which the swaths of articles were chosen for the subject-nation sets could be unsatisfactory for several reasons. Firstly the category system may not accurately represnt a Wikipedia's available items on a subject. Secondly, since the process involved a human judge, error is certainly introduced. A better way of determining these subject-nation sets would be useful. Also, no by-hand human-reading investigation was done on those sets, instead we opted for algorithmic methods. If a sound methodology for the human analysis of pages is available, that would be a good technique to compare to the algorithmic ones presented here."
     ]
    },
    {
     "cell_type": "heading",
     "level": 2,
     "metadata": {},
     "source": [
      "Start of Supporting Code"
     ]
    },
    {
     "cell_type": "markdown",
     "metadata": {},
     "source": [
      "Code also available by git on github https://github.com/notconfusing/kumusha_takes_wiki"
     ]
    },
    {
     "cell_type": "code",
     "collapsed": false,
     "input": [
      "#Infonoise metric of Stvilia (2005) in concept, although the implementation may differ since we are not stopping and stemming words, because of the multiple languages we need to handle\n",
      "\n",
      "def readable_text_length(wikicode):\n",
      "    #could also use wikicode.filter_text()\n",
      "    return float(len(wikicode.strip_code()))\n",
      "\n",
      "def infonoise(wikicode):\n",
      "    wikicode.strip_code()\n",
      "    ratio = readable_text_length(wikicode) / float(len(wikicode))\n",
      "    return ratio\n",
      "\n",
      "#Helper function to mine for section headings, of course if there is a lead it doesn't quite make sense.\n",
      "\n",
      "def section_headings(wikicode):\n",
      "    sections = wikicode.get_sections()\n",
      "    sec_headings = map( lambda s: filter( lambda l: l != '=', s), map(lambda a: a.split(sep='\\n', maxsplit=1)[0], sections))\n",
      "    return sec_headings\n",
      "\n",
      "#i don't know why mwparserfromhell's .fitler_tags() isn't working at the moment. going to hack it for now\n",
      "import re\n",
      "def num_refs(wikicode):\n",
      "    text = str(wikicode)\n",
      "    reftags = re.findall('<(\\ )*?ref', text)\n",
      "    return len(reftags)\n",
      "\n",
      "def article_refs(wikicode):\n",
      "    sections = wikicode.get_sections()\n",
      "    return float(reduce( lambda a,b: a+b ,map(num_refs, sections)))\n",
      "\n",
      "#Predicate for links and files in English French and Swahili\n",
      "\n",
      "def link_a_file(linkstr):\n",
      "    fnames = [u'File:', u'Fichier:', u'Image:', u'Picha:']\n",
      "    bracknames = map(lambda a: '[[' + a, fnames)\n",
      "    return any(map(lambda b: linkstr.startswith(b), bracknames))\n",
      "\n",
      "def link_a_cat(linkstr):\n",
      "    cnames =[u'Category:', u'Cat\u00e9gorie:', u'Jamii:']\n",
      "    bracknames = map(lambda a: '[[' + a, cnames)\n",
      "    return any(map(lambda b: linkstr.startswith(b), bracknames))\n",
      "\n",
      "def num_reg_links(wikicode):\n",
      "    reg_links = filter(lambda a: not link_a_file(a) and not link_a_cat(a), wikicode.filter_wikilinks())\n",
      "    return float(len(reg_links))\n",
      "\n",
      "def num_file_links(wikicode):\n",
      "    file_links = filter(lambda a: link_a_file(a), wikicode.filter_wikilinks())\n",
      "    return float(len(file_links))"
     ],
     "language": "python",
     "metadata": {},
     "outputs": [],
     "prompt_number": 1
    },
    {
     "cell_type": "code",
     "collapsed": false,
     "input": [
      "import pywikibot\n",
      "import mwparserfromhell as pfh\n",
      "import os\n",
      "import datetime\n",
      "import pandas as pd\n",
      "import json\n",
      "from collections import defaultdict\n",
      "from ggplot import *\n",
      "import operator\n",
      "from IPython.display import HTML\n",
      "\n",
      "%pylab inline\n",
      "\n",
      "\n",
      "langs = ['en','fr','sw']\n",
      "nations = ['usa', 'fra', 'cdi', 'uga']\n",
      "\n",
      "wikipedias = {lang: pywikibot.Site(lang, 'wikipedia') for lang in langs}\n",
      "wikidata = wikipedias['fr'].data_repository()"
     ],
     "language": "python",
     "metadata": {},
     "outputs": [
      {
       "output_type": "stream",
       "stream": "stderr",
       "text": [
        "VERBOSE:pywiki:Starting 1 threads...\n"
       ]
      },
      {
       "output_type": "stream",
       "stream": "stdout",
       "text": [
        "Populating the interactive namespace from numpy and matplotlib\n"
       ]
      },
      {
       "output_type": "stream",
       "stream": "stderr",
       "text": [
        "WARNING: pylab import has clobbered these variables: ['xlim', 'mpl', 'colors', 'ylim']\n",
        "`%pylab --no-import-all` prevents importing * from pylab and numpy\n"
       ]
      }
     ],
     "prompt_number": 1
    },
    {
     "cell_type": "markdown",
     "metadata": {},
     "source": [
      "this will be our data structure dict of dicts, until we have some numbers to put into pandas"
     ]
    },
    {
     "cell_type": "code",
     "collapsed": false,
     "input": [
      "def enfrsw():\n",
      "    return {lang: None for lang in langs}\n",
      "def article_attributes():\n",
      "    return {attrib: enfrsw() for attrib in ['sitelinks', 'wikitext', 'wikicode', 'metrics']}\n",
      "\n",
      "def do_sitelinks(langs, qids, data):\n",
      "    for qid in qids:\n",
      "        page = pywikibot.ItemPage(wikidata, qid)\n",
      "        wditem = page.get()\n",
      "        for lang in langs:\n",
      "            try:\n",
      "                data[qid]['sitelinks'][lang] = wditem['sitelinks'][lang+'wiki']\n",
      "            except KeyError:\n",
      "                pass\n",
      "    return data"
     ],
     "language": "python",
     "metadata": {},
     "outputs": [],
     "prompt_number": 143
    },
    {
     "cell_type": "markdown",
     "metadata": {},
     "source": [
      "Functions to get the page texts in all our desired languages"
     ]
    },
    {
     "cell_type": "code",
     "collapsed": false,
     "input": [
      "def get_wikitext(lang, title):\n",
      "    page = pywikibot.Page(wikipedias[lang],title)\n",
      "    def get_page(page):\n",
      "        try:\n",
      "            pagetext = page.get()\n",
      "            return pagetext\n",
      "        except pywikibot.exceptions.IsRedirectPage:\n",
      "            redir = page.getRedirectTarget()\n",
      "            get_page(redir)\n",
      "        except pywikibot.exceptions.NoPage:\n",
      "            raise pywikibot.exceptions.NoPage\n",
      "            print 're raising'\n",
      "    return get_page(page)\n",
      "\n",
      "def do_wikitext(langs, data):\n",
      "    for qid, attribs in data.iteritems():\n",
      "        for lang, sl in attribs['sitelinks'].iteritems():\n",
      "            if sl:\n",
      "                try:\n",
      "                    if randint(0,100) == 99:\n",
      "                        print sl\n",
      "                    data[qid]['wikitext'][lang] = get_wikitext(lang, sl)\n",
      "                except:\n",
      "                    print 'bad sitelink', sl\n",
      "                    continue\n",
      "    return data\n",
      "\n",
      "def do_wikicode(langs, data):\n",
      "    for qid, attribs in data.iteritems():\n",
      "        for lang, pagetext in attribs['wikitext'].iteritems():\n",
      "            if pagetext:\n",
      "                data[qid]['wikicode'][lang] = pfh.parse(pagetext)\n",
      "    return data\n",
      "\n",
      "def do_metrics(data):\n",
      "    for qid, attribs in data.iteritems():\n",
      "        for lang, wikicode in attribs['wikicode'].iteritems():\n",
      "            if wikicode:\n",
      "                data[qid]['metrics'][lang] = report_actionable_metrics(wikicode)\n",
      "    return data\n",
      "\n",
      "# this will take a lot of network time since we are going to load about 300 pages, but we'll save the data off so we don't have to do it uneccesarrily\n",
      "\n",
      "def make_data(langs, qids, savename):\n",
      "    print 'getting these qids: ', qids \n",
      "    data = defaultdict(article_attributes)\n",
      "    print 'getting sitelinks'\n",
      "    data = do_sitelinks(langs, qids, data)\n",
      "    print 'getting wikitext'\n",
      "    data = do_wikitext(langs, data)\n",
      "    print 'converting to wikicode'\n",
      "    data = do_wikicode(langs, data)\n",
      "    print 'computing metrics'\n",
      "    data = do_metrics(data)\n",
      "\n",
      "        \n",
      "    hashable_data = {qid: \n",
      "                        {'wikitext': attribdict['wikitext'],\n",
      "                         'metrics': attribdict['metrics'],\n",
      "                         'sitelinks': attribdict['sitelinks']}\n",
      "                             for qid, attribdict in data.iteritems()}\n",
      "    print 'saving now'\n",
      "    #save the results\n",
      "    safefilename = savename+str(datetime.datetime.now())+'.json'\n",
      "    with open(safefilename,'w') as f3:\n",
      "        json.dump(hashable_data,f3)\n",
      "    with open(savename+'latest.json','w') as f4:\n",
      "        json.dump(hashable_data, f4)\n",
      "    return data\n",
      "\n",
      "#i don't call this unless i have time to uncomment it\n",
      "#arts = make_data(langs, country_qids, 'countrydata')\n",
      "\n",
      "#time to get into pandas, lets throw everything into a data frame \n",
      "\n",
      "df = pd.DataFrame(columns=['Country','language','metric','val'])\n",
      "\n",
      "arts = json.load(open('countrydata-latest.json','r'))\n",
      "\n",
      "for qid, attribdict in arts.iteritems():\n",
      "    for attribname, langdict in attribdict.iteritems():\n",
      "        if attribname == 'metrics':\n",
      "            for lang, metrics in langdict.iteritems(): \n",
      "                try:\n",
      "                #someteimes there wasn't an article in that language and thus no corresponding len\n",
      "                    for metric_name, metric_val in metrics.iteritems():\n",
      "                        df = df.append({'Country': qid, 'language':lang, 'metric':metric_name, 'val':float(metric_val)}, ignore_index=True)\n",
      "                except:\n",
      "                    pass\n",
      "df = df.convert_objects(convert_numeric=True)\n",
      "\n",
      "metric_list = ['completeness','informativeness','numheadings','articlelength','referencerate']\n",
      "\n",
      "langs_df_dict = {lang: df[df['language'] == lang] for lang in langs}\n",
      "metric_df_dict = {metric: df[df['metric'] == metric] for metric in metric_list}\n",
      "\n",
      "#for later calculation\n",
      "uganda_zscores = defaultdict(list)\n",
      "cdi_zscores = defaultdict(list)"
     ],
     "language": "python",
     "metadata": {},
     "outputs": [],
     "prompt_number": 494
    },
    {
     "cell_type": "code",
     "collapsed": false,
     "input": [
      "def metric_analyse_density(ametric, xlimit):\n",
      "    inf_df = metric_df_dict[ametric]\n",
      "    \n",
      "    zscore = lambda x: (x - x.mean()) / x.std()\n",
      "    \n",
      "    inf_piv = inf_df.pivot(index='Country', columns='language', values='val')\n",
      "    \n",
      "    inf_piv_z = inf_piv.apply(zscore)\n",
      "    metric_analyse_density_plot(ametric, xlimit, inf_df)\n",
      "    print 'Uganda ('+ugandaqid+\"), C\u00f4te d'Ivoire (\"+cdiqid+\") \" +ametric+ \" z-scores.\" \n",
      "    return inf_piv_z.ix[[ugandaqid,cdiqid]]\n",
      "\n",
      "    \n"
     ],
     "language": "python",
     "metadata": {},
     "outputs": [],
     "prompt_number": 495
    },
    {
     "cell_type": "code",
     "collapsed": false,
     "input": [
      "def metric_analyse_density_plot(ametric, xlimit, inf_df):\n",
      "    p = ggplot(aes(x='val', colour='language', fill=True, alpha = 0.3), data=inf_df) + geom_density() + labs(\"score\", \"frequency\") + \\\n",
      "    scale_x_continuous(limits=(0,xlimit)) + ggtitle(ametric + '\\nall country articles\\n                                                                        ')\n",
      "    p.rcParams[\"figure.figsize\"] = \"4, 3\"\n",
      "    p.draw()\n"
     ],
     "language": "python",
     "metadata": {},
     "outputs": [],
     "prompt_number": 496
    },
    {
     "cell_type": "code",
     "collapsed": true,
     "input": [
      "def defaultint():\n",
      "    return defaultdict(int)\n",
      "\n",
      "section_count = defaultdict(defaultint)\n",
      "sorted_secs = defaultdict(list)\n",
      "total_articles = defaultdict(int)\n",
      "\n",
      "articles = json.load(open('countrydata-latest.json','r'))\n",
      "\n",
      "for qid, attribdict in articles.iteritems():\n",
      "    for attribname, langdict in attribdict.iteritems():\n",
      "        if attribname == 'wikitext':\n",
      "            for lang, wikitext in langdict.iteritems(): \n",
      "                if wikitext:\n",
      "                    total_articles[lang] += 1\n",
      "                    wikicode = pfh.parse(wikitext)\n",
      "                    secs = section_headings(wikicode)\n",
      "                    for sec in secs:\n",
      "                        sec = sec.strip()\n",
      "                        section_count[lang][sec] += 1\n",
      "                        \n",
      "section_df = pd.DataFrame(columns=['lang','secname','freq'])\n",
      "for lang, sec_dict in section_count.iteritems():\n",
      "    for secname, seccount in sec_dict.iteritems():\n",
      "        freq = seccount/float(total_articles[lang])\n",
      "        section_df = section_df.append({'lang':lang, 'secname':secname, 'freq':freq}, ignore_index=True)  \n",
      "        \n",
      "#section_df = section_df.convert_objects(convert_numeric=True)\n",
      "section_df.head()\n",
      "top_secs = section_df[section_df.freq > 0.1]\n",
      "\n",
      "sort_secs= top_secs.sort(columns='freq', ascending=False)"
     ],
     "language": "python",
     "metadata": {},
     "outputs": [],
     "prompt_number": 18
    },
    {
     "cell_type": "code",
     "collapsed": false,
     "input": [
      "def top_n_sections(lang,n):\n",
      "    top = sort_secs[sort_secs.lang==lang].iloc[:n].convert_objects(convert_numeric=True)\n",
      "    print str(total_articles[lang]) + ' total articles inspected in ' + lang + '.' \n",
      "    return HTML(top.to_html(index=False, columns=['lang','secname','freq']))"
     ],
     "language": "python",
     "metadata": {},
     "outputs": [],
     "prompt_number": 26
    },
    {
     "cell_type": "code",
     "collapsed": false,
     "input": [
      "def top_sections_ethnoset(ethnoset_filename):\n",
      "    \n",
      "    def defaultint():\n",
      "        return defaultdict(int)\n",
      "\n",
      "    section_count = defaultdict(defaultint)\n",
      "    sorted_secs = defaultdict(list)\n",
      "    total_articles = defaultdict(int)\n",
      "    \n",
      "    articles = json.load(open(ethnoset_filename,'r'))\n",
      "    \n",
      "    for qid, attribdict in articles.iteritems():\n",
      "        for attribname, langdict in attribdict.iteritems():\n",
      "            if attribname == 'wikitext':\n",
      "                for lang, wikitext in langdict.iteritems(): \n",
      "                    if wikitext:\n",
      "                        total_articles[lang] += 1\n",
      "                        wikicode = pfh.parse(wikitext)\n",
      "                        secs = section_headings(wikicode)\n",
      "                        for sec in secs:\n",
      "                            sec = sec.strip()\n",
      "                            section_count[lang][sec] += 1\n",
      "                        \n",
      "    section_df = pd.DataFrame(columns=['lang','secname','freq'])\n",
      "    for lang, sec_dict in section_count.iteritems():\n",
      "        for secname, seccount in sec_dict.iteritems():\n",
      "            freq = seccount/float(total_articles[lang])\n",
      "            section_df = section_df.append({'lang':lang, 'secname':secname, 'freq':freq}, ignore_index=True)\n",
      "            \n",
      "    #section_df = section_df.convert_objects(convert_numeric=True)\n",
      "    section_df.head()\n",
      "    top_secs = section_df[section_df.freq > 0.1]\n",
      "    \n",
      "    sort_secs= top_secs.sort(columns='freq', ascending=False)\n",
      "\n",
      "    return sort_secs"
     ],
     "language": "python",
     "metadata": {},
     "outputs": [],
     "prompt_number": 9
    },
    {
     "cell_type": "code",
     "collapsed": false,
     "input": [
      "!ls ethnosa!ls ethnosave/"
     ],
     "language": "python",
     "metadata": {},
     "outputs": [
      {
       "output_type": "stream",
       "stream": "stdout",
       "text": [
        "economy-cdi.jsonlatest.json    geography-uga.jsonlatest.json\r\n",
        "economy-fra.jsonlatest.json    geography-usa.jsonlatest.json\r\n",
        "economy-uga.jsonlatest.json    history-cdi.jsonlatest.json\r\n",
        "economy-usa.jsonlatest.json    history-fra.jsonlatest.json\r\n",
        "geography-cdi.jsonlatest.json  history-uga.jsonlatest.json\r\n",
        "geography-fra.jsonlatest.json  history-usa.jsonlatest.json\r\n"
       ]
      }
     ],
     "prompt_number": 31
    },
    {
     "cell_type": "code",
     "collapsed": false,
     "input": [
      "def display_article_counts():\n",
      "    filenames = !ls ethnosave\n",
      "    \n",
      "    art_counts = pd.DataFrame(columns=['subj','nation', 'lang','count'])\n",
      "    for filename in filenames:\n",
      "        spl = filename.split('-')\n",
      "        subj, nation = spl[0], spl[1].split('.')[0]\n",
      "        \n",
      "        fileaddr = 'ethnosave/' + filename\n",
      "        articles = json.load(open(fileaddr,'r'))\n",
      "        total_articles = defaultdict(int)\n",
      "        for qid, attribdict in articles.iteritems():\n",
      "            for attribname, langdict in attribdict.iteritems():\n",
      "                if attribname == 'wikitext':\n",
      "                    for lang, wikitext in langdict.iteritems(): \n",
      "                        if wikitext:\n",
      "                            total_articles[lang] += 1\n",
      "        for lang, count in total_articles.iteritems():\n",
      "            art_counts = art_counts.append({'subj': subj, 'nation': nation, 'lang': lang, 'count': count} ,ignore_index = True)\n",
      "    return HTML(art_counts.sort(columns='count', ascending=False).to_html(index=False))"
     ],
     "language": "python",
     "metadata": {},
     "outputs": [],
     "prompt_number": 50
    },
    {
     "cell_type": "code",
     "collapsed": false,
     "input": [
      "def make_heat_map():\n",
      "    \n",
      "\n",
      "    subj_list = ['economy','history','geography']\n",
      "    metric_list = ['completeness','informativeness','numheadings','articlelength','referencerate']\n",
      "    #pivtables = {metric: {subj: None for subj in subj_list} for metric in metric_list}\n",
      "    \n",
      "    fig, axes = plt.subplots(nrows = len(metric_list), ncols = len(subj_list), sharex='col', sharey='row' )\n",
      "    '''\n",
      "    for metric, subjdict in pivtables.iteritems():\n",
      "        for subj, pivtab in subjdict.iteritems():\n",
      "            natlangdf = means_df[(means_df.metric == metric) & (means_df.subj == subj)]\n",
      "            natlangpiv = pd.pivot_table(natlangdf, values='means', rows='lang', cols='nation')\n",
      "            pivtables[metric][subj] = natlangpiv\n",
      "            \n",
      "    '''\n",
      "    \n",
      "    for axarr, metric in zip(axes, metric_list):\n",
      "        for ax, subj in zip(axarr, subj_list):\n",
      "            \n",
      "            natlangdf = means_df[(means_df.metric == metric) & (means_df.subj == subj)]\n",
      "            natlangpiv = pd.pivot_table(natlangdf, values='means', rows='lang', cols='nation')\n",
      "            heatmap = ax.pcolor(natlangpiv, cmap='Blues')\n",
      "            ax.set_yticks(np.arange(0.5, len(natlangpiv.index), 1))\n",
      "            ax.set_yticklabels(natlangpiv.index)\n",
      "            ax.set_xticks(np.arange(0.5, len(natlangpiv.columns), 1))\n",
      "            ax.set_xticklabels(natlangpiv.columns)\n",
      "            cbar = plt.colorbar(mappable=heatmap, ax=ax)\n",
      "        \n",
      "    fig.suptitle('Heatmap of Actionable Metrics by Country versus Wikipedia Language, \\n by Subject Category', fontsize=18)\n",
      "    fig.set_size_inches(12,12,dpi=600)\n",
      "    #fig.tight_layout()\n",
      "    \n",
      "    subj_titles = ['Economy','History','Geography']\n",
      "    metric_titles =['Wikilinks','Code & Images to Text Ratio','Section Count','Article Length', 'References per Article Length'] \n",
      "    for i in range(len(subj_titles)):\n",
      "        axes[0][i].set_title(subj_titles[i])\n",
      "    for j in range(len(metric_titles)):\n",
      "        axes[j][0].set_ylabel(metric_titles[j])\n",
      "        \n"
     ],
     "language": "python",
     "metadata": {},
     "outputs": [],
     "prompt_number": 137
    },
    {
     "cell_type": "code",
     "collapsed": false,
     "input": [
      "means_df[(means_df.metric == 'referencerate') & (means_df.subj == 'geography')]"
     ],
     "language": "python",
     "metadata": {},
     "outputs": [
      {
       "html": [
        "<div style=\"max-height:1000px;max-width:1500px;overflow:auto;\">\n",
        "<table border=\"1\" class=\"dataframe\">\n",
        "  <thead>\n",
        "    <tr style=\"text-align: right;\">\n",
        "      <th></th>\n",
        "      <th>subj</th>\n",
        "      <th>nation</th>\n",
        "      <th>lang</th>\n",
        "      <th>metric</th>\n",
        "      <th>means</th>\n",
        "    </tr>\n",
        "  </thead>\n",
        "  <tbody>\n",
        "    <tr>\n",
        "      <th>48</th>\n",
        "      <td> geography</td>\n",
        "      <td> usa</td>\n",
        "      <td> en</td>\n",
        "      <td> referencerate</td>\n",
        "      <td> 0.003102</td>\n",
        "    </tr>\n",
        "    <tr>\n",
        "      <th>49</th>\n",
        "      <td> geography</td>\n",
        "      <td> usa</td>\n",
        "      <td> fr</td>\n",
        "      <td> referencerate</td>\n",
        "      <td> 0.001050</td>\n",
        "    </tr>\n",
        "    <tr>\n",
        "      <th>50</th>\n",
        "      <td> geography</td>\n",
        "      <td> usa</td>\n",
        "      <td> sw</td>\n",
        "      <td> referencerate</td>\n",
        "      <td> 0.000012</td>\n",
        "    </tr>\n",
        "    <tr>\n",
        "      <th>51</th>\n",
        "      <td> geography</td>\n",
        "      <td> fra</td>\n",
        "      <td> en</td>\n",
        "      <td> referencerate</td>\n",
        "      <td> 0.000573</td>\n",
        "    </tr>\n",
        "    <tr>\n",
        "      <th>52</th>\n",
        "      <td> geography</td>\n",
        "      <td> fra</td>\n",
        "      <td> fr</td>\n",
        "      <td> referencerate</td>\n",
        "      <td> 0.001929</td>\n",
        "    </tr>\n",
        "    <tr>\n",
        "      <th>53</th>\n",
        "      <td> geography</td>\n",
        "      <td> fra</td>\n",
        "      <td> sw</td>\n",
        "      <td> referencerate</td>\n",
        "      <td> 0.000000</td>\n",
        "    </tr>\n",
        "    <tr>\n",
        "      <th>54</th>\n",
        "      <td> geography</td>\n",
        "      <td> cdi</td>\n",
        "      <td> en</td>\n",
        "      <td> referencerate</td>\n",
        "      <td> 0.004123</td>\n",
        "    </tr>\n",
        "    <tr>\n",
        "      <th>55</th>\n",
        "      <td> geography</td>\n",
        "      <td> cdi</td>\n",
        "      <td> fr</td>\n",
        "      <td> referencerate</td>\n",
        "      <td> 0.002138</td>\n",
        "    </tr>\n",
        "    <tr>\n",
        "      <th>56</th>\n",
        "      <td> geography</td>\n",
        "      <td> cdi</td>\n",
        "      <td> sw</td>\n",
        "      <td> referencerate</td>\n",
        "      <td> 0.006302</td>\n",
        "    </tr>\n",
        "    <tr>\n",
        "      <th>57</th>\n",
        "      <td> geography</td>\n",
        "      <td> uga</td>\n",
        "      <td> en</td>\n",
        "      <td> referencerate</td>\n",
        "      <td> 0.001590</td>\n",
        "    </tr>\n",
        "    <tr>\n",
        "      <th>58</th>\n",
        "      <td> geography</td>\n",
        "      <td> uga</td>\n",
        "      <td> fr</td>\n",
        "      <td> referencerate</td>\n",
        "      <td> 0.000560</td>\n",
        "    </tr>\n",
        "    <tr>\n",
        "      <th>59</th>\n",
        "      <td> geography</td>\n",
        "      <td> uga</td>\n",
        "      <td> sw</td>\n",
        "      <td> referencerate</td>\n",
        "      <td> 0.000114</td>\n",
        "    </tr>\n",
        "  </tbody>\n",
        "</table>\n",
        "</div>"
       ],
       "metadata": {},
       "output_type": "pyout",
       "prompt_number": 82,
       "text": [
        "         subj nation lang         metric     means\n",
        "48  geography    usa   en  referencerate  0.003102\n",
        "49  geography    usa   fr  referencerate  0.001050\n",
        "50  geography    usa   sw  referencerate  0.000012\n",
        "51  geography    fra   en  referencerate  0.000573\n",
        "52  geography    fra   fr  referencerate  0.001929\n",
        "53  geography    fra   sw  referencerate  0.000000\n",
        "54  geography    cdi   en  referencerate  0.004123\n",
        "55  geography    cdi   fr  referencerate  0.002138\n",
        "56  geography    cdi   sw  referencerate  0.006302\n",
        "57  geography    uga   en  referencerate  0.001590\n",
        "58  geography    uga   fr  referencerate  0.000560\n",
        "59  geography    uga   sw  referencerate  0.000114"
       ]
      }
     ],
     "prompt_number": 82
    },
    {
     "cell_type": "code",
     "collapsed": false,
     "input": [
      "def load_ethnosaves():\n",
      "    ethnosaves = !ls ethnosave\n",
      "    \n",
      "    subj_df_dict = {subj: pd.DataFrame(columns=['qid','subj','nation','lang','metric','val']) for subj in ethnosaves}\n",
      "    \n",
      "    for ethnosavefile in ethnosaves:\n",
      "        nameparts = ethnosavefile.split('-')\n",
      "        subj = nameparts[0]\n",
      "        dotparts = nameparts[1].split('.')\n",
      "        nation = dotparts[0]\n",
      "        arts = json.load(open('ethnosave/'+ethnosavefile,'r'))\n",
      "        print subj, nation\n",
      "        sdf = subj_df_dict[ethnosavefile]\n",
      "        for qid, attribdict in arts.iteritems():\n",
      "            for attribname, langdict in attribdict.iteritems():\n",
      "                if attribname == 'metrics':\n",
      "                    for lang, metrics in langdict.iteritems(): \n",
      "                        try:\n",
      "                        #someteimes there wasn't an article in that language and thus no corresponding len\n",
      "                            for metric_name, metric_val in metrics.iteritems():\n",
      "                                sdf = sdf.append({'qid': qid, 'subj':subj, 'nation':nation, 'lang':lang, 'metric':metric_name, 'val':float(metric_val)}, ignore_index=True)\n",
      "                        except:\n",
      "                            pass\n",
      "        subj_df_dict[ethnosavefile] = sdf\n",
      "        lens = map(lambda d: len(d), subj_df_dict.itervalues())\n",
      "        print lens\n",
      "    return subj_df_dict\n",
      "\n",
      "subj_df_dict = load_ethnosaves()\n",
      "subj_df = pd.concat(subj_df_dict)\n",
      "assert(len(subj_df) == reduce(lambda a, b: a+b, map(lambda df: len(df), subj_df_dict.itervalues())))\n",
      "\n",
      "subj_df = subj_df.convert_objects()\n"
     ],
     "language": "python",
     "metadata": {},
     "outputs": [
      {
       "output_type": "stream",
       "stream": "stdout",
       "text": [
        "economy cdi\n",
        "[0, 0, 0, 0, 0, 0, 0, 0, 0, 0, 0, 735]"
       ]
      },
      {
       "output_type": "stream",
       "stream": "stdout",
       "text": [
        "\n",
        "economy"
       ]
      },
      {
       "output_type": "stream",
       "stream": "stdout",
       "text": [
        " fra\n",
        "[0, 0, 0, 0, 0, 0, 0, 0, 0, 0, 14690, 735]"
       ]
      },
      {
       "output_type": "stream",
       "stream": "stdout",
       "text": [
        "\n",
        "economy uga\n",
        "[0, 0, 0, 495, 0, 0, 0, 0, 0, 0, 14690, 735]"
       ]
      },
      {
       "output_type": "stream",
       "stream": "stdout",
       "text": [
        "\n",
        "economy"
       ]
      },
      {
       "output_type": "stream",
       "stream": "stdout",
       "text": [
        " usa\n",
        "[0, 0, 0, 495, 0, 0, 0, 0, 0, 18550, 14690, 735]"
       ]
      },
      {
       "output_type": "stream",
       "stream": "stdout",
       "text": [
        "\n",
        "geography"
       ]
      },
      {
       "output_type": "stream",
       "stream": "stdout",
       "text": [
        " cdi\n",
        "[12495, 0, 0, 495, 0, 0, 0, 0, 0, 18550, 14690, 735]"
       ]
      },
      {
       "output_type": "stream",
       "stream": "stdout",
       "text": [
        "\n",
        "geography"
       ]
      },
      {
       "output_type": "stream",
       "stream": "stdout",
       "text": [
        " fra\n",
        "[12495, 0, 0, 495, 0, 26550, 0, 0, 0, 18550, 14690, 735]"
       ]
      },
      {
       "output_type": "stream",
       "stream": "stdout",
       "text": [
        "\n",
        "geography"
       ]
      },
      {
       "output_type": "stream",
       "stream": "stdout",
       "text": [
        " uga\n",
        "[12495, 0, 0, 495, 0, 26550, 0, 0, 5020, 18550, 14690, 735]"
       ]
      },
      {
       "output_type": "stream",
       "stream": "stdout",
       "text": [
        "\n",
        "geography"
       ]
      },
      {
       "output_type": "stream",
       "stream": "stdout",
       "text": [
        " usa\n",
        "[12495, 0, 43992, 495, 0, 26550, 0, 0, 5020, 18550, 14690, 735]"
       ]
      },
      {
       "output_type": "stream",
       "stream": "stdout",
       "text": [
        "\n",
        "history"
       ]
      },
      {
       "output_type": "stream",
       "stream": "stdout",
       "text": [
        " cdi\n",
        "[12495, 0, 43992, 495, 0, 26550, 995, 0, 5020, 18550, 14690, 735]"
       ]
      },
      {
       "output_type": "stream",
       "stream": "stdout",
       "text": [
        "\n",
        "history"
       ]
      },
      {
       "output_type": "stream",
       "stream": "stdout",
       "text": [
        " fra\n",
        "[12495, 0, 43992, 495, 0, 26550, 995, 22325, 5020, 18550, 14690, 735]"
       ]
      },
      {
       "output_type": "stream",
       "stream": "stdout",
       "text": [
        "\n",
        "history"
       ]
      },
      {
       "output_type": "stream",
       "stream": "stdout",
       "text": [
        " uga\n",
        "[12495, 0, 43992, 495, 2165, 26550, 995, 22325, 5020, 18550, 14690, 735]"
       ]
      },
      {
       "output_type": "stream",
       "stream": "stdout",
       "text": [
        "\n",
        "history"
       ]
      },
      {
       "output_type": "stream",
       "stream": "stdout",
       "text": [
        " usa\n",
        "[12495, 11340, 43992, 495, 2165, 26550, 995, 22325, 5020, 18550, 14690, 735]"
       ]
      },
      {
       "output_type": "stream",
       "stream": "stdout",
       "text": [
        "\n"
       ]
      }
     ],
     "prompt_number": 135
    },
    {
     "cell_type": "code",
     "collapsed": false,
     "input": [
      "means_df = pd.DataFrame(columns=['subj','nation','lang','metric','means'])\n",
      "\n",
      "for subj in ['geography','history','economy']:\n",
      "    for metric in ['completeness','informativeness','numheadings','articlelength','referencerate']:\n",
      "        for nation in ['usa','fra','cdi','uga']:\n",
      "            for lang in ['en','fr','sw']:\n",
      "                spec_df = subj_df[(subj_df.subj == subj) & (subj_df.nation == nation) & (subj_df.metric == metric) & (subj_df.lang == lang)]['val']\n",
      "                mean = spec_df.mean()\n",
      "                if (not str(mean)[0] in '0123456789'):\n",
      "                    mean = 0.0\n",
      "                if len(spec_df) <= 25:\n",
      "                    print len(spec_df), subj, metric, nation, lang\n",
      "                    mean = 0.0\n",
      "                means_df = means_df.append({'subj':subj, 'nation':nation, 'lang':lang, 'metric':metric, 'means':mean}, ignore_index=True)\n",
      "                \n",
      "means_df = means_df.convert_objects(convert_numeric=True)"
     ],
     "language": "python",
     "metadata": {},
     "outputs": [
      {
       "output_type": "stream",
       "stream": "stdout",
       "text": [
        "6 geography completeness fra sw\n",
        "6"
       ]
      },
      {
       "output_type": "stream",
       "stream": "stdout",
       "text": [
        " geography informativeness fra sw\n",
        "6"
       ]
      },
      {
       "output_type": "stream",
       "stream": "stdout",
       "text": [
        " geography numheadings fra sw\n",
        "6"
       ]
      },
      {
       "output_type": "stream",
       "stream": "stdout",
       "text": [
        " geography articlelength fra sw\n",
        "6"
       ]
      },
      {
       "output_type": "stream",
       "stream": "stdout",
       "text": [
        " geography referencerate fra sw\n",
        "8"
       ]
      },
      {
       "output_type": "stream",
       "stream": "stdout",
       "text": [
        " history completeness fra sw\n",
        "0"
       ]
      },
      {
       "output_type": "stream",
       "stream": "stdout",
       "text": [
        " history completeness cdi sw\n",
        "3"
       ]
      },
      {
       "output_type": "stream",
       "stream": "stdout",
       "text": [
        " history completeness uga sw\n",
        "8"
       ]
      },
      {
       "output_type": "stream",
       "stream": "stdout",
       "text": [
        " history informativeness fra sw\n",
        "0"
       ]
      },
      {
       "output_type": "stream",
       "stream": "stdout",
       "text": [
        " history informativeness cdi sw\n",
        "3"
       ]
      },
      {
       "output_type": "stream",
       "stream": "stdout",
       "text": [
        " history informativeness uga sw\n",
        "8"
       ]
      },
      {
       "output_type": "stream",
       "stream": "stdout",
       "text": [
        " history numheadings fra sw\n",
        "0"
       ]
      },
      {
       "output_type": "stream",
       "stream": "stdout",
       "text": [
        " history numheadings cdi sw\n",
        "3"
       ]
      },
      {
       "output_type": "stream",
       "stream": "stdout",
       "text": [
        " history numheadings uga sw\n",
        "8"
       ]
      },
      {
       "output_type": "stream",
       "stream": "stdout",
       "text": [
        " history articlelength fra sw\n",
        "0"
       ]
      },
      {
       "output_type": "stream",
       "stream": "stdout",
       "text": [
        " history articlelength cdi sw\n",
        "3"
       ]
      },
      {
       "output_type": "stream",
       "stream": "stdout",
       "text": [
        " history articlelength uga sw\n",
        "8"
       ]
      },
      {
       "output_type": "stream",
       "stream": "stdout",
       "text": [
        " history referencerate fra sw\n",
        "0"
       ]
      },
      {
       "output_type": "stream",
       "stream": "stdout",
       "text": [
        " history referencerate cdi sw\n",
        "3"
       ]
      },
      {
       "output_type": "stream",
       "stream": "stdout",
       "text": [
        " history referencerate uga sw\n",
        "10"
       ]
      },
      {
       "output_type": "stream",
       "stream": "stdout",
       "text": [
        " economy completeness usa sw\n",
        "5"
       ]
      },
      {
       "output_type": "stream",
       "stream": "stdout",
       "text": [
        " economy completeness fra sw\n",
        "1"
       ]
      },
      {
       "output_type": "stream",
       "stream": "stdout",
       "text": [
        " economy completeness cdi sw\n",
        "10"
       ]
      },
      {
       "output_type": "stream",
       "stream": "stdout",
       "text": [
        " economy completeness uga fr\n",
        "11"
       ]
      },
      {
       "output_type": "stream",
       "stream": "stdout",
       "text": [
        " economy completeness uga sw\n",
        "10"
       ]
      },
      {
       "output_type": "stream",
       "stream": "stdout",
       "text": [
        " economy informativeness usa sw\n",
        "5"
       ]
      },
      {
       "output_type": "stream",
       "stream": "stdout",
       "text": [
        " economy informativeness fra sw\n",
        "1"
       ]
      },
      {
       "output_type": "stream",
       "stream": "stdout",
       "text": [
        " economy informativeness cdi sw\n",
        "10"
       ]
      },
      {
       "output_type": "stream",
       "stream": "stdout",
       "text": [
        " economy informativeness uga fr\n",
        "11"
       ]
      },
      {
       "output_type": "stream",
       "stream": "stdout",
       "text": [
        " economy informativeness uga sw\n",
        "10"
       ]
      },
      {
       "output_type": "stream",
       "stream": "stdout",
       "text": [
        " economy numheadings usa sw\n",
        "5"
       ]
      },
      {
       "output_type": "stream",
       "stream": "stdout",
       "text": [
        " economy numheadings fra sw\n",
        "1"
       ]
      },
      {
       "output_type": "stream",
       "stream": "stdout",
       "text": [
        " economy numheadings cdi sw\n",
        "10"
       ]
      },
      {
       "output_type": "stream",
       "stream": "stdout",
       "text": [
        " economy numheadings uga fr\n",
        "11"
       ]
      },
      {
       "output_type": "stream",
       "stream": "stdout",
       "text": [
        " economy numheadings uga sw\n",
        "10"
       ]
      },
      {
       "output_type": "stream",
       "stream": "stdout",
       "text": [
        " economy articlelength usa sw\n",
        "5"
       ]
      },
      {
       "output_type": "stream",
       "stream": "stdout",
       "text": [
        " economy articlelength fra sw\n",
        "1"
       ]
      },
      {
       "output_type": "stream",
       "stream": "stdout",
       "text": [
        " economy articlelength cdi sw\n",
        "10"
       ]
      },
      {
       "output_type": "stream",
       "stream": "stdout",
       "text": [
        " economy articlelength uga fr\n",
        "11"
       ]
      },
      {
       "output_type": "stream",
       "stream": "stdout",
       "text": [
        " economy articlelength uga sw\n",
        "10"
       ]
      },
      {
       "output_type": "stream",
       "stream": "stdout",
       "text": [
        " economy referencerate usa sw\n",
        "5"
       ]
      },
      {
       "output_type": "stream",
       "stream": "stdout",
       "text": [
        " economy referencerate fra sw\n",
        "1"
       ]
      },
      {
       "output_type": "stream",
       "stream": "stdout",
       "text": [
        " economy referencerate cdi sw\n",
        "10"
       ]
      },
      {
       "output_type": "stream",
       "stream": "stdout",
       "text": [
        " economy referencerate uga fr\n",
        "11"
       ]
      },
      {
       "output_type": "stream",
       "stream": "stdout",
       "text": [
        " economy referencerate uga sw\n"
       ]
      }
     ],
     "prompt_number": 145
    },
    {
     "cell_type": "code",
     "collapsed": false,
     "input": [
      "def top_sections_ethnoset(ethnoset_filename):\n",
      "    print ethnoset_filename\n",
      "    \n",
      "    def defaultint():\n",
      "        return defaultdict(int)\n",
      "\n",
      "    section_count = defaultdict(defaultint)\n",
      "    sorted_secs = defaultdict(list)\n",
      "    total_articles = defaultdict(int)\n",
      "    \n",
      "    articles = json.load(open(ethnoset_filename,'r'))\n",
      "    \n",
      "    for qid, attribdict in articles.iteritems():\n",
      "        for attribname, langdict in attribdict.iteritems():\n",
      "            if attribname == 'wikitext':\n",
      "                for lang, wikitext in langdict.iteritems(): \n",
      "                    if wikitext:\n",
      "                        total_articles[lang] += 1\n",
      "                        wikicode = pfh.parse(wikitext)\n",
      "                        secs = section_headings(wikicode)\n",
      "                        for sec in secs:\n",
      "                            sec = sec.strip()\n",
      "                            section_count[lang][sec] += 1\n",
      "                        \n",
      "    section_df = pd.DataFrame(columns=['lang','secname','freq'])\n",
      "    for lang, sec_dict in section_count.iteritems():\n",
      "        for secname, seccount in sec_dict.iteritems():\n",
      "            freq = seccount/float(total_articles[lang])\n",
      "            section_df = section_df.append({'lang':lang, 'secname':secname, 'freq':freq}, ignore_index=True)\n",
      "            \n",
      "    #section_df = section_df.convert_objects(convert_numeric=True)\n",
      "    section_df.head()\n",
      "    top_secs = section_df[section_df.freq > 0.1]\n",
      "    \n",
      "    sort_secs= top_secs.sort(columns='freq', ascending=False)\n",
      "    return sort_secs"
     ],
     "language": "python",
     "metadata": {},
     "outputs": [],
     "prompt_number": 131
    },
    {
     "cell_type": "code",
     "collapsed": false,
     "input": [
      "def top_templates_ethnoset(ethnoset_filename):\n",
      "    \n",
      "    def defaultint():\n",
      "        return defaultdict(int)\n",
      "\n",
      "    template_count = defaultdict(defaultint)\n",
      "    sorted_templates = defaultdict(list)\n",
      "    total_articles = defaultdict(int)\n",
      "    \n",
      "    articles = json.load(open(ethnoset_filename,'r'))\n",
      "    \n",
      "    for qid, attribdict in articles.iteritems():\n",
      "        for attribname, langdict in attribdict.iteritems():\n",
      "            if attribname == 'wikitext':\n",
      "                for lang, wikitext in langdict.iteritems(): \n",
      "                    if wikitext:\n",
      "                        total_articles[lang] += 1\n",
      "                        wikicode = pfh.parse(wikitext)\n",
      "                        temps = wikicode.filter_templates()\n",
      "                        for temp in temps:\n",
      "                            tempname = temp.name\n",
      "                            tempname = tempname.strip().lower()\n",
      "                            template_count[lang][tempname] += 1\n",
      "                        \n",
      "    temp_df = pd.DataFrame(columns=['lang','tempname','freq'])\n",
      "    for lang, temp_dict in template_count.iteritems():\n",
      "        for tempname, tempcount in temp_dict.iteritems():\n",
      "            freq = tempcount/float(total_articles[lang])\n",
      "            temp_df = temp_df.append({'lang':lang, 'tempname':tempname, 'freq':freq}, ignore_index=True)\n",
      "            \n",
      "    #section_df = section_df.convert_objects(convert_numeric=True)\n",
      "    top_templates = temp_df[temp_df.freq > 0.1]\n",
      "    \n",
      "    sort_temps= top_templates.sort(columns='freq', ascending=False)\n",
      "    temps_dict = dict()\n",
      "    for lang in template_count.iterkeys():\n",
      "        try:\n",
      "            temps_dict[lang] = sort_temps[sort_temps.lang==lang].iloc[:20].convert_objects(convert_numeric=True)\n",
      "        except:\n",
      "            temps_dict[lang] = sort_temps[sort_temps.lang==lang].convert_objects(convert_numeric=True)\n",
      "\n",
      "    return temps_dict"
     ],
     "language": "python",
     "metadata": {},
     "outputs": [],
     "prompt_number": 132
    },
    {
     "cell_type": "code",
     "collapsed": false,
     "input": [
      "ethnosaves = !ls ethnosave\n",
      "filenames = map(lambda name: 'ethnosave/'+name, ethnosaves)ethnosaves = !ls ethnosave\n",
      "filenames = map(lambda name: 'ethnosave/'+name, ethnosaves)\n",
      "sort_dfs = map(top_sections_ethnoset, filenames)"
     ],
     "language": "python",
     "metadata": {},
     "outputs": [
      {
       "output_type": "stream",
       "stream": "stdout",
       "text": [
        "ethnosave/economy-cdi.jsonlatest.json\n",
        "ethnosave/economy-fra.jsonlatest.json"
       ]
      },
      {
       "output_type": "stream",
       "stream": "stdout",
       "text": [
        "\n",
        "ethnosave/economy-uga.jsonlatest.json"
       ]
      },
      {
       "output_type": "stream",
       "stream": "stdout",
       "text": [
        "\n",
        "ethnosave/economy-usa.jsonlatest.json"
       ]
      },
      {
       "output_type": "stream",
       "stream": "stdout",
       "text": [
        "\n",
        "ethnosave/geography-cdi.jsonlatest.json"
       ]
      },
      {
       "output_type": "stream",
       "stream": "stdout",
       "text": [
        "\n",
        "ethnosave/geography-fra.jsonlatest.json"
       ]
      },
      {
       "output_type": "stream",
       "stream": "stdout",
       "text": [
        "\n",
        "ethnosave/geography-uga.jsonlatest.json"
       ]
      },
      {
       "output_type": "stream",
       "stream": "stdout",
       "text": [
        "\n",
        "ethnosave/geography-usa.jsonlatest.json"
       ]
      },
      {
       "output_type": "stream",
       "stream": "stdout",
       "text": [
        "\n",
        "ethnosave/history-cdi.jsonlatest.json"
       ]
      },
      {
       "output_type": "stream",
       "stream": "stdout",
       "text": [
        "\n",
        "ethnosave/history-fra.jsonlatest.json"
       ]
      },
      {
       "output_type": "stream",
       "stream": "stdout",
       "text": [
        "\n",
        "ethnosave/history-uga.jsonlatest.json"
       ]
      },
      {
       "output_type": "stream",
       "stream": "stdout",
       "text": [
        "\n",
        "ethnosave/history-usa.jsonlatest.json"
       ]
      },
      {
       "output_type": "stream",
       "stream": "stdout",
       "text": [
        "\n"
       ]
      }
     ],
     "prompt_number": 384
    },
    {
     "cell_type": "code",
     "collapsed": false,
     "input": [
      "def make_cite_plot(): \n",
      "    citedf = pd.DataFrame(columns=['setname','cite','freq'])\n",
      "    for i in range(len(filenames)):\n",
      "        for lang, df in temp_dfs[i].iteritems():\n",
      "            if lang == 'en':\n",
      "                df = df[(df.tempname == 'cite web') | (df.tempname == 'cite book') | (df.tempname == 'cite news') | (df.tempname == 'cite journal')]\n",
      "                setname = filenames[i][10:-16]\n",
      "                tot = 0\n",
      "                for row in df.iterrows():\n",
      "                    cols = row[1]\n",
      "                    tot += cols['freq']\n",
      "                for row in df.iterrows():\n",
      "                    cols = row[1]\n",
      "                    citedf = citedf.append({'setname':setname, 'cite': cols['tempname'], 'freq':cols['freq']/float(tot)}, ignore_index=True)\n",
      "    \n",
      "    \n",
      "    cite_dict = {\"cite book\":536258, \"cite journal\":328129, \"cite news\":444447, \"cite web\":1560207}\n",
      "    globaltot = reduce(lambda a,b: a+b, cite_dict.itervalues())\n",
      "    globaltotfloat = float(globaltot)\n",
      "    globciteratio = map(lambda cd: (cd[0], cd[1]/globaltotfloat), cite_dict.iteritems() )\n",
      "    \n",
      "    for cite in globciteratio:\n",
      "        citetype, freq = cite[0], cite[1]\n",
      "        citedf = citedf.append({'setname':'English WP Global', 'cite': citetype, 'freq':freq}, ignore_index=True)       \n",
      "    \n",
      "    citedf = citedf.convert_objects(convert_numeric=True)\n",
      "    citepiv = citedf.pivot(index = 'setname', columns = 'cite')\n",
      "    citeplot = citepiv.plot(kind='bar', stacked=True)\n",
      "    citeplot.legend(('Citation type', 'Cite book', 'Cite journal', 'Cite news', 'Cite web'), loc=9)\n",
      "    citeplot.figure.set_size_inches(12,8)\n",
      "    citeplot.set_xlabel('subject-nation')\n",
      "    citeplot.set_title('Composition of Citation Type, by Subject-Nation')\n",
      "\n"
     ],
     "language": "python",
     "metadata": {},
     "outputs": [],
     "prompt_number": 124
    },
    {
     "cell_type": "markdown",
     "metadata": {},
     "source": [
      "This is where I look at the template occurences."
     ]
    },
    {
     "cell_type": "code",
     "collapsed": false,
     "input": [
      "ethnosaves = !ls ethnosave\n",
      "filenames = map(lambda name: 'ethnosave/'+name, ethnosaves)\n",
      "temp_dfs = map(top_templates_ethnoset, filenames)\n",
      "for i in range(len(filenames)):\n",
      "    for lang, df in temp_dfs[i].iteritems():\n",
      "        #print ''\n",
      "        #print filenames[i]\n",
      "        #print df"
     ],
     "language": "python",
     "metadata": {},
     "outputs": [
      {
       "output_type": "stream",
       "stream": "stdout",
       "text": [
        "\n",
        "\n",
        "\n",
        "\n",
        "\n",
        "\n",
        "\n",
        "\n",
        "\n",
        "\n",
        "\n",
        "\n",
        "\n",
        "\n",
        "\n",
        "\n",
        "\n",
        "\n",
        "\n",
        "\n",
        "\n",
        "\n",
        "\n",
        "\n",
        "\n",
        "\n",
        "\n",
        "\n",
        "\n",
        "\n",
        "\n",
        "\n",
        "\n",
        "\n",
        "\n"
       ]
      }
     ],
     "prompt_number": 383
    },
    {
     "cell_type": "code",
     "collapsed": false,
     "input": [
      "def coordinate_frequencies():\n",
      "    def coord_templates_ethnoset(ethnosavefile, coord_df):\n",
      "        \n",
      "        nameparts = ethnosavefile.split('-')\n",
      "        subj = nameparts[0]\n",
      "        dotparts = nameparts[1].split('.')\n",
      "        nation = dotparts[0]\n",
      "      \n",
      "        total_articles = defaultdict(int)\n",
      "        coord_articles = defaultdict(int)\n",
      "        \n",
      "        articles = json.load(open('ethnosave/'+ethnosavefile,'r'))    \n",
      "    \n",
      "        for qid, attribdict in articles.iteritems():\n",
      "            for attribname, langdict in attribdict.iteritems():\n",
      "                if attribname == 'wikitext':\n",
      "                    for lang, wikitext in langdict.iteritems(): \n",
      "                        if wikitext:\n",
      "                            total_articles[lang] += 1\n",
      "                            wikicode = pfh.parse(wikitext)\n",
      "                            temps = wikicode.filter_templates()\n",
      "                            for temp in temps:\n",
      "                                tempname = temp.name\n",
      "                                tempname = tempname.strip().lower()\n",
      "                                if tempname == 'coord':\n",
      "                                    coord_articles[lang] += 1\n",
      "        \n",
      "        for lang, coord_count in coord_articles.iteritems():\n",
      "            freq = coord_count / float(total_articles[lang])\n",
      "            coord_df = coord_df.append({'subj':subj, 'nation':nation, 'lang':lang, 'coord_count':coord_count, 'freq':freq}, ignore_index=True)       \n",
      "        return coord_df\n",
      "    \n",
      "    coord_df = pd.DataFrame(columns=['subj','nation','lang','coord_count','freq'])\n",
      "    \n",
      "    ethnosaves = !ls ethnosave\n",
      "    for ethnosave in ethnosaves:\n",
      "        coord_df = coord_templates_ethnoset(ethnosave, coord_df)\n",
      "    \n",
      "    coord_df_sort = coord_df.sort(columns='freq', ascending=False) \n",
      "    \n",
      "    return HTML(coord_df_sort.to_html(index=False, columns=['subj','nation','lang','coord_count','freq']))"
     ],
     "language": "python",
     "metadata": {},
     "outputs": [],
     "prompt_number": 11
    },
    {
     "cell_type": "code",
     "collapsed": false,
     "input": [],
     "language": "python",
     "metadata": {},
     "outputs": []
    }
   ],
   "metadata": {}
  }
 ]
}