{
 "metadata": {
  "name": ""
 },
 "nbformat": 3,
 "nbformat_minor": 0,
 "worksheets": [
  {
   "cells": [
    {
     "cell_type": "heading",
     "level": 1,
     "metadata": {},
     "source": [
      "Actionable Metrics for Country Articles - Comparisons of Ivory Coast and Uganda"
     ]
    },
    {
     "cell_type": "markdown",
     "metadata": {},
     "source": [
      "This exercise is to determine how the country articles of Ivory Coast and Uganda compare to other country articles in English, French and Swahili Wikipedias.\n",
      "\n",
      "It utilises the research: \n",
      "\n",
      "+ [Tell Me More: An Actionable Quality Model for Wikipedia](http://www-users.cs.umn.edu/~morten/publications/wikisym2013-tellmemore.pdf) by Warncke-Wang, Cosley, and Reidl\n",
      "* [Predicting Quality Flaws in User-generated Content: The Case of Wikipedia](http://www.uni-weimar.de/medien/webis/publications/papers/stein_2012i.pdf) by Anderka, Stein, Lipka\n"
     ]
    },
    {
     "cell_type": "heading",
     "level": 2,
     "metadata": {},
     "source": [
      "Some Utility Functions for Report Actionable Metrics"
     ]
    },
    {
     "cell_type": "markdown",
     "metadata": {},
     "source": [
      "This implementation uses:"
     ]
    },
    {
     "cell_type": "code",
     "collapsed": false,
     "input": [
      "import pywikibot\n",
      "import mwparserfromhell as pfh\n",
      "import os\n",
      "import datetime\n",
      "import pandas as pd\n",
      "import json\n",
      "from collections import defaultdict\n",
      "from ggplot import *\n",
      "import operator\n",
      "\n",
      "%pylab inline\n",
      "\n",
      "\n",
      "langs = ['en','fr','sw']\n",
      "nations = ['usa', 'fra', 'cdi', 'uga']\n",
      "\n",
      "wikipedias = {lang: pywikibot.Site(lang, 'wikipedia') for lang in langs}\n",
      "wikidata = wikipedias['fr'].data_repository()"
     ],
     "language": "python",
     "metadata": {},
     "outputs": [
      {
       "output_type": "stream",
       "stream": "stderr",
       "text": [
        "VERBOSE:pywiki:Starting 1 threads...\n"
       ]
      },
      {
       "output_type": "stream",
       "stream": "stdout",
       "text": [
        "Populating the interactive namespace from numpy and matplotlib\n"
       ]
      },
      {
       "output_type": "stream",
       "stream": "stderr",
       "text": [
        "WARNING: pylab import has clobbered these variables: ['xlim', 'mpl', 'colors', 'ylim']\n",
        "`%pylab --no-import-all` prevents importing * from pylab and numpy\n"
       ]
      }
     ],
     "prompt_number": 7
    },
    {
     "cell_type": "markdown",
     "metadata": {},
     "source": [
      "Infonoise metric of Stvilia (2005) in concept, although the implementation may differ since we are not stopping and stemming words, because of the multiple languages we need to handle"
     ]
    },
    {
     "cell_type": "code",
     "collapsed": false,
     "input": [
      "def readable_text_length(wikicode):\n",
      "    #could also use wikicode.filter_text()\n",
      "    return float(len(wikicode.strip_code()))\n",
      "\n",
      "def infonoise(wikicode):\n",
      "    wikicode.strip_code()\n",
      "    ratio = readable_text_length(wikicode) / float(len(wikicode))\n",
      "    return ratio"
     ],
     "language": "python",
     "metadata": {},
     "outputs": [],
     "prompt_number": 8
    },
    {
     "cell_type": "markdown",
     "metadata": {},
     "source": [
      "Helper function to mine for section headings, of course if there is a lead it doesn't quite make sense."
     ]
    },
    {
     "cell_type": "code",
     "collapsed": false,
     "input": [
      "def section_headings(wikicode):\n",
      "    sections = wikicode.get_sections()\n",
      "    sec_headings = map( lambda s: filter( lambda l: l != '=', s), map(lambda a: a.split(sep='\\n', maxsplit=1)[0], sections))\n",
      "    return sec_headings"
     ],
     "language": "python",
     "metadata": {},
     "outputs": [],
     "prompt_number": 9
    },
    {
     "cell_type": "markdown",
     "metadata": {},
     "source": [
      "Metric of article references"
     ]
    },
    {
     "cell_type": "code",
     "collapsed": false,
     "input": [
      "#i don't know why mwparserfromhell's .fitler_tags() isn't working at the moment. going to hack it for now\n",
      "import re\n",
      "def num_refs(wikicode):\n",
      "    text = str(wikicode)\n",
      "    reftags = re.findall('<(\\ )*?ref', text)\n",
      "    return len(reftags)\n",
      "\n",
      "def article_refs(wikicode):\n",
      "    sections = wikicode.get_sections()\n",
      "    return float(reduce( lambda a,b: a+b ,map(num_refs, sections)))"
     ],
     "language": "python",
     "metadata": {},
     "outputs": [],
     "prompt_number": 10
    },
    {
     "cell_type": "markdown",
     "metadata": {},
     "source": [
      "Predicate for links and files in English French and Swahili"
     ]
    },
    {
     "cell_type": "code",
     "collapsed": false,
     "input": [
      "def link_a_file(linkstr):\n",
      "    fnames = [u'File:', u'Fichier:', u'Image:', u'Picha:']\n",
      "    bracknames = map(lambda a: '[[' + a, fnames)\n",
      "    return any(map(lambda b: linkstr.startswith(b), bracknames))\n",
      "\n",
      "def link_a_cat(linkstr):\n",
      "    cnames =[u'Category:', u'Cat\u00e9gorie:', u'Jamii:']\n",
      "    bracknames = map(lambda a: '[[' + a, cnames)\n",
      "    return any(map(lambda b: linkstr.startswith(b), bracknames))\n",
      "\n",
      "def num_reg_links(wikicode):\n",
      "    reg_links = filter(lambda a: not link_a_file(a) and not link_a_cat(a), wikicode.filter_wikilinks())\n",
      "    return float(len(reg_links))\n",
      "\n",
      "def num_file_links(wikicode):\n",
      "    file_links = filter(lambda a: link_a_file(a), wikicode.filter_wikilinks())\n",
      "    return float(len(file_links))"
     ],
     "language": "python",
     "metadata": {},
     "outputs": [],
     "prompt_number": 11
    },
    {
     "cell_type": "markdown",
     "metadata": {},
     "source": [
      "Metric to determine empty secs sections ala Maik et al en ''Predicting Quality Flaws in User Generated Content (2012)''"
     ]
    },
    {
     "cell_type": "code",
     "collapsed": false,
     "input": [
      "def short_sections(wikicode, thresh=20):\n",
      "    \"\"\"returns the number of sections shorter than 20\"\"\"\n",
      "    sections = wikicode.get_sections()\n",
      "    return reduce( lambda a,b: a+b, map( lambda s: len(s)<= thresh, sections))\n",
      "    "
     ],
     "language": "python",
     "metadata": {},
     "outputs": [],
     "prompt_number": 12
    },
    {
     "cell_type": "heading",
     "level": 2,
     "metadata": {},
     "source": [
      "The Metric Maker that is called on Wikicode"
     ]
    },
    {
     "cell_type": "code",
     "collapsed": false,
     "input": [
      "def report_actionable_metrics(wikicode, completeness_weight=0.8, infonoise_weight=0.6, images_weight=0.3):\n",
      "    '''following the guidelines of the \"Tell me more\" paper'''\n",
      "    completeness = completeness_weight * num_reg_links(wikicode)\n",
      "    informativeness = (infonoise_weight * infonoise(wikicode) ) + (images_weight * num_file_links(wikicode) )\n",
      "    numheadings = len(section_headings(wikicode))\n",
      "    articlelength = readable_text_length(wikicode)\n",
      "    referencerate = article_refs(wikicode) / readable_text_length(wikicode)\n",
      "    \n",
      "    return {'completeness': completeness, 'informativeness': informativeness, 'numheadings': numheadings, 'articlelength': articlelength, 'referencerate': referencerate} "
     ],
     "language": "python",
     "metadata": {},
     "outputs": [],
     "prompt_number": 13
    },
    {
     "cell_type": "heading",
     "level": 3,
     "metadata": {},
     "source": [
      "Testing the Metric Maker on the Article About the UK"
     ]
    },
    {
     "cell_type": "code",
     "collapsed": false,
     "input": [
      "enwp = pywikibot.Site('en','wikipedia')\n",
      "testpage = pywikibot.Page(enwp, 'United_Kingdom')\n",
      "testtext = testpage.get()\n",
      "wikicode = pfh.parse(testtext)"
     ],
     "language": "python",
     "metadata": {},
     "outputs": [
      {
       "output_type": "stream",
       "stream": "stderr",
       "text": [
        "VERBOSE:pywiki:Found 1 wikipedia:en processes running, including this one.\n"
       ]
      }
     ],
     "prompt_number": 14
    },
    {
     "cell_type": "code",
     "collapsed": false,
     "input": [
      "report_actionable_metrics(wikicode)"
     ],
     "language": "python",
     "metadata": {},
     "outputs": [
      {
       "metadata": {},
       "output_type": "pyout",
       "prompt_number": 15,
       "text": [
        "{'articlelength': 113328.0,\n",
        " 'completeness': 1100.8,\n",
        " 'informativeness': 2.370119056604523,\n",
        " 'numheadings': 40,\n",
        " 'referencerate': 0.008197444585627559}"
       ]
      }
     ],
     "prompt_number": 15
    },
    {
     "cell_type": "heading",
     "level": 2,
     "metadata": {},
     "source": [
      "Getting the Wikidata item for every country"
     ]
    },
    {
     "cell_type": "markdown",
     "metadata": {},
     "source": [
      "Mining these from English Wikipedia List of Countries by Popultation. I did mine them also from Wikidata items from an offline parsing using \"isntance of\" \"country\". But got only 133 items For the offline parser see <https://github.com/mkroetzsch/wda>"
     ]
    },
    {
     "cell_type": "code",
     "collapsed": false,
     "input": [
      "country_qids = json.load(open('country_qids.json'))\n",
      "test_qids = country_qids[27:29]\n",
      "print test_qids\n",
      "ugandaqid, cdiqid= 'Q1036', 'Q1008'"
     ],
     "language": "python",
     "metadata": {},
     "outputs": [
      {
       "output_type": "stream",
       "stream": "stdout",
       "text": [
        "[u'Q1014', u'Q26273']\n"
       ]
      }
     ],
     "prompt_number": 16
    },
    {
     "cell_type": "markdown",
     "metadata": {},
     "source": [
      "this will be our data structure dict of dicts, until we have some numbers to put into pandas"
     ]
    },
    {
     "cell_type": "code",
     "collapsed": false,
     "input": [
      "def enfrsw():\n",
      "    return {lang: None for lang in langs}\n",
      "def article_attributes():\n",
      "    return {attrib: enfrsw() for attrib in ['sitelinks', 'wikitext', 'wikicode', 'metrics']}"
     ],
     "language": "python",
     "metadata": {},
     "outputs": [],
     "prompt_number": 17
    },
    {
     "cell_type": "code",
     "collapsed": false,
     "input": [
      "def do_sitelinks(langs, qids, data):\n",
      "    for qid in qids:\n",
      "        page = pywikibot.ItemPage(wikidata, qid)\n",
      "        wditem = page.get()\n",
      "        for lang in langs:\n",
      "            try:\n",
      "                data[qid]['sitelinks'][lang] = wditem['sitelinks'][lang+'wiki']\n",
      "            except KeyError:\n",
      "                pass\n",
      "    return data"
     ],
     "language": "python",
     "metadata": {},
     "outputs": [],
     "prompt_number": 18
    },
    {
     "cell_type": "markdown",
     "metadata": {},
     "source": [
      "and then then functions to get the page texts in all our desired languages"
     ]
    },
    {
     "cell_type": "code",
     "collapsed": false,
     "input": [
      "def get_wikitext(lang, title):\n",
      "    page = pywikibot.Page(wikipedias[lang],title)\n",
      "    def get_page(page):\n",
      "        try:\n",
      "            pagetext = page.get()\n",
      "            return pagetext\n",
      "        except pywikibot.exceptions.IsRedirectPage:\n",
      "            redir = page.getRedirectTarget()\n",
      "            get_page(redir)\n",
      "        except pywikibot.exceptions.NoPage:\n",
      "            raise pywikibot.exceptions.NoPage\n",
      "            print 're raising'\n",
      "    return get_page(page)\n",
      "\n",
      "def do_wikitext(langs, data):\n",
      "    for qid, attribs in data.iteritems():\n",
      "        for lang, sl in attribs['sitelinks'].iteritems():\n",
      "            if sl:\n",
      "                try:\n",
      "                    if randint(0,100) == 99:\n",
      "                        print sl\n",
      "                    data[qid]['wikitext'][lang] = get_wikitext(lang, sl)\n",
      "                except:\n",
      "                    print 'bad sitelink', sl\n",
      "                    continue\n",
      "    return data"
     ],
     "language": "python",
     "metadata": {},
     "outputs": [],
     "prompt_number": 19
    },
    {
     "cell_type": "code",
     "collapsed": false,
     "input": [
      "def do_wikicode(langs, data):\n",
      "    for qid, attribs in data.iteritems():\n",
      "        for lang, pagetext in attribs['wikitext'].iteritems():\n",
      "            if pagetext:\n",
      "                data[qid]['wikicode'][lang] = pfh.parse(pagetext)\n",
      "    return data"
     ],
     "language": "python",
     "metadata": {},
     "outputs": [],
     "prompt_number": 20
    },
    {
     "cell_type": "markdown",
     "metadata": {},
     "source": [
      "calculate our metrics from above"
     ]
    },
    {
     "cell_type": "code",
     "collapsed": false,
     "input": [
      "def do_metrics(data):\n",
      "    for qid, attribs in data.iteritems():\n",
      "        for lang, wikicode in attribs['wikicode'].iteritems():\n",
      "            if wikicode:\n",
      "                data[qid]['metrics'][lang] = report_actionable_metrics(wikicode)\n",
      "    return data"
     ],
     "language": "python",
     "metadata": {},
     "outputs": [],
     "prompt_number": 21
    },
    {
     "cell_type": "markdown",
     "metadata": {},
     "source": [
      "this will take a lot of network time since we are going to load about 300 pages, but we'll save the data off so we don't have to do it uneccesarrily"
     ]
    },
    {
     "cell_type": "code",
     "collapsed": false,
     "input": [
      "def make_data(langs, qids, savename):\n",
      "    print 'getting these qids: ', qids \n",
      "    data = defaultdict(article_attributes)\n",
      "    print 'getting sitelinks'\n",
      "    data = do_sitelinks(langs, qids, data)\n",
      "    print 'getting wikitext'\n",
      "    data = do_wikitext(langs, data)\n",
      "    print 'converting to wikicode'\n",
      "    data = do_wikicode(langs, data)\n",
      "    print 'computing metrics'\n",
      "    data = do_metrics(data)\n",
      "\n",
      "        \n",
      "    hashable_data = {qid: \n",
      "                        {'wikitext': attribdict['wikitext'],\n",
      "                         'metrics': attribdict['metrics'],\n",
      "                         'sitelinks': attribdict['sitelinks']}\n",
      "                             for qid, attribdict in data.iteritems()}\n",
      "    print 'saving now'\n",
      "    #save the results\n",
      "    safefilename = savename+str(datetime.datetime.now())+'.json'\n",
      "    with open(safefilename,'w') as f3:\n",
      "        json.dump(hashable_data,f3)\n",
      "    with open(savename+'latest.json','w') as f4:\n",
      "        json.dump(hashable_data, f4)\n",
      "    return data"
     ],
     "language": "python",
     "metadata": {},
     "outputs": [],
     "prompt_number": 22
    },
    {
     "cell_type": "code",
     "collapsed": true,
     "input": [
      "#arts = make_data(langs, country_qids, 'countrydata')"
     ],
     "language": "python",
     "metadata": {},
     "outputs": [],
     "prompt_number": 23
    },
    {
     "cell_type": "markdown",
     "metadata": {},
     "source": [
      "time to get into pandas, lets throw everything into a data frame"
     ]
    },
    {
     "cell_type": "code",
     "collapsed": false,
     "input": [
      "df = pd.DataFrame(columns=['qid','lang','metric','val'])\n",
      "\n",
      "arts = json.load(open('countrydata-latest.json','r'))\n",
      "\n",
      "for qid, attribdict in arts.iteritems():\n",
      "    for attribname, langdict in attribdict.iteritems():\n",
      "        if attribname == 'metrics':\n",
      "            for lang, metrics in langdict.iteritems(): \n",
      "                try:\n",
      "                #someteimes there wasn't an article in that language and thus no corresponding len\n",
      "                    for metric_name, metric_val in metrics.iteritems():\n",
      "                        df = df.append({'qid': qid, 'lang':lang, 'metric':metric_name, 'val':float(metric_val)}, ignore_index=True)\n",
      "                except:\n",
      "                    pass\n",
      "df = df.convert_objects(convert_numeric=True)"
     ],
     "language": "python",
     "metadata": {},
     "outputs": [],
     "prompt_number": 71
    },
    {
     "cell_type": "code",
     "collapsed": false,
     "input": [
      "df[df['qid']==ugandaqid]"
     ],
     "language": "python",
     "metadata": {},
     "outputs": [
      {
       "html": [
        "<div style=\"max-height:1000px;max-width:1500px;overflow:auto;\">\n",
        "<table border=\"1\" class=\"dataframe\">\n",
        "  <thead>\n",
        "    <tr style=\"text-align: right;\">\n",
        "      <th></th>\n",
        "      <th>qid</th>\n",
        "      <th>lang</th>\n",
        "      <th>metric</th>\n",
        "      <th>val</th>\n",
        "    </tr>\n",
        "  </thead>\n",
        "  <tbody>\n",
        "    <tr>\n",
        "      <th>2205</th>\n",
        "      <td> Q1036</td>\n",
        "      <td> fr</td>\n",
        "      <td> informativeness</td>\n",
        "      <td>     0.701014</td>\n",
        "    </tr>\n",
        "    <tr>\n",
        "      <th>2206</th>\n",
        "      <td> Q1036</td>\n",
        "      <td> fr</td>\n",
        "      <td>   referencerate</td>\n",
        "      <td>     0.000698</td>\n",
        "    </tr>\n",
        "    <tr>\n",
        "      <th>2207</th>\n",
        "      <td> Q1036</td>\n",
        "      <td> fr</td>\n",
        "      <td>    completeness</td>\n",
        "      <td>   280.000000</td>\n",
        "    </tr>\n",
        "    <tr>\n",
        "      <th>2208</th>\n",
        "      <td> Q1036</td>\n",
        "      <td> fr</td>\n",
        "      <td>     numheadings</td>\n",
        "      <td>    26.000000</td>\n",
        "    </tr>\n",
        "    <tr>\n",
        "      <th>2209</th>\n",
        "      <td> Q1036</td>\n",
        "      <td> fr</td>\n",
        "      <td>   articlelength</td>\n",
        "      <td> 21479.000000</td>\n",
        "    </tr>\n",
        "    <tr>\n",
        "      <th>2210</th>\n",
        "      <td> Q1036</td>\n",
        "      <td> en</td>\n",
        "      <td> informativeness</td>\n",
        "      <td>     3.391329</td>\n",
        "    </tr>\n",
        "    <tr>\n",
        "      <th>2211</th>\n",
        "      <td> Q1036</td>\n",
        "      <td> en</td>\n",
        "      <td>   referencerate</td>\n",
        "      <td>     0.004217</td>\n",
        "    </tr>\n",
        "    <tr>\n",
        "      <th>2212</th>\n",
        "      <td> Q1036</td>\n",
        "      <td> en</td>\n",
        "      <td>    completeness</td>\n",
        "      <td>   320.000000</td>\n",
        "    </tr>\n",
        "    <tr>\n",
        "      <th>2213</th>\n",
        "      <td> Q1036</td>\n",
        "      <td> en</td>\n",
        "      <td>     numheadings</td>\n",
        "      <td>     9.000000</td>\n",
        "    </tr>\n",
        "    <tr>\n",
        "      <th>2214</th>\n",
        "      <td> Q1036</td>\n",
        "      <td> en</td>\n",
        "      <td>   articlelength</td>\n",
        "      <td> 57856.000000</td>\n",
        "    </tr>\n",
        "    <tr>\n",
        "      <th>2215</th>\n",
        "      <td> Q1036</td>\n",
        "      <td> sw</td>\n",
        "      <td> informativeness</td>\n",
        "      <td>     0.569580</td>\n",
        "    </tr>\n",
        "    <tr>\n",
        "      <th>2216</th>\n",
        "      <td> Q1036</td>\n",
        "      <td> sw</td>\n",
        "      <td>   referencerate</td>\n",
        "      <td>     0.001881</td>\n",
        "    </tr>\n",
        "    <tr>\n",
        "      <th>2217</th>\n",
        "      <td> Q1036</td>\n",
        "      <td> sw</td>\n",
        "      <td>    completeness</td>\n",
        "      <td>    96.000000</td>\n",
        "    </tr>\n",
        "    <tr>\n",
        "      <th>2218</th>\n",
        "      <td> Q1036</td>\n",
        "      <td> sw</td>\n",
        "      <td>     numheadings</td>\n",
        "      <td>     5.000000</td>\n",
        "    </tr>\n",
        "    <tr>\n",
        "      <th>2219</th>\n",
        "      <td> Q1036</td>\n",
        "      <td> sw</td>\n",
        "      <td>   articlelength</td>\n",
        "      <td>  3722.000000</td>\n",
        "    </tr>\n",
        "  </tbody>\n",
        "</table>\n",
        "</div>"
       ],
       "metadata": {},
       "output_type": "pyout",
       "prompt_number": 72,
       "text": [
        "        qid lang           metric           val\n",
        "2205  Q1036   fr  informativeness      0.701014\n",
        "2206  Q1036   fr    referencerate      0.000698\n",
        "2207  Q1036   fr     completeness    280.000000\n",
        "2208  Q1036   fr      numheadings     26.000000\n",
        "2209  Q1036   fr    articlelength  21479.000000\n",
        "2210  Q1036   en  informativeness      3.391329\n",
        "2211  Q1036   en    referencerate      0.004217\n",
        "2212  Q1036   en     completeness    320.000000\n",
        "2213  Q1036   en      numheadings      9.000000\n",
        "2214  Q1036   en    articlelength  57856.000000\n",
        "2215  Q1036   sw  informativeness      0.569580\n",
        "2216  Q1036   sw    referencerate      0.001881\n",
        "2217  Q1036   sw     completeness     96.000000\n",
        "2218  Q1036   sw      numheadings      5.000000\n",
        "2219  Q1036   sw    articlelength   3722.000000"
       ]
      }
     ],
     "prompt_number": 72
    },
    {
     "cell_type": "markdown",
     "metadata": {},
     "source": [
      "and start looking at some of the correllations"
     ]
    },
    {
     "cell_type": "code",
     "collapsed": false,
     "input": [
      "metric_list = ['completeness','informativeness','numheadings','articlelength','referencerate']\n",
      "\n",
      "langs_df_dict = {lang: df[df['lang'] == lang] for lang in langs}\n",
      "metric_df_dict = {metric: df[df['metric'] == metric] for metric in metric_list}\n",
      "\n",
      "#for later calculation\n",
      "uganda_zscores = defaultdict(list)\n",
      "cdi_zscores = defaultdict(list)"
     ],
     "language": "python",
     "metadata": {},
     "outputs": [],
     "prompt_number": 73
    },
    {
     "cell_type": "code",
     "collapsed": false,
     "input": [
      "for df_name, df in metric_df_dict.iteritems():\n",
      "    df = df.convert_objects(convert_numeric=True)\n",
      "    df.boxplot(column='val',by='lang').set_title(df_name)"
     ],
     "language": "python",
     "metadata": {},
     "outputs": [
      {
       "metadata": {},
       "output_type": "display_data",
       "png": "[encoded data removed]",
       "text": [
        "<matplotlib.figure.Figure at 0x6fd7a50>"
       ]
      },
      {
       "metadata": {},
       "output_type": "display_data",
       "png": "[encoded data removed]",
       "text": [
        "<matplotlib.figure.Figure at 0x32385d0>"
       ]
      },
      {
       "metadata": {},
       "output_type": "display_data",
       "png": "[encoded data removed]",
       "text": [
        "<matplotlib.figure.Figure at 0x955d450>"
       ]
      },
      {
       "metadata": {},
       "output_type": "display_data",
       "png": "[encoded data removed]",
       "text": [
        "<matplotlib.figure.Figure at 0x103ef6d0>"
       ]
      },
      {
       "metadata": {},
       "output_type": "display_data",
       "png": "[encoded data removed]",
       "text": [
        "<matplotlib.figure.Figure at 0x10541e50>"
       ]
      }
     ],
     "prompt_number": 74
    },
    {
     "cell_type": "code",
     "collapsed": true,
     "input": [
      "#make all possible intersections\n",
      "inter_df_dict = {lang+' ' + metric: pd.merge(metric_df, lang_df) for metric, metric_df in metric_df_dict.iteritems() for lang, lang_df in langs_df_dict.iteritems()}\n",
      "\n",
      "for inter_name, inter_df in inter_df_dict.iteritems():\n",
      "    fig = plt.figure()\n",
      "    inter_df = inter_df.convert_objects(convert_numeric=True)\n",
      "    inter_df['val'].hist(bins=20).set_title(inter_name)\n",
      "    plt.show()\n",
      "    close(fig)"
     ],
     "language": "python",
     "metadata": {},
     "outputs": [
      {
       "metadata": {},
       "output_type": "display_data",
       "png": "[encoded data removed]",
       "text": [
        "<matplotlib.figure.Figure at 0x70a8fd0>"
       ]
      },
      {
       "metadata": {},
       "output_type": "display_data",
       "png": "[encoded data removed]",
       "text": [
        "<matplotlib.figure.Figure at 0x9559610>"
       ]
      },
      {
       "metadata": {},
       "output_type": "display_data",
       "png": "[encoded data removed]",
       "text": [
        "<matplotlib.figure.Figure at 0x109cae10>"
       ]
      },
      {
       "metadata": {},
       "output_type": "display_data",
       "png": "[encoded data removed]",
       "text": [
        "<matplotlib.figure.Figure at 0x103ed0d0>"
       ]
      },
      {
       "metadata": {},
       "output_type": "display_data",
       "png": "[encoded data removed]",
       "text": [
        "<matplotlib.figure.Figure at 0x708bfd0>"
       ]
      },
      {
       "metadata": {},
       "output_type": "display_data",
       "png": "[encoded data removed]",
       "text": [
        "<matplotlib.figure.Figure at 0x106c0490>"
       ]
      },
      {
       "metadata": {},
       "output_type": "display_data",
       "png": "[encoded data removed]",
       "text": [
        "<matplotlib.figure.Figure at 0x5d2be10>"
       ]
      },
      {
       "metadata": {},
       "output_type": "display_data",
       "png": "[encoded data removed]",
       "text": [
        "<matplotlib.figure.Figure at 0x106c0f10>"
       ]
      },
      {
       "metadata": {},
       "output_type": "display_data",
       "png": "[encoded data removed]",
       "text": [
        "<matplotlib.figure.Figure at 0x106cd890>"
       ]
      },
      {
       "metadata": {},
       "output_type": "display_data",
       "png": "[encoded data removed]",
       "text": [
        "<matplotlib.figure.Figure at 0x6ff03d0>"
       ]
      },
      {
       "metadata": {},
       "output_type": "display_data",
       "png": "[encoded data removed]",
       "text": [
        "<matplotlib.figure.Figure at 0x109d2c50>"
       ]
      },
      {
       "metadata": {},
       "output_type": "display_data",
       "png": "[encoded data removed]",
       "text": [
        "<matplotlib.figure.Figure at 0x6ff0110>"
       ]
      },
      {
       "metadata": {},
       "output_type": "display_data",
       "png": "[encoded data removed]",
       "text": [
        "<matplotlib.figure.Figure at 0x2fbc750>"
       ]
      },
      {
       "metadata": {},
       "output_type": "display_data",
       "png": "[encoded data removed]",
       "text": [
        "<matplotlib.figure.Figure at 0x6ff03d0>"
       ]
      },
      {
       "metadata": {},
       "output_type": "display_data",
       "png": "[encoded data removed]",
       "text": [
        "<matplotlib.figure.Figure at 0x2fc0fd0>"
       ]
      }
     ],
     "prompt_number": 75
    },
    {
     "cell_type": "code",
     "collapsed": false,
     "input": [
      "def metric_analyse(ametric, binw):\n",
      "    inf_df = metric_df_dict[ametric]\n",
      "    \n",
      "    zscore = lambda x: (x - x.mean()) / x.std()\n",
      "    \n",
      "    inf_piv = inf_df.pivot(index='qid', columns='lang', values='val')\n",
      "    \n",
      "    inf_piv_z = inf_piv.apply(zscore)\n",
      "    \n",
      "    plotinfo = ggplot(aes(x='val', colour='lang'), data=inf_df)  + geom_histogram(binwidth=binw) + labs(\"Score\", \"Frequency\") \\\n",
      "    + facet_wrap('lang')\n",
      "    \n",
      "    global uganda_zscores, cdi_zscores\n",
      "    print \"Uganda's \" + ametric+ \"\\n Wikipedia Language | z-score\" \n",
      "    ug = inf_piv_z.loc[ugandaqid]\n",
      "    for k, v in ug.iteritems():\n",
      "        uganda_zscores[k].append(v) \n",
      "        print k, ' | ',\"%.3f\" % v\n",
      "    print \"C\u00f4te d'Ivoire's \" + ametric+ \"\\n Wikipedia Language | z-score\"\n",
      "    cdi = inf_piv_z.loc[cdiqid]\n",
      "    for k, v in cdi.iteritems():\n",
      "        cdi_zscores[k].append(v)\n",
      "        print k, ' | ',\"%.3f\" % v\n",
      "    return plotinfo"
     ],
     "language": "python",
     "metadata": {},
     "outputs": [],
     "prompt_number": 76
    },
    {
     "cell_type": "code",
     "collapsed": false,
     "input": [
      "def metric_analyse_density(ametric, xlimit, ):\n",
      "    inf_df = metric_df_dict[ametric]\n",
      "    \n",
      "    zscore = lambda x: (x - x.mean()) / x.std()\n",
      "    \n",
      "    inf_piv = inf_df.pivot(index='qid', columns='lang', values='val')\n",
      "    \n",
      "    inf_piv_z = inf_piv.apply(zscore)\n",
      "    \n",
      "    plotinfo = ggplot(aes(x='val', colour='lang', fill=True, alpha = 0.3), data=inf_df) + geom_density() + labs(\"Score\", \"Frequency\") + \\\n",
      "    scale_x_continuous(limits=(0,xlimit))\n",
      "    \n",
      "    \n",
      "    global uganda_zscores, cdi_zscores\n",
      "    print \"Uganda's \" + ametric+ \"\\n Wikipedia Language | z-score\" \n",
      "    ug = inf_piv_z.loc[ugandaqid]\n",
      "    for k, v in ug.iteritems():\n",
      "        uganda_zscores[k].append(v) \n",
      "        print k, ' | ',\"%.3f\" % v\n",
      "    print \"C\u00f4te d'Ivoire's \" + ametric+ \"\\n Wikipedia Language | z-score\"\n",
      "    cdi = inf_piv_z.loc[cdiqid]\n",
      "    for k, v in cdi.iteritems():\n",
      "        cdi_zscores[k].append(v)\n",
      "        print k, ' | ',\"%.3f\" % v\n",
      "    return plotinfo"
     ],
     "language": "python",
     "metadata": {},
     "outputs": [],
     "prompt_number": 77
    },
    {
     "cell_type": "code",
     "collapsed": false,
     "input": [
      "metric_analyse_density('informativeness', 12)"
     ],
     "language": "python",
     "metadata": {},
     "outputs": [
      {
       "output_type": "stream",
       "stream": "stdout",
       "text": [
        "Uganda's informativeness\n",
        " Wikipedia Language | z-score\n",
        "en  |  0.382\n",
        "fr  |  -0.643\n",
        "sw  |  -0.273\n",
        "C\u00f4te d'Ivoire's informativeness\n",
        " Wikipedia Language | z-score\n",
        "en  |  -0.432\n",
        "fr  |  3.312\n",
        "sw  |  -0.385\n"
       ]
      },
      {
       "metadata": {},
       "output_type": "display_data",
       "png": "[encoded data removed]",
       "text": [
        "<matplotlib.figure.Figure at 0x103fdf10>"
       ]
      },
      {
       "metadata": {},
       "output_type": "pyout",
       "prompt_number": 78,
       "text": [
        "<ggplot: (6106081)>"
       ]
      }
     ],
     "prompt_number": 78
    },
    {
     "cell_type": "code",
     "collapsed": false,
     "input": [
      "metric_analyse_density('completeness', 1500)"
     ],
     "language": "python",
     "metadata": {},
     "outputs": [
      {
       "output_type": "stream",
       "stream": "stdout",
       "text": [
        "Uganda's completeness\n",
        " Wikipedia Language | z-score\n",
        "en  |  -0.444\n",
        "fr  |  -0.176\n",
        "sw  |  1.736\n",
        "C\u00f4te d'Ivoire's completeness\n",
        " Wikipedia Language | z-score\n",
        "en  |  -0.973\n",
        "fr  |  1.768\n",
        "sw  |  -0.505\n"
       ]
      },
      {
       "metadata": {},
       "output_type": "display_data",
       "png": "[encoded data removed]",
       "text": [
        "<matplotlib.figure.Figure at 0x106dde10>"
       ]
      },
      {
       "metadata": {},
       "output_type": "pyout",
       "prompt_number": 79,
       "text": [
        "<ggplot: (17224133)>"
       ]
      }
     ],
     "prompt_number": 79
    },
    {
     "cell_type": "heading",
     "level": 2,
     "metadata": {},
     "source": [
      "Let's inspect each metric."
     ]
    },
    {
     "cell_type": "markdown",
     "metadata": {},
     "source": [
      "We look at the 5 statistics that are mentioned in the literature as \"Actionable Metrics\" that is you can do something about them. For each metric the Uganda and C\u00f4te d'Ivoire article's position amongst other countries are shown by the \"z-score\" which is a measure of how many standard deviations they are above or below the average. "
     ]
    },
    {
     "cell_type": "markdown",
     "metadata": {},
     "source": [
      "First we'll take a look at informativeness which is a combination of Infonoise (the ration of readable text to wikitext), plus the number of images."
     ]
    },
    {
     "cell_type": "code",
     "collapsed": false,
     "input": [
      "metric_analyse('informativeness', .75)"
     ],
     "language": "python",
     "metadata": {},
     "outputs": [
      {
       "output_type": "stream",
       "stream": "stdout",
       "text": [
        "Uganda's informativeness\n",
        " Wikipedia Language | z-score\n",
        "en  |  0.382\n",
        "fr  |  -0.643\n",
        "sw  |  -0.273\n",
        "C\u00f4te d'Ivoire's informativeness\n",
        " Wikipedia Language | z-score\n",
        "en  |  -0.432\n",
        "fr  |  3.312\n",
        "sw  |  -0.385\n"
       ]
      },
      {
       "metadata": {},
       "output_type": "display_data",
       "png": "[encoded data removed]",
       "text": [
        "<matplotlib.figure.Figure at 0x109b8f50>"
       ]
      },
      {
       "metadata": {},
       "output_type": "pyout",
       "prompt_number": 80,
       "text": [
        "<ggplot: (17410045)>"
       ]
      }
     ],
     "prompt_number": 80
    },
    {
     "cell_type": "markdown",
     "metadata": {},
     "source": [
      "Next we look at Completeness, which is a count of how many 'intrawiki links' there are on a page."
     ]
    },
    {
     "cell_type": "code",
     "collapsed": false,
     "input": [
      "metric_analyse('completeness', 40)"
     ],
     "language": "python",
     "metadata": {},
     "outputs": [
      {
       "output_type": "stream",
       "stream": "stdout",
       "text": [
        "Uganda's completeness\n",
        " Wikipedia Language | z-score\n",
        "en  |  -0.444\n",
        "fr  |  -0.176\n",
        "sw  |  1.736\n",
        "C\u00f4te d'Ivoire's completeness\n",
        " Wikipedia Language | z-score\n",
        "en  |  -0.973\n",
        "fr  |  1.768\n",
        "sw  |  -0.505\n"
       ]
      },
      {
       "metadata": {},
       "output_type": "display_data",
       "png": "[encoded data removed]",
       "text": [
        "<matplotlib.figure.Figure at 0x1055d050>"
       ]
      },
      {
       "metadata": {},
       "output_type": "pyout",
       "prompt_number": 81,
       "text": [
        "<ggplot: (17128921)>"
       ]
      }
     ],
     "prompt_number": 81
    },
    {
     "cell_type": "markdown",
     "metadata": {},
     "source": [
      "The number of headings of heading or sections, is a metric that shows how organized the information is."
     ]
    },
    {
     "cell_type": "code",
     "collapsed": false,
     "input": [
      "metric_analyse('numheadings', 5)"
     ],
     "language": "python",
     "metadata": {},
     "outputs": [
      {
       "output_type": "stream",
       "stream": "stdout",
       "text": [
        "Uganda's numheadings\n",
        " Wikipedia Language | z-score\n",
        "en  |  -1.696\n",
        "fr  |  0.028\n",
        "sw  |  0.023\n",
        "C\u00f4te d'Ivoire's numheadings\n",
        " Wikipedia Language | z-score\n",
        "en  |  0.660\n",
        "fr  |  -0.411\n",
        "sw  |  -0.428\n"
       ]
      },
      {
       "metadata": {},
       "output_type": "display_data",
       "png": "[encoded data removed]",
       "text": [
        "<matplotlib.figure.Figure at 0xfc77f90>"
       ]
      },
      {
       "metadata": {},
       "output_type": "pyout",
       "prompt_number": 82,
       "text": [
        "<ggplot: (16545665)>"
       ]
      }
     ],
     "prompt_number": 82
    },
    {
     "cell_type": "markdown",
     "metadata": {},
     "source": [
      "Article length looks at how much text there is on a page."
     ]
    },
    {
     "cell_type": "code",
     "collapsed": false,
     "input": [
      "metric_analyse('articlelength',10000)"
     ],
     "language": "python",
     "metadata": {},
     "outputs": [
      {
       "output_type": "stream",
       "stream": "stdout",
       "text": [
        "Uganda's articlelength\n",
        " Wikipedia Language | z-score\n",
        "en  |  0.105\n",
        "fr  |  -0.498\n",
        "sw  |  0.191\n",
        "C\u00f4te d'Ivoire's articlelength\n",
        " Wikipedia Language | z-score\n",
        "en  |  0.336\n",
        "fr  |  2.765\n",
        "sw  |  -0.244\n"
       ]
      },
      {
       "metadata": {},
       "output_type": "display_data",
       "png": "[encoded data removed]",
       "text": [
        "<matplotlib.figure.Figure at 0x103f4410>"
       ]
      },
      {
       "metadata": {},
       "output_type": "pyout",
       "prompt_number": 83,
       "text": [
        "<ggplot: (17036349)>"
       ]
      }
     ],
     "prompt_number": 83
    },
    {
     "cell_type": "markdown",
     "metadata": {},
     "source": [
      "The reference rate looks at how many citations there are per text (literally per letter)."
     ]
    },
    {
     "cell_type": "code",
     "collapsed": false,
     "input": [
      "metric_analyse('referencerate', 0.001)"
     ],
     "language": "python",
     "metadata": {},
     "outputs": [
      {
       "output_type": "stream",
       "stream": "stdout",
       "text": [
        "Uganda's referencerate\n",
        " Wikipedia Language | z-score\n",
        "en  |  0.015\n",
        "fr  |  -0.608\n",
        "sw  |  3.129\n",
        "C\u00f4te d'Ivoire's referencerate\n",
        " Wikipedia Language | z-score\n",
        "en  |  -1.184\n",
        "fr  |  1.663\n",
        "sw  |  -0.265\n"
       ]
      },
      {
       "metadata": {},
       "output_type": "display_data",
       "png": "[encoded data removed]",
       "text": [
        "<matplotlib.figure.Figure at 0x106c9350>"
       ]
      },
      {
       "metadata": {},
       "output_type": "pyout",
       "prompt_number": 84,
       "text": [
        "<ggplot: (17222021)>"
       ]
      }
     ],
     "prompt_number": 84
    },
    {
     "cell_type": "markdown",
     "metadata": {},
     "source": [
      "Now, I average the z-score for each metric, to give one total number about the quality of an article in a language as compared to others. (See below).\n",
      "\n",
      "For the Uganda articles, the perfom below Average (but not too poorly ~ -0.3) in English and French. However it is a relatively strong performer in Swahili (~1.1).\n",
      "\n",
      "For the C\u00f4te d'Ivoire articles, the real stand out is French Wikipedia sometimes being 3 standard deviations above average (averaged averages 1.18). Mean while again whe have middling (~ -0.4) in languages which are not native."
     ]
    },
    {
     "cell_type": "code",
     "collapsed": false,
     "input": [
      "print \"Uganada Mean Zscores by Language\"\n",
      "for lang, clist in uganda_zscores.iteritems():\n",
      "    print lang, reduce(lambda a, b: a+b, clist)/len(clist)\n",
      "\n",
      "print \"Cote d'Ivoire Mean Zscores by Language\"\n",
      "for lang, clist in cdi_zscores.iteritems():\n",
      "    print lang, reduce(lambda a, b: a+b, clist)/len(clist)"
     ],
     "language": "python",
     "metadata": {},
     "outputs": [
      {
       "output_type": "stream",
       "stream": "stdout",
       "text": [
        "Uganada Mean Zscores by Language\n",
        "fr -0.388241022136\n",
        "en -0.242912295257\n",
        "sw 0.895757801417\n",
        "Cote d'Ivoire Mean Zscores by Language\n",
        "fr 2.02505755204\n",
        "en -0.428211204141\n",
        "sw -0.388186253816\n"
       ]
      }
     ],
     "prompt_number": 85
    },
    {
     "cell_type": "markdown",
     "metadata": {},
     "source": [
      "These results offer some credibility to this techqnique, because the Wikipedias of the native languages of those countries show the highest quality. So we can somewhat confidently apply this technique to other sets of articles so see what improvements could be made. Remember a weakness in any one of the 5 metrics is an indicator for a specific type of task that could be done on those articles. What other sets of articles should we apply this too?"
     ]
    },
    {
     "cell_type": "heading",
     "level": 2,
     "metadata": {},
     "source": [
      "Highest Occuring Sections"
     ]
    },
    {
     "cell_type": "markdown",
     "metadata": {},
     "source": [
      "Now we will find the hightest occuring section names in Country Articles by language. The assumption we use here is that if a section name is highly occuring it show that too be an import subject in that language."
     ]
    },
    {
     "cell_type": "code",
     "collapsed": false,
     "input": [
      "fr20 = top_n_sections('fr',20)\n",
      "fr20"
     ],
     "language": "python",
     "metadata": {},
     "outputs": [
      {
       "ename": "NameError",
       "evalue": "name 'top_n_sections' is not defined",
       "output_type": "pyerr",
       "traceback": [
        "\u001b[1;31m---------------------------------------------------------------------------\u001b[0m\n\u001b[1;31mNameError\u001b[0m                                 Traceback (most recent call last)",
        "\u001b[1;32m<ipython-input-86-0a0b7ec85502>\u001b[0m in \u001b[0;36m<module>\u001b[1;34m()\u001b[0m\n\u001b[1;32m----> 1\u001b[1;33m \u001b[0mfr20\u001b[0m \u001b[1;33m=\u001b[0m \u001b[0mtop_n_sections\u001b[0m\u001b[1;33m(\u001b[0m\u001b[1;34m'fr'\u001b[0m\u001b[1;33m,\u001b[0m\u001b[1;36m20\u001b[0m\u001b[1;33m)\u001b[0m\u001b[1;33m\u001b[0m\u001b[0m\n\u001b[0m\u001b[0;32m      2\u001b[0m \u001b[0mfr20\u001b[0m\u001b[1;33m\u001b[0m\u001b[0m\n",
        "\u001b[1;31mNameError\u001b[0m: name 'top_n_sections' is not defined"
       ]
      }
     ],
     "prompt_number": 86
    },
    {
     "cell_type": "code",
     "collapsed": false,
     "input": [
      "en20 = top_n_sections('en',20)\n",
      "en20"
     ],
     "language": "python",
     "metadata": {},
     "outputs": []
    },
    {
     "cell_type": "code",
     "collapsed": false,
     "input": [
      "sw9 = top_n_sections('sw',9)\n",
      "sw9"
     ],
     "language": "python",
     "metadata": {},
     "outputs": []
    },
    {
     "cell_type": "markdown",
     "metadata": {},
     "source": [
      "Looking at the most frequent sections in each What patterns emerge here? First let us acknowledge that some of the sections here are not conent - like \"Notes\" and \"References\". Ignoring non-content sections there is a clear Winner in all three languages - History. \n",
      "\n",
      "\n",
      "In all three languages History the one section you can most rely on being there, 88% of French 95% of English and 42% of Swahili country articles. In Swahili and French, the second most popular sections are Geography, but in English it's Economy. So this informs us on which Categories to apply our metrics on next the History, Economy, and Geography categories."
     ]
    },
    {
     "cell_type": "code",
     "collapsed": true,
     "input": [
      "def defaultint():\n",
      "    return defaultdict(int)\n",
      "\n",
      "section_count = defaultdict(defaultint)\n",
      "sorted_secs = defaultdict(list)\n",
      "total_articles = defaultdict(int)\n",
      "\n",
      "articles = json.load(open('countrydata-latest.json','r'))"
     ],
     "language": "python",
     "metadata": {},
     "outputs": []
    },
    {
     "cell_type": "code",
     "collapsed": false,
     "input": [
      "for qid, attribdict in articles.iteritems():\n",
      "    for attribname, langdict in attribdict.iteritems():\n",
      "        if attribname == 'wikitext':\n",
      "            for lang, wikitext in langdict.iteritems(): \n",
      "                if wikitext:\n",
      "                    total_articles[lang] += 1\n",
      "                    wikicode = pfh.parse(wikitext)\n",
      "                    secs = section_headings(wikicode)\n",
      "                    for sec in secs:\n",
      "                        sec = sec.strip()\n",
      "                        section_count[lang][sec] += 1"
     ],
     "language": "python",
     "metadata": {},
     "outputs": []
    },
    {
     "cell_type": "code",
     "collapsed": false,
     "input": [
      "section_df = pd.DataFrame(columns=['lang','secname','freq'])\n",
      "for lang, sec_dict in section_count.iteritems():\n",
      "    for secname, seccount in sec_dict.iteritems():\n",
      "        freq = seccount/float(total_articles[lang])\n",
      "        section_df = section_df.append({'lang':lang, 'secname':secname, 'freq':freq}, ignore_index=True)  "
     ],
     "language": "python",
     "metadata": {},
     "outputs": []
    },
    {
     "cell_type": "code",
     "collapsed": false,
     "input": [
      "#section_df = section_df.convert_objects(convert_numeric=True)\n",
      "section_df.head()\n",
      "top_secs = section_df[section_df.freq > 0.1]"
     ],
     "language": "python",
     "metadata": {},
     "outputs": []
    },
    {
     "cell_type": "code",
     "collapsed": false,
     "input": [
      "sort_secs= top_secs.sort(columns='freq', ascending=False)\n",
      "\n",
      "def top_n_sections(lang,n):\n",
      "    return sort_secs[sort_secs.lang==lang].iloc[:n].convert_objects(convert_numeric=True)"
     ],
     "language": "python",
     "metadata": {},
     "outputs": []
    },
    {
     "cell_type": "code",
     "collapsed": false,
     "input": [
      "def top_sections_ethnoset(ethnoset_filename):\n",
      "    \n",
      "    def defaultint():\n",
      "        return defaultdict(int)\n",
      "\n",
      "    section_count = defaultdict(defaultint)\n",
      "    sorted_secs = defaultdict(list)\n",
      "    total_articles = defaultdict(int)\n",
      "    \n",
      "    articles = json.load(open(ethnoset_filename,'r'))\n",
      "    \n",
      "    for qid, attribdict in articles.iteritems():\n",
      "        for attribname, langdict in attribdict.iteritems():\n",
      "            if attribname == 'wikitext':\n",
      "                for lang, wikitext in langdict.iteritems(): \n",
      "                    if wikitext:\n",
      "                        total_articles[lang] += 1\n",
      "                        wikicode = pfh.parse(wikitext)\n",
      "                        secs = section_headings(wikicode)\n",
      "                        for sec in secs:\n",
      "                            sec = sec.strip()\n",
      "                            section_count[lang][sec] += 1\n",
      "                        \n",
      "    section_df = pd.DataFrame(columns=['lang','secname','freq'])\n",
      "    for lang, sec_dict in section_count.iteritems():\n",
      "        for secname, seccount in sec_dict.iteritems():\n",
      "            freq = seccount/float(total_articles[lang])\n",
      "            section_df = section_df.append({'lang':lang, 'secname':secname, 'freq':freq}, ignore_index=True)\n",
      "            \n",
      "    #section_df = section_df.convert_objects(convert_numeric=True)\n",
      "    section_df.head()\n",
      "    top_secs = section_df[section_df.freq > 0.1]\n",
      "    \n",
      "    sort_secs= top_secs.sort(columns='freq', ascending=False)\n",
      "\n",
      "    return sort_secs"
     ],
     "language": "python",
     "metadata": {},
     "outputs": [],
     "prompt_number": 9
    },
    {
     "cell_type": "heading",
     "level": 2,
     "metadata": {},
     "source": [
      "Subject and Country analysis"
     ]
    },
    {
     "cell_type": "markdown",
     "metadata": {},
     "source": [
      "So given that we now have the top Sections for each language: Geography, History, and Economy. I created a script that would allow me to look at every article in every category and all its recursive subcategories. I found a Category in each Wikipedia that represent each subject for each country. I chose representative countries for each major language in each of the nations we are considering. The full list of categories the next part of this analysis comes from is:"
     ]
    },
    {
     "cell_type": "code",
     "collapsed": false,
     "input": [
      "categoryjson = json.load(open('ethnosets-categories-capitalized.json','r'))\n",
      "for subject, nationdict in categoryjson.iteritems():\n",
      "    print subject\n",
      "    for nation, langdict in nationdict.iteritems():\n",
      "        print \" |---\"  + nation\n",
      "        for lang in ['fr','en','sw']:\n",
      "            try:\n",
      "                print\"    |---\" + langdict[lang]\n",
      "            except:\n",
      "                pass"
     ],
     "language": "python",
     "metadata": {},
     "outputs": [
      {
       "output_type": "stream",
       "stream": "stdout",
       "text": [
        "Geography\n",
        " |---C\u00f4te d'Ivoire\n",
        "    |---Cat\u00e9gorie:G\u00e9ographie_de_la_C\u00f4te_d'Ivoire\n",
        "    |---Geography_of_Ivory_Coast\n",
        "    |---Jamii:Jiografia_ya_Cote_d'Ivoire\n",
        " |---USA\n",
        "    |---Cat\u00e9gorie:G\u00e9ographie_des_\u00c9tats-Unis\n",
        "    |---Category:Geography_of_the_United_States\n",
        "    |---Jamii:Jiografia_ya_Marekani\n",
        " |---Uganda\n",
        "    |---Cat\u00e9gorie:G\u00e9ographie_de_l'Ouganda\n",
        "    |---Category:Geography_of_Uganda\n",
        "    |---Jamii:Jiografia_ya_Uganda\n",
        " |---France\n",
        "    |---Cat\u00e9gorie:G\u00e9ographie_de_la_France\n",
        "    |---Category:Geography_of_France\n",
        "History\n",
        " |---C\u00f4te d'Ivoire\n",
        "    |---Cat\u00e9gorie:Histoire_de_la_C\u00f4te_d'Ivoire\n",
        "    |---Category:History_of_Ivory_Coast\n",
        " |---Uganda\n",
        "    |---Cat\u00e9gorie:Histoire_de_l'Ouganda\n",
        "    |---Category:History_of_Uganda\n",
        "    |---Jamii:Historia_ya_Uganda\n",
        " |---USA\n",
        "    |---Cat\u00e9gorie:Histoire_des_\u00c9tats-Unis\n",
        "    |---Category:History_of_the_United_States\n",
        "    |---Jamii:Historia_ya_Marekani\n",
        " |---France\n",
        "    |---Cat\u00e9gorie:Histoire_de_France\n",
        "    |---Category:History_of_France\n",
        "    |---Jamii:Historia_ya_Ufaransa\n",
        "Economy\n",
        " |---C\u00f4te d'Ivoire\n",
        "    |---Cat\u00e9gorie:\u00c9conomie_de_la_C\u00f4te_d'Ivoire\n",
        "    |---Category:Economy_of_Ivory_Coast\n",
        "    |---Jamii:Uchumi_wa_Cote_d'Ivoire\n",
        " |---USA\n",
        "    |---Cat\u00e9gorie:\u00c9conomie_des_\u00c9tats-Unis\n",
        "    |---Category:Economy_of_the_United_States\n",
        "    |---Jamii:Uchumi_wa_Marekani\n",
        " |---Uganda\n",
        "    |---Cat\u00e9gorie:\u00c9conomie_de_l'Ouganda\n",
        "    |---Category:Economy_of_Uganda\n",
        "    |---Jamii:Uchumi_wa_Uganda\n",
        " |---France\n",
        "    |---Cat\u00e9gorie:\u00c9conomie_de_la_France\n",
        "    |---Category:Economy_of_France\n",
        "    |---Jamii:Uchumi wa Ufaransa\n"
       ]
      }
     ],
     "prompt_number": 266
    },
    {
     "cell_type": "markdown",
     "metadata": {},
     "source": [
      "Looking at every title of every article in every subcategory of these categories, I accepted or reject each article. The purpose of this filtering process was to remove noise, such as articles about economists out of Economy, or highschools out of Geography while being able to look inside many categories. In the end I accepted a total of:"
     ]
    },
    {
     "cell_type": "code",
     "collapsed": false,
     "input": [
      "ethnosets = !ls ethnosets/\n",
      "reduce(lambda a, b: a+b, map(lambda l: len(l), map(lambda f: json.load(open('ethnosets/'+f)), ethnosets)))"
     ],
     "language": "python",
     "metadata": {},
     "outputs": [
      {
       "metadata": {},
       "output_type": "pyout",
       "prompt_number": 271,
       "text": [
        "24630"
       ]
      }
     ],
     "prompt_number": 271
    },
    {
     "cell_type": "markdown",
     "metadata": {},
     "source": [
      "24630 Articles which I scraped fetched as live data off Wikipedia. Live so that we could compare the results after any editing efforts. I used Wikimedia labs for the [data pull script](https://github.com/notconfusing/kumusha_takes_wiki/blob/master/big_data_pull_by_subject.py) if you are interested.\n",
      "\n",
      "Ok so then for each of those articles we ask Wikidata to give us the page if possible in all our desired languages. And then on all those pages we call the Actionable Metrics as described earlier. \n",
      "\n",
      "So if you are keeping track that means we have four active variables: \n",
      "\n",
      "1. the Nation, \n",
      "2. the Wikipedia language, \n",
      "3. the subject, and \n",
      "4. the metric type.\n",
      "\n",
      "\n",
      "Below is a matrix of heatmaps displaying the mean average of the specified metric across all pages in a specified language, about a specified nation, on a specified topic. If you look at any individual heatmap you can see it compares a Wikipedia language and a nation. Then if looking down the rows of the greater Matrix we have varying metric types, and the columns of the greater matrix are the subject categories.\n",
      "\n",
      "Analysis\n",
      "_________\n",
      "What does it mean? This can act as a guide to where one could find good examples of articles. Say for istance you wanted to improve History articles of Uganda. Look at the vertical History column and within it, the vertical Uganda column. Then moving your eyes up and down you can see that while English Wikipedia has the best reference rate, French Wikipedia has a slightly higher code & images score, which would be useful for other tasks.\n",
      "\n",
      "For Economy, we can see that the clearest horizontal band across each metric is English. This is a promising result because we knew that English unlike French or Swahili placed more of an emphasis on Economy in their country articles. However if we take a by-nation approach we see that the bluest square is always in the France column. Wouldn't we also expect that if English values Economy that USA, Economy articles would perform most strongly? Maybe one exlpanation is that ther are so many company articles that infact the _average_ quality is brought down. Some data that would give creedence to this idea is that English articles about France's economy outperform in the _code and images_ metric. Often bot opertions will leave a lot of templated code, on many relatively obscure articles for which this could be a trace. In economy articles then, I would be recommended to look at French articles of france for written quality, and English for templating ideas.\n",
      "\n",
      "Look in the History column, in each of the metric-rows there is strong horizontal band of blue in the French sub-row. This indicates that Frenche history articles are good across most nations. Except in the bottom two metrics, Article length and references per article, English seems to outperform, particularly for Uganda and the USA. Swahili here performs better for the USA than for Uganda. In fact in the Swahili band, many datapoints do not register because there are 25 or less articles in question (see caveat below). However within the Uganda column, English and French do register, which means that there are translation opportunities to get more Swahili content. As for C\u00f4te d'Ivoire, we also find that in all but referencing French does better than English. This would suggest that for C\u00f4te d'Ivoire's history, they unfortunately have no better direct examples to follow, (but they do have French history to look up to).\n",
      "\n",
      "Moving to Geography, a notable pattern is the domination of French Wikipedia about France in - again - all but Referencing metrics. We encounter some movement from Swahili Wikipedia for the first time. You can see two fainter, but still noticeable horizontal strips in C\u00f4te d'Ivoire and Uganda for all Wikipedia languages. So actually this means that Geogrpahy is the relative strong point for African countries. To improve their relative content coverage Swahili editors woul be better to focus on Economy and History if they wanted to work on the more-needed areas of their Wikipedias. And within all the things they could do, we see the bluest points within code and images, which is likely from bot-created Africa place articles. The needed places to improve those articles are section count and article length which English and French about France, and English about USA could best be a guide for.\n",
      "\n",
      "Caveats\n",
      "_______\n",
      "I since we are using the mean average, sometimes if there are not a lot of pages in a language for a category, if one of the pages is particularly impressive then the average can appear high without it meaning that language is a useful information source. This occurred for instance Swahili Economy of France in Wikilinks. I moved the minimum number of pages in a sub-heatmap to 25 to reduce this noise."
     ]
    },
    {
     "cell_type": "code",
     "collapsed": false,
     "input": [
      "make_heat_map()"
     ],
     "language": "python",
     "metadata": {},
     "outputs": [
      {
       "metadata": {},
       "output_type": "display_data",
       "png": "[encoded data removed]",
       "text": [
        "<matplotlib.figure.Figure at 0x11a82210>"
       ]
      }
     ],
     "prompt_number": 87
    },
    {
     "cell_type": "code",
     "collapsed": false,
     "input": [
      "def make_heat_map():\n",
      "    \n",
      "\n",
      "    subj_list = ['economy','history','geography']\n",
      "    metric_list = ['completeness','informativeness','numheadings','articlelength','referencerate']\n",
      "    #pivtables = {metric: {subj: None for subj in subj_list} for metric in metric_list}\n",
      "    \n",
      "    fig, axes = plt.subplots(nrows = len(metric_list), ncols = len(subj_list), sharex='col', sharey='row' )\n",
      "    '''\n",
      "    for metric, subjdict in pivtables.iteritems():\n",
      "        for subj, pivtab in subjdict.iteritems():\n",
      "            natlangdf = means_df[(means_df.metric == metric) & (means_df.subj == subj)]\n",
      "            natlangpiv = pd.pivot_table(natlangdf, values='means', rows='lang', cols='nation')\n",
      "            pivtables[metric][subj] = natlangpiv\n",
      "            \n",
      "    '''\n",
      "    \n",
      "    for axarr, metric in zip(axes, metric_list):\n",
      "        for ax, subj in zip(axarr, subj_list):\n",
      "            \n",
      "            natlangdf = means_df[(means_df.metric == metric) & (means_df.subj == subj)]\n",
      "            natlangpiv = pd.pivot_table(natlangdf, values='means', rows='lang', cols='nation')\n",
      "            heatmap = ax.pcolor(natlangpiv, cmap='Blues')\n",
      "            ax.set_yticks(np.arange(0.5, len(natlangpiv.index), 1))\n",
      "            ax.set_yticklabels(natlangpiv.index)\n",
      "            ax.set_xticks(np.arange(0.5, len(natlangpiv.columns), 1))\n",
      "            ax.set_xticklabels(natlangpiv.columns)\n",
      "            cbar = plt.colorbar(mappable=heatmap, ax=ax)\n",
      "        \n",
      "    fig.suptitle('Heatmap of Actionable Metrics by Country versus Wikipedia Language, \\n by Subject Category', fontsize=18)\n",
      "    fig.set_size_inches(12,12,dpi=600)\n",
      "    #fig.tight_layout()\n",
      "    \n",
      "    subj_titles = ['Economy','History','Geography']\n",
      "    metric_titles =['Wikilinks','Code & Images to Text Ratio','Section Count','Article Length', 'References per Article Length'] \n",
      "    for i in range(len(subj_titles)):\n",
      "        axes[0][i].set_title(subj_titles[i])\n",
      "    for j in range(len(metric_titles)):\n",
      "        axes[j][0].set_ylabel(metric_titles[j])\n",
      "        \n"
     ],
     "language": "python",
     "metadata": {},
     "outputs": [],
     "prompt_number": 86
    },
    {
     "cell_type": "code",
     "collapsed": false,
     "input": [
      "means_df[(means_df.metric == 'referencerate') & (means_df.subj == 'geography')]"
     ],
     "language": "python",
     "metadata": {},
     "outputs": [
      {
       "html": [
        "<div style=\"max-height:1000px;max-width:1500px;overflow:auto;\">\n",
        "<table border=\"1\" class=\"dataframe\">\n",
        "  <thead>\n",
        "    <tr style=\"text-align: right;\">\n",
        "      <th></th>\n",
        "      <th>subj</th>\n",
        "      <th>nation</th>\n",
        "      <th>lang</th>\n",
        "      <th>metric</th>\n",
        "      <th>means</th>\n",
        "    </tr>\n",
        "  </thead>\n",
        "  <tbody>\n",
        "    <tr>\n",
        "      <th>48</th>\n",
        "      <td> geography</td>\n",
        "      <td> usa</td>\n",
        "      <td> en</td>\n",
        "      <td> referencerate</td>\n",
        "      <td> 0.003102</td>\n",
        "    </tr>\n",
        "    <tr>\n",
        "      <th>49</th>\n",
        "      <td> geography</td>\n",
        "      <td> usa</td>\n",
        "      <td> fr</td>\n",
        "      <td> referencerate</td>\n",
        "      <td> 0.001050</td>\n",
        "    </tr>\n",
        "    <tr>\n",
        "      <th>50</th>\n",
        "      <td> geography</td>\n",
        "      <td> usa</td>\n",
        "      <td> sw</td>\n",
        "      <td> referencerate</td>\n",
        "      <td> 0.000012</td>\n",
        "    </tr>\n",
        "    <tr>\n",
        "      <th>51</th>\n",
        "      <td> geography</td>\n",
        "      <td> fra</td>\n",
        "      <td> en</td>\n",
        "      <td> referencerate</td>\n",
        "      <td> 0.000573</td>\n",
        "    </tr>\n",
        "    <tr>\n",
        "      <th>52</th>\n",
        "      <td> geography</td>\n",
        "      <td> fra</td>\n",
        "      <td> fr</td>\n",
        "      <td> referencerate</td>\n",
        "      <td> 0.001929</td>\n",
        "    </tr>\n",
        "    <tr>\n",
        "      <th>53</th>\n",
        "      <td> geography</td>\n",
        "      <td> fra</td>\n",
        "      <td> sw</td>\n",
        "      <td> referencerate</td>\n",
        "      <td> 0.000000</td>\n",
        "    </tr>\n",
        "    <tr>\n",
        "      <th>54</th>\n",
        "      <td> geography</td>\n",
        "      <td> cdi</td>\n",
        "      <td> en</td>\n",
        "      <td> referencerate</td>\n",
        "      <td> 0.004123</td>\n",
        "    </tr>\n",
        "    <tr>\n",
        "      <th>55</th>\n",
        "      <td> geography</td>\n",
        "      <td> cdi</td>\n",
        "      <td> fr</td>\n",
        "      <td> referencerate</td>\n",
        "      <td> 0.002138</td>\n",
        "    </tr>\n",
        "    <tr>\n",
        "      <th>56</th>\n",
        "      <td> geography</td>\n",
        "      <td> cdi</td>\n",
        "      <td> sw</td>\n",
        "      <td> referencerate</td>\n",
        "      <td> 0.006302</td>\n",
        "    </tr>\n",
        "    <tr>\n",
        "      <th>57</th>\n",
        "      <td> geography</td>\n",
        "      <td> uga</td>\n",
        "      <td> en</td>\n",
        "      <td> referencerate</td>\n",
        "      <td> 0.001590</td>\n",
        "    </tr>\n",
        "    <tr>\n",
        "      <th>58</th>\n",
        "      <td> geography</td>\n",
        "      <td> uga</td>\n",
        "      <td> fr</td>\n",
        "      <td> referencerate</td>\n",
        "      <td> 0.000560</td>\n",
        "    </tr>\n",
        "    <tr>\n",
        "      <th>59</th>\n",
        "      <td> geography</td>\n",
        "      <td> uga</td>\n",
        "      <td> sw</td>\n",
        "      <td> referencerate</td>\n",
        "      <td> 0.000114</td>\n",
        "    </tr>\n",
        "  </tbody>\n",
        "</table>\n",
        "</div>"
       ],
       "metadata": {},
       "output_type": "pyout",
       "prompt_number": 82,
       "text": [
        "         subj nation lang         metric     means\n",
        "48  geography    usa   en  referencerate  0.003102\n",
        "49  geography    usa   fr  referencerate  0.001050\n",
        "50  geography    usa   sw  referencerate  0.000012\n",
        "51  geography    fra   en  referencerate  0.000573\n",
        "52  geography    fra   fr  referencerate  0.001929\n",
        "53  geography    fra   sw  referencerate  0.000000\n",
        "54  geography    cdi   en  referencerate  0.004123\n",
        "55  geography    cdi   fr  referencerate  0.002138\n",
        "56  geography    cdi   sw  referencerate  0.006302\n",
        "57  geography    uga   en  referencerate  0.001590\n",
        "58  geography    uga   fr  referencerate  0.000560\n",
        "59  geography    uga   sw  referencerate  0.000114"
       ]
      }
     ],
     "prompt_number": 82
    },
    {
     "cell_type": "code",
     "collapsed": false,
     "input": [
      "def load_ethnosaves():\n",
      "    ethnosaves = !ls ethnosave\n",
      "    \n",
      "    subj_df_dict = {subj: pd.DataFrame(columns=['qid','subj','nation','lang','metric','val']) for subj in ethnosaves}\n",
      "    \n",
      "    for ethnosavefile in ethnosaves:\n",
      "        nameparts = ethnosavefile.split('-')\n",
      "        subj = nameparts[0]\n",
      "        dotparts = nameparts[1].split('.')\n",
      "        nation = dotparts[0]\n",
      "        arts = json.load(open('ethnosave/'+ethnosavefile,'r'))\n",
      "        print subj, nation\n",
      "        sdf = subj_df_dict[ethnosavefile]\n",
      "        for qid, attribdict in arts.iteritems():\n",
      "            for attribname, langdict in attribdict.iteritems():\n",
      "                if attribname == 'metrics':\n",
      "                    for lang, metrics in langdict.iteritems(): \n",
      "                        try:\n",
      "                        #someteimes there wasn't an article in that language and thus no corresponding len\n",
      "                            for metric_name, metric_val in metrics.iteritems():\n",
      "                                sdf = sdf.append({'qid': qid, 'subj':subj, 'nation':nation, 'lang':lang, 'metric':metric_name, 'val':float(metric_val)}, ignore_index=True)\n",
      "                        except:\n",
      "                            pass\n",
      "        subj_df_dict[ethnosavefile] = sdf\n",
      "        lens = map(lambda d: len(d), subj_df_dict.itervalues())\n",
      "        print lens\n",
      "    return subj_df_dict\n",
      "\n",
      "subj_df_dict = load_ethnosaves()\n",
      "subj_df = pd.concat(subj_df_dict)\n",
      "assert(len(subj_df) == reduce(lambda a, b: a+b, map(lambda df: len(df), subj_df_dict.itervalues())))\n",
      "\n",
      "subj_df = subj_df.convert_objects()\n"
     ],
     "language": "python",
     "metadata": {},
     "outputs": [
      {
       "output_type": "stream",
       "stream": "stdout",
       "text": [
        "economy cdi\n",
        "[0, 0, 0, 0, 0, 0, 0, 0, 0, 0, 0, 735]"
       ]
      },
      {
       "output_type": "stream",
       "stream": "stdout",
       "text": [
        "\n",
        "economy"
       ]
      },
      {
       "output_type": "stream",
       "stream": "stdout",
       "text": [
        " fra\n",
        "[0, 0, 0, 0, 0, 0, 0, 0, 0, 0, 14690, 735]"
       ]
      },
      {
       "output_type": "stream",
       "stream": "stdout",
       "text": [
        "\n",
        "economy uga\n",
        "[0, 0, 0, 495, 0, 0, 0, 0, 0, 0, 14690, 735]"
       ]
      },
      {
       "output_type": "stream",
       "stream": "stdout",
       "text": [
        "\n",
        "economy"
       ]
      },
      {
       "output_type": "stream",
       "stream": "stdout",
       "text": [
        " usa\n",
        "[0, 0, 0, 495, 0, 0, 0, 0, 0, 18550, 14690, 735]"
       ]
      },
      {
       "output_type": "stream",
       "stream": "stdout",
       "text": [
        "\n",
        "geography"
       ]
      },
      {
       "output_type": "stream",
       "stream": "stdout",
       "text": [
        " cdi\n",
        "[12495, 0, 0, 495, 0, 0, 0, 0, 0, 18550, 14690, 735]"
       ]
      },
      {
       "output_type": "stream",
       "stream": "stdout",
       "text": [
        "\n",
        "geography"
       ]
      },
      {
       "output_type": "stream",
       "stream": "stdout",
       "text": [
        " fra\n",
        "[12495, 0, 0, 495, 0, 26550, 0, 0, 0, 18550, 14690, 735]"
       ]
      },
      {
       "output_type": "stream",
       "stream": "stdout",
       "text": [
        "\n",
        "geography"
       ]
      },
      {
       "output_type": "stream",
       "stream": "stdout",
       "text": [
        " uga\n",
        "[12495, 0, 0, 495, 0, 26550, 0, 0, 5020, 18550, 14690, 735]"
       ]
      },
      {
       "output_type": "stream",
       "stream": "stdout",
       "text": [
        "\n",
        "geography"
       ]
      },
      {
       "output_type": "stream",
       "stream": "stdout",
       "text": [
        " usa\n",
        "[12495, 0, 43995, 495, 0, 26550, 0, 0, 5020, 18550, 14690, 735]"
       ]
      },
      {
       "output_type": "stream",
       "stream": "stdout",
       "text": [
        "\n",
        "history cdi\n",
        "[12495, 0, 43995, 495, 0, 26550, 995, 0, 5020, 18550, 14690, 735]"
       ]
      },
      {
       "output_type": "stream",
       "stream": "stdout",
       "text": [
        "\n",
        "history"
       ]
      },
      {
       "output_type": "stream",
       "stream": "stdout",
       "text": [
        " fra\n",
        "[12495, 0, 43995, 495, 0, 26550, 995, 22325, 5020, 18550, 14690, 735]"
       ]
      },
      {
       "output_type": "stream",
       "stream": "stdout",
       "text": [
        "\n",
        "history"
       ]
      },
      {
       "output_type": "stream",
       "stream": "stdout",
       "text": [
        " uga\n",
        "[12495, 0, 43995, 495, 2165, 26550, 995, 22325, 5020, 18550, 14690, 735]"
       ]
      },
      {
       "output_type": "stream",
       "stream": "stdout",
       "text": [
        "\n",
        "history"
       ]
      },
      {
       "output_type": "stream",
       "stream": "stdout",
       "text": [
        " usa\n",
        "[12495, 11340, 43995, 495, 2165, 26550, 995, 22325, 5020, 18550, 14690, 735]"
       ]
      },
      {
       "output_type": "stream",
       "stream": "stdout",
       "text": [
        "\n"
       ]
      }
     ],
     "prompt_number": 68
    },
    {
     "cell_type": "code",
     "collapsed": false,
     "input": [
      "means_df = pd.DataFrame(columns=['subj','nation','lang','metric','means'])\n",
      "\n",
      "for subj in ['geography','history','economy']:\n",
      "    for metric in ['completeness','informativeness','numheadings','articlelength','referencerate']:\n",
      "        for nation in ['usa','fra','cdi','uga']:\n",
      "            for lang in ['en','fr','sw']:\n",
      "                spec_df = subj_df[(subj_df.subj == subj) & (subj_df.nation == nation) & (subj_df.metric == metric) & (subj_df.lang == lang)]['val']\n",
      "                mean = spec_df.mean()\n",
      "                if (not str(mean)[0] in '0123456789'):\n",
      "                    mean = 0.0\n",
      "                if len(spec_df) <= 25:\n",
      "                    print len(spec_df), subj, metric, nation, lang\n",
      "                    mean = 0.0\n",
      "                means_df = means_df.append({'subj':subj, 'nation':nation, 'lang':lang, 'metric':metric, 'means':mean}, ignore_index=True)\n",
      "                \n",
      "means_df = means_df.convert_objects(convert_numeric=True)"
     ],
     "language": "python",
     "metadata": {},
     "outputs": [
      {
       "output_type": "stream",
       "stream": "stdout",
       "text": [
        "6 geography completeness fra sw\n",
        "6"
       ]
      },
      {
       "output_type": "stream",
       "stream": "stdout",
       "text": [
        " geography informativeness fra sw\n",
        "6"
       ]
      },
      {
       "output_type": "stream",
       "stream": "stdout",
       "text": [
        " geography numheadings fra sw\n",
        "6"
       ]
      },
      {
       "output_type": "stream",
       "stream": "stdout",
       "text": [
        " geography articlelength fra sw\n",
        "6"
       ]
      },
      {
       "output_type": "stream",
       "stream": "stdout",
       "text": [
        " geography referencerate fra sw\n",
        "8"
       ]
      },
      {
       "output_type": "stream",
       "stream": "stdout",
       "text": [
        " history completeness fra sw\n",
        "0"
       ]
      },
      {
       "output_type": "stream",
       "stream": "stdout",
       "text": [
        " history completeness cdi sw\n",
        "3"
       ]
      },
      {
       "output_type": "stream",
       "stream": "stdout",
       "text": [
        " history completeness uga sw\n",
        "8"
       ]
      },
      {
       "output_type": "stream",
       "stream": "stdout",
       "text": [
        " history informativeness fra sw\n",
        "0"
       ]
      },
      {
       "output_type": "stream",
       "stream": "stdout",
       "text": [
        " history informativeness cdi sw\n",
        "3"
       ]
      },
      {
       "output_type": "stream",
       "stream": "stdout",
       "text": [
        " history informativeness uga sw\n",
        "8"
       ]
      },
      {
       "output_type": "stream",
       "stream": "stdout",
       "text": [
        " history numheadings fra sw\n",
        "0"
       ]
      },
      {
       "output_type": "stream",
       "stream": "stdout",
       "text": [
        " history numheadings cdi sw\n",
        "3"
       ]
      },
      {
       "output_type": "stream",
       "stream": "stdout",
       "text": [
        " history numheadings uga sw\n",
        "8"
       ]
      },
      {
       "output_type": "stream",
       "stream": "stdout",
       "text": [
        " history articlelength fra sw\n",
        "0"
       ]
      },
      {
       "output_type": "stream",
       "stream": "stdout",
       "text": [
        " history articlelength cdi sw\n",
        "3"
       ]
      },
      {
       "output_type": "stream",
       "stream": "stdout",
       "text": [
        " history articlelength uga sw\n",
        "8"
       ]
      },
      {
       "output_type": "stream",
       "stream": "stdout",
       "text": [
        " history referencerate fra sw\n",
        "0"
       ]
      },
      {
       "output_type": "stream",
       "stream": "stdout",
       "text": [
        " history referencerate cdi sw\n",
        "3"
       ]
      },
      {
       "output_type": "stream",
       "stream": "stdout",
       "text": [
        " history referencerate uga sw\n",
        "10"
       ]
      },
      {
       "output_type": "stream",
       "stream": "stdout",
       "text": [
        " economy completeness usa sw\n",
        "5"
       ]
      },
      {
       "output_type": "stream",
       "stream": "stdout",
       "text": [
        " economy completeness fra sw\n",
        "1"
       ]
      },
      {
       "output_type": "stream",
       "stream": "stdout",
       "text": [
        " economy completeness cdi sw\n",
        "10"
       ]
      },
      {
       "output_type": "stream",
       "stream": "stdout",
       "text": [
        " economy completeness uga fr\n",
        "11"
       ]
      },
      {
       "output_type": "stream",
       "stream": "stdout",
       "text": [
        " economy completeness uga sw\n",
        "10"
       ]
      },
      {
       "output_type": "stream",
       "stream": "stdout",
       "text": [
        " economy informativeness usa sw\n",
        "5"
       ]
      },
      {
       "output_type": "stream",
       "stream": "stdout",
       "text": [
        " economy informativeness fra sw\n",
        "1"
       ]
      },
      {
       "output_type": "stream",
       "stream": "stdout",
       "text": [
        " economy informativeness cdi sw\n",
        "10"
       ]
      },
      {
       "output_type": "stream",
       "stream": "stdout",
       "text": [
        " economy informativeness uga fr\n",
        "11"
       ]
      },
      {
       "output_type": "stream",
       "stream": "stdout",
       "text": [
        " economy informativeness uga sw\n",
        "10"
       ]
      },
      {
       "output_type": "stream",
       "stream": "stdout",
       "text": [
        " economy numheadings usa sw\n",
        "5"
       ]
      },
      {
       "output_type": "stream",
       "stream": "stdout",
       "text": [
        " economy numheadings fra sw\n",
        "1"
       ]
      },
      {
       "output_type": "stream",
       "stream": "stdout",
       "text": [
        " economy numheadings cdi sw\n",
        "10"
       ]
      },
      {
       "output_type": "stream",
       "stream": "stdout",
       "text": [
        " economy numheadings uga fr\n",
        "11"
       ]
      },
      {
       "output_type": "stream",
       "stream": "stdout",
       "text": [
        " economy numheadings uga sw\n",
        "10"
       ]
      },
      {
       "output_type": "stream",
       "stream": "stdout",
       "text": [
        " economy articlelength usa sw\n",
        "5"
       ]
      },
      {
       "output_type": "stream",
       "stream": "stdout",
       "text": [
        " economy articlelength fra sw\n",
        "1"
       ]
      },
      {
       "output_type": "stream",
       "stream": "stdout",
       "text": [
        " economy articlelength cdi sw\n",
        "10"
       ]
      },
      {
       "output_type": "stream",
       "stream": "stdout",
       "text": [
        " economy articlelength uga fr\n",
        "11"
       ]
      },
      {
       "output_type": "stream",
       "stream": "stdout",
       "text": [
        " economy articlelength uga sw\n",
        "10"
       ]
      },
      {
       "output_type": "stream",
       "stream": "stdout",
       "text": [
        " economy referencerate usa sw\n",
        "5"
       ]
      },
      {
       "output_type": "stream",
       "stream": "stdout",
       "text": [
        " economy referencerate fra sw\n",
        "1"
       ]
      },
      {
       "output_type": "stream",
       "stream": "stdout",
       "text": [
        " economy referencerate cdi sw\n",
        "10"
       ]
      },
      {
       "output_type": "stream",
       "stream": "stdout",
       "text": [
        " economy referencerate uga fr\n",
        "11"
       ]
      },
      {
       "output_type": "stream",
       "stream": "stdout",
       "text": [
        " economy referencerate uga sw\n"
       ]
      }
     ],
     "prompt_number": 85
    },
    {
     "cell_type": "markdown",
     "metadata": {},
     "source": [
      "So now we will make matrices (dataframes) that are nation versus lang with the value as the entry, and then each of those matrices will be the entry of a metric by subj tensor"
     ]
    },
    {
     "cell_type": "code",
     "collapsed": false,
     "input": [
      "def top_sections_ethnoset(ethnoset_filename):\n",
      "    print ethnoset_filename\n",
      "    \n",
      "    def defaultint():\n",
      "        return defaultdict(int)\n",
      "\n",
      "    section_count = defaultdict(defaultint)\n",
      "    sorted_secs = defaultdict(list)\n",
      "    total_articles = defaultdict(int)\n",
      "    \n",
      "    articles = json.load(open(ethnoset_filename,'r'))\n",
      "    \n",
      "    for qid, attribdict in articles.iteritems():\n",
      "        for attribname, langdict in attribdict.iteritems():\n",
      "            if attribname == 'wikitext':\n",
      "                for lang, wikitext in langdict.iteritems(): \n",
      "                    if wikitext:\n",
      "                        total_articles[lang] += 1\n",
      "                        wikicode = pfh.parse(wikitext)\n",
      "                        secs = section_headings(wikicode)\n",
      "                        for sec in secs:\n",
      "                            sec = sec.strip()\n",
      "                            section_count[lang][sec] += 1\n",
      "                        \n",
      "    section_df = pd.DataFrame(columns=['lang','secname','freq'])\n",
      "    for lang, sec_dict in section_count.iteritems():\n",
      "        for secname, seccount in sec_dict.iteritems():\n",
      "            freq = seccount/float(total_articles[lang])\n",
      "            section_df = section_df.append({'lang':lang, 'secname':secname, 'freq':freq}, ignore_index=True)\n",
      "            \n",
      "    #section_df = section_df.convert_objects(convert_numeric=True)\n",
      "    section_df.head()\n",
      "    top_secs = section_df[section_df.freq > 0.1]\n",
      "    \n",
      "    sort_secs= top_secs.sort(columns='freq', ascending=False)\n",
      "    return sort_secs"
     ],
     "language": "python",
     "metadata": {},
     "outputs": [],
     "prompt_number": 16
    },
    {
     "cell_type": "code",
     "collapsed": false,
     "input": [
      "def top_templates_ethnoset(ethnoset_filename):\n",
      "    \n",
      "    def defaultint():\n",
      "        return defaultdict(int)\n",
      "\n",
      "    template_count = defaultdict(defaultint)\n",
      "    sorted_templates = defaultdict(list)\n",
      "    total_articles = defaultdict(int)\n",
      "    \n",
      "    articles = json.load(open(ethnoset_filename,'r'))\n",
      "    \n",
      "    for qid, attribdict in articles.iteritems():\n",
      "        for attribname, langdict in attribdict.iteritems():\n",
      "            if attribname == 'wikitext':\n",
      "                for lang, wikitext in langdict.iteritems(): \n",
      "                    if wikitext:\n",
      "                        total_articles[lang] += 1\n",
      "                        wikicode = pfh.parse(wikitext)\n",
      "                        temps = wikicode.filter_templates()\n",
      "                        for temp in temps:\n",
      "                            tempname = temp.name\n",
      "                            tempname = tempname.strip().lower()\n",
      "                            template_count[lang][tempname] += 1\n",
      "                        \n",
      "    temp_df = pd.DataFrame(columns=['lang','tempname','freq'])\n",
      "    for lang, temp_dict in template_count.iteritems():\n",
      "        for tempname, tempcount in temp_dict.iteritems():\n",
      "            freq = tempcount/float(total_articles[lang])\n",
      "            temp_df = temp_df.append({'lang':lang, 'tempname':tempname, 'freq':freq}, ignore_index=True)\n",
      "            \n",
      "    #section_df = section_df.convert_objects(convert_numeric=True)\n",
      "    top_templates = temp_df[temp_df.freq > 0.1]\n",
      "    \n",
      "    sort_temps= top_templates.sort(columns='freq', ascending=False)\n",
      "    temps_dict = dict()\n",
      "    for lang in template_count.iterkeys():\n",
      "        try:\n",
      "            temps_dict[lang] = sort_temps[sort_temps.lang==lang].iloc[:20].convert_objects(convert_numeric=True)\n",
      "        except:\n",
      "            temps_dict[lang] = sort_temps[sort_temps.lang==lang].convert_objects(convert_numeric=True)\n",
      "\n",
      "    return temps_dict"
     ],
     "language": "python",
     "metadata": {},
     "outputs": [],
     "prompt_number": 3
    },
    {
     "cell_type": "code",
     "collapsed": false,
     "input": [
      "ethnosaves = !ls ethnosave\n",
      "filenames = map(lambda name: 'ethnosave/'+name, ethnosaves)\n",
      "sort_dfs = map(top_sections_ethnoset, filenames)"
     ],
     "language": "python",
     "metadata": {},
     "outputs": [
      {
       "ename": "NameError",
       "evalue": "name 'top_sections_ethnoset' is not defined",
       "output_type": "pyerr",
       "traceback": [
        "\u001b[1;31m---------------------------------------------------------------------------\u001b[0m\n\u001b[1;31mNameError\u001b[0m                                 Traceback (most recent call last)",
        "\u001b[1;32m<ipython-input-4-de4bd2af5640>\u001b[0m in \u001b[0;36m<module>\u001b[1;34m()\u001b[0m\n\u001b[0;32m      1\u001b[0m \u001b[0methnosaves\u001b[0m \u001b[1;33m=\u001b[0m \u001b[0mget_ipython\u001b[0m\u001b[1;33m(\u001b[0m\u001b[1;33m)\u001b[0m\u001b[1;33m.\u001b[0m\u001b[0mgetoutput\u001b[0m\u001b[1;33m(\u001b[0m\u001b[1;34mu'ls ethnosave'\u001b[0m\u001b[1;33m)\u001b[0m\u001b[1;33m\u001b[0m\u001b[0m\n\u001b[0;32m      2\u001b[0m \u001b[0mfilenames\u001b[0m \u001b[1;33m=\u001b[0m \u001b[0mmap\u001b[0m\u001b[1;33m(\u001b[0m\u001b[1;32mlambda\u001b[0m \u001b[0mname\u001b[0m\u001b[1;33m:\u001b[0m \u001b[1;34m'ethnosave/'\u001b[0m\u001b[1;33m+\u001b[0m\u001b[0mname\u001b[0m\u001b[1;33m,\u001b[0m \u001b[0methnosaves\u001b[0m\u001b[1;33m)\u001b[0m\u001b[1;33m\u001b[0m\u001b[0m\n\u001b[1;32m----> 3\u001b[1;33m \u001b[0msort_dfs\u001b[0m \u001b[1;33m=\u001b[0m \u001b[0mmap\u001b[0m\u001b[1;33m(\u001b[0m\u001b[0mtop_sections_ethnoset\u001b[0m\u001b[1;33m,\u001b[0m \u001b[0mfilenames\u001b[0m\u001b[1;33m)\u001b[0m\u001b[1;33m\u001b[0m\u001b[0m\n\u001b[0m",
        "\u001b[1;31mNameError\u001b[0m: name 'top_sections_ethnoset' is not defined"
       ]
      }
     ],
     "prompt_number": 4
    },
    {
     "cell_type": "heading",
     "level": 3,
     "metadata": {},
     "source": [
      "Top Templates by Subject and Country"
     ]
    },
    {
     "cell_type": "markdown",
     "metadata": {},
     "source": [
      "The previous approach of looking at the top section heading, I did not find very useful here because within a broad category of \"Economy\" or \"Geography\" there are too many sub-subjects which have different expected flavours of section headings. Instead I decided to take a look at the top templates, to see if sepecific quality flaws could be identified using the techniques of [Stein's Quality Flaws](http://www.uni-weimar.de/medien/webis/publications/papers/stein_2012i.pdf). Regretably this study only disucsses English Wikipedia, so here I would need a French Wikipedian to identify the top Clean-up tags in French Wikipedia. While \"Citaiton neeed\" does appear for some categories there \"Citation n\u00e9cessaire\" doesn't pop up, so this indicateds maybe a direct translation is not possible.\n",
      "\n",
      "In fact all of the most common clean-up tags make no apperance in our top 20 of each subject-nation files, except Citation needed. These subject-nation combinations have the highest incidence:\n",
      "\n",
      "    Subject-nation| Frequency of \"citation needed\" (per article)\n",
      "\n",
      "    history-usa   |  0.501708\n",
      "    economy-fra   |  0.282183\n",
      "    economy-usa   |  0.270058\n",
      "    history-fra   |  0.226929\n",
      "    history-cdi   |  0.173913\n",
      "    geography-usa |  0.154013\n",
      "    economy-cdi   |  0.128205\n",
      "\n",
      "This seemingly highlights more lack of tagging with clean-up templates more than anything. Can we really say that the History of C\u00f4te d'Ivoire is more in need of Citations than Economy, or even any Uganda subject which doesn't make it onto the list? Also would it be useful to spend time tagging more articles with Citation needed? From a content generation perspective probably not, but it would give a better insight for future research on where to focus efforts. \n",
      "\n",
      "Then I also noted this as being a hilarious comment on U.S. Capitalism - economy-usa \"profit\" with frequency 0.100515.\n",
      "\n",
      "\n",
      "Looking over the data one can see that citation templates feature highly so we can investigate is the relative types of Citations used (albeit from an English perspective). First I retrived the statistics for _all occurences_ of English Wikipeda Citation templates from Wikimedia labs, and then converted them into a proportion.\n",
      "\n",
      "    MariaDB [enwiki_p]> select tl_title, count(*) from templatelinks where tl_title like 'Cite_web' or tl_title like 'Cite_news' or tl_title like 'Cite_journal' or tl_title like 'Cite_book' group by tl_title;\n",
      "    +--------------+----------+\n",
      "    | tl_title     | count(*) |\n",
      "    +--------------+----------+\n",
      "    | Cite_book    |   536258 |\n",
      "    | Cite_journal |   328129 |\n",
      "    | Cite_news    |   444447 |\n",
      "    | Cite_web     |  1560207 |\n",
      "    +--------------+----------+\n",
      "    4 rows in set (11 min 36.68 sec)\n",
      "    \n",
      "This global statistic, serves as a benchmark for all the compositions we can infer from our Top template work if we consider all the occurences of _Cite book, Cite Journal, Cite News, and Cite web_ from our subject-nation files. See below the graphical reperesentation. Immediately Geography seems to be less diversely cited in for all nations. We can also see signs that _Economy_ on the whole has more news citations, and that _History_ on average utilises more book citations. \n"
     ]
    },
    {
     "cell_type": "code",
     "collapsed": false,
     "input": [
      "make_cite_plot()"
     ],
     "language": "python",
     "metadata": {},
     "outputs": [
      {
       "metadata": {},
       "output_type": "display_data",
       "png": "[encoded data removed]",
       "text": [
        "<matplotlib.figure.Figure at 0xfd93890>"
       ]
      }
     ],
     "prompt_number": 123
    },
    {
     "cell_type": "code",
     "collapsed": false,
     "input": [
      "def make_cite_plot(): \n",
      "    citedf = pd.DataFrame(columns=['setname','cite','freq'])\n",
      "    for i in range(len(filenames)):\n",
      "        for lang, df in temp_dfs[i].iteritems():\n",
      "            if lang == 'en':\n",
      "                df = df[(df.tempname == 'cite web') | (df.tempname == 'cite book') | (df.tempname == 'cite news') | (df.tempname == 'cite journal')]\n",
      "                setname = filenames[i][10:-16]\n",
      "                tot = 0\n",
      "                for row in df.iterrows():\n",
      "                    cols = row[1]\n",
      "                    tot += cols['freq']\n",
      "                for row in df.iterrows():\n",
      "                    cols = row[1]\n",
      "                    citedf = citedf.append({'setname':setname, 'cite': cols['tempname'], 'freq':cols['freq']/float(tot)}, ignore_index=True)\n",
      "    \n",
      "    \n",
      "    cite_dict = {\"cite book\":536258, \"cite journal\":328129, \"cite news\":444447, \"cite web\":1560207}\n",
      "    globaltot = reduce(lambda a,b: a+b, cite_dict.itervalues())\n",
      "    globaltotfloat = float(globaltot)\n",
      "    globciteratio = map(lambda cd: (cd[0], cd[1]/globaltotfloat), cite_dict.iteritems() )\n",
      "    \n",
      "    for cite in globciteratio:\n",
      "        citetype, freq = cite[0], cite[1]\n",
      "        citedf = citedf.append({'setname':'English WP Global', 'cite': citetype, 'freq':freq}, ignore_index=True)       \n",
      "    \n",
      "    citedf = citedf.convert_objects(convert_numeric=True)\n",
      "    citepiv = citedf.pivot(index = 'setname', columns = 'cite')\n",
      "    citeplot = citepiv.plot(kind='bar', stacked=True)\n",
      "    citeplot.legend(('Citation type', 'Cite book', 'Cite journal', 'Cite news', 'Cite web'), loc=9)\n",
      "    citeplot.figure.set_size_inches(9,6)\n",
      "    citeplot.set_xlabel('subject-nation')\n",
      "    citeplot.set_title('Composition of Citation Type, by Subject-Nation')\n",
      "\n"
     ],
     "language": "python",
     "metadata": {},
     "outputs": [],
     "prompt_number": 122
    },
    {
     "cell_type": "code",
     "collapsed": false,
     "input": [
      "ethnosaves = !ls ethnosave\n",
      "filenames = map(lambda name: 'ethnosave/'+name, ethnosaves)\n",
      "temp_dfs = map(top_templates_ethnoset, filenames)"
     ],
     "language": "python",
     "metadata": {},
     "outputs": [],
     "prompt_number": 24
    },
    {
     "cell_type": "code",
     "collapsed": false,
     "input": [
      "for i in range(len(filenames)):\n",
      "    for lang, df in temp_dfs[i].iteritems():\n",
      "        print filenames[i]\n",
      "        print df\n",
      "        #print df"
     ],
     "language": "python",
     "metadata": {},
     "outputs": [
      {
       "output_type": "stream",
       "stream": "stdout",
       "text": [
        "ethnosave/economy-cdi.jsonlatest.json\n",
        "    lang               tempname      freq\n",
        "97    fr                   date  1.037383\n",
        "251   fr                  unit\u00e9  0.962617\n",
        "91    fr                     fr  0.962617\n",
        "254   fr                portail  0.728972\n",
        "194   fr                \u00e9bauche  0.719626\n",
        "262   fr             r\u00e9f\u00e9rences  0.635514\n",
        "129   fr               lien web  0.560748\n",
        "132   fr                   harv  0.439252\n",
        "31    fr                ouvrage  0.383178\n",
        "63    fr  portail c\u00f4te d'ivoire  0.271028\n",
        "116   fr        infobox soci\u00e9t\u00e9  0.261682\n",
        "387   fr                    nau  0.177570\n",
        "271   fr                   refl  0.158879\n",
        "231   fr                drapeau  0.149533\n",
        "114   fr                      ,  0.140187\n",
        "394   fr                      e  0.121495\n",
        "88    fr                     s-  0.121495\n",
        "203   fr                  plume  0.102804\n",
        "ethnosave/economy-cdi.jsonlatest.json\n",
        "    lang                  tempname      freq\n",
        "473   en                      date  1.692308\n",
        "407   en                  cite web  1.179487\n",
        "412   en                 cite news  0.692308\n",
        "507   en                   reflist  0.666667\n",
        "460   en                   convert  0.641026\n",
        "435   en                  flagicon  0.512821\n",
        "493   en                      flag  0.282051\n",
        "432   en              cite journal  0.230769\n",
        "506   en  economy of c\u00f4te d'ivoire  0.179487\n",
        "482   en                 cite book  0.179487\n",
        "441   en                     coord  0.153846\n",
        "529   en                    portal  0.128205\n",
        "488   en           citation needed  0.128205\n",
        "457   en              africa topic  0.128205\n",
        "433   en         coted'ivoire-stub  0.128205\n",
        "522   en                   fr icon  0.102564\n",
        "495   en                start date  0.102564\n",
        "487   en                     as of  0.102564\n",
        "459   en             infobox union  0.102564\n",
        "427   en  c\u00f4ted'ivoire-struct-stub  0.102564\n",
        "ethnosave/economy-cdi.jsonlatest.json\n",
        "    lang tempname  freq\n",
        "540   sw  marejeo     1\n",
        "539   sw       en     1\n",
        "ethnosave/economy-fra.jsonlatest.json\n",
        "     lang          tempname      freq\n",
        "3933   fr             unit\u00e9  2.586137\n",
        "1442   fr          lien web  1.476555\n",
        "2897   fr           portail  0.982161\n",
        "1347   fr              date  0.976045\n",
        "769    fr        r\u00e9f\u00e9rences  0.629969\n",
        "313    fr                 ,  0.593272\n",
        "3976   fr   infobox soci\u00e9t\u00e9  0.477064\n",
        "2801   fr            num\u00e9ro  0.410296\n",
        "1187   fr           ouvrage  0.348624\n",
        "1639   fr           \u00e9bauche  0.348114\n",
        "2119   fr          citation  0.342508\n",
        "2411   fr                fr  0.301223\n",
        "1768   fr           article  0.298675\n",
        "3697   fr               1er  0.293068\n",
        "2931   fr                p.  0.254332\n",
        "3227   fr                 e  0.246687\n",
        "1834   fr            harvsp  0.244139\n",
        "3588   fr  article d\u00e9taill\u00e9  0.227829\n",
        "1436   fr                en  0.220183\n",
        "247    fr            nombre  0.208970\n",
        "ethnosave/economy-fra.jsonlatest.json\n",
        "     lang          tempname      freq\n",
        "5348   en          cite web  2.504634\n",
        "5588   en                no  1.467559\n",
        "4689   en         cite news  0.923790\n",
        "4911   en           reflist  0.700309\n",
        "4478   en           convert  0.581874\n",
        "5076   en          flagicon  0.575695\n",
        "5345   en               yes  0.492276\n",
        "4497   en   infobox company  0.443872\n",
        "4859   en         cite book  0.381050\n",
        "4914   en               bs5  0.374871\n",
        "4620   en           fr icon  0.302781\n",
        "4537   en   citation needed  0.282183\n",
        "4676   en                rh  0.243048\n",
        "4959   en               sfn  0.167868\n",
        "4630   en  commons category  0.140062\n",
        "5569   en          citation  0.131823\n",
        "4810   en  official website  0.129763\n",
        "4972   en               url  0.120494\n",
        "4693   en              main  0.118435\n",
        "5473   en          euronext  0.114315\n",
        "ethnosave/economy-fra.jsonlatest.json\n",
        "     lang            tempname  freq\n",
        "5658   sw            cite web   0.8\n",
        "5651   sw  mbegu-jio-ufaransa   0.6\n",
        "5657   sw          commonscat   0.4\n",
        "5648   sw              profit   0.4\n",
        "5647   sw  infobox settlement   0.4\n",
        "5646   sw             marejeo   0.4\n",
        "5656   sw     infobox kampuni   0.2\n",
        "5655   sw     infobox airline   0.2\n",
        "5654   sw              portal   0.2\n",
        "5653   sw                flag   0.2\n",
        "5652   sw    cac 40 companies   0.2\n",
        "5650   sw             commons   0.2\n",
        "5649   sw            euronext   0.2\n",
        "5645   sw             link fa   0.2\n",
        "5644   sw                  en   0.2\n",
        "5643   sw                  fr   0.2"
       ]
      },
      {
       "output_type": "stream",
       "stream": "stdout",
       "text": [
        "\n",
        "ethnosave/economy-uga.jsonlatest.json\n",
        "   lang            tempname  freq\n",
        "15   fr             portail   1.0\n",
        "1    fr                  en   0.9\n",
        "33   fr             \u00e9bauche   0.8\n",
        "23   fr             ouganda   0.6\n",
        "21   fr            lien web   0.6\n",
        "36   fr          r\u00e9f\u00e9rences   0.4\n",
        "37   fr               unit\u00e9   0.3\n",
        "29   fr      autres projets   0.3\n",
        "28   fr                date   0.3\n",
        "19   fr     formatnum:30000   0.3\n",
        "11   fr             palette   0.3\n",
        "41   fr  infobox universit\u00e9   0.2\n",
        "32   fr            officiel   0.2\n",
        "ethnosave/economy-uga.jsonlatest.json\n",
        "    lang               tempname      freq\n",
        "157   en                reflist  0.897436\n",
        "50    en               cite web  0.692308\n",
        "141   en                convert  0.641026\n",
        "77    en                  coord  0.538462\n",
        "81    en               flagicon  0.525641\n",
        "56    en              cite news  0.500000\n",
        "59    en                   asof  0.410256\n",
        "104   en       kampala district  0.243590\n",
        "185   en                    sfn  0.217949\n",
        "129   en                 nowrap  0.192308\n",
        "119   en        infobox company  0.179487\n",
        "111   en            uganda-stub  0.141026\n",
        "179   en  infobox power station  0.128205\n",
        "134   en              cite book  0.102564\n",
        "96    en                 profit  0.102564\n",
        "84    en     airlines of uganda  0.102564\n",
        "57    en                   main  0.102564\n",
        "ethnosave/economy-uga.jsonlatest.json\n",
        "    lang          tempname      freq\n",
        "223   sw         flag icon  0.454545\n",
        "227   sw   infobox company  0.363636\n",
        "218   sw           marejeo  0.363636\n",
        "205   sw      brewbox_beer  0.363636\n",
        "197   sw                en  0.272727\n",
        "225   sw             small  0.181818\n",
        "212   sw              main  0.181818\n",
        "210   sw                 \\  0.181818\n",
        "208   sw        kenya-stub  0.181818\n",
        "204   sw           lang-en  0.181818\n",
        "203   sw  africa-bank-stub  0.181818\n",
        "202   sw      mbegu-uchumi  0.181818\n",
        "198   sw           reflist  0.181818\n",
        "ethnosave/economy-usa.jsonlatest.json\n",
        "    lang         tempname      freq\n",
        "276   fr               en  1.390428\n",
        "529   fr            unit\u00e9  1.057935\n",
        "534   fr          portail  0.947103\n",
        "183   fr         lien web  0.808564\n",
        "190   fr             date  0.546599\n",
        "60    fr  infobox soci\u00e9t\u00e9  0.460957\n",
        "414   fr          \u00e9bauche  0.438287\n",
        "557   fr       r\u00e9f\u00e9rences  0.397985\n",
        "710   fr             lien  0.390428\n",
        "229   fr                ,  0.340050\n",
        "510   fr          article  0.284635\n",
        "501   fr          drapeau  0.229219\n",
        "798   fr             lang  0.221662\n",
        "280   fr               fr  0.206549\n",
        "38    fr            usa-d  0.186398\n",
        "800   fr                e  0.176322\n",
        "482   fr          palette  0.163728\n",
        "219   fr   voir homonymes  0.161209\n",
        "334   fr             nyse  0.158690\n",
        "458   fr   autres projets  0.138539\n",
        "ethnosave/economy-usa.jsonlatest.json\n",
        "     lang         tempname      freq\n",
        "2456   en         cite web  3.061459\n",
        "2252   en        cite news  1.676960\n",
        "1727   en          reflist  0.752649\n",
        "1422   en               no  0.523161\n",
        "884    en  infobox company  0.478656\n",
        "2780   en          convert  0.440811\n",
        "2814   en  citation needed  0.270966\n",
        "1185   en         flagicon  0.234332\n",
        "2341   en        cite book  0.227672\n",
        "2552   en        dead link  0.184681\n",
        "1311   en              yes  0.175901\n",
        "1672   en         increase  0.170754\n",
        "2748   en     cite journal  0.145625\n",
        "3005   en              url  0.121102\n",
        "1293   en           portal  0.106267\n",
        "2431   en            coord  0.104450\n",
        "1668   en           profit  0.100515\n",
        "ethnosave/economy-usa.jsonlatest.json\n",
        "     lang       tempname  freq\n",
        "3348   sw      cite news   0.5\n",
        "3343   sw       cite web   0.5\n",
        "3340   sw        reflist   0.3\n",
        "3361   sw  infobox kampu   0.2\n",
        "3358   sw      flag icon   0.2\n",
        "3355   sw        marejeo   0.2\n",
        "3345   sw        link fa   0.2\n",
        "ethnosave/geography-cdi.jsonlatest.json\n",
        "    lang                          tempname      freq\n",
        "393   fr                           \u00e9bauche  0.904724\n",
        "554   fr                        r\u00e9f\u00e9rences  0.781425\n",
        "525   fr                           portail  0.775020\n",
        "225   fr                                fr  0.741393\n",
        "446   fr                             coord  0.342674\n",
        "521   fr                             unit\u00e9  0.268215\n",
        "140   fr             portail c\u00f4te d'ivoire  0.223379\n",
        "54    fr                           ouvrage  0.218575\n",
        "320   fr  infobox commune de c\u00f4te d'ivoire  0.157726\n",
        "208   fr                                 ,  0.115292"
       ]
      },
      {
       "output_type": "stream",
       "stream": "stdout",
       "text": [
        "\n",
        "ethnosave/geography-cdi.jsonlatest.json\n",
        "     lang            tempname      freq\n",
        "885    en                flag  0.838455\n",
        "1324   en  infobox settlement  0.787533\n",
        "1154   en               coord  0.430202\n",
        "1080   en       coord missing  0.400351\n",
        "1321   en            cite web  0.115891\n",
        "ethnosave/geography-cdi.jsonlatest.json\n",
        "     lang                 tempname      freq\n",
        "1491   sw  mbegu-jio-cote d'ivoire  0.945946\n",
        "1488   sw       infobox settlement  0.189189\n",
        "1489   sw   mikoa ya cote d'ivoire  0.180180\n",
        "1496   sw                     flag  0.171171\n",
        "ethnosave/geography-fra.jsonlatest.json\n",
        "     lang  tempname      freq\n",
        "4333   fr       NaN  3.927636\n",
        "3161   fr       NaN  0.990240\n",
        "834    fr       NaN  0.696263\n",
        "1582   fr       NaN  0.689836\n",
        "1380   fr       NaN  0.539395\n",
        "1780   fr       NaN  0.501785\n",
        "751    fr       NaN  0.415377\n",
        "1826   fr         3  0.367770\n",
        "1455   fr       NaN  0.343490\n",
        "71     fr       NaN  0.336587\n",
        "3325   fr       NaN  0.315639\n",
        "4      fr       NaN  0.306832\n",
        "4225   fr       NaN  0.304689\n",
        "1478   fr       NaN  0.296120\n",
        "1908   fr       NaN  0.290407\n",
        "1294   fr       NaN  0.280409\n",
        "3208   fr       NaN  0.279933\n",
        "2715   fr       NaN  0.211378\n",
        "3544   fr       NaN  0.195906\n",
        "2973   fr       NaN  0.192097\n",
        "ethnosave/geography-fra.jsonlatest.json\n",
        "     lang                      tempname      freq\n",
        "4891   en                       convert  0.765186\n",
        "5395   en                         coord  0.708069\n",
        "5261   en                       reflist  0.447869\n",
        "5622   en                      cite web  0.242974\n",
        "4925   en        infobox french commune  0.220308\n",
        "5451   en                 infobox river  0.214869\n",
        "5043   en  pyr\u00e9n\u00e9es-orientales communes  0.204896\n",
        "5756   en   pyr\u00e9n\u00e9esorientales-geo-stub  0.203083\n",
        "5017   en                       fr icon  0.169538\n",
        "5224   en                     cite book  0.156845\n",
        "5128   en                       lang-ca  0.155032\n",
        "5465   en                        iw-ref  0.131460\n",
        "5652   en              commons category  0.128740\n",
        "5822   en                   flagathlete  0.127833\n",
        "5460   en                  infobox_lake  0.109701\n",
        "ethnosave/geography-fra.jsonlatest.json\n",
        "     lang              tempname      freq\n",
        "5886   sw    mbegu-jio-ufaransa  0.833333\n",
        "5893   sw              cite web  0.333333\n",
        "5892   sw                   clr  0.166667\n",
        "5891   sw            commonscat  0.166667\n",
        "5890   sw     picardie-geo-stub  0.166667\n",
        "5889   sw  iledefrance-geo-stub  0.166667\n",
        "5888   sw               marejeo  0.166667\n",
        "5887   sw                   mto  0.166667\n",
        "5885   sw                 coord  0.166667\n",
        "5884   sw               commons  0.166667\n",
        "5883   sw                   for  0.166667\n",
        "5882   sw    infobox settlement  0.166667\n",
        "5881   sw               convert  0.166667\n",
        "5880   sw    champagne-geo-stub  0.166667\n",
        "ethnosave/geography-uga.jsonlatest.json\n",
        "    lang                   tempname      freq\n",
        "70    fr                        smn  1.022831\n",
        "114   fr                    portail  0.977169\n",
        "194   fr                    \u00e9bauche  0.662100\n",
        "111   fr                      unit\u00e9  0.584475\n",
        "65    fr                    palette  0.557078\n",
        "120   fr        infobox subdivision  0.538813\n",
        "49    fr                         en  0.497717\n",
        "22    fr              lire en ligne  0.374429\n",
        "162   fr  infobox commune d'ouganda  0.191781\n",
        "98    fr       traduction/r\u00e9f\u00e9rence  0.173516\n",
        "137   fr                 r\u00e9f\u00e9rences  0.164384\n",
        "15    fr                          ,  0.136986\n",
        "187   fr                       date  0.123288\n",
        "175   fr                   lien web  0.109589\n",
        "50    fr           article d\u00e9taill\u00e9  0.109589\n",
        "38    fr                      coord  0.105023\n",
        "ethnosave/geography-uga.jsonlatest.json\n",
        "    lang             tempname      freq\n",
        "243   en              convert  1.863787\n",
        "322   en                coord  0.913621\n",
        "367   en              reflist  0.888704\n",
        "270   en                 flag  0.405316\n",
        "506   en   infobox settlement  0.403654\n",
        "504   en             cite web  0.327243\n",
        "325   en  districts of uganda  0.147841\n",
        "391   en                clear  0.137874\n",
        "567   en      uganda-geo-stub  0.127907\n",
        "570   en        use dmy dates  0.101329\n",
        "ethnosave/geography-uga.jsonlatest.json\n",
        "    lang                      tempname      freq\n",
        "679   sw              mbegu-jio-uganda  0.879781\n",
        "605   sw            infobox settlement  0.879781\n",
        "598   sw              wilaya za uganda  0.442623\n",
        "696   sw                          flag  0.437158\n",
        "680   sw                    commonscat  0.409836\n",
        "684   sw  mijii mikuu wilaya za uganda  0.360656"
       ]
      },
      {
       "output_type": "stream",
       "stream": "stdout",
       "text": [
        "\n",
        "ethnosave/geography-usa.jsonlatest.json\n",
        "     lang                      tempname      freq\n",
        "1667   fr                         unit\u00e9  2.392070\n",
        "607    fr                            en  2.260793\n",
        "610    fr                      lien web  1.200000\n",
        "1360   fr                          lang  1.086344\n",
        "1781   fr                       portail  0.983260\n",
        "568    fr                          date  0.616740\n",
        "688    fr                       \u00e9bauche  0.597357\n",
        "125    fr                             ,  0.555066\n",
        "1784   fr                      jumelage  0.474890\n",
        "1548   fr                    \u00e9tats-unis  0.441410\n",
        "1043   fr                voir homonymes  0.392070\n",
        "312    fr                    r\u00e9f\u00e9rences  0.328634\n",
        "1168   fr                         coord  0.317181\n",
        "500    fr                       ouvrage  0.308370\n",
        "804    fr          traduction/r\u00e9f\u00e9rence  0.269604\n",
        "1624   fr                autres projets  0.250220\n",
        "0      fr           infobox cours d'eau  0.240529\n",
        "95     fr                        nombre  0.230837\n",
        "362    fr  infobox ville des \u00e9tats-unis  0.203524\n",
        "556    fr                            s-  0.185022\n",
        "ethnosave/geography-usa.jsonlatest.json\n",
        "     lang          tempname      freq\n",
        "4087   en           convert  3.240645\n",
        "3114   en          cite web  2.267489\n",
        "3691   en             coord  0.929908\n",
        "2886   en           reflist  0.826735\n",
        "3576   en         cite book  0.483731\n",
        "3344   en         cite gnis  0.443465\n",
        "3472   en         cite news  0.370390\n",
        "4547   en              gnis  0.307348\n",
        "4584   en  infobox mountain  0.216513\n",
        "3612   en     coord missing  0.157538\n",
        "4124   en   citation needed  0.154284\n",
        "2068   en   cite peakbagger  0.142625\n",
        "1947   en            geobox  0.133541\n",
        "3829   en         dead link  0.115239\n",
        "4277   en          flagicon  0.103715\n",
        "4051   en      cite journal  0.103715\n",
        "ethnosave/geography-usa.jsonlatest.json\n",
        "     lang              tempname      freq\n",
        "4743   sw                   nts  0.972222\n",
        "4734   sw    infobox settlement  0.899306\n",
        "4733   sw         mbegu-jio-usa  0.687500\n",
        "4749   sw            commonscat  0.333333\n",
        "4742   sw  mbegu-jio-california  0.256944\n",
        "4747   sw               link fa  0.125000\n",
        "4756   sw               commons  0.100694\n",
        "ethnosave/history-cdi.jsonlatest.json\n",
        "    lang                    tempname      freq\n",
        "114   fr                        date  5.845238\n",
        "135   fr                           ,  2.535714\n",
        "20    fr                    lien web  2.011905\n",
        "451   fr                    citation  0.940476\n",
        "307   fr                     portail  0.916667\n",
        "154   fr            article d\u00e9taill\u00e9  0.678571\n",
        "45    fr                  r\u00e9f\u00e9rences  0.535714\n",
        "138   fr             foot classement  0.523810\n",
        "468   fr                           e  0.488095\n",
        "276   fr                     drapeau  0.476190\n",
        "268   fr                     palette  0.440476\n",
        "109   fr                          fr  0.428571\n",
        "302   fr                       unit\u00e9  0.392857\n",
        "224   fr                     \u00e9bauche  0.357143\n",
        "213   fr           date de naissance  0.357143\n",
        "100   fr                        goal  0.321429\n",
        "111   fr                          fc  0.309524\n",
        "165   fr  s\u00e9lection foot comp\u00e9tition  0.285714\n",
        "262   fr                    flagicon  0.273810\n",
        "417   fr                          en  0.261905\n",
        "ethnosave/history-cdi.jsonlatest.json\n",
        "    lang                   tempname      freq\n",
        "497   en                  cite news  3.391304\n",
        "485   en                   cite web  1.886957\n",
        "528   en                   flagicon  1.052174\n",
        "566   en                         bk  0.973913\n",
        "624   en                    reflist  0.886957\n",
        "518   en                    fr icon  0.530435\n",
        "608   en                       flag  0.521739\n",
        "530   en      infobox un resolution  0.443478\n",
        "596   en                  cite book  0.434783\n",
        "591   en                        fbl  0.382609\n",
        "667   en                 wikisource  0.373913\n",
        "498   en                       main  0.304348\n",
        "588   en                     nowrap  0.278261\n",
        "625   en              use dmy dates  0.252174\n",
        "640   en                       goal  0.234783\n",
        "600   en            citation needed  0.173913\n",
        "484   en  politics of c\u00f4te d'ivoire  0.173913\n",
        "626   en          ivorian elections  0.165217\n",
        "678   en                  dead link  0.156522\n",
        "650   en                     fbl-rt  0.139130\n",
        "ethnosave/history-fra.jsonlatest.json\n",
        "     lang  tempname      freq\n",
        "1492   fr       NaN  2.497608\n",
        "3604   fr       NaN  1.983732\n",
        "3259   fr       NaN  1.128868\n",
        "1311   fr       NaN  1.048804\n",
        "1477   fr       NaN  0.998405\n",
        "2028   fr       NaN  0.980861\n",
        "3213   fr       NaN  0.968421\n",
        "4124   fr       NaN  0.718341\n",
        "3076   fr       NaN  0.668262\n",
        "2249   fr       NaN  0.666348\n",
        "2358   fr       NaN  0.620734\n",
        "325    fr       NaN  0.600319\n",
        "1604   fr       NaN  0.519617\n",
        "830    fr       NaN  0.495375\n",
        "4077   fr       NaN  0.474322\n",
        "2797   fr         2  0.406380\n",
        "3999   fr       NaN  0.348006\n",
        "1591   fr       NaN  0.345455\n",
        "3118   fr         3  0.323764\n",
        "1808   fr       NaN  0.275279"
       ]
      },
      {
       "output_type": "stream",
       "stream": "stdout",
       "text": [
        "\n",
        "ethnosave/history-fra.jsonlatest.json\n",
        "     lang                                           tempname      freq\n",
        "6139   en                                          cite book  0.926626\n",
        "5461   en                                                ipa  0.867625\n",
        "6658   en                                                sfn  0.726172\n",
        "5605   en                                            reflist  0.599849\n",
        "5785   en                                           cite web  0.543873\n",
        "5161   en                                           flagicon  0.518911\n",
        "5467   en                                             nowrap  0.385023\n",
        "6485   en                                            convert  0.301815\n",
        "6424   en                                               lang  0.274584\n",
        "6166   en                                     succession box  0.274584\n",
        "4978   en                                            fr icon  0.267776\n",
        "5370   en  persondata <!-- metadata: see [[wikipedia:pers...  0.266263\n",
        "6005   en                                               flag  0.230711\n",
        "6506   en                                    citation needed  0.226929\n",
        "5538   en                                               main  0.224660\n",
        "5441   en                                  authority control  0.188351\n",
        "6397   en                                      use dmy dates  0.179274\n",
        "5890   en                                           citation  0.175492\n",
        "5815   en                                              s-ttl  0.164902\n",
        "4963   en                                            s-start  0.158094\n",
        "ethnosave/history-fra.jsonlatest.json\n",
        "     lang                      tempname   freq\n",
        "6960   sw                 mbegu-mkristo  0.125\n",
        "6959   sw       defaultsort:yohane viii  0.125\n",
        "6958   sw                    mbegu-papa  0.125\n",
        "6957   sw  defaultsort:briand, aristide  0.125\n",
        "6956   sw              mbegu-mwanasiasa  0.125\n",
        "6955   sw                       link fa  0.125\n",
        "ethnosave/history-uga.jsonlatest.json\n",
        "    lang          tempname      freq\n",
        "115   fr              date  2.400000\n",
        "137   fr                 ,  1.536364\n",
        "160   fr          lien web  1.409091\n",
        "339   fr           portail  1.000000\n",
        "156   fr                en  0.945455\n",
        "109   fr                fr  0.918182\n",
        "477   fr          citation  0.736364\n",
        "290   fr            num\u00e9ro  0.590909\n",
        "357   fr        r\u00e9f\u00e9rences  0.545455\n",
        "448   fr  article d\u00e9taill\u00e9  0.409091\n",
        "310   fr           drapeau  0.363636\n",
        "107   fr            nombre  0.345455\n",
        "499   fr                 e  0.336364\n",
        "444   fr              lien  0.327273\n",
        "496   fr              lang  0.318182\n",
        "247   fr           \u00e9bauche  0.318182\n",
        "238   fr           palette  0.300000\n",
        "102   fr              goal  0.281818\n",
        "212   fr               1er  0.272727\n",
        "52    fr            legend  0.272727\n",
        "ethnosave/history-uga.jsonlatest.json\n",
        "     lang        tempname      freq\n",
        "973    en        cite web  4.165625\n",
        "609    en            flag  4.150000\n",
        "916    en       cite news  3.584375\n",
        "858    en        flagicon  2.150000\n",
        "958    en       dead link  0.909375\n",
        "780    en         reflist  0.850000\n",
        "906    en         sortkey  0.825000\n",
        "684    en            main  0.615625\n",
        "763    en       cite book  0.609375\n",
        "778    en             dts  0.556250\n",
        "715    en  flagicon image  0.546875\n",
        "560    en          legend  0.543750\n",
        "655    en              fb  0.515625\n",
        "1083   en        citation  0.475000\n",
        "1081   en   use dmy dates  0.393750\n",
        "959    en           flagu  0.393750\n",
        "592    en             aye  0.371875\n",
        "1007   en     site active  0.368750\n",
        "1099   en             nay  0.350000\n",
        "883    en          harvnb  0.287500\n",
        "ethnosave/history-uga.jsonlatest.json\n",
        "     lang    tempname      freq\n",
        "1116   sw  commonscat  0.333333\n",
        "1115   sw        fupi  0.333333\n",
        "ethnosave/history-usa.jsonlatest.json\n",
        "     lang          tempname      freq\n",
        "590    fr            harvsp  4.372093\n",
        "444    fr                en  2.697674\n",
        "412    fr              date  2.475687\n",
        "359    fr           ouvrage  1.471459\n",
        "254    fr             unit\u00e9  1.266385\n",
        "680    fr          citation  1.236786\n",
        "926    fr           portail  0.991543\n",
        "774    fr          lien web  0.974630\n",
        "294    fr              lien  0.932347\n",
        "1216   fr               sfn  0.904863\n",
        "49     fr                p.  0.892178\n",
        "101    fr                 ,  0.786469\n",
        "1160   fr  article d\u00e9taill\u00e9  0.653277\n",
        "1032   fr              lang  0.615222\n",
        "1179   fr              isbn  0.591966\n",
        "81     fr            nombre  0.585624\n",
        "1035   fr                 e  0.528541\n",
        "233    fr        r\u00e9f\u00e9rences  0.501057\n",
        "565    fr           article  0.389006\n",
        "407    fr                s-  0.372093\n",
        "ethnosave/history-usa.jsonlatest.json\n",
        "     lang                  tempname      freq\n",
        "2619   en                  cite web  3.185080\n",
        "3069   en                 cite book  2.899203\n",
        "2988   en                 cite news  1.597380\n",
        "3821   en                       sfn  1.407175\n",
        "3567   en                   convert  0.927677\n",
        "2408   en                   reflist  0.849658\n",
        "3918   en                    harvnb  0.716970\n",
        "2766   en                  citation  0.664579\n",
        "3536   en              cite journal  0.626993\n",
        "2287   en                      main  0.625285\n",
        "3603   en           citation needed  0.503986\n",
        "1744   en                  flagicon  0.403189\n",
        "2646   en  party shading/republican  0.365034\n",
        "3837   en  party shading/democratic  0.329727\n",
        "1392   en                       aut  0.327449\n",
        "3171   en                     coord  0.290433\n",
        "3307   en                 dead link  0.240319\n",
        "3602   en                       uss  0.201025\n",
        "3116   en                     quote  0.191913\n",
        "3065   en                      defn  0.160592"
       ]
      },
      {
       "output_type": "stream",
       "stream": "stdout",
       "text": [
        "\n",
        "ethnosave/history-usa.jsonlatest.json\n",
        "     lang            tempname      freq\n",
        "4194   sw             link fa  1.641026\n",
        "4196   sw    mbegu-mwanasiasa  0.615385\n",
        "4203   sw  marais wa marekani  0.589744\n",
        "4197   sw      mbegu-historia  0.102564\n"
       ]
      }
     ],
     "prompt_number": 25
    },
    {
     "cell_type": "code",
     "collapsed": false,
     "input": [],
     "language": "python",
     "metadata": {},
     "outputs": [
      {
       "output_type": "stream",
       "stream": "stdout",
       "text": [
        "[('Cite_news', 444447), ('Cite_book', 536258), ('Cite_journal', 328129), ('Cite_web', 1560207)]\n"
       ]
      },
      {
       "metadata": {},
       "output_type": "pyout",
       "prompt_number": 54,
       "text": [
        "[('Cite_news', 0.2848641237989574),\n",
        " ('Cite_book', 0.34370952059566456),\n",
        " ('Cite_journal', 0.2103111958861869),\n",
        " ('Cite_web', 1.0)]"
       ]
      }
     ],
     "prompt_number": 54
    },
    {
     "cell_type": "code",
     "collapsed": false,
     "input": [
      "a = list(df.iterrows())[0]"
     ],
     "language": "python",
     "metadata": {},
     "outputs": [],
     "prompt_number": 59
    },
    {
     "cell_type": "code",
     "collapsed": false,
     "input": [
      "b = a[1]\n"
     ],
     "language": "python",
     "metadata": {},
     "outputs": [],
     "prompt_number": 65
    },
    {
     "cell_type": "code",
     "collapsed": false,
     "input": [
      "list(b.iteritems())"
     ],
     "language": "python",
     "metadata": {},
     "outputs": [
      {
       "metadata": {},
       "output_type": "pyout",
       "prompt_number": 68,
       "text": [
        "[('lang', u'sw'), ('tempname', u'link fa'), ('freq', 1.641025641025641)]"
       ]
      }
     ],
     "prompt_number": 68
    },
    {
     "cell_type": "code",
     "collapsed": false,
     "input": [],
     "language": "python",
     "metadata": {},
     "outputs": [
      {
       "metadata": {},
       "output_type": "pyout",
       "prompt_number": 113,
       "text": [
        "2869041"
       ]
      }
     ],
     "prompt_number": 113
    },
    {
     "cell_type": "code",
     "collapsed": false,
     "input": [],
     "language": "python",
     "metadata": {},
     "outputs": []
    }
   ],
   "metadata": {}
  }
 ]
}