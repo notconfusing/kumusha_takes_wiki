{
 "metadata": {
  "name": "ActionableMetrics"
 },
 "nbformat": 3,
 "nbformat_minor": 0,
 "worksheets": [
  {
   "cells": [
    {
     "cell_type": "code",
     "collapsed": false,
     "input": [
      "cd /home/notconfusing/workspace/kumusha_takes_wiki/"
     ],
     "language": "python",
     "metadata": {},
     "outputs": [
      {
       "output_type": "stream",
       "stream": "stdout",
       "text": [
        "/home/notconfusing/workspace/kumusha_takes_wiki\n"
       ]
      }
     ],
     "prompt_number": 50
    },
    {
     "cell_type": "code",
     "collapsed": false,
     "input": [
      "import pywikibot\n",
      "import mwparserfromhell as pfh"
     ],
     "language": "python",
     "metadata": {},
     "outputs": [],
     "prompt_number": 51
    },
    {
     "cell_type": "code",
     "collapsed": false,
     "input": [
      "enwp = pywikibot.Site('en','wikipedia')"
     ],
     "language": "python",
     "metadata": {},
     "outputs": [],
     "prompt_number": 52
    },
    {
     "cell_type": "code",
     "collapsed": false,
     "input": [
      "testpage = pywikibot.Page(enwp, 'United_Kingdom')\n",
      "testtext = testpage.get()"
     ],
     "language": "python",
     "metadata": {},
     "outputs": [
      {
       "output_type": "stream",
       "stream": "stderr",
       "text": [
        "VERBOSE:pywiki:Found 1 wikipedia:en processes running, including this one.\n"
       ]
      }
     ],
     "prompt_number": 53
    },
    {
     "cell_type": "code",
     "collapsed": false,
     "input": [
      "testtext?"
     ],
     "language": "python",
     "metadata": {},
     "outputs": [],
     "prompt_number": 54
    },
    {
     "cell_type": "code",
     "collapsed": false,
     "input": [
      "wikicode = pfh.parse(testtext)"
     ],
     "language": "python",
     "metadata": {},
     "outputs": [],
     "prompt_number": 55
    },
    {
     "cell_type": "code",
     "collapsed": false,
     "input": [
      "wikicode?"
     ],
     "language": "python",
     "metadata": {},
     "outputs": [],
     "prompt_number": 56
    },
    {
     "cell_type": "code",
     "collapsed": false,
     "input": [
      "len(wikicode)"
     ],
     "language": "python",
     "metadata": {},
     "outputs": [
      {
       "output_type": "pyout",
       "prompt_number": 57,
       "text": [
        "251832"
       ]
      }
     ],
     "prompt_number": 57
    },
    {
     "cell_type": "code",
     "collapsed": false,
     "input": [
      "justtext = wikicode.filter_text()"
     ],
     "language": "python",
     "metadata": {},
     "outputs": [],
     "prompt_number": 58
    },
    {
     "cell_type": "code",
     "collapsed": false,
     "input": [
      "len(justtext)"
     ],
     "language": "python",
     "metadata": {},
     "outputs": [
      {
       "output_type": "pyout",
       "prompt_number": 59,
       "text": [
        "1850"
       ]
      }
     ],
     "prompt_number": 59
    },
    {
     "cell_type": "markdown",
     "metadata": {},
     "source": [
      "just justtext is actually a list of lines now"
     ]
    },
    {
     "cell_type": "code",
     "collapsed": false,
     "input": [
      "print(justtext[5])"
     ],
     "language": "python",
     "metadata": {},
     "outputs": [
      {
       "output_type": "stream",
       "stream": "stdout",
       "text": [
        "\n",
        "\n",
        "The '''United Kingdom of Great Britain and Northern Ireland''',<ref group=\"nb\">In the United Kingdom and Dependencies, \n"
       ]
      }
     ],
     "prompt_number": 60
    },
    {
     "cell_type": "code",
     "collapsed": false,
     "input": [
      "reduce(lambda a,b: a + b, map(lambda x: len(x),justtext))"
     ],
     "language": "python",
     "metadata": {},
     "outputs": [
      {
       "output_type": "pyout",
       "prompt_number": 61,
       "text": [
        "102636"
       ]
      }
     ],
     "prompt_number": 61
    },
    {
     "cell_type": "code",
     "collapsed": false,
     "input": [
      "def readable_text_length(wikicode):\n",
      "    justtext = wikicode.strip_code()\n",
      "    return reduce(lambda a,b: a + b, map(lambda x: len(x),justtext))"
     ],
     "language": "python",
     "metadata": {},
     "outputs": [],
     "prompt_number": 141
    },
    {
     "cell_type": "code",
     "collapsed": false,
     "input": [
      "readable_text_length(wikicode)"
     ],
     "language": "python",
     "metadata": {},
     "outputs": [
      {
       "output_type": "pyout",
       "prompt_number": 142,
       "text": [
        "128266"
       ]
      }
     ],
     "prompt_number": 142
    },
    {
     "cell_type": "code",
     "collapsed": false,
     "input": [
      "float(len(wikicode))"
     ],
     "language": "python",
     "metadata": {},
     "outputs": [
      {
       "output_type": "pyout",
       "prompt_number": 143,
       "text": [
        "251832.0"
       ]
      }
     ],
     "prompt_number": 143
    },
    {
     "cell_type": "code",
     "collapsed": false,
     "input": [
      "readable_text_length(wikicode) / float(len(wikicode))"
     ],
     "language": "python",
     "metadata": {},
     "outputs": [
      {
       "output_type": "pyout",
       "prompt_number": 144,
       "text": [
        "0.5093316179039995"
       ]
      }
     ],
     "prompt_number": 144
    },
    {
     "cell_type": "code",
     "collapsed": false,
     "input": [
      "def infonoise(wikicode):\n",
      "    ratio = readable_text_lenght(wikicode) / float(len(wikicode))\n",
      "    return ratio"
     ],
     "language": "python",
     "metadata": {},
     "outputs": [],
     "prompt_number": 136
    },
    {
     "cell_type": "code",
     "collapsed": false,
     "input": [
      "def link_a_file(linkstr):\n",
      "    fnames = ['File:', 'Fichier:', 'Image:', 'Picha:']\n",
      "    bracknames = map(lambda a: '[[' + a, fnames)\n",
      "    return any(map(lambda b: linkstr.startswith(b), bracknames))"
     ],
     "language": "python",
     "metadata": {},
     "outputs": [],
     "prompt_number": 67
    },
    {
     "cell_type": "code",
     "collapsed": false,
     "input": [
      "file_links = filter(lambda a: link_a_file(a), wikicode.filter_links())"
     ],
     "language": "python",
     "metadata": {},
     "outputs": [],
     "prompt_number": 68
    },
    {
     "cell_type": "code",
     "collapsed": false,
     "input": [
      "reg_links = filter(lambda a: not link_a_file(a), wikicode.filter_links())"
     ],
     "language": "python",
     "metadata": {},
     "outputs": [],
     "prompt_number": 106
    },
    {
     "cell_type": "code",
     "collapsed": false,
     "input": [
      "len(file_links) + len(reg_links) == len(wikicode.filter_links())"
     ],
     "language": "python",
     "metadata": {},
     "outputs": [
      {
       "output_type": "pyout",
       "prompt_number": 105,
       "text": [
        "True"
       ]
      }
     ],
     "prompt_number": 105
    },
    {
     "cell_type": "code",
     "collapsed": false,
     "input": [
      "def section_headings(wikicode):\n",
      "    sections = wikicode.get_sections()\n",
      "    sec_headings = map( lambda s: filter( lambda l: l != '=', s), map(lambda a: a.split(sep='\\n', maxsplit=1)[0], sections))\n",
      "    return sec_headings"
     ],
     "language": "python",
     "metadata": {},
     "outputs": [],
     "prompt_number": 138
    },
    {
     "cell_type": "code",
     "collapsed": false,
     "input": [
      "#i don't know why mwparserfromhell's .fitler_tags() isn't working at the moment. going to hack it for now\n",
      "import re\n",
      "def num_refs(wikicode):\n",
      "    text = str(wikicode)\n",
      "    reftags = re.findall('<(\\ )*?ref', text)\n",
      "    return len(reftags)"
     ],
     "language": "python",
     "metadata": {},
     "outputs": [],
     "prompt_number": 119
    },
    {
     "cell_type": "code",
     "collapsed": false,
     "input": [
      "def article_refs(wikicode):\n",
      "    sections = wikicode.get_sections()\n",
      "    return reduce( lambda a,b: a+b ,map(num_refs, sections))"
     ],
     "language": "python",
     "metadata": {},
     "outputs": [],
     "prompt_number": 118
    },
    {
     "cell_type": "code",
     "collapsed": false,
     "input": [
      "def short_sections(wikicode, thresh=20):\n",
      "    \"\"\"returns the number of sections shorter than 20\"\"\"\n",
      "    sections = wikicode.get_sections()\n",
      "    return reduce( lambda a,b: a+b, map( lambda s: len(s)<= thresh, sections))\n",
      "    "
     ],
     "language": "python",
     "metadata": {},
     "outputs": [],
     "prompt_number": 98
    },
    {
     "cell_type": "code",
     "collapsed": false,
     "input": [
      "short_sections(wikicode, thresh=40)"
     ],
     "language": "python",
     "metadata": {},
     "outputs": [
      {
       "output_type": "pyout",
       "prompt_number": 102,
       "text": [
        "0"
       ]
      }
     ],
     "prompt_number": 102
    },
    {
     "cell_type": "code",
     "collapsed": false,
     "input": [
      "def num_reg_links(wikicode):\n",
      "    reg_links = filter(lambda a: not link_a_file(a), wikicode.filter_links())\n",
      "    return len(reg_links)"
     ],
     "language": "python",
     "metadata": {},
     "outputs": [],
     "prompt_number": 113
    },
    {
     "cell_type": "code",
     "collapsed": false,
     "input": [
      "def num_file_links(wikicode):\n",
      "    reg_links = filter(lambda a: not link_a_file(a), wikicode.filter_links())\n",
      "    return len(reg_links)"
     ],
     "language": "python",
     "metadata": {},
     "outputs": [],
     "prompt_number": 114
    },
    {
     "cell_type": "code",
     "collapsed": false,
     "input": [
      "def report_actionable_metrics(wikicode, completeness_weight=0.8, infonoise_weight=0.6, images_weight=0.3):\n",
      "    '''following the guidelines of the \"Tell me more\" paper'''\n",
      "    completeness = completeness_weight * num_reg_links(wikicode)\n",
      "    informativeness = (infonoise_weight * infonoise(wikicode) ) + (images_weight * num_file_links(wikicode) )\n",
      "    numheadings = len(section_headings(wikicode))\n",
      "    articlelength = readable_text_length(wikicode)\n",
      "    referencerate = article_refs(wikicode) / float(readable_text_length(wikicode))\n",
      "    \n",
      "    return {'completness': completeness, 'informativeness': informativeness, 'numheadings': numheadings, 'articlelength': articlelength, 'referencerate': referencerate} "
     ],
     "language": "python",
     "metadata": {},
     "outputs": [],
     "prompt_number": 145
    },
    {
     "cell_type": "code",
     "collapsed": false,
     "input": [
      "report_actionable_metrics(wikicode)"
     ],
     "language": "python",
     "metadata": {},
     "outputs": [
      {
       "output_type": "pyout",
       "prompt_number": 146,
       "text": [
        "{'articlelength': 128266,\n",
        " 'completness': 980.8000000000001,\n",
        " 'informativeness': 368.1055989707424,\n",
        " 'numheadings': 40,\n",
        " 'referencerate': 0.007936631687274882}"
       ]
      }
     ],
     "prompt_number": 146
    },
    {
     "cell_type": "code",
     "collapsed": false,
     "input": [],
     "language": "python",
     "metadata": {},
     "outputs": []
    }
   ],
   "metadata": {}
  }
 ]
}