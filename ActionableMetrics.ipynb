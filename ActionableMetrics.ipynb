{
 "metadata": {
  "name": "ActionableMetrics"
 },
 "nbformat": 3,
 "nbformat_minor": 0,
 "worksheets": [
  {
   "cells": [
    {
     "cell_type": "heading",
     "level": 1,
     "metadata": {},
     "source": [
      "Actionable Metrics for Country Articles - Comparisons of Ivory Coast and Uganda"
     ]
    },
    {
     "cell_type": "markdown",
     "metadata": {},
     "source": [
      "This exercise is to determine how the country articles of Ivory Coast and Uganda compare to other country articles in English, French and Swahili Wikipedias.\n",
      "\n",
      "It utilises the research: \n",
      "\n",
      "+ [Tell Me More: An Actionable Quality Model for Wikipedia](http://www-users.cs.umn.edu/~morten/publications/wikisym2013-tellmemore.pdf) by Warncke-Wang, Cosley, and Reidl\n",
      "* [Predicting Quality Flaws in User-generated Content: The Case of Wikipedia](http://www.uni-weimar.de/medien/webis/publications/papers/stein_2012i.pdf) by Anderka, Stein, Lipka\n"
     ]
    },
    {
     "cell_type": "heading",
     "level": 2,
     "metadata": {},
     "source": [
      "Some Utility Functions for Report Actionable Metrics"
     ]
    },
    {
     "cell_type": "markdown",
     "metadata": {},
     "source": [
      "This implementation uses:"
     ]
    },
    {
     "cell_type": "code",
     "collapsed": false,
     "input": [
      "import pywikibot\n",
      "import mwparserfromhell as pfh"
     ],
     "language": "python",
     "metadata": {},
     "outputs": [
      {
       "output_type": "stream",
       "stream": "stderr",
       "text": [
        "VERBOSE:pywiki:Starting 1 threads...\n"
       ]
      }
     ],
     "prompt_number": 1
    },
    {
     "cell_type": "markdown",
     "metadata": {},
     "source": [
      "Infonoise metric of Stvilia (2005) in concept, although the implementation may differ since we are not stopping and stemming words, because of the multiple languages we need to handle"
     ]
    },
    {
     "cell_type": "code",
     "collapsed": false,
     "input": [
      "def readable_text_length(wikicode):\n",
      "    #could also use wikicode.filter_text()\n",
      "    return float(len(wikicode.strip_code()))\n",
      "\n",
      "def infonoise(wikicode):\n",
      "    wikicode.strip_code()\n",
      "    ratio = readable_text_length(wikicode) / float(len(wikicode))\n",
      "    return ratio"
     ],
     "language": "python",
     "metadata": {},
     "outputs": [],
     "prompt_number": 2
    },
    {
     "cell_type": "markdown",
     "metadata": {},
     "source": [
      "Helper function to mine for section headings, of course if there is a lead it doesn't quite make sense."
     ]
    },
    {
     "cell_type": "code",
     "collapsed": false,
     "input": [
      "def section_headings(wikicode):\n",
      "    sections = wikicode.get_sections()\n",
      "    sec_headings = map( lambda s: filter( lambda l: l != '=', s), map(lambda a: a.split(sep='\\n', maxsplit=1)[0], sections))\n",
      "    return sec_headings"
     ],
     "language": "python",
     "metadata": {},
     "outputs": [],
     "prompt_number": 6
    },
    {
     "cell_type": "markdown",
     "metadata": {},
     "source": [
      "Metric of article references"
     ]
    },
    {
     "cell_type": "code",
     "collapsed": false,
     "input": [
      "#i don't know why mwparserfromhell's .fitler_tags() isn't working at the moment. going to hack it for now\n",
      "import re\n",
      "def num_refs(wikicode):\n",
      "    text = str(wikicode)\n",
      "    reftags = re.findall('<(\\ )*?ref', text)\n",
      "    return len(reftags)\n",
      "\n",
      "def article_refs(wikicode):\n",
      "    sections = wikicode.get_sections()\n",
      "    return float(reduce( lambda a,b: a+b ,map(num_refs, sections)))"
     ],
     "language": "python",
     "metadata": {},
     "outputs": [],
     "prompt_number": 4
    },
    {
     "cell_type": "markdown",
     "metadata": {},
     "source": [
      "Predicate for links and files in English French and Swahili"
     ]
    },
    {
     "cell_type": "code",
     "collapsed": false,
     "input": [
      "def link_a_file(linkstr):\n",
      "    fnames = [u'File:', u'Fichier:', u'Image:', u'Picha:']\n",
      "    bracknames = map(lambda a: '[[' + a, fnames)\n",
      "    return any(map(lambda b: linkstr.startswith(b), bracknames))\n",
      "\n",
      "def link_a_cat(linkstr):\n",
      "    cnames =[u'Category:', u'Cat\u00e9gorie:', u'Jamii:']\n",
      "    bracknames = map(lambda a: '[[' + a, cnames)\n",
      "    return any(map(lambda b: linkstr.startswith(b), bracknames))\n",
      "\n",
      "def num_reg_links(wikicode):\n",
      "    reg_links = filter(lambda a: not link_a_file(a) and not link_a_cat(a), wikicode.filter_wikilinks())\n",
      "    return float(len(reg_links))\n",
      "\n",
      "def num_file_links(wikicode):\n",
      "    file_links = filter(lambda a: link_a_file(a), wikicode.filter_wikilinks())\n",
      "    return float(len(file_links))"
     ],
     "language": "python",
     "metadata": {},
     "outputs": [],
     "prompt_number": 5
    },
    {
     "cell_type": "markdown",
     "metadata": {},
     "source": [
      "Metric to determine empty secs sections ala Maik et al en ''Predicting Quality Flaws in User Generated Content (2012)''"
     ]
    },
    {
     "cell_type": "code",
     "collapsed": false,
     "input": [
      "def short_sections(wikicode, thresh=20):\n",
      "    \"\"\"returns the number of sections shorter than 20\"\"\"\n",
      "    sections = wikicode.get_sections()\n",
      "    return reduce( lambda a,b: a+b, map( lambda s: len(s)<= thresh, sections))\n",
      "    "
     ],
     "language": "python",
     "metadata": {},
     "outputs": [],
     "prompt_number": 6
    },
    {
     "cell_type": "heading",
     "level": 2,
     "metadata": {},
     "source": [
      "The Metric Maker that is called on Wikicode"
     ]
    },
    {
     "cell_type": "code",
     "collapsed": false,
     "input": [
      "def report_actionable_metrics(wikicode, completeness_weight=0.8, infonoise_weight=0.6, images_weight=0.3):\n",
      "    '''following the guidelines of the \"Tell me more\" paper'''\n",
      "    completeness = completeness_weight * num_reg_links(wikicode)\n",
      "    informativeness = (infonoise_weight * infonoise(wikicode) ) + (images_weight * num_file_links(wikicode) )\n",
      "    numheadings = len(section_headings(wikicode))\n",
      "    articlelength = readable_text_length(wikicode)\n",
      "    referencerate = article_refs(wikicode) / readable_text_length(wikicode)\n",
      "    \n",
      "    return {'completeness': completeness, 'informativeness': informativeness, 'numheadings': numheadings, 'articlelength': articlelength, 'referencerate': referencerate} "
     ],
     "language": "python",
     "metadata": {},
     "outputs": [],
     "prompt_number": 7
    },
    {
     "cell_type": "heading",
     "level": 3,
     "metadata": {},
     "source": [
      "Testing the Metric Maker on the Article About the UK"
     ]
    },
    {
     "cell_type": "code",
     "collapsed": false,
     "input": [
      "enwp = pywikibot.Site('en','wikipedia')\n",
      "testpage = pywikibot.Page(enwp, 'United_Kingdom')\n",
      "testtext = testpage.get()\n",
      "wikicode = pfh.parse(testtext)"
     ],
     "language": "python",
     "metadata": {},
     "outputs": [
      {
       "output_type": "stream",
       "stream": "stderr",
       "text": [
        "VERBOSE:pywiki:Found 1 wikipedia:en processes running, including this one.\n"
       ]
      }
     ],
     "prompt_number": 8
    },
    {
     "cell_type": "code",
     "collapsed": false,
     "input": [
      "report_actionable_metrics(wikicode)"
     ],
     "language": "python",
     "metadata": {},
     "outputs": [
      {
       "output_type": "pyout",
       "prompt_number": 9,
       "text": [
        "{'articlelength': 113334.0,\n",
        " 'completeness': 1102.4,\n",
        " 'informativeness': 2.3698985504945465,\n",
        " 'numheadings': 40,\n",
        " 'referencerate': 0.008223481038346834}"
       ]
      }
     ],
     "prompt_number": 9
    },
    {
     "cell_type": "heading",
     "level": 2,
     "metadata": {},
     "source": [
      "Getting the Wikidata item for every country"
     ]
    },
    {
     "cell_type": "markdown",
     "metadata": {},
     "source": [
      "Mining these from English Wikipedia List of Countries by Popultation. I did mine them also from Wikidata items from an offline parsing using \"isntance of\" \"country\". But got only 133 items For the offline parser see <https://github.com/mkroetzsch/wda>"
     ]
    },
    {
     "cell_type": "code",
     "collapsed": false,
     "input": [
      "import os\n",
      "import datetime\n",
      "import pandas as pd\n",
      "import json\n",
      "from collections import defaultdict\n",
      "%pylab inline"
     ],
     "language": "python",
     "metadata": {},
     "outputs": [
      {
       "output_type": "stream",
       "stream": "stdout",
       "text": [
        "\n",
        "Welcome to pylab, a matplotlib-based Python environment [backend: module://IPython.zmq.pylab.backend_inline].\n",
        "For more information, type 'help(pylab)'.\n"
       ]
      }
     ],
     "prompt_number": 77
    },
    {
     "cell_type": "code",
     "collapsed": false,
     "input": [
      "country_qids = json.load(open('country_qids.json'))\n",
      "test_qids = country_qids[27:29]\n",
      "print test_qids\n",
      "ugandaqid, cdiqid= 'Q1036', 'Q1008'"
     ],
     "language": "python",
     "metadata": {},
     "outputs": [
      {
       "output_type": "stream",
       "stream": "stdout",
       "text": [
        "[u'Q1014', u'Q26273']\n"
       ]
      }
     ],
     "prompt_number": 78
    },
    {
     "cell_type": "code",
     "collapsed": false,
     "input": [
      "langs = ['en','fr','sw']\n",
      "\n",
      "wikipedias = {lang: pywikibot.Site(lang, 'wikipedia') for lang in langs}\n",
      "wikidata = wikipedias['fr'].data_repository()"
     ],
     "language": "python",
     "metadata": {},
     "outputs": [],
     "prompt_number": 79
    },
    {
     "cell_type": "markdown",
     "metadata": {},
     "source": [
      "this will be our data structure dict of dicts, until we have some numbers to put into pandas"
     ]
    },
    {
     "cell_type": "code",
     "collapsed": false,
     "input": [
      "def enfrsw():\n",
      "    return {lang: None for lang in langs}\n",
      "def article_attributes():\n",
      "    return {attrib: enfrsw() for attrib in ['sitelinks', 'wikitext', 'wikicode', 'metrics']}"
     ],
     "language": "python",
     "metadata": {},
     "outputs": [],
     "prompt_number": 80
    },
    {
     "cell_type": "code",
     "collapsed": false,
     "input": [
      "def do_sitelinks(langs, qids, data):\n",
      "    for qid in qids:\n",
      "        page = pywikibot.ItemPage(wikidata, qid)\n",
      "        wditem = page.get()\n",
      "        for lang in langs:\n",
      "            try:\n",
      "                data[qid]['sitelinks'][lang] = wditem['sitelinks'][lang+'wiki']\n",
      "            except KeyError:\n",
      "                pass\n",
      "    return data"
     ],
     "language": "python",
     "metadata": {},
     "outputs": [],
     "prompt_number": 81
    },
    {
     "cell_type": "markdown",
     "metadata": {},
     "source": [
      "and then then functions to get the page texts in all our desired languages"
     ]
    },
    {
     "cell_type": "code",
     "collapsed": false,
     "input": [
      "def get_wikitext(lang, title):\n",
      "    page = pywikibot.Page(wikipedias[lang],title)\n",
      "    def get_page(page):\n",
      "        try:\n",
      "            pagetext = page.get()\n",
      "            return pagetext\n",
      "        except pywikibot.exceptions.IsRedirectPage:\n",
      "            redir = page.getRedirectTarget()\n",
      "            get_page(redir)\n",
      "    return get_page(page)\n",
      "\n",
      "def do_wikitext(langs, data):\n",
      "    for qid, attribs in data.iteritems():\n",
      "        for lang, sl in attribs['sitelinks'].iteritems():\n",
      "            if sl:\n",
      "                print sl\n",
      "                data[qid]['wikitext'][lang] = get_wikitext(lang, sl)\n",
      "    return data"
     ],
     "language": "python",
     "metadata": {},
     "outputs": [],
     "prompt_number": 82
    },
    {
     "cell_type": "code",
     "collapsed": false,
     "input": [
      "def do_wikicode(langs, data):\n",
      "    for qid, attribs in data.iteritems():\n",
      "        for lang, pagetext in attribs['wikitext'].iteritems():\n",
      "            if pagetext:\n",
      "                data[qid]['wikicode'][lang] = pfh.parse(pagetext)\n",
      "    return data"
     ],
     "language": "python",
     "metadata": {},
     "outputs": [],
     "prompt_number": 83
    },
    {
     "cell_type": "markdown",
     "metadata": {},
     "source": [
      "calculate our metrics from above"
     ]
    },
    {
     "cell_type": "code",
     "collapsed": false,
     "input": [
      "def do_metrics(data):\n",
      "    for qid, attribs in data.iteritems():\n",
      "        for lang, wikicode in attribs['wikicode'].iteritems():\n",
      "            if wikicode:\n",
      "                data[qid]['metrics'][lang] = report_actionable_metrics(wikicode)\n",
      "    return data"
     ],
     "language": "python",
     "metadata": {},
     "outputs": [],
     "prompt_number": 84
    },
    {
     "cell_type": "markdown",
     "metadata": {},
     "source": [
      "this will take a lot of network time since we are going to load about 300 pages, but we'll save the data off so we don't have to do it uneccesarrily"
     ]
    },
    {
     "cell_type": "code",
     "collapsed": false,
     "input": [
      "def make_data(langs, qids):\n",
      "    print 'getting these qids: ', qids \n",
      "    data = defaultdict(article_attributes)\n",
      "    print 'getting sitelinks'\n",
      "    data = do_sitelinks(langs, qids, data)\n",
      "    print 'getting wikitext'\n",
      "    data = do_wikitext(langs, data)\n",
      "    print 'converting to wikicode'\n",
      "    data = do_wikicode(langs, data)\n",
      "    print 'computing metrics'\n",
      "    data = do_metrics(data)\n",
      "\n",
      "        \n",
      "    hashable_data = {qid: \n",
      "                        {'wikitext': attribdict['wikitext'],\n",
      "                         'metrics': attribdict['metrics'],\n",
      "                         'sitelinks': attribdict['sitelinks']}\n",
      "                             for qid, attribdict in arts.iteritems()}\n",
      "    print 'saving now'\n",
      "    #save the results\n",
      "    safefilename = 'countrydata'+str(datetime.datetime.now())+'.json'\n",
      "    with open(safefilename,'w') as f3:\n",
      "        json.dump(hashable_data,f3)\n",
      "    with open('countrydata-latest.json','w') as f4:\n",
      "        json.dump(hashable_data, f4)\n",
      "    return data"
     ],
     "language": "python",
     "metadata": {},
     "outputs": [],
     "prompt_number": 85
    },
    {
     "cell_type": "code",
     "collapsed": true,
     "input": [
      "#arts = make_data(langs, country_qids)"
     ],
     "language": "python",
     "metadata": {},
     "outputs": [],
     "prompt_number": 86
    },
    {
     "cell_type": "markdown",
     "metadata": {},
     "source": [
      "time to get into pandas, lets throw everything into a data frame"
     ]
    },
    {
     "cell_type": "code",
     "collapsed": false,
     "input": [
      "df = pd.DataFrame(columns=['qid','lang','metric','val'])\n",
      "\n",
      "arts = json.load(open('countrydata-latest.json','r'))\n",
      "\n",
      "for qid, attribdict in arts.iteritems():\n",
      "    for attribname, langdict in attribdict.iteritems():\n",
      "        if attribname == 'metrics':\n",
      "            for lang, metrics in langdict.iteritems(): \n",
      "                try:\n",
      "                #someteimes there wasn't an article in that language and thus no corresponding len\n",
      "                    for metric_name, metric_val in metrics.iteritems():\n",
      "                        df = df.append({'qid': qid, 'lang':lang, 'metric':metric_name, 'val':float(metric_val)}, ignore_index=True)\n",
      "                except:\n",
      "                    pass\n",
      "df = df.convert_objects(convert_numeric=True)"
     ],
     "language": "python",
     "metadata": {},
     "outputs": [],
     "prompt_number": 87
    },
    {
     "cell_type": "code",
     "collapsed": false,
     "input": [
      "df[df['qid']==ugandaqid]"
     ],
     "language": "python",
     "metadata": {},
     "outputs": [
      {
       "html": [
        "<div style=\"max-height:1000px;max-width:1500px;overflow:auto;\">\n",
        "<table border=\"1\" class=\"dataframe\">\n",
        "  <thead>\n",
        "    <tr style=\"text-align: right;\">\n",
        "      <th></th>\n",
        "      <th>qid</th>\n",
        "      <th>lang</th>\n",
        "      <th>metric</th>\n",
        "      <th>val</th>\n",
        "    </tr>\n",
        "  </thead>\n",
        "  <tbody>\n",
        "    <tr>\n",
        "      <th>2205</th>\n",
        "      <td> Q1036</td>\n",
        "      <td> fr</td>\n",
        "      <td> informativeness</td>\n",
        "      <td>     0.701014</td>\n",
        "    </tr>\n",
        "    <tr>\n",
        "      <th>2206</th>\n",
        "      <td> Q1036</td>\n",
        "      <td> fr</td>\n",
        "      <td>   referencerate</td>\n",
        "      <td>     0.000698</td>\n",
        "    </tr>\n",
        "    <tr>\n",
        "      <th>2207</th>\n",
        "      <td> Q1036</td>\n",
        "      <td> fr</td>\n",
        "      <td>    completeness</td>\n",
        "      <td>   280.000000</td>\n",
        "    </tr>\n",
        "    <tr>\n",
        "      <th>2208</th>\n",
        "      <td> Q1036</td>\n",
        "      <td> fr</td>\n",
        "      <td>     numheadings</td>\n",
        "      <td>    26.000000</td>\n",
        "    </tr>\n",
        "    <tr>\n",
        "      <th>2209</th>\n",
        "      <td> Q1036</td>\n",
        "      <td> fr</td>\n",
        "      <td>   articlelength</td>\n",
        "      <td> 21479.000000</td>\n",
        "    </tr>\n",
        "    <tr>\n",
        "      <th>2210</th>\n",
        "      <td> Q1036</td>\n",
        "      <td> en</td>\n",
        "      <td> informativeness</td>\n",
        "      <td>     3.391329</td>\n",
        "    </tr>\n",
        "    <tr>\n",
        "      <th>2211</th>\n",
        "      <td> Q1036</td>\n",
        "      <td> en</td>\n",
        "      <td>   referencerate</td>\n",
        "      <td>     0.004217</td>\n",
        "    </tr>\n",
        "    <tr>\n",
        "      <th>2212</th>\n",
        "      <td> Q1036</td>\n",
        "      <td> en</td>\n",
        "      <td>    completeness</td>\n",
        "      <td>   320.000000</td>\n",
        "    </tr>\n",
        "    <tr>\n",
        "      <th>2213</th>\n",
        "      <td> Q1036</td>\n",
        "      <td> en</td>\n",
        "      <td>     numheadings</td>\n",
        "      <td>     9.000000</td>\n",
        "    </tr>\n",
        "    <tr>\n",
        "      <th>2214</th>\n",
        "      <td> Q1036</td>\n",
        "      <td> en</td>\n",
        "      <td>   articlelength</td>\n",
        "      <td> 57856.000000</td>\n",
        "    </tr>\n",
        "    <tr>\n",
        "      <th>2215</th>\n",
        "      <td> Q1036</td>\n",
        "      <td> sw</td>\n",
        "      <td> informativeness</td>\n",
        "      <td>     0.569580</td>\n",
        "    </tr>\n",
        "    <tr>\n",
        "      <th>2216</th>\n",
        "      <td> Q1036</td>\n",
        "      <td> sw</td>\n",
        "      <td>   referencerate</td>\n",
        "      <td>     0.001881</td>\n",
        "    </tr>\n",
        "    <tr>\n",
        "      <th>2217</th>\n",
        "      <td> Q1036</td>\n",
        "      <td> sw</td>\n",
        "      <td>    completeness</td>\n",
        "      <td>    96.000000</td>\n",
        "    </tr>\n",
        "    <tr>\n",
        "      <th>2218</th>\n",
        "      <td> Q1036</td>\n",
        "      <td> sw</td>\n",
        "      <td>     numheadings</td>\n",
        "      <td>     5.000000</td>\n",
        "    </tr>\n",
        "    <tr>\n",
        "      <th>2219</th>\n",
        "      <td> Q1036</td>\n",
        "      <td> sw</td>\n",
        "      <td>   articlelength</td>\n",
        "      <td>  3722.000000</td>\n",
        "    </tr>\n",
        "  </tbody>\n",
        "</table>\n",
        "</div>"
       ],
       "output_type": "pyout",
       "prompt_number": 88,
       "text": [
        "        qid lang           metric           val\n",
        "2205  Q1036   fr  informativeness      0.701014\n",
        "2206  Q1036   fr    referencerate      0.000698\n",
        "2207  Q1036   fr     completeness    280.000000\n",
        "2208  Q1036   fr      numheadings     26.000000\n",
        "2209  Q1036   fr    articlelength  21479.000000\n",
        "2210  Q1036   en  informativeness      3.391329\n",
        "2211  Q1036   en    referencerate      0.004217\n",
        "2212  Q1036   en     completeness    320.000000\n",
        "2213  Q1036   en      numheadings      9.000000\n",
        "2214  Q1036   en    articlelength  57856.000000\n",
        "2215  Q1036   sw  informativeness      0.569580\n",
        "2216  Q1036   sw    referencerate      0.001881\n",
        "2217  Q1036   sw     completeness     96.000000\n",
        "2218  Q1036   sw      numheadings      5.000000\n",
        "2219  Q1036   sw    articlelength   3722.000000"
       ]
      }
     ],
     "prompt_number": 88
    },
    {
     "cell_type": "markdown",
     "metadata": {},
     "source": [
      "and start looking at some of the correllations"
     ]
    },
    {
     "cell_type": "code",
     "collapsed": false,
     "input": [
      "metric_list = ['completeness','informativeness','numheadings','articlelength','referencerate']\n",
      "\n",
      "langs_df_dict = {lang: df[df['lang'] == lang] for lang in langs}\n",
      "metric_df_dict = {metric: df[df['metric'] == metric] for metric in metric_list}"
     ],
     "language": "python",
     "metadata": {},
     "outputs": [],
     "prompt_number": 89
    },
    {
     "cell_type": "code",
     "collapsed": false,
     "input": [
      "fdf = langs_df_dict['fr_df']\n",
      "fdfal = fdf[fdf['metric'] == 'completeness']\n",
      "fdfal.describe()\n",
      "fdfal['val'].hist(bins=20)\n"
     ],
     "language": "python",
     "metadata": {},
     "outputs": [
      {
       "ename": "KeyError",
       "evalue": "'fr_df'",
       "output_type": "pyerr",
       "traceback": [
        "\u001b[0;31m---------------------------------------------------------------------------\u001b[0m\n\u001b[0;31mKeyError\u001b[0m                                  Traceback (most recent call last)",
        "\u001b[0;32m<ipython-input-90-700973133835>\u001b[0m in \u001b[0;36m<module>\u001b[0;34m()\u001b[0m\n\u001b[0;32m----> 1\u001b[0;31m \u001b[0mfdf\u001b[0m \u001b[0;34m=\u001b[0m \u001b[0mlangs_df_dict\u001b[0m\u001b[0;34m[\u001b[0m\u001b[0;34m'fr_df'\u001b[0m\u001b[0;34m]\u001b[0m\u001b[0;34m\u001b[0m\u001b[0m\n\u001b[0m\u001b[1;32m      2\u001b[0m \u001b[0mfdfal\u001b[0m \u001b[0;34m=\u001b[0m \u001b[0mfdf\u001b[0m\u001b[0;34m[\u001b[0m\u001b[0mfdf\u001b[0m\u001b[0;34m[\u001b[0m\u001b[0;34m'metric'\u001b[0m\u001b[0;34m]\u001b[0m \u001b[0;34m==\u001b[0m \u001b[0;34m'completeness'\u001b[0m\u001b[0;34m]\u001b[0m\u001b[0;34m\u001b[0m\u001b[0m\n\u001b[1;32m      3\u001b[0m \u001b[0mfdfal\u001b[0m\u001b[0;34m.\u001b[0m\u001b[0mdescribe\u001b[0m\u001b[0;34m(\u001b[0m\u001b[0;34m)\u001b[0m\u001b[0;34m\u001b[0m\u001b[0m\n\u001b[1;32m      4\u001b[0m \u001b[0mfdfal\u001b[0m\u001b[0;34m[\u001b[0m\u001b[0;34m'val'\u001b[0m\u001b[0;34m]\u001b[0m\u001b[0;34m.\u001b[0m\u001b[0mhist\u001b[0m\u001b[0;34m(\u001b[0m\u001b[0mbins\u001b[0m\u001b[0;34m=\u001b[0m\u001b[0;36m20\u001b[0m\u001b[0;34m)\u001b[0m\u001b[0;34m\u001b[0m\u001b[0m\n",
        "\u001b[0;31mKeyError\u001b[0m: 'fr_df'"
       ]
      }
     ],
     "prompt_number": 90
    },
    {
     "cell_type": "code",
     "collapsed": true,
     "input": [
      "for df_name, df in metric_df_dict.iteritems():\n",
      "    df = df.convert_objects(convert_numeric=True)\n",
      "    df.boxplot(column='val',by='lang').set_title(df_name)"
     ],
     "language": "python",
     "metadata": {},
     "outputs": [
      {
       "output_type": "display_data",
       "png": "[encoded data removed]"
      },
      {
       "output_type": "display_data",
       "png": "[encoded data removed]"
      },
      {
       "output_type": "display_data",
       "png": "[encoded data removed]"
      },
      {
       "output_type": "display_data",
       "png": "[encoded data removed]"
      },
      {
       "output_type": "display_data",
       "png": "[encoded data removed]"
      }
     ],
     "prompt_number": 91
    },
    {
     "cell_type": "code",
     "collapsed": true,
     "input": [
      "#make all possible intersections\n",
      "inter_df_dict = {lang+' ' + metric: pd.merge(metric_df, lang_df) for metric, metric_df in metric_df_dict.iteritems() for lang, lang_df in langs_df_dict.iteritems()}\n",
      "\n",
      "for inter_name, inter_df in inter_df_dict.iteritems():\n",
      "    fig = plt.figure()\n",
      "    inter_df = inter_df.convert_objects(convert_numeric=True)\n",
      "    inter_df['val'].hist(bins=20).set_title(inter_name)\n",
      "    plt.show()\n",
      "    close(fig)"
     ],
     "language": "python",
     "metadata": {},
     "outputs": []
    },
    {
     "cell_type": "code",
     "collapsed": false,
     "input": [
      "from ggplot import *\n",
      "#for later calculation\n",
      "uganda_zscores = defaultdict(list)\n",
      "cdi_zscores = defaultdict(list)"
     ],
     "language": "python",
     "metadata": {},
     "outputs": [],
     "prompt_number": 92
    },
    {
     "cell_type": "code",
     "collapsed": false,
     "input": [
      "def metric_analyse(ametric, binw):\n",
      "    inf_df = metric_df_dict[ametric]\n",
      "    \n",
      "    zscore = lambda x: (x - x.mean()) / x.std()\n",
      "    \n",
      "    inf_piv = inf_df.pivot(index='qid', columns='lang', values='val')\n",
      "    \n",
      "    inf_piv_z = inf_piv.apply(zscore)\n",
      "    \n",
      "    plotinfo = ggplot(aes(x='val', colour='lang'), data=inf_df)  + geom_histogram(binwidth=binw) + labs(\"Score\", \"Frequency\") \\\n",
      "    + facet_wrap('lang')\n",
      "    \n",
      "    global uganda_zscores, cdi_zscores\n",
      "    print \"Uganda's \" + ametric+ \"\\n Wikipedia Language | z-score\" \n",
      "    ug = inf_piv_z.loc[ugandaqid]\n",
      "    for k, v in ug.iteritems():\n",
      "        uganda_zscores[k].append(v) \n",
      "        print k, ' | ',\"%.3f\" % v\n",
      "    print \"C\u00f4te d'Ivoire's \" + ametric+ \"\\n Wikipedia Language | z-score\"\n",
      "    cdi = inf_piv_z.loc[cdiqid]\n",
      "    for k, v in cdi.iteritems():\n",
      "        cdi_zscores[k].append(v)\n",
      "        print k, ' | ',\"%.3f\" % v\n",
      "    return plotinfo"
     ],
     "language": "python",
     "metadata": {},
     "outputs": [],
     "prompt_number": 93
    },
    {
     "cell_type": "heading",
     "level": 2,
     "metadata": {},
     "source": [
      "Let's inspect each metric."
     ]
    },
    {
     "cell_type": "markdown",
     "metadata": {},
     "source": [
      "We look at the 5 statistics that are mentioned in the literature as \"Actionable Metrics\" that is you can do something about them. For each metric the Uganda and C\u00f4te d'Ivoire article's position amongst other countries are shown by the \"z-score\" which is a measure of how many standard deviations they are above or below the average. "
     ]
    },
    {
     "cell_type": "markdown",
     "metadata": {},
     "source": [
      "First we'll take a look at informativeness which is a combination of Infonoise (the ration of readable text to wikitext), plus the number of images."
     ]
    },
    {
     "cell_type": "code",
     "collapsed": false,
     "input": [
      "metric_analyse('informativeness', .75)"
     ],
     "language": "python",
     "metadata": {},
     "outputs": [
      {
       "output_type": "stream",
       "stream": "stdout",
       "text": [
        "Uganda's informativeness\n",
        " Wikipedia Language | z-score\n",
        "en  |  0.382\n",
        "fr  |  -0.643\n",
        "sw  |  -0.273\n",
        "C\u00f4te d'Ivoire's informativeness\n",
        " Wikipedia Language | z-score\n",
        "en  |  -0.432\n",
        "fr  |  3.312\n",
        "sw  |  -0.385\n"
       ]
      },
      {
       "output_type": "display_data",
       "png": "[encoded data removed]"
      },
      {
       "output_type": "pyout",
       "prompt_number": 94,
       "text": [
        "<ggplot: (9771469)>"
       ]
      }
     ],
     "prompt_number": 94
    },
    {
     "cell_type": "markdown",
     "metadata": {},
     "source": [
      "Next we look at Completeness, which is a count of how many 'intrawiki links' there are on a page."
     ]
    },
    {
     "cell_type": "code",
     "collapsed": false,
     "input": [
      "metric_analyse('completeness', 40)"
     ],
     "language": "python",
     "metadata": {},
     "outputs": [
      {
       "output_type": "stream",
       "stream": "stdout",
       "text": [
        "Uganda's completeness\n",
        " Wikipedia Language | z-score\n",
        "en  |  -0.444\n",
        "fr  |  -0.176\n",
        "sw  |  1.736\n",
        "C\u00f4te d'Ivoire's completeness\n",
        " Wikipedia Language | z-score\n",
        "en  |  -0.973\n",
        "fr  |  1.768\n",
        "sw  |  -0.505\n"
       ]
      },
      {
       "output_type": "display_data",
       "png": "[encoded data removed]"
      },
      {
       "output_type": "pyout",
       "prompt_number": 96,
       "text": [
        "<ggplot: (19613165)>"
       ]
      }
     ],
     "prompt_number": 96
    },
    {
     "cell_type": "markdown",
     "metadata": {},
     "source": [
      "The number of headings of heading or sections, is a metric that shows how organized the information is."
     ]
    },
    {
     "cell_type": "code",
     "collapsed": false,
     "input": [
      "metric_analyse('numheadings', 5)"
     ],
     "language": "python",
     "metadata": {},
     "outputs": [
      {
       "output_type": "stream",
       "stream": "stdout",
       "text": [
        "Uganda's numheadings\n",
        " Wikipedia Language | z-score\n",
        "en  |  -1.696\n",
        "fr  |  0.028\n",
        "sw  |  0.023\n",
        "C\u00f4te d'Ivoire's numheadings\n",
        " Wikipedia Language | z-score\n",
        "en  |  0.660\n",
        "fr  |  -0.411\n",
        "sw  |  -0.428\n"
       ]
      },
      {
       "output_type": "display_data",
       "png": "[encoded data removed]"
      },
      {
       "output_type": "pyout",
       "prompt_number": 97,
       "text": [
        "<ggplot: (10738893)>"
       ]
      }
     ],
     "prompt_number": 97
    },
    {
     "cell_type": "markdown",
     "metadata": {},
     "source": [
      "Article length looks at how much text there is on a page."
     ]
    },
    {
     "cell_type": "code",
     "collapsed": false,
     "input": [
      "metric_analyse('articlelength',10000)"
     ],
     "language": "python",
     "metadata": {},
     "outputs": [
      {
       "output_type": "stream",
       "stream": "stdout",
       "text": [
        "Uganda's articlelength\n",
        " Wikipedia Language | z-score\n",
        "en  |  0.105\n",
        "fr  |  -0.498\n",
        "sw  |  0.191\n",
        "C\u00f4te d'Ivoire's articlelength\n",
        " Wikipedia Language | z-score\n",
        "en  |  0.336\n",
        "fr  |  2.765\n",
        "sw  |  -0.244\n"
       ]
      },
      {
       "output_type": "display_data",
       "png": "[encoded data removed]"
      },
      {
       "output_type": "pyout",
       "prompt_number": 98,
       "text": [
        "<ggplot: (21062533)>"
       ]
      }
     ],
     "prompt_number": 98
    },
    {
     "cell_type": "markdown",
     "metadata": {},
     "source": [
      "The reference rate looks at how many citations there are per text (literally per letter)."
     ]
    },
    {
     "cell_type": "code",
     "collapsed": false,
     "input": [
      "metric_analyse('referencerate', 0.001)"
     ],
     "language": "python",
     "metadata": {},
     "outputs": [
      {
       "output_type": "stream",
       "stream": "stdout",
       "text": [
        "Uganda's referencerate\n",
        " Wikipedia Language | z-score\n",
        "en  |  0.015\n",
        "fr  |  -0.608\n",
        "sw  |  3.129\n",
        "C\u00f4te d'Ivoire's referencerate\n",
        " Wikipedia Language | z-score\n",
        "en  |  -1.184\n",
        "fr  |  1.663\n",
        "sw  |  -0.265\n"
       ]
      },
      {
       "output_type": "display_data",
       "png": "[encoded data removed]"
      },
      {
       "output_type": "pyout",
       "prompt_number": 99,
       "text": [
        "<ggplot: (27570049)>"
       ]
      }
     ],
     "prompt_number": 99
    },
    {
     "cell_type": "markdown",
     "metadata": {},
     "source": [
      "Now, I average the z-score for each metric, to give one total number about the quality of an article in a language as compared to others. (See below).\n",
      "\n",
      "For the Uganda articles, the perfom below Average (but not too poorly ~ -0.3) in English and French. However it is a relatively strong performer in Swahili (~1.1).\n",
      "\n",
      "For the C\u00f4te d'Ivoire articles, the real stand out is French Wikipedia sometimes being 3 standard deviations above average (averaged averages 1.18). Mean while again whe have middling (~ -0.4) in languages which are not native."
     ]
    },
    {
     "cell_type": "code",
     "collapsed": false,
     "input": [
      "print \"Uganada Mean Zscores by Language\"\n",
      "for lang, clist in uganda_zscores.iteritems():\n",
      "    print lang, reduce(lambda a, b: a+b, clist)/len(clist)\n",
      "\n",
      "print \"Cote d'Ivoire Mean Zscores by Language\"\n",
      "for lang, clist in cdi_zscores.iteritems():\n",
      "    print lang, reduce(lambda a, b: a+b, clist)/len(clist)"
     ],
     "language": "python",
     "metadata": {},
     "outputs": [
      {
       "output_type": "stream",
       "stream": "stdout",
       "text": [
        "Uganada Mean Zscores by Language\n",
        "fr -0.345746178939\n",
        "en -0.346993827348\n",
        "sw 1.09048363122\n",
        "Cote d'Ivoire Mean Zscores by Language\n",
        "fr 1.81064670109\n",
        "en -0.427642987059\n",
        "sw -0.388762511794\n"
       ]
      }
     ],
     "prompt_number": 108
    },
    {
     "cell_type": "markdown",
     "metadata": {},
     "source": [
      "These results offer some credibility to this techqnique, because the Wikipedias of the native languages of those countries show the highest quality. So we can somewhat confidently apply this technique to other sets of articles so see what improvements could be made. Remember a weakness in any one of the 5 metrics is an indicator for a specific type of task that could be done on those articles. What other sets of articles should we apply this too?"
     ]
    },
    {
     "cell_type": "heading",
     "level": 2,
     "metadata": {},
     "source": [
      "Highest Occuring Sections"
     ]
    },
    {
     "cell_type": "markdown",
     "metadata": {},
     "source": [
      "Now we will find the hightest occuring section names in Country Articles by language. The assumption we use here is that if a section name is highly occuring it show that too be an import subject in that language."
     ]
    },
    {
     "cell_type": "code",
     "collapsed": false,
     "input": [
      "fr20 = top_n_sections('fr',20)\n",
      "fr20"
     ],
     "language": "python",
     "metadata": {},
     "outputs": [
      {
       "html": [
        "<div style=\"max-height:1000px;max-width:1500px;overflow:auto;\">\n",
        "<table border=\"1\" class=\"dataframe\">\n",
        "  <thead>\n",
        "    <tr style=\"text-align: right;\">\n",
        "      <th></th>\n",
        "      <th>lang</th>\n",
        "      <th>secname</th>\n",
        "      <th>freq</th>\n",
        "    </tr>\n",
        "  </thead>\n",
        "  <tbody>\n",
        "    <tr>\n",
        "      <th>1053</th>\n",
        "      <td> fr</td>\n",
        "      <td>      Liens externes</td>\n",
        "      <td> 0.901235</td>\n",
        "    </tr>\n",
        "    <tr>\n",
        "      <th>1547</th>\n",
        "      <td> fr</td>\n",
        "      <td>            Histoire</td>\n",
        "      <td> 0.880658</td>\n",
        "    </tr>\n",
        "    <tr>\n",
        "      <th>1132</th>\n",
        "      <td> fr</td>\n",
        "      <td>          G\u00e9ographie</td>\n",
        "      <td> 0.823045</td>\n",
        "    </tr>\n",
        "    <tr>\n",
        "      <th>552 </th>\n",
        "      <td> fr</td>\n",
        "      <td> Notes et r\u00e9f\u00e9rences</td>\n",
        "      <td> 0.806584</td>\n",
        "    </tr>\n",
        "    <tr>\n",
        "      <th>413 </th>\n",
        "      <td> fr</td>\n",
        "      <td>            \u00c9conomie</td>\n",
        "      <td> 0.781893</td>\n",
        "    </tr>\n",
        "    <tr>\n",
        "      <th>1003</th>\n",
        "      <td> fr</td>\n",
        "      <td>         D\u00e9mographie</td>\n",
        "      <td> 0.748971</td>\n",
        "    </tr>\n",
        "    <tr>\n",
        "      <th>1183</th>\n",
        "      <td> fr</td>\n",
        "      <td>           Politique</td>\n",
        "      <td> 0.683128</td>\n",
        "    </tr>\n",
        "    <tr>\n",
        "      <th>96  </th>\n",
        "      <td> fr</td>\n",
        "      <td>          Voir aussi</td>\n",
        "      <td> 0.683128</td>\n",
        "    </tr>\n",
        "    <tr>\n",
        "      <th>991 </th>\n",
        "      <td> fr</td>\n",
        "      <td>   Articles connexes</td>\n",
        "      <td> 0.646091</td>\n",
        "    </tr>\n",
        "    <tr>\n",
        "      <th>1139</th>\n",
        "      <td> fr</td>\n",
        "      <td>               Codes</td>\n",
        "      <td> 0.641975</td>\n",
        "    </tr>\n",
        "    <tr>\n",
        "      <th>354 </th>\n",
        "      <td> fr</td>\n",
        "      <td>             Culture</td>\n",
        "      <td> 0.637860</td>\n",
        "    </tr>\n",
        "    <tr>\n",
        "      <th>1928</th>\n",
        "      <td> fr</td>\n",
        "      <td>       Bibliographie</td>\n",
        "      <td> 0.489712</td>\n",
        "    </tr>\n",
        "    <tr>\n",
        "      <th>528 </th>\n",
        "      <td> fr</td>\n",
        "      <td>              Climat</td>\n",
        "      <td> 0.300412</td>\n",
        "    </tr>\n",
        "    <tr>\n",
        "      <th>381 </th>\n",
        "      <td> fr</td>\n",
        "      <td>        Subdivisions</td>\n",
        "      <td> 0.300412</td>\n",
        "    </tr>\n",
        "    <tr>\n",
        "      <th>672 </th>\n",
        "      <td> fr</td>\n",
        "      <td>             Langues</td>\n",
        "      <td> 0.288066</td>\n",
        "    </tr>\n",
        "    <tr>\n",
        "      <th>1208</th>\n",
        "      <td> fr</td>\n",
        "      <td>               Sport</td>\n",
        "      <td> 0.242798</td>\n",
        "    </tr>\n",
        "    <tr>\n",
        "      <th>1832</th>\n",
        "      <td> fr</td>\n",
        "      <td>           \u00c9ducation</td>\n",
        "      <td> 0.238683</td>\n",
        "    </tr>\n",
        "    <tr>\n",
        "      <th>856 </th>\n",
        "      <td> fr</td>\n",
        "      <td>           Religions</td>\n",
        "      <td> 0.230453</td>\n",
        "    </tr>\n",
        "    <tr>\n",
        "      <th>1824</th>\n",
        "      <td> fr</td>\n",
        "      <td>            Religion</td>\n",
        "      <td> 0.218107</td>\n",
        "    </tr>\n",
        "    <tr>\n",
        "      <th>1771</th>\n",
        "      <td> fr</td>\n",
        "      <td>               Sant\u00e9</td>\n",
        "      <td> 0.197531</td>\n",
        "    </tr>\n",
        "  </tbody>\n",
        "</table>\n",
        "</div>"
       ],
       "output_type": "pyout",
       "prompt_number": 68,
       "text": [
        "     lang              secname      freq\n",
        "1053   fr       Liens externes  0.901235\n",
        "1547   fr             Histoire  0.880658\n",
        "1132   fr           G\u00e9ographie  0.823045\n",
        "552    fr  Notes et r\u00e9f\u00e9rences  0.806584\n",
        "413    fr             \u00c9conomie  0.781893\n",
        "1003   fr          D\u00e9mographie  0.748971\n",
        "1183   fr            Politique  0.683128\n",
        "96     fr           Voir aussi  0.683128\n",
        "991    fr    Articles connexes  0.646091\n",
        "1139   fr                Codes  0.641975\n",
        "354    fr              Culture  0.637860\n",
        "1928   fr        Bibliographie  0.489712\n",
        "528    fr               Climat  0.300412\n",
        "381    fr         Subdivisions  0.300412\n",
        "672    fr              Langues  0.288066\n",
        "1208   fr                Sport  0.242798\n",
        "1832   fr            \u00c9ducation  0.238683\n",
        "856    fr            Religions  0.230453\n",
        "1824   fr             Religion  0.218107\n",
        "1771   fr                Sant\u00e9  0.197531"
       ]
      }
     ],
     "prompt_number": 68
    },
    {
     "cell_type": "code",
     "collapsed": false,
     "input": [
      "en20 = top_n_sections('en',20)\n",
      "en20"
     ],
     "language": "python",
     "metadata": {},
     "outputs": [
      {
       "html": [
        "<div style=\"max-height:1000px;max-width:1500px;overflow:auto;\">\n",
        "<table border=\"1\" class=\"dataframe\">\n",
        "  <thead>\n",
        "    <tr style=\"text-align: right;\">\n",
        "      <th></th>\n",
        "      <th>lang</th>\n",
        "      <th>secname</th>\n",
        "      <th>freq</th>\n",
        "    </tr>\n",
        "  </thead>\n",
        "  <tbody>\n",
        "    <tr>\n",
        "      <th>2824</th>\n",
        "      <td> en</td>\n",
        "      <td>                  History</td>\n",
        "      <td> 0.954545</td>\n",
        "    </tr>\n",
        "    <tr>\n",
        "      <th>3540</th>\n",
        "      <td> en</td>\n",
        "      <td>                  Economy</td>\n",
        "      <td> 0.888430</td>\n",
        "    </tr>\n",
        "    <tr>\n",
        "      <th>3350</th>\n",
        "      <td> en</td>\n",
        "      <td>             Demographics</td>\n",
        "      <td> 0.876033</td>\n",
        "    </tr>\n",
        "    <tr>\n",
        "      <th>2576</th>\n",
        "      <td> en</td>\n",
        "      <td>           External links</td>\n",
        "      <td> 0.867769</td>\n",
        "    </tr>\n",
        "    <tr>\n",
        "      <th>4028</th>\n",
        "      <td> en</td>\n",
        "      <td>                 See also</td>\n",
        "      <td> 0.842975</td>\n",
        "    </tr>\n",
        "    <tr>\n",
        "      <th>4107</th>\n",
        "      <td> en</td>\n",
        "      <td>                Geography</td>\n",
        "      <td> 0.822314</td>\n",
        "    </tr>\n",
        "    <tr>\n",
        "      <th>3810</th>\n",
        "      <td> en</td>\n",
        "      <td>               References</td>\n",
        "      <td> 0.805785</td>\n",
        "    </tr>\n",
        "    <tr>\n",
        "      <th>2447</th>\n",
        "      <td> en</td>\n",
        "      <td>                  Culture</td>\n",
        "      <td> 0.797521</td>\n",
        "    </tr>\n",
        "    <tr>\n",
        "      <th>3852</th>\n",
        "      <td> en</td>\n",
        "      <td>                 Religion</td>\n",
        "      <td> 0.657025</td>\n",
        "    </tr>\n",
        "    <tr>\n",
        "      <th>2891</th>\n",
        "      <td> en</td>\n",
        "      <td>                Education</td>\n",
        "      <td> 0.648760</td>\n",
        "    </tr>\n",
        "    <tr>\n",
        "      <th>3099</th>\n",
        "      <td> en</td>\n",
        "      <td>                  Climate</td>\n",
        "      <td> 0.545455</td>\n",
        "    </tr>\n",
        "    <tr>\n",
        "      <th>2120</th>\n",
        "      <td> en</td>\n",
        "      <td>                 Military</td>\n",
        "      <td> 0.462810</td>\n",
        "    </tr>\n",
        "    <tr>\n",
        "      <th>3932</th>\n",
        "      <td> en</td>\n",
        "      <td> Administrative divisions</td>\n",
        "      <td> 0.438017</td>\n",
        "    </tr>\n",
        "    <tr>\n",
        "      <th>3744</th>\n",
        "      <td> en</td>\n",
        "      <td>                 Politics</td>\n",
        "      <td> 0.438017</td>\n",
        "    </tr>\n",
        "    <tr>\n",
        "      <th>3287</th>\n",
        "      <td> en</td>\n",
        "      <td>                   Sports</td>\n",
        "      <td> 0.396694</td>\n",
        "    </tr>\n",
        "    <tr>\n",
        "      <th>2914</th>\n",
        "      <td> en</td>\n",
        "      <td>        Foreign relations</td>\n",
        "      <td> 0.384298</td>\n",
        "    </tr>\n",
        "    <tr>\n",
        "      <th>2689</th>\n",
        "      <td> en</td>\n",
        "      <td>                Languages</td>\n",
        "      <td> 0.367769</td>\n",
        "    </tr>\n",
        "    <tr>\n",
        "      <th>2132</th>\n",
        "      <td> en</td>\n",
        "      <td>                  Cuisine</td>\n",
        "      <td> 0.363636</td>\n",
        "    </tr>\n",
        "    <tr>\n",
        "      <th>2169</th>\n",
        "      <td> en</td>\n",
        "      <td>                   Health</td>\n",
        "      <td> 0.359504</td>\n",
        "    </tr>\n",
        "    <tr>\n",
        "      <th>2743</th>\n",
        "      <td> en</td>\n",
        "      <td>          Further reading</td>\n",
        "      <td> 0.342975</td>\n",
        "    </tr>\n",
        "  </tbody>\n",
        "</table>\n",
        "</div>"
       ],
       "output_type": "pyout",
       "prompt_number": 70,
       "text": [
        "     lang                   secname      freq\n",
        "2824   en                   History  0.954545\n",
        "3540   en                   Economy  0.888430\n",
        "3350   en              Demographics  0.876033\n",
        "2576   en            External links  0.867769\n",
        "4028   en                  See also  0.842975\n",
        "4107   en                 Geography  0.822314\n",
        "3810   en                References  0.805785\n",
        "2447   en                   Culture  0.797521\n",
        "3852   en                  Religion  0.657025\n",
        "2891   en                 Education  0.648760\n",
        "3099   en                   Climate  0.545455\n",
        "2120   en                  Military  0.462810\n",
        "3932   en  Administrative divisions  0.438017\n",
        "3744   en                  Politics  0.438017\n",
        "3287   en                    Sports  0.396694\n",
        "2914   en         Foreign relations  0.384298\n",
        "2689   en                 Languages  0.367769\n",
        "2132   en                   Cuisine  0.363636\n",
        "2169   en                    Health  0.359504\n",
        "2743   en           Further reading  0.342975"
       ]
      }
     ],
     "prompt_number": 70
    },
    {
     "cell_type": "code",
     "collapsed": false,
     "input": [
      "sw9 = top_n_sections('sw',9)\n",
      "sw9"
     ],
     "language": "python",
     "metadata": {},
     "outputs": [
      {
       "html": [
        "<div style=\"max-height:1000px;max-width:1500px;overflow:auto;\">\n",
        "<table border=\"1\" class=\"dataframe\">\n",
        "  <thead>\n",
        "    <tr style=\"text-align: right;\">\n",
        "      <th></th>\n",
        "      <th>lang</th>\n",
        "      <th>secname</th>\n",
        "      <th>freq</th>\n",
        "    </tr>\n",
        "  </thead>\n",
        "  <tbody>\n",
        "    <tr>\n",
        "      <th>4271</th>\n",
        "      <td> sw</td>\n",
        "      <td>          Historia</td>\n",
        "      <td> 0.412017</td>\n",
        "    </tr>\n",
        "    <tr>\n",
        "      <th>4443</th>\n",
        "      <td> sw</td>\n",
        "      <td>         Jiografia</td>\n",
        "      <td> 0.334764</td>\n",
        "    </tr>\n",
        "    <tr>\n",
        "      <th>4153</th>\n",
        "      <td> sw</td>\n",
        "      <td> {{Infobox Country</td>\n",
        "      <td> 0.334764</td>\n",
        "    </tr>\n",
        "    <tr>\n",
        "      <th>4202</th>\n",
        "      <td> sw</td>\n",
        "      <td>    Viungo vya nje</td>\n",
        "      <td> 0.330472</td>\n",
        "    </tr>\n",
        "    <tr>\n",
        "      <th>4260</th>\n",
        "      <td> sw</td>\n",
        "      <td>        Tazama pia</td>\n",
        "      <td> 0.184549</td>\n",
        "    </tr>\n",
        "    <tr>\n",
        "      <th>4422</th>\n",
        "      <td> sw</td>\n",
        "      <td> {{Infobox country</td>\n",
        "      <td> 0.175966</td>\n",
        "    </tr>\n",
        "    <tr>\n",
        "      <th>4110</th>\n",
        "      <td> sw</td>\n",
        "      <td>    Viungo vya Nje</td>\n",
        "      <td> 0.154506</td>\n",
        "    </tr>\n",
        "    <tr>\n",
        "      <th>4332</th>\n",
        "      <td> sw</td>\n",
        "      <td>            Uchumi</td>\n",
        "      <td> 0.120172</td>\n",
        "    </tr>\n",
        "    <tr>\n",
        "      <th>4188</th>\n",
        "      <td> sw</td>\n",
        "      <td>            Wakazi</td>\n",
        "      <td> 0.103004</td>\n",
        "    </tr>\n",
        "  </tbody>\n",
        "</table>\n",
        "</div>"
       ],
       "output_type": "pyout",
       "prompt_number": 72,
       "text": [
        "     lang            secname      freq\n",
        "4271   sw           Historia  0.412017\n",
        "4443   sw          Jiografia  0.334764\n",
        "4153   sw  {{Infobox Country  0.334764\n",
        "4202   sw     Viungo vya nje  0.330472\n",
        "4260   sw         Tazama pia  0.184549\n",
        "4422   sw  {{Infobox country  0.175966\n",
        "4110   sw     Viungo vya Nje  0.154506\n",
        "4332   sw             Uchumi  0.120172\n",
        "4188   sw             Wakazi  0.103004"
       ]
      }
     ],
     "prompt_number": 72
    },
    {
     "cell_type": "markdown",
     "metadata": {},
     "source": [
      "Looking at the most frequent sections in each What patterns emerge here? First let us acknowledge that some of the sections here are not conent - like \"Notes\" and \"References\". Ignoring non-content sections there is a clear Winner in all three languages - History. \n",
      "\n",
      "\n",
      "In all three languages History the one section you can most rely on being there, 88% of French 95% of English and 42% of Swahili country articles. In Swahili and French, the second most popular sections are Geography, but in English it's Economy. So this informs us on which Categories to apply our metrics on next the History, Economy, and Geography categories."
     ]
    },
    {
     "cell_type": "code",
     "collapsed": true,
     "input": [
      "import operator\n",
      "\n",
      "def defaultint():\n",
      "    return defaultdict(int)\n",
      "\n",
      "section_count = defaultdict(defaultint)\n",
      "sorted_secs = defaultdict(list)\n",
      "total_articles = defaultdict(int)\n",
      "\n",
      "articles = json.load(open('countrydata-latest.json','r'))"
     ],
     "language": "python",
     "metadata": {},
     "outputs": [],
     "prompt_number": 4
    },
    {
     "cell_type": "code",
     "collapsed": false,
     "input": [
      "for qid, attribdict in articles.iteritems():\n",
      "    for attribname, langdict in attribdict.iteritems():\n",
      "        if attribname == 'wikitext':\n",
      "            for lang, wikitext in langdict.iteritems(): \n",
      "                if wikitext:\n",
      "                    total_articles[lang] += 1\n",
      "                    wikicode = pfh.parse(wikitext)\n",
      "                    secs = section_headings(wikicode)\n",
      "                    for sec in secs:\n",
      "                        sec = sec.strip()\n",
      "                        section_count[lang][sec] += 1"
     ],
     "language": "python",
     "metadata": {},
     "outputs": [],
     "prompt_number": 7
    },
    {
     "cell_type": "code",
     "collapsed": false,
     "input": [
      "section_df = pd.DataFrame(columns=['lang','secname','freq'])\n",
      "for lang, sec_dict in section_count.iteritems():\n",
      "    for secname, seccount in sec_dict.iteritems():\n",
      "        freq = seccount/float(total_articles[lang])\n",
      "        section_df = section_df.append({'lang':lang, 'secname':secname, 'freq':freq}, ignore_index=True)  "
     ],
     "language": "python",
     "metadata": {},
     "outputs": [],
     "prompt_number": 8
    },
    {
     "cell_type": "code",
     "collapsed": false,
     "input": [
      "#section_df = section_df.convert_objects(convert_numeric=True)\n",
      "section_df.head()\n",
      "top_secs = section_df[section_df.freq > 0.1]"
     ],
     "language": "python",
     "metadata": {},
     "outputs": [],
     "prompt_number": 9
    },
    {
     "cell_type": "code",
     "collapsed": false,
     "input": [
      "sort_secs= top_secs.sort(columns='freq', ascending=False)\n",
      "\n",
      "def top_n_sections(lang,n):\n",
      "    return sort_secs[sort_secs.lang==lang].iloc[:n].convert_objects(convert_numeric=True)"
     ],
     "language": "python",
     "metadata": {},
     "outputs": [],
     "prompt_number": 109
    },
    {
     "cell_type": "code",
     "collapsed": false,
     "input": [],
     "language": "python",
     "metadata": {},
     "outputs": []
    }
   ],
   "metadata": {}
  }
 ]
}